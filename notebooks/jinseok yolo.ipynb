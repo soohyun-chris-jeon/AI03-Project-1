{
 "cells": [
  {
   "cell_type": "code",
   "execution_count": 1,
   "id": "4ceb00f5",
   "metadata": {},
   "outputs": [
    {
     "name": "stdout",
     "output_type": "stream",
     "text": [
      "Creating new Ultralytics Settings v0.0.6 file  \n",
      "View Ultralytics Settings with 'yolo settings' or at 'C:\\Users\\user\\AppData\\Roaming\\Ultralytics\\settings.json'\n",
      "Update Settings with 'yolo settings key=value', i.e. 'yolo settings runs_dir=path/to/dir'. For help see https://docs.ultralytics.com/quickstart/#ultralytics-settings.\n"
     ]
    }
   ],
   "source": [
    "# ====================================================================\n",
    "# STEP 0: Import Libraries\n",
    "# ====================================================================\n",
    "# 과제에 사용할 library들을 import\n",
    "\n",
    "# 시스템 및 입출력 관련\n",
    "import os  # 디렉토리, 파일 경로 조작 등\n",
    "from PIL import Image  # 이미지 열기 및 처리 (Pillow)\n",
    "from tqdm import tqdm  # 반복문의 진행 상태 시각화\n",
    "from pathlib import Path  # payhon path\n",
    "import shutil # 파일 복사/이동\n",
    "\n",
    "# 시각화 도구\n",
    "import matplotlib.pyplot as plt  # 기본 시각화\n",
    "import matplotlib\n",
    "# 한글 폰트 설정 (Windows의 기본 한글 폰트)\n",
    "matplotlib.rc('font', family='Malgun Gothic')\n",
    "# 마이너스 깨짐 방지\n",
    "matplotlib.rcParams['axes.unicode_minus'] = False\n",
    "import matplotlib.patches as patches\n",
    "\n",
    "# 이미지 처리\n",
    "import cv2  # OpenCV - 고급 이미지/비디오 처리\n",
    "\n",
    "# 수치 연산\n",
    "import numpy as np  # 배열, 벡터 계산 등\n",
    "\n",
    "# 통계 tool\n",
    "import pandas as pd\n",
    "from collections import defaultdict, Counter\n",
    "\n",
    "# 싸이킷런 데이터 나누기\n",
    "from sklearn.model_selection import train_test_split\n",
    "\n",
    "# JSON\n",
    "import json\n",
    "\n",
    "# YOLOv8 라이브러리\n",
    "from ultralytics import YOLO\n"
   ]
  },
  {
   "cell_type": "code",
   "execution_count": 2,
   "id": "a0dc3734",
   "metadata": {},
   "outputs": [
    {
     "name": "stdout",
     "output_type": "stream",
     "text": [
      "Using device: cuda\n"
     ]
    }
   ],
   "source": [
    "\n",
    "# 디바이스 설정\n",
    "import torch\n",
    "device = \"cuda\" if torch.cuda.is_available() else \"cpu\"\n",
    "print(f\"Using device: {device}\")\n"
   ]
  },
  {
   "cell_type": "code",
   "execution_count": 3,
   "id": "5b8576e6",
   "metadata": {},
   "outputs": [],
   "source": [
    "\n",
    "# ====================================================================\n",
    "# STEP 1: Define Paths\n",
    "# ====================================================================\n",
    "DATA_ROOT = Path(\"/Users/user/myproject/AI03-Project-1/data/raw\") # 실제 데이터 경로로 변경 필요\n",
    "train_image_dir = DATA_ROOT / \"train_images\"\n",
    "train_ann_path = DATA_ROOT / \"train_annotations\"\n",
    "test_image_dir = DATA_ROOT / \"test_images\"\n"
   ]
  },
  {
   "cell_type": "code",
   "execution_count": 4,
   "id": "9ef86fcd",
   "metadata": {},
   "outputs": [],
   "source": [
    "\n",
    "# YOLOv8 데이터를 저장할 새 디렉토리\n",
    "YOLO_DATA_ROOT = DATA_ROOT / \"yolov8_dataset\"\n",
    "YOLO_IMAGES_TRAIN = YOLO_DATA_ROOT / \"images\" / \"train\"\n",
    "YOLO_LABELS_TRAIN = YOLO_DATA_ROOT / \"labels\" / \"train\"\n",
    "YOLO_IMAGES_VAL = YOLO_DATA_ROOT / \"images\" / \"val\"\n",
    "YOLO_LABELS_VAL = YOLO_DATA_ROOT / \"labels\" / \"val\"\n",
    "YOLO_LABELS_TEMP = DATA_ROOT / \"yolo_labels_temp\" # 변환된 .txt 파일을 임시로 저장할 곳\n"
   ]
  },
  {
   "cell_type": "code",
   "execution_count": 5,
   "id": "ed196b5d",
   "metadata": {},
   "outputs": [],
   "source": [
    "\n",
    "# 디렉토리 생성\n",
    "os.makedirs(YOLO_IMAGES_TRAIN, exist_ok=True)\n",
    "os.makedirs(YOLO_LABELS_TRAIN, exist_ok=True)\n",
    "os.makedirs(YOLO_IMAGES_VAL, exist_ok=True)\n",
    "os.makedirs(YOLO_LABELS_VAL, exist_ok=True)\n",
    "os.makedirs(YOLO_LABELS_TEMP, exist_ok=True)\n",
    "\n"
   ]
  },
  {
   "cell_type": "code",
   "execution_count": null,
   "id": "e94e581b",
   "metadata": {},
   "outputs": [],
   "source": [
    "\n",
    "# ====================================================================\n",
    "# STEP 2: Parse Annotations and Convert to YOLO Format\n",
    "# ====================================================================\n",
    "\n",
    "def create_yolo_annotations_and_map(annotation_root, train_image_dir, yolo_labels_output_dir):\n",
    "    \"\"\"\n",
    "    원본 JSON 어노테이션을 파싱하고 YOLO 형식(.txt)으로 변환하여 저장합니다.\n",
    "    또한, 클래스 ID와 이름 매핑 정보를 반환합니다.\n",
    "    \"\"\"\n",
    "    annotations_raw_dict = defaultdict(lambda: {'boxes': [], 'labels': [], 'original_labels': []})\n",
    "    category_id_to_name = {}\n",
    "\n",
    "    # 1. 모든 JSON 파일을 스캔하여 category_id_to_name 맵과 원본 어노테이션 정보 수집\n",
    "    all_json_paths = []\n",
    "    for dirpath, _, filenames in os.walk(annotation_root):\n",
    "        for fname in filenames:\n",
    "            if fname.endswith('.json'):\n",
    "                all_json_paths.append(os.path.join(dirpath, fname))\n",
    "\n",
    "    # 모든 JSON에서 카테고리 정보 수집 (클래스 ID 매핑을 위해)\n",
    "    for json_path in tqdm(all_json_paths, desc=\"Collecting categories\"):\n",
    "        with open(json_path, 'r', encoding='utf-8') as f:\n",
    "            data = json.load(f)\n",
    "            if 'categories' in data:\n",
    "                for cat in data['categories']:\n",
    "                    category_id_to_name[cat['id']] = cat['name']\n",
    "\n",
    "    # 정렬된 category_id 목록 (YOLO class_id는 0부터 시작)\n",
    "    # YOLO의 클래스 ID는 0부터 순차적으로 부여되어야 합니다.\n",
    "    sorted_category_ids = sorted(list(category_id_to_name.keys()))\n",
    "    category_id_to_yolo_label_idx = {cat_id: idx for idx, cat_id in enumerate(sorted_category_ids)}\n",
    "    yolo_label_idx_to_category_name = {idx: category_id_to_name[cat_id] for cat_id, idx in category_id_to_yolo_label_idx.items()}\n",
    "\n",
    "    print(f\"Detected {len(sorted_category_ids)} unique categories.\")\n",
    "    for cat_id in sorted_category_ids:\n",
    "        print(f\"  Original ID: {cat_id}, YOLO ID: {category_id_to_yolo_label_idx[cat_id]}, Name: {category_id_to_name[cat_id]}\")\n",
    "\n",
    "\n",
    "    # 2. 이미지별 어노테이션 파싱 및 YOLO 형식으로 변환하여 파일 저장\n",
    "    for json_path in tqdm(all_json_paths, desc=\"Converting annotations to YOLO format\"):\n",
    "        with open(json_path, 'r', encoding='utf-8') as f:\n",
    "            data = json.load(f)\n",
    "\n",
    "            image_info = data['images'][0]\n",
    "            file_name = image_info['file_name'] # 예: K-XXXXX.png\n",
    "\n",
    "            # 이미지 파일의 실제 경로 찾기 (확장자 유연하게 처리)\n",
    "            actual_image_path = None\n",
    "            possible_extensions = ['.png', '.jpg', '.jpeg'] # 필요한 확장자 추가\n",
    "            for ext in possible_extensions:\n",
    "                temp_path = train_image_dir / (Path(file_name).stem + ext)\n",
    "                if temp_path.exists():\n",
    "                    actual_image_path = temp_path\n",
    "                    break\n",
    "\n",
    "            if not actual_image_path:\n",
    "                print(f\"Warning: Image file not found for {file_name}. Skipping annotations for this image.\")\n",
    "                continue\n",
    "\n",
    "            try:\n",
    "                with Image.open(actual_image_path) as img:\n",
    "                    img_w, img_h = img.size\n",
    "            except Exception as e:\n",
    "                print(f\"Error opening image {actual_image_path}: {e}. Skipping annotations.\")\n",
    "                continue\n",
    "\n",
    "            yolo_lines = []\n",
    "\n",
    "            for ann in data['annotations']:\n",
    "                x, y, w, h = ann['bbox'] # COCO format: [x_min, y_min, width, height]\n",
    "                original_category_id = ann['category_id']\n",
    "\n",
    "                # 바운딩 박스 유효성 검사 및 클리핑 (Pascal VOC to safe xyxy for calculation)\n",
    "                x1 = max(0, x)\n",
    "                y1 = max(0, y)\n",
    "                x2 = min(x + w, img_w)\n",
    "                y2 = min(y + h, img_h)\n",
    "\n",
    "                if x2 <= x1 or y2 <= y1:\n",
    "                    # print(f\"[Skipped] File: {json_path} | Image: {file_name} -> Invalid bbox: {x,y,w,h}. Clipped to [{x1:.1f}, {y1:.1f}, {x2:.1f}, {y2:.1f}]\")\n",
    "                    continue\n",
    "\n",
    "                # YOLO 형식으로 변환: [center_x, center_y, width, height] 정규화\n",
    "                norm_center_x = ((x1 + x2) / 2) / img_w\n",
    "                norm_center_y = ((y1 + y2) / 2) / img_h\n",
    "                norm_width = (x2 - x1) / img_w\n",
    "                norm_height = (y2 - y1) / img_h\n",
    "\n",
    "                yolo_class_id = category_id_to_yolo_label_idx[original_category_id]\n",
    "                yolo_lines.append(f\"{yolo_class_id} {norm_center_x:.6f} {norm_center_y:.6f} {norm_width:.6f} {norm_height:.6f}\")\n",
    "\n",
    "            # 이미지별로 하나의 .txt 파일 생성\n",
    "            # 이미지 파일명 (예: K-001900-010224-016551-031705_0_2_0_2_70_000_200.png)의 stem 사용\n",
    "            output_txt_filename = Path(file_name).stem + \".txt\"\n",
    "            output_txt_path = yolo_labels_output_dir / output_txt_filename\n",
    "\n",
    "            with open(output_txt_path, 'w', encoding='utf-8') as f:\n",
    "                f.write('\\n'.join(yolo_lines))\n",
    "\n",
    "            # annotations_raw_dict에 원본 파일명 (file_name) 기반으로 정보 저장\n",
    "            # 실제 사용될 YOLO 형식의 어노테이션 파일 목록을 만들기 위함\n",
    "            annotations_raw_dict[file_name] = {\n",
    "                'yolo_label_path': output_txt_path,\n",
    "                'image_path': actual_image_path\n",
    "            }\n",
    "            # 로깅/확인 목적으로 필요한 경우 원래 박스/라벨을 보관\n",
    "            # YOLO 훈련 시, DataLoader에서 직접 사용되지 않음\n",
    "            annotations_raw_dict[file_name]['boxes_pascal_voc'] = [[x1,y1,x2,y2] for ann in data['annotations'] for x,y,w,h in [ann['bbox']] if min(x+w,img_w) > max(0,x) and min(y+h,img_h) > max(0,y)]\n",
    "            annotations_raw_dict[file_name]['labels_yolo_idx'] = [category_id_to_yolo_label_idx[ann['category_id']] for ann in data['annotations'] if min(ann['bbox'][0]+ann['bbox'][2],img_w) > max(0,ann['bbox'][0]) and min(ann['bbox'][1]+ann['bbox'][3],img_h) > max(0,ann['bbox'][1])]\n",
    "\n",
    "\n",
    "    print(f\"YOLO format annotations saved to: {yolo_labels_output_dir}\")\n",
    "    return annotations_raw_dict, category_id_to_yolo_label_idx, yolo_label_idx_to_category_name\n"
   ]
  },
  {
   "cell_type": "code",
   "execution_count": 7,
   "id": "c402451a",
   "metadata": {},
   "outputs": [
    {
     "name": "stderr",
     "output_type": "stream",
     "text": [
      "Collecting categories: 100%|██████████| 4526/4526 [00:00<00:00, 15110.52it/s]\n"
     ]
    },
    {
     "name": "stdout",
     "output_type": "stream",
     "text": [
      "Detected 73 unique categories.\n",
      "  Original ID: 1899, YOLO ID: 0, Name: 보령부스파정 5mg\n",
      "  Original ID: 2482, YOLO ID: 1, Name: 뮤테란캡슐 100mg\n",
      "  Original ID: 3350, YOLO ID: 2, Name: 일양하이트린정 2mg\n",
      "  Original ID: 3482, YOLO ID: 3, Name: 기넥신에프정(은행엽엑스)(수출용)\n",
      "  Original ID: 3543, YOLO ID: 4, Name: 무코스타정(레바미피드)(비매품)\n",
      "  Original ID: 3742, YOLO ID: 5, Name: 알드린정\n",
      "  Original ID: 3831, YOLO ID: 6, Name: 뉴로메드정(옥시라세탐)\n",
      "  Original ID: 4377, YOLO ID: 7, Name: 타이레놀정500mg\n",
      "  Original ID: 4542, YOLO ID: 8, Name: 에어탈정(아세클로페낙)\n",
      "  Original ID: 5093, YOLO ID: 9, Name: 삼남건조수산화알루미늄겔정\n",
      "  Original ID: 5885, YOLO ID: 10, Name: 타이레놀이알서방정(아세트아미노펜)(수출용)\n",
      "  Original ID: 6191, YOLO ID: 11, Name: 삐콤씨에프정 618.6mg/병\n",
      "  Original ID: 6562, YOLO ID: 12, Name: 조인스정 200mg\n",
      "  Original ID: 10220, YOLO ID: 13, Name: 쎄로켈정 100mg\n",
      "  Original ID: 12080, YOLO ID: 14, Name: 리렉스펜정 300mg/PTP\n",
      "  Original ID: 12246, YOLO ID: 15, Name: 아빌리파이정 10mg\n",
      "  Original ID: 12419, YOLO ID: 16, Name: 자이프렉사정 2.5mg\n",
      "  Original ID: 12777, YOLO ID: 17, Name: 다보타민큐정 10mg/병\n",
      "  Original ID: 13394, YOLO ID: 18, Name: 써스펜8시간이알서방정 650mg\n",
      "  Original ID: 13899, YOLO ID: 19, Name: 에빅사정(메만틴염산염)(비매품)\n",
      "  Original ID: 16231, YOLO ID: 20, Name: 리피토정 20mg\n",
      "  Original ID: 16261, YOLO ID: 21, Name: 크레스토정 20mg\n",
      "  Original ID: 16547, YOLO ID: 22, Name: 가바토파정 100mg\n",
      "  Original ID: 16550, YOLO ID: 23, Name: 동아가바펜틴정 800mg\n",
      "  Original ID: 16687, YOLO ID: 24, Name: 오마코연질캡슐(오메가-3-산에틸에스테르90)\n",
      "  Original ID: 18109, YOLO ID: 25, Name: 란스톤엘에프디티정 30mg\n",
      "  Original ID: 18146, YOLO ID: 26, Name: 리리카캡슐 150mg\n",
      "  Original ID: 18356, YOLO ID: 27, Name: 종근당글리아티린연질캡슐(콜린알포세레이트) \n",
      "  Original ID: 19231, YOLO ID: 28, Name: 콜리네이트연질캡슐 400mg\n",
      "  Original ID: 19551, YOLO ID: 29, Name: 트루비타정 60mg/병\n",
      "  Original ID: 19606, YOLO ID: 30, Name: 스토가정 10mg\n",
      "  Original ID: 19860, YOLO ID: 31, Name: 노바스크정 5mg\n",
      "  Original ID: 20013, YOLO ID: 32, Name: 마도파정\n",
      "  Original ID: 20237, YOLO ID: 33, Name: 플라빅스정 75mg\n",
      "  Original ID: 20876, YOLO ID: 34, Name: 엑스포지정 5/160mg\n",
      "  Original ID: 21025, YOLO ID: 35, Name: 펠루비정(펠루비프로펜)\n",
      "  Original ID: 21324, YOLO ID: 36, Name: 아토르바정 10mg\n",
      "  Original ID: 21770, YOLO ID: 37, Name: 라비에트정 20mg\n",
      "  Original ID: 22073, YOLO ID: 38, Name: 리피로우정 20mg\n",
      "  Original ID: 22346, YOLO ID: 39, Name: 자누비아정 50mg\n",
      "  Original ID: 22361, YOLO ID: 40, Name: 맥시부펜이알정 300mg\n",
      "  Original ID: 22626, YOLO ID: 41, Name: 메가파워정 90mg/병\n",
      "  Original ID: 23202, YOLO ID: 42, Name: 쿠에타핀정 25mg\n",
      "  Original ID: 23222, YOLO ID: 43, Name: 비타비백정 100mg/병\n",
      "  Original ID: 24849, YOLO ID: 44, Name: 놀텍정 10mg\n",
      "  Original ID: 25366, YOLO ID: 45, Name: 자누메트정 50/850mg\n",
      "  Original ID: 25437, YOLO ID: 46, Name: 큐시드정 31.5mg/PTP\n",
      "  Original ID: 25468, YOLO ID: 47, Name: 아모잘탄정 5/100mg\n",
      "  Original ID: 27652, YOLO ID: 48, Name: 세비카정 10/40mg\n",
      "  Original ID: 27732, YOLO ID: 49, Name: 트윈스타정 40/5mg\n",
      "  Original ID: 27776, YOLO ID: 50, Name: 카나브정 60mg\n",
      "  Original ID: 27925, YOLO ID: 51, Name: 울트라셋이알서방정\n",
      "  Original ID: 27992, YOLO ID: 52, Name: 졸로푸트정 100mg\n",
      "  Original ID: 28762, YOLO ID: 53, Name: 트라젠타정(리나글립틴)\n",
      "  Original ID: 29344, YOLO ID: 54, Name: 비모보정 500/20mg\n",
      "  Original ID: 29450, YOLO ID: 55, Name: 레일라정\n",
      "  Original ID: 29666, YOLO ID: 56, Name: 리바로정 4mg\n",
      "  Original ID: 29870, YOLO ID: 57, Name: 렉사프로정 15mg\n",
      "  Original ID: 30307, YOLO ID: 58, Name: 트라젠타듀오정 2.5/850mg\n",
      "  Original ID: 31704, YOLO ID: 59, Name: 낙소졸정 500/20mg\n",
      "  Original ID: 31862, YOLO ID: 60, Name: 아질렉트정(라사길린메실산염)\n",
      "  Original ID: 31884, YOLO ID: 61, Name: 자누메트엑스알서방정 100/1000mg\n",
      "  Original ID: 32309, YOLO ID: 62, Name: 글리아타민연질캡슐\n",
      "  Original ID: 33008, YOLO ID: 63, Name: 신바로정\n",
      "  Original ID: 33207, YOLO ID: 64, Name: 에스원엠프정 20mg\n",
      "  Original ID: 33877, YOLO ID: 65, Name: 브린텔릭스정 20mg\n",
      "  Original ID: 33879, YOLO ID: 66, Name: 글리틴정(콜린알포세레이트)\n",
      "  Original ID: 34596, YOLO ID: 67, Name: 제미메트서방정 50/1000mg\n",
      "  Original ID: 35205, YOLO ID: 68, Name: 아토젯정 10/40mg\n",
      "  Original ID: 36636, YOLO ID: 69, Name: 로수젯정10/5밀리그램\n",
      "  Original ID: 38161, YOLO ID: 70, Name: 로수바미브정 10/20mg\n",
      "  Original ID: 41767, YOLO ID: 71, Name: 카발린캡슐 25mg\n",
      "  Original ID: 44198, YOLO ID: 72, Name: 케이캡정 50mg\n"
     ]
    },
    {
     "name": "stderr",
     "output_type": "stream",
     "text": [
      "Converting annotations to YOLO format: 100%|██████████| 4526/4526 [00:02<00:00, 2022.28it/s]"
     ]
    },
    {
     "name": "stdout",
     "output_type": "stream",
     "text": [
      "YOLO format annotations saved to: \\Users\\user\\myproject\\AI03-Project-1\\data\\raw\\yolo_labels_temp\n"
     ]
    },
    {
     "name": "stderr",
     "output_type": "stream",
     "text": [
      "\n"
     ]
    }
   ],
   "source": [
    "\n",
    "# YOLO 어노테이션 파일 생성 실행\n",
    "annotations_info, yolo_class_to_idx, yolo_idx_to_name = create_yolo_annotations_and_map(\n",
    "    train_ann_path, train_image_dir, YOLO_LABELS_TEMP\n",
    ")\n"
   ]
  },
  {
   "cell_type": "code",
   "execution_count": 8,
   "id": "070caf52",
   "metadata": {},
   "outputs": [],
   "source": [
    "\n",
    "# ====================================================================\n",
    "# STEP 3: Organize Data for YOLOv8\n",
    "# ====================================================================\n"
   ]
  },
  {
   "cell_type": "code",
   "execution_count": 9,
   "id": "2d22d015",
   "metadata": {},
   "outputs": [],
   "source": [
    "\n",
    "# 학습/검증 분할\n",
    "all_image_filenames = list(annotations_info.keys())\n",
    "train_img_files, val_img_files = train_test_split(all_image_filenames, test_size=0.2, random_state=42)\n"
   ]
  },
  {
   "cell_type": "code",
   "execution_count": 10,
   "id": "fa96465c",
   "metadata": {},
   "outputs": [
    {
     "name": "stdout",
     "output_type": "stream",
     "text": [
      "\n",
      "Total images for training/validation: 1489\n",
      "Train images: 1191\n",
      "Validation images: 298\n"
     ]
    }
   ],
   "source": [
    "\n",
    "print(f\"\\nTotal images for training/validation: {len(all_image_filenames)}\")\n",
    "print(f\"Train images: {len(train_img_files)}\")\n",
    "print(f\"Validation images: {len(val_img_files)}\")\n"
   ]
  },
  {
   "cell_type": "code",
   "execution_count": 11,
   "id": "60b4d6eb",
   "metadata": {},
   "outputs": [
    {
     "name": "stdout",
     "output_type": "stream",
     "text": [
      "\n",
      "Copying files to YOLOv8 dataset structure...\n"
     ]
    }
   ],
   "source": [
    "\n",
    "# 데이터셋 디렉토리로 파일 복사\n",
    "print(\"\\nCopying files to YOLOv8 dataset structure...\")\n"
   ]
  },
  {
   "cell_type": "code",
   "execution_count": 12,
   "id": "31a7c747",
   "metadata": {},
   "outputs": [
    {
     "name": "stderr",
     "output_type": "stream",
     "text": [
      "Copying train data: 100%|██████████| 1191/1191 [00:08<00:00, 145.88it/s]\n"
     ]
    }
   ],
   "source": [
    "\n",
    "# Train 데이터 복사\n",
    "for img_file in tqdm(train_img_files, desc=\"Copying train data\"):\n",
    "    img_info = annotations_info.get(img_file)\n",
    "    if img_info and img_info['image_path'].exists() and img_info['yolo_label_path'].exists():\n",
    "        shutil.copy(img_info['image_path'], YOLO_IMAGES_TRAIN / img_file)\n",
    "        shutil.copy(img_info['yolo_label_path'], YOLO_LABELS_TRAIN / img_info['yolo_label_path'].name)\n",
    "    else:\n",
    "        print(f\"Warning: Missing file for {img_file}. Skipping for train set.\")\n"
   ]
  },
  {
   "cell_type": "code",
   "execution_count": 13,
   "id": "3b06e77d",
   "metadata": {},
   "outputs": [
    {
     "name": "stderr",
     "output_type": "stream",
     "text": [
      "Copying validation data: 100%|██████████| 298/298 [00:02<00:00, 141.41it/s]\n"
     ]
    }
   ],
   "source": [
    "\n",
    "# Validation 데이터 복사\n",
    "for img_file in tqdm(val_img_files, desc=\"Copying validation data\"):\n",
    "    img_info = annotations_info.get(img_file)\n",
    "    if img_info and img_info['image_path'].exists() and img_info['yolo_label_path'].exists():\n",
    "        shutil.copy(img_info['image_path'], YOLO_IMAGES_VAL / img_file)\n",
    "        shutil.copy(img_info['yolo_label_path'], YOLO_LABELS_VAL / img_info['yolo_label_path'].name)\n",
    "    else:\n",
    "        print(f\"Warning: Missing file for {img_file}. Skipping for validation set.\")\n"
   ]
  },
  {
   "cell_type": "code",
   "execution_count": 14,
   "id": "1692f766",
   "metadata": {},
   "outputs": [
    {
     "name": "stdout",
     "output_type": "stream",
     "text": [
      "Data organized for YOLOv8 training.\n"
     ]
    }
   ],
   "source": [
    "\n",
    "print(\"Data organized for YOLOv8 training.\")\n"
   ]
  },
  {
   "cell_type": "code",
   "execution_count": 15,
   "id": "8ad3280a",
   "metadata": {},
   "outputs": [],
   "source": [
    "\n",
    "# ====================================================================\n",
    "# STEP 4: Create data.yaml file\n",
    "# ====================================================================\n"
   ]
  },
  {
   "cell_type": "code",
   "execution_count": 16,
   "id": "1e8e0be2",
   "metadata": {},
   "outputs": [
    {
     "name": "stdout",
     "output_type": "stream",
     "text": [
      "\n",
      "'dataset.yaml' created at: \\Users\\user\\myproject\\AI03-Project-1\\data\\raw\\yolov8_dataset\\dataset.yaml\n",
      "\n",
      "path: \\Users\\user\\myproject\\AI03-Project-1\\data\\raw\\yolov8_dataset\n",
      "train: images/train\n",
      "val: images/val\n",
      "\n",
      "nc: 73\n",
      "names: ['보령부스파정 5mg', '뮤테란캡슐 100mg', '일양하이트린정 2mg', '기넥신에프정(은행엽엑스)(수출용)', '무코스타정(레바미피드)(비매품)', '알드린정', '뉴로메드정(옥시라세탐)', '타이레놀정500mg', '에어탈정(아세클로페낙)', '삼남건조수산화알루미늄겔정', '타이레놀이알서방정(아세트아미노펜)(수출용)', '삐콤씨에프정 618.6mg/병', '조인스정 200mg', '쎄로켈정 100mg', '리렉스펜정 300mg/PTP', '아빌리파이정 10mg', '자이프렉사정 2.5mg', '다보타민큐정 10mg/병', '써스펜8시간이알서방정 650mg', '에빅사정(메만틴염산염)(비매품)', '리피토정 20mg', '크레스토정 20mg', '가바토파정 100mg', '동아가바펜틴정 800mg', '오마코연질캡슐(오메가-3-산에틸에스테르90)', '란스톤엘에프디티정 30mg', '리리카캡슐 150mg', '종근당글리아티린연질캡슐(콜린알포세레이트)\\xa0', '콜리네이트연질캡슐 400mg', '트루비타정 60mg/병', '스토가정 10mg', '노바스크정 5mg', '마도파정', '플라빅스정 75mg', '엑스포지정 5/160mg', '펠루비정(펠루비프로펜)', '아토르바정 10mg', '라비에트정 20mg', '리피로우정 20mg', '자누비아정 50mg', '맥시부펜이알정 300mg', '메가파워정 90mg/병', '쿠에타핀정 25mg', '비타비백정 100mg/병', '놀텍정 10mg', '자누메트정 50/850mg', '큐시드정 31.5mg/PTP', '아모잘탄정 5/100mg', '세비카정 10/40mg', '트윈스타정 40/5mg', '카나브정 60mg', '울트라셋이알서방정', '졸로푸트정 100mg', '트라젠타정(리나글립틴)', '비모보정 500/20mg', '레일라정', '리바로정 4mg', '렉사프로정 15mg', '트라젠타듀오정 2.5/850mg', '낙소졸정 500/20mg', '아질렉트정(라사길린메실산염)', '자누메트엑스알서방정 100/1000mg', '글리아타민연질캡슐', '신바로정', '에스원엠프정 20mg', '브린텔릭스정 20mg', '글리틴정(콜린알포세레이트)', '제미메트서방정 50/1000mg', '아토젯정 10/40mg', '로수젯정10/5밀리그램', '로수바미브정 10/20mg', '카발린캡슐 25mg', '케이캡정 50mg']\n",
      "\n"
     ]
    }
   ],
   "source": [
    "\n",
    "data_yaml_content = f\"\"\"\n",
    "path: {YOLO_DATA_ROOT}\n",
    "train: images/train\n",
    "val: images/val\n",
    "\n",
    "nc: {len(yolo_class_to_idx)}\n",
    "names: {list(yolo_idx_to_name.values())}\n",
    "\"\"\"\n",
    "\n",
    "data_yaml_path = YOLO_DATA_ROOT / \"dataset.yaml\"\n",
    "with open(data_yaml_path, 'w', encoding='utf-8') as f:\n",
    "    f.write(data_yaml_content)\n",
    "\n",
    "print(f\"\\n'dataset.yaml' created at: {data_yaml_path}\")\n",
    "print(data_yaml_content)\n",
    "\n"
   ]
  },
  {
   "cell_type": "code",
   "execution_count": 17,
   "id": "07f91757",
   "metadata": {},
   "outputs": [],
   "source": [
    "\n",
    "# ====================================================================\n",
    "# STEP 5: YOLOv8 Model Training\n",
    "# ====================================================================\n"
   ]
  },
  {
   "cell_type": "code",
   "execution_count": 18,
   "id": "22046527",
   "metadata": {},
   "outputs": [
    {
     "name": "stdout",
     "output_type": "stream",
     "text": [
      "Downloading https://github.com/ultralytics/assets/releases/download/v8.3.0/yolov8n.pt to 'yolov8n.pt'...\n"
     ]
    },
    {
     "name": "stderr",
     "output_type": "stream",
     "text": [
      "100%|██████████| 6.25M/6.25M [00:00<00:00, 57.5MB/s]\n"
     ]
    }
   ],
   "source": [
    "\n",
    "# 모델 로드 (pre-trained YOLOv8n 모델 사용)\n",
    "model = YOLO('yolov8n.pt') # 'n'ano, 's'mall, 'm'edium, 'l'arge, 'x'large 중 선택\n"
   ]
  },
  {
   "cell_type": "code",
   "execution_count": null,
   "id": "db82bea2",
   "metadata": {},
   "outputs": [
    {
     "name": "stdout",
     "output_type": "stream",
     "text": [
      "\n",
      "Starting YOLOv8 training...\n",
      "Ultralytics 8.3.167  Python-3.12.10 torch-2.7.1+cu126 CUDA:0 (NVIDIA GeForce RTX 4060 Ti, 8188MiB)\n",
      "\u001b[34m\u001b[1mengine\\trainer: \u001b[0magnostic_nms=False, amp=True, augment=False, auto_augment=randaugment, batch=16, bgr=0.0, box=7.5, cache=False, cfg=None, classes=None, close_mosaic=10, cls=0.5, conf=None, copy_paste=0.0, copy_paste_mode=flip, cos_lr=False, cutmix=0.0, data=\\Users\\user\\myproject\\AI03-Project-1\\data\\raw\\yolov8_dataset\\dataset.yaml, degrees=0.0, deterministic=True, device=0, dfl=1.5, dnn=False, dropout=0.0, dynamic=False, embed=None, epochs=50, erasing=0.4, exist_ok=False, fliplr=0.5, flipud=0.0, format=torchscript, fraction=1.0, freeze=None, half=False, hsv_h=0.015, hsv_s=0.7, hsv_v=0.4, imgsz=640, int8=False, iou=0.7, keras=False, kobj=1.0, line_width=None, lr0=0.01, lrf=0.01, mask_ratio=4, max_det=300, mixup=0.0, mode=train, model=yolov8n.pt, momentum=0.937, mosaic=1.0, multi_scale=False, name=yolov8_pill_detection_run, nbs=64, nms=False, opset=None, optimize=False, optimizer=auto, overlap_mask=True, patience=50, perspective=0.0, plots=True, pose=12.0, pretrained=True, profile=False, project=None, rect=False, resume=False, retina_masks=False, save=True, save_conf=False, save_crop=False, save_dir=runs\\detect\\yolov8_pill_detection_run, save_frames=False, save_json=False, save_period=-1, save_txt=False, scale=0.5, seed=0, shear=0.0, show=False, show_boxes=True, show_conf=True, show_labels=True, simplify=True, single_cls=False, source=None, split=val, stream_buffer=False, task=detect, time=None, tracker=botsort.yaml, translate=0.1, val=True, verbose=True, vid_stride=1, visualize=False, warmup_bias_lr=0.1, warmup_epochs=3.0, warmup_momentum=0.8, weight_decay=0.0005, workers=8, workspace=None\n",
      "Downloading https://ultralytics.com/assets/Arial.Unicode.ttf to 'C:\\Users\\user\\AppData\\Roaming\\Ultralytics\\Arial.Unicode.ttf'...\n"
     ]
    },
    {
     "name": "stderr",
     "output_type": "stream",
     "text": [
      "100%|██████████| 22.2M/22.2M [00:01<00:00, 21.7MB/s]"
     ]
    },
    {
     "name": "stdout",
     "output_type": "stream",
     "text": [
      "Overriding model.yaml nc=80 with nc=73\n",
      "\n",
      "                   from  n    params  module                                       arguments                     \n",
      "  0                  -1  1       464  ultralytics.nn.modules.conv.Conv             [3, 16, 3, 2]                 \n",
      "  1                  -1  1      4672  ultralytics.nn.modules.conv.Conv             [16, 32, 3, 2]                \n",
      "  2                  -1  1      7360  ultralytics.nn.modules.block.C2f             [32, 32, 1, True]             \n",
      "  3                  -1  1     18560  ultralytics.nn.modules.conv.Conv             [32, 64, 3, 2]                \n",
      "  4                  -1  2     49664  ultralytics.nn.modules.block.C2f             [64, 64, 2, True]             \n",
      "  5                  -1  1     73984  ultralytics.nn.modules.conv.Conv             [64, 128, 3, 2]               \n",
      "  6                  -1  2    197632  ultralytics.nn.modules.block.C2f             [128, 128, 2, True]           \n",
      "  7                  -1  1    295424  ultralytics.nn.modules.conv.Conv             [128, 256, 3, 2]              \n",
      "  8                  -1  1    460288  ultralytics.nn.modules.block.C2f             [256, 256, 1, True]           \n",
      "  9                  -1  1    164608  ultralytics.nn.modules.block.SPPF            [256, 256, 5]                 \n",
      " 10                  -1  1         0  torch.nn.modules.upsampling.Upsample         [None, 2, 'nearest']          \n",
      " 11             [-1, 6]  1         0  ultralytics.nn.modules.conv.Concat           [1]                           \n",
      " 12                  -1  1    148224  ultralytics.nn.modules.block.C2f             [384, 128, 1]                 \n",
      " 13                  -1  1         0  torch.nn.modules.upsampling.Upsample         [None, 2, 'nearest']          \n",
      " 14             [-1, 4]  1         0  ultralytics.nn.modules.conv.Concat           [1]                           \n",
      " 15                  -1  1     37248  ultralytics.nn.modules.block.C2f             [192, 64, 1]                  \n",
      " 16                  -1  1     36992  ultralytics.nn.modules.conv.Conv             [64, 64, 3, 2]                \n",
      " 17            [-1, 12]  1         0  ultralytics.nn.modules.conv.Concat           [1]                           \n",
      " 18                  -1  1    123648  ultralytics.nn.modules.block.C2f             [192, 128, 1]                 \n",
      " 19                  -1  1    147712  ultralytics.nn.modules.conv.Conv             [128, 128, 3, 2]              \n",
      " 20             [-1, 9]  1         0  ultralytics.nn.modules.conv.Concat           [1]                           \n",
      " 21                  -1  1    493056  ultralytics.nn.modules.block.C2f             [384, 256, 1]                 \n",
      " 22        [15, 18, 21]  1    837205  ultralytics.nn.modules.head.Detect           [73, [64, 128, 256]]          \n",
      "Model summary: 129 layers, 3,096,741 parameters, 3,096,725 gradients, 8.6 GFLOPs\n",
      "\n",
      "Transferred 319/355 items from pretrained weights\n"
     ]
    },
    {
     "name": "stderr",
     "output_type": "stream",
     "text": [
      "\n"
     ]
    },
    {
     "name": "stdout",
     "output_type": "stream",
     "text": [
      "Freezing layer 'model.22.dfl.conv.weight'\n",
      "\u001b[34m\u001b[1mAMP: \u001b[0mrunning Automatic Mixed Precision (AMP) checks...\n",
      "Downloading https://github.com/ultralytics/assets/releases/download/v8.3.0/yolo11n.pt to 'yolo11n.pt'...\n"
     ]
    },
    {
     "name": "stderr",
     "output_type": "stream",
     "text": [
      "100%|██████████| 5.35M/5.35M [00:00<00:00, 60.7MB/s]\n"
     ]
    },
    {
     "name": "stdout",
     "output_type": "stream",
     "text": [
      "\u001b[34m\u001b[1mAMP: \u001b[0mchecks passed \n",
      "\u001b[34m\u001b[1mtrain: \u001b[0mFast image access  (ping: 0.00.0 ms, read: 299.653.0 MB/s, size: 1713.1 KB)\n"
     ]
    },
    {
     "name": "stderr",
     "output_type": "stream",
     "text": [
      "\u001b[34m\u001b[1mtrain: \u001b[0mScanning C:\\Users\\user\\myproject\\AI03-Project-1\\data\\raw\\yolov8_dataset\\labels\\train... 1191 images, 1 backgrounds, 0 corrupt: 100%|██████████| 1191/1191 [00:01<00:00, 904.84it/s]"
     ]
    },
    {
     "name": "stdout",
     "output_type": "stream",
     "text": [
      "\u001b[34m\u001b[1mtrain: \u001b[0mNew cache created: C:\\Users\\user\\myproject\\AI03-Project-1\\data\\raw\\yolov8_dataset\\labels\\train.cache\n"
     ]
    },
    {
     "name": "stderr",
     "output_type": "stream",
     "text": [
      "\n"
     ]
    },
    {
     "name": "stdout",
     "output_type": "stream",
     "text": [
      "\u001b[34m\u001b[1malbumentations: \u001b[0mBlur(p=0.01, blur_limit=(3, 7)), MedianBlur(p=0.01, blur_limit=(3, 7)), ToGray(p=0.01, method='weighted_average', num_output_channels=3), CLAHE(p=0.01, clip_limit=(1.0, 4.0), tile_grid_size=(8, 8))\n",
      "\u001b[34m\u001b[1mval: \u001b[0mFast image access  (ping: 0.00.0 ms, read: 249.115.2 MB/s, size: 1878.4 KB)\n"
     ]
    },
    {
     "name": "stderr",
     "output_type": "stream",
     "text": [
      "\u001b[34m\u001b[1mval: \u001b[0mScanning C:\\Users\\user\\myproject\\AI03-Project-1\\data\\raw\\yolov8_dataset\\labels\\val... 298 images, 0 backgrounds, 0 corrupt: 100%|██████████| 298/298 [00:00<00:00, 657.67it/s]"
     ]
    },
    {
     "name": "stdout",
     "output_type": "stream",
     "text": [
      "\u001b[34m\u001b[1mval: \u001b[0mNew cache created: C:\\Users\\user\\myproject\\AI03-Project-1\\data\\raw\\yolov8_dataset\\labels\\val.cache\n"
     ]
    },
    {
     "name": "stderr",
     "output_type": "stream",
     "text": [
      "\n"
     ]
    },
    {
     "name": "stdout",
     "output_type": "stream",
     "text": [
      "Plotting labels to runs\\detect\\yolov8_pill_detection_run\\labels.jpg... \n",
      "\u001b[34m\u001b[1moptimizer:\u001b[0m 'optimizer=auto' found, ignoring 'lr0=0.01' and 'momentum=0.937' and determining best 'optimizer', 'lr0' and 'momentum' automatically... \n",
      "\u001b[34m\u001b[1moptimizer:\u001b[0m AdamW(lr=0.00013, momentum=0.9) with parameter groups 57 weight(decay=0.0), 64 weight(decay=0.0005), 63 bias(decay=0.0)\n",
      "Image sizes 640 train, 640 val\n",
      "Using 8 dataloader workers\n",
      "Logging results to \u001b[1mruns\\detect\\yolov8_pill_detection_run\u001b[0m\n",
      "Starting training for 50 epochs...\n",
      "\n",
      "      Epoch    GPU_mem   box_loss   cls_loss   dfl_loss  Instances       Size\n"
     ]
    },
    {
     "name": "stderr",
     "output_type": "stream",
     "text": [
      "       1/50      2.24G      1.357      5.355      1.313         36        640:   5%|▌         | 4/75 [00:01<00:18,  3.80it/s]"
     ]
    },
    {
     "name": "stdout",
     "output_type": "stream",
     "text": [
      "Downloading https://ultralytics.com/assets/Arial.ttf to 'C:\\Users\\user\\AppData\\Roaming\\Ultralytics\\Arial.ttf'...\n"
     ]
    },
    {
     "name": "stderr",
     "output_type": "stream",
     "text": [
      "100%|██████████| 755k/755k [00:00<00:00, 29.2MB/s]1.296         27        640:   9%|▉         | 7/75 [00:01<00:11,  5.79it/s]\n",
      "       1/50      2.35G      0.866      5.132      1.072         11        640: 100%|██████████| 75/75 [00:10<00:00,  7.45it/s]\n",
      "                 Class     Images  Instances      Box(P          R      mAP50  mAP50-95): 100%|██████████| 10/10 [00:01<00:00,  9.75it/s]"
     ]
    },
    {
     "name": "stdout",
     "output_type": "stream",
     "text": [
      "                   all        298        298          0          0          0          0\n"
     ]
    },
    {
     "name": "stderr",
     "output_type": "stream",
     "text": [
      "\n"
     ]
    },
    {
     "name": "stdout",
     "output_type": "stream",
     "text": [
      "\n",
      "      Epoch    GPU_mem   box_loss   cls_loss   dfl_loss  Instances       Size\n"
     ]
    },
    {
     "name": "stderr",
     "output_type": "stream",
     "text": [
      "       2/50      2.71G      0.569      4.558     0.9401         16        640: 100%|██████████| 75/75 [00:08<00:00,  9.04it/s]\n",
      "                 Class     Images  Instances      Box(P          R      mAP50  mAP50-95): 100%|██████████| 10/10 [00:01<00:00,  8.41it/s]"
     ]
    },
    {
     "name": "stdout",
     "output_type": "stream",
     "text": [
      "                   all        298        298      0.867     0.0472     0.0826      0.076\n"
     ]
    },
    {
     "name": "stderr",
     "output_type": "stream",
     "text": [
      "\n"
     ]
    },
    {
     "name": "stdout",
     "output_type": "stream",
     "text": [
      "\n",
      "      Epoch    GPU_mem   box_loss   cls_loss   dfl_loss  Instances       Size\n"
     ]
    },
    {
     "name": "stderr",
     "output_type": "stream",
     "text": [
      "       3/50      2.72G     0.5249      3.988     0.9218         12        640: 100%|██████████| 75/75 [00:08<00:00,  9.36it/s]\n",
      "                 Class     Images  Instances      Box(P          R      mAP50  mAP50-95): 100%|██████████| 10/10 [00:01<00:00,  8.18it/s]"
     ]
    },
    {
     "name": "stdout",
     "output_type": "stream",
     "text": [
      "                   all        298        298      0.752      0.194      0.231      0.219\n"
     ]
    },
    {
     "name": "stderr",
     "output_type": "stream",
     "text": [
      "\n"
     ]
    },
    {
     "name": "stdout",
     "output_type": "stream",
     "text": [
      "\n",
      "      Epoch    GPU_mem   box_loss   cls_loss   dfl_loss  Instances       Size\n"
     ]
    },
    {
     "name": "stderr",
     "output_type": "stream",
     "text": [
      "       4/50      2.73G     0.4994      3.531     0.9048         13        640: 100%|██████████| 75/75 [00:08<00:00,  9.34it/s]\n",
      "                 Class     Images  Instances      Box(P          R      mAP50  mAP50-95): 100%|██████████| 10/10 [00:01<00:00,  8.35it/s]"
     ]
    },
    {
     "name": "stdout",
     "output_type": "stream",
     "text": [
      "                   all        298        298      0.716      0.218      0.296      0.282\n"
     ]
    },
    {
     "name": "stderr",
     "output_type": "stream",
     "text": [
      "\n"
     ]
    },
    {
     "name": "stdout",
     "output_type": "stream",
     "text": [
      "\n",
      "      Epoch    GPU_mem   box_loss   cls_loss   dfl_loss  Instances       Size\n"
     ]
    },
    {
     "name": "stderr",
     "output_type": "stream",
     "text": [
      "       5/50      2.76G     0.4834      3.109     0.9017         16        640: 100%|██████████| 75/75 [00:08<00:00,  9.31it/s]\n",
      "                 Class     Images  Instances      Box(P          R      mAP50  mAP50-95): 100%|██████████| 10/10 [00:01<00:00,  8.58it/s]\n"
     ]
    },
    {
     "name": "stdout",
     "output_type": "stream",
     "text": [
      "                   all        298        298      0.632      0.377      0.371      0.354\n",
      "\n",
      "      Epoch    GPU_mem   box_loss   cls_loss   dfl_loss  Instances       Size\n"
     ]
    },
    {
     "name": "stderr",
     "output_type": "stream",
     "text": [
      "       6/50      2.78G     0.4441      2.911     0.8953         11        640: 100%|██████████| 75/75 [00:07<00:00,  9.48it/s]\n",
      "                 Class     Images  Instances      Box(P          R      mAP50  mAP50-95): 100%|██████████| 10/10 [00:01<00:00,  8.40it/s]"
     ]
    },
    {
     "name": "stdout",
     "output_type": "stream",
     "text": [
      "                   all        298        298      0.643      0.454      0.405      0.392\n"
     ]
    },
    {
     "name": "stderr",
     "output_type": "stream",
     "text": [
      "\n"
     ]
    },
    {
     "name": "stdout",
     "output_type": "stream",
     "text": [
      "\n",
      "      Epoch    GPU_mem   box_loss   cls_loss   dfl_loss  Instances       Size\n"
     ]
    },
    {
     "name": "stderr",
     "output_type": "stream",
     "text": [
      "       7/50       2.8G     0.4559        2.7     0.8941         16        640: 100%|██████████| 75/75 [00:07<00:00,  9.44it/s]\n",
      "                 Class     Images  Instances      Box(P          R      mAP50  mAP50-95): 100%|██████████| 10/10 [00:01<00:00,  7.60it/s]"
     ]
    },
    {
     "name": "stdout",
     "output_type": "stream",
     "text": [
      "                   all        298        298      0.562      0.553      0.449      0.429\n"
     ]
    },
    {
     "name": "stderr",
     "output_type": "stream",
     "text": [
      "\n"
     ]
    },
    {
     "name": "stdout",
     "output_type": "stream",
     "text": [
      "\n",
      "      Epoch    GPU_mem   box_loss   cls_loss   dfl_loss  Instances       Size\n"
     ]
    },
    {
     "name": "stderr",
     "output_type": "stream",
     "text": [
      "       8/50       2.8G     0.4372      2.529     0.8912         14        640: 100%|██████████| 75/75 [00:08<00:00,  9.07it/s]\n",
      "                 Class     Images  Instances      Box(P          R      mAP50  mAP50-95): 100%|██████████| 10/10 [00:01<00:00,  7.68it/s]"
     ]
    },
    {
     "name": "stdout",
     "output_type": "stream",
     "text": [
      "                   all        298        298       0.56      0.549      0.487      0.467\n"
     ]
    },
    {
     "name": "stderr",
     "output_type": "stream",
     "text": [
      "\n"
     ]
    },
    {
     "name": "stdout",
     "output_type": "stream",
     "text": [
      "\n",
      "      Epoch    GPU_mem   box_loss   cls_loss   dfl_loss  Instances       Size\n"
     ]
    },
    {
     "name": "stderr",
     "output_type": "stream",
     "text": [
      "       9/50      2.83G     0.4144      2.425     0.8821          9        640: 100%|██████████| 75/75 [00:08<00:00,  9.05it/s]\n",
      "                 Class     Images  Instances      Box(P          R      mAP50  mAP50-95): 100%|██████████| 10/10 [00:01<00:00,  7.85it/s]"
     ]
    },
    {
     "name": "stdout",
     "output_type": "stream",
     "text": [
      "                   all        298        298      0.604      0.531      0.504      0.488\n"
     ]
    },
    {
     "name": "stderr",
     "output_type": "stream",
     "text": [
      "\n"
     ]
    },
    {
     "name": "stdout",
     "output_type": "stream",
     "text": [
      "\n",
      "      Epoch    GPU_mem   box_loss   cls_loss   dfl_loss  Instances       Size\n"
     ]
    },
    {
     "name": "stderr",
     "output_type": "stream",
     "text": [
      "      10/50      2.85G     0.4173      2.341     0.8831         14        640: 100%|██████████| 75/75 [00:08<00:00,  9.23it/s]\n",
      "                 Class     Images  Instances      Box(P          R      mAP50  mAP50-95): 100%|██████████| 10/10 [00:01<00:00,  7.58it/s]\n"
     ]
    },
    {
     "name": "stdout",
     "output_type": "stream",
     "text": [
      "                   all        298        298      0.555      0.555      0.494      0.478\n",
      "\n",
      "      Epoch    GPU_mem   box_loss   cls_loss   dfl_loss  Instances       Size\n"
     ]
    },
    {
     "name": "stderr",
     "output_type": "stream",
     "text": [
      "      11/50      2.87G     0.4203      2.262     0.8854         12        640: 100%|██████████| 75/75 [00:08<00:00,  9.08it/s]\n",
      "                 Class     Images  Instances      Box(P          R      mAP50  mAP50-95): 100%|██████████| 10/10 [00:01<00:00,  7.66it/s]"
     ]
    },
    {
     "name": "stdout",
     "output_type": "stream",
     "text": [
      "                   all        298        298       0.52      0.646      0.541       0.52\n"
     ]
    },
    {
     "name": "stderr",
     "output_type": "stream",
     "text": [
      "\n"
     ]
    },
    {
     "name": "stdout",
     "output_type": "stream",
     "text": [
      "\n",
      "      Epoch    GPU_mem   box_loss   cls_loss   dfl_loss  Instances       Size\n"
     ]
    },
    {
     "name": "stderr",
     "output_type": "stream",
     "text": [
      "      12/50      2.87G     0.4044      2.151     0.8717         15        640: 100%|██████████| 75/75 [00:08<00:00,  9.16it/s]\n",
      "                 Class     Images  Instances      Box(P          R      mAP50  mAP50-95): 100%|██████████| 10/10 [00:01<00:00,  7.89it/s]"
     ]
    },
    {
     "name": "stdout",
     "output_type": "stream",
     "text": [
      "                   all        298        298      0.505      0.682      0.559      0.539\n"
     ]
    },
    {
     "name": "stderr",
     "output_type": "stream",
     "text": [
      "\n"
     ]
    },
    {
     "name": "stdout",
     "output_type": "stream",
     "text": [
      "\n",
      "      Epoch    GPU_mem   box_loss   cls_loss   dfl_loss  Instances       Size\n"
     ]
    },
    {
     "name": "stderr",
     "output_type": "stream",
     "text": [
      "      13/50       2.9G     0.3925      2.061     0.8716         13        640: 100%|██████████| 75/75 [00:08<00:00,  9.19it/s]\n",
      "                 Class     Images  Instances      Box(P          R      mAP50  mAP50-95): 100%|██████████| 10/10 [00:01<00:00,  7.45it/s]"
     ]
    },
    {
     "name": "stdout",
     "output_type": "stream",
     "text": [
      "                   all        298        298      0.517      0.671      0.566      0.548\n"
     ]
    },
    {
     "name": "stderr",
     "output_type": "stream",
     "text": [
      "\n"
     ]
    },
    {
     "name": "stdout",
     "output_type": "stream",
     "text": [
      "\n",
      "      Epoch    GPU_mem   box_loss   cls_loss   dfl_loss  Instances       Size\n"
     ]
    },
    {
     "name": "stderr",
     "output_type": "stream",
     "text": [
      "      14/50      2.92G     0.3876      1.995     0.8666         15        640: 100%|██████████| 75/75 [00:08<00:00,  9.20it/s]\n",
      "                 Class     Images  Instances      Box(P          R      mAP50  mAP50-95): 100%|██████████| 10/10 [00:01<00:00,  8.00it/s]"
     ]
    },
    {
     "name": "stdout",
     "output_type": "stream",
     "text": [
      "                   all        298        298      0.523      0.664      0.583      0.567\n"
     ]
    },
    {
     "name": "stderr",
     "output_type": "stream",
     "text": [
      "\n"
     ]
    },
    {
     "name": "stdout",
     "output_type": "stream",
     "text": [
      "\n",
      "      Epoch    GPU_mem   box_loss   cls_loss   dfl_loss  Instances       Size\n"
     ]
    },
    {
     "name": "stderr",
     "output_type": "stream",
     "text": [
      "      15/50      2.94G     0.3749      1.899     0.8605         13        640: 100%|██████████| 75/75 [00:08<00:00,  9.19it/s]\n",
      "                 Class     Images  Instances      Box(P          R      mAP50  mAP50-95): 100%|██████████| 10/10 [00:01<00:00,  7.94it/s]"
     ]
    },
    {
     "name": "stdout",
     "output_type": "stream",
     "text": [
      "                   all        298        298      0.552      0.687      0.609      0.589\n"
     ]
    },
    {
     "name": "stderr",
     "output_type": "stream",
     "text": [
      "\n"
     ]
    },
    {
     "name": "stdout",
     "output_type": "stream",
     "text": [
      "\n",
      "      Epoch    GPU_mem   box_loss   cls_loss   dfl_loss  Instances       Size\n"
     ]
    },
    {
     "name": "stderr",
     "output_type": "stream",
     "text": [
      "      16/50      2.94G     0.3818      1.961     0.8648         14        640: 100%|██████████| 75/75 [00:08<00:00,  9.18it/s]\n",
      "                 Class     Images  Instances      Box(P          R      mAP50  mAP50-95): 100%|██████████| 10/10 [00:01<00:00,  7.51it/s]"
     ]
    },
    {
     "name": "stdout",
     "output_type": "stream",
     "text": [
      "                   all        298        298      0.532      0.688      0.574       0.56\n"
     ]
    },
    {
     "name": "stderr",
     "output_type": "stream",
     "text": [
      "\n"
     ]
    },
    {
     "name": "stdout",
     "output_type": "stream",
     "text": [
      "\n",
      "      Epoch    GPU_mem   box_loss   cls_loss   dfl_loss  Instances       Size\n"
     ]
    },
    {
     "name": "stderr",
     "output_type": "stream",
     "text": [
      "      17/50      2.97G     0.3623      1.869     0.8621         13        640: 100%|██████████| 75/75 [00:08<00:00,  9.20it/s]\n",
      "                 Class     Images  Instances      Box(P          R      mAP50  mAP50-95): 100%|██████████| 10/10 [00:01<00:00,  7.30it/s]"
     ]
    },
    {
     "name": "stdout",
     "output_type": "stream",
     "text": [
      "                   all        298        298      0.484      0.755      0.595      0.581\n"
     ]
    },
    {
     "name": "stderr",
     "output_type": "stream",
     "text": [
      "\n"
     ]
    },
    {
     "name": "stdout",
     "output_type": "stream",
     "text": [
      "\n",
      "      Epoch    GPU_mem   box_loss   cls_loss   dfl_loss  Instances       Size\n"
     ]
    },
    {
     "name": "stderr",
     "output_type": "stream",
     "text": [
      "      18/50      2.99G     0.3696      1.827     0.8615         14        640: 100%|██████████| 75/75 [00:08<00:00,  8.99it/s]\n",
      "                 Class     Images  Instances      Box(P          R      mAP50  mAP50-95): 100%|██████████| 10/10 [00:01<00:00,  7.69it/s]"
     ]
    },
    {
     "name": "stdout",
     "output_type": "stream",
     "text": [
      "                   all        298        298      0.536       0.67      0.596      0.581\n"
     ]
    },
    {
     "name": "stderr",
     "output_type": "stream",
     "text": [
      "\n"
     ]
    },
    {
     "name": "stdout",
     "output_type": "stream",
     "text": [
      "\n",
      "      Epoch    GPU_mem   box_loss   cls_loss   dfl_loss  Instances       Size\n"
     ]
    },
    {
     "name": "stderr",
     "output_type": "stream",
     "text": [
      "      19/50      3.01G     0.3693      1.796     0.8674         12        640: 100%|██████████| 75/75 [00:08<00:00,  8.90it/s]\n",
      "                 Class     Images  Instances      Box(P          R      mAP50  mAP50-95): 100%|██████████| 10/10 [00:01<00:00,  7.69it/s]"
     ]
    },
    {
     "name": "stdout",
     "output_type": "stream",
     "text": [
      "                   all        298        298       0.49      0.691      0.586      0.569\n"
     ]
    },
    {
     "name": "stderr",
     "output_type": "stream",
     "text": [
      "\n"
     ]
    },
    {
     "name": "stdout",
     "output_type": "stream",
     "text": [
      "\n",
      "      Epoch    GPU_mem   box_loss   cls_loss   dfl_loss  Instances       Size\n"
     ]
    },
    {
     "name": "stderr",
     "output_type": "stream",
     "text": [
      "      20/50      3.01G     0.3603      1.837     0.8563         11        640: 100%|██████████| 75/75 [00:08<00:00,  8.97it/s]\n",
      "                 Class     Images  Instances      Box(P          R      mAP50  mAP50-95): 100%|██████████| 10/10 [00:01<00:00,  7.56it/s]"
     ]
    },
    {
     "name": "stdout",
     "output_type": "stream",
     "text": [
      "                   all        298        298      0.504      0.693      0.577      0.561\n"
     ]
    },
    {
     "name": "stderr",
     "output_type": "stream",
     "text": [
      "\n"
     ]
    },
    {
     "name": "stdout",
     "output_type": "stream",
     "text": [
      "\n",
      "      Epoch    GPU_mem   box_loss   cls_loss   dfl_loss  Instances       Size\n"
     ]
    },
    {
     "name": "stderr",
     "output_type": "stream",
     "text": [
      "      21/50      3.04G     0.3496      1.756     0.8544         12        640: 100%|██████████| 75/75 [00:08<00:00,  8.92it/s]\n",
      "                 Class     Images  Instances      Box(P          R      mAP50  mAP50-95): 100%|██████████| 10/10 [00:01<00:00,  7.57it/s]"
     ]
    },
    {
     "name": "stdout",
     "output_type": "stream",
     "text": [
      "                   all        298        298      0.455      0.785        0.6      0.583\n"
     ]
    },
    {
     "name": "stderr",
     "output_type": "stream",
     "text": [
      "\n"
     ]
    },
    {
     "name": "stdout",
     "output_type": "stream",
     "text": [
      "\n",
      "      Epoch    GPU_mem   box_loss   cls_loss   dfl_loss  Instances       Size\n"
     ]
    },
    {
     "name": "stderr",
     "output_type": "stream",
     "text": [
      "      22/50      3.06G     0.3493      1.708     0.8523         16        640: 100%|██████████| 75/75 [00:08<00:00,  8.99it/s]\n",
      "                 Class     Images  Instances      Box(P          R      mAP50  mAP50-95): 100%|██████████| 10/10 [00:01<00:00,  7.24it/s]"
     ]
    },
    {
     "name": "stdout",
     "output_type": "stream",
     "text": [
      "                   all        298        298       0.49      0.765      0.601      0.585\n"
     ]
    },
    {
     "name": "stderr",
     "output_type": "stream",
     "text": [
      "\n"
     ]
    },
    {
     "name": "stdout",
     "output_type": "stream",
     "text": [
      "\n",
      "      Epoch    GPU_mem   box_loss   cls_loss   dfl_loss  Instances       Size\n"
     ]
    },
    {
     "name": "stderr",
     "output_type": "stream",
     "text": [
      "      23/50      3.07G     0.3436      1.706     0.8514          7        640: 100%|██████████| 75/75 [00:08<00:00,  8.96it/s]\n",
      "                 Class     Images  Instances      Box(P          R      mAP50  mAP50-95): 100%|██████████| 10/10 [00:01<00:00,  7.44it/s]"
     ]
    },
    {
     "name": "stdout",
     "output_type": "stream",
     "text": [
      "                   all        298        298      0.568      0.685      0.593       0.58\n"
     ]
    },
    {
     "name": "stderr",
     "output_type": "stream",
     "text": [
      "\n"
     ]
    },
    {
     "name": "stdout",
     "output_type": "stream",
     "text": [
      "\n",
      "      Epoch    GPU_mem   box_loss   cls_loss   dfl_loss  Instances       Size\n"
     ]
    },
    {
     "name": "stderr",
     "output_type": "stream",
     "text": [
      "      24/50      3.08G     0.3408      1.666     0.8556         12        640: 100%|██████████| 75/75 [00:08<00:00,  9.03it/s]\n",
      "                 Class     Images  Instances      Box(P          R      mAP50  mAP50-95): 100%|██████████| 10/10 [00:01<00:00,  7.41it/s]"
     ]
    },
    {
     "name": "stdout",
     "output_type": "stream",
     "text": [
      "                   all        298        298       0.48      0.702      0.606      0.588\n"
     ]
    },
    {
     "name": "stderr",
     "output_type": "stream",
     "text": [
      "\n"
     ]
    },
    {
     "name": "stdout",
     "output_type": "stream",
     "text": [
      "\n",
      "      Epoch    GPU_mem   box_loss   cls_loss   dfl_loss  Instances       Size\n"
     ]
    },
    {
     "name": "stderr",
     "output_type": "stream",
     "text": [
      "      25/50      3.11G     0.3362      1.628     0.8468         11        640: 100%|██████████| 75/75 [00:08<00:00,  9.02it/s]\n",
      "                 Class     Images  Instances      Box(P          R      mAP50  mAP50-95): 100%|██████████| 10/10 [00:01<00:00,  7.37it/s]"
     ]
    },
    {
     "name": "stdout",
     "output_type": "stream",
     "text": [
      "                   all        298        298      0.578      0.644      0.615      0.604\n"
     ]
    },
    {
     "name": "stderr",
     "output_type": "stream",
     "text": [
      "\n"
     ]
    },
    {
     "name": "stdout",
     "output_type": "stream",
     "text": [
      "\n",
      "      Epoch    GPU_mem   box_loss   cls_loss   dfl_loss  Instances       Size\n"
     ]
    },
    {
     "name": "stderr",
     "output_type": "stream",
     "text": [
      "      26/50      3.13G     0.3382      1.595     0.8564         15        640: 100%|██████████| 75/75 [00:08<00:00,  8.96it/s]\n",
      "                 Class     Images  Instances      Box(P          R      mAP50  mAP50-95): 100%|██████████| 10/10 [00:01<00:00,  7.32it/s]"
     ]
    },
    {
     "name": "stdout",
     "output_type": "stream",
     "text": [
      "                   all        298        298      0.535      0.707      0.609        0.6\n"
     ]
    },
    {
     "name": "stderr",
     "output_type": "stream",
     "text": [
      "\n"
     ]
    },
    {
     "name": "stdout",
     "output_type": "stream",
     "text": [
      "\n",
      "      Epoch    GPU_mem   box_loss   cls_loss   dfl_loss  Instances       Size\n"
     ]
    },
    {
     "name": "stderr",
     "output_type": "stream",
     "text": [
      "      27/50      3.15G     0.3291      1.641     0.8502         14        640: 100%|██████████| 75/75 [00:08<00:00,  8.95it/s]\n",
      "                 Class     Images  Instances      Box(P          R      mAP50  mAP50-95): 100%|██████████| 10/10 [00:01<00:00,  7.69it/s]"
     ]
    },
    {
     "name": "stdout",
     "output_type": "stream",
     "text": [
      "                   all        298        298      0.552       0.67      0.629      0.614\n"
     ]
    },
    {
     "name": "stderr",
     "output_type": "stream",
     "text": [
      "\n"
     ]
    },
    {
     "name": "stdout",
     "output_type": "stream",
     "text": [
      "\n",
      "      Epoch    GPU_mem   box_loss   cls_loss   dfl_loss  Instances       Size\n"
     ]
    },
    {
     "name": "stderr",
     "output_type": "stream",
     "text": [
      "      28/50      3.15G     0.3338        1.6     0.8523         11        640: 100%|██████████| 75/75 [00:08<00:00,  8.99it/s]\n",
      "                 Class     Images  Instances      Box(P          R      mAP50  mAP50-95): 100%|██████████| 10/10 [00:01<00:00,  7.56it/s]"
     ]
    },
    {
     "name": "stdout",
     "output_type": "stream",
     "text": [
      "                   all        298        298      0.533      0.753      0.637      0.619\n"
     ]
    },
    {
     "name": "stderr",
     "output_type": "stream",
     "text": [
      "\n"
     ]
    },
    {
     "name": "stdout",
     "output_type": "stream",
     "text": [
      "\n",
      "      Epoch    GPU_mem   box_loss   cls_loss   dfl_loss  Instances       Size\n"
     ]
    },
    {
     "name": "stderr",
     "output_type": "stream",
     "text": [
      "      29/50      3.18G     0.3175      1.583     0.8487         17        640: 100%|██████████| 75/75 [00:08<00:00,  9.18it/s]\n",
      "                 Class     Images  Instances      Box(P          R      mAP50  mAP50-95): 100%|██████████| 10/10 [00:01<00:00,  8.09it/s]"
     ]
    },
    {
     "name": "stdout",
     "output_type": "stream",
     "text": [
      "                   all        298        298      0.498      0.749      0.631      0.617\n"
     ]
    },
    {
     "name": "stderr",
     "output_type": "stream",
     "text": [
      "\n"
     ]
    },
    {
     "name": "stdout",
     "output_type": "stream",
     "text": [
      "\n",
      "      Epoch    GPU_mem   box_loss   cls_loss   dfl_loss  Instances       Size\n"
     ]
    },
    {
     "name": "stderr",
     "output_type": "stream",
     "text": [
      "      30/50       3.2G     0.3296      1.567     0.8518         17        640: 100%|██████████| 75/75 [00:08<00:00,  9.27it/s]\n",
      "                 Class     Images  Instances      Box(P          R      mAP50  mAP50-95): 100%|██████████| 10/10 [00:01<00:00,  7.94it/s]"
     ]
    },
    {
     "name": "stdout",
     "output_type": "stream",
     "text": [
      "                   all        298        298      0.553      0.714      0.643      0.626\n"
     ]
    },
    {
     "name": "stderr",
     "output_type": "stream",
     "text": [
      "\n"
     ]
    },
    {
     "name": "stdout",
     "output_type": "stream",
     "text": [
      "\n",
      "      Epoch    GPU_mem   box_loss   cls_loss   dfl_loss  Instances       Size\n"
     ]
    },
    {
     "name": "stderr",
     "output_type": "stream",
     "text": [
      "      31/50      3.22G     0.3201      1.531     0.8479         15        640: 100%|██████████| 75/75 [00:08<00:00,  9.17it/s]\n",
      "                 Class     Images  Instances      Box(P          R      mAP50  mAP50-95): 100%|██████████| 10/10 [00:01<00:00,  7.60it/s]"
     ]
    },
    {
     "name": "stdout",
     "output_type": "stream",
     "text": [
      "                   all        298        298      0.481      0.807      0.617      0.601\n"
     ]
    },
    {
     "name": "stderr",
     "output_type": "stream",
     "text": [
      "\n"
     ]
    },
    {
     "name": "stdout",
     "output_type": "stream",
     "text": [
      "\n",
      "      Epoch    GPU_mem   box_loss   cls_loss   dfl_loss  Instances       Size\n"
     ]
    },
    {
     "name": "stderr",
     "output_type": "stream",
     "text": [
      "      32/50      3.22G      0.318      1.545     0.8385         12        640: 100%|██████████| 75/75 [00:08<00:00,  9.16it/s]\n",
      "                 Class     Images  Instances      Box(P          R      mAP50  mAP50-95): 100%|██████████| 10/10 [00:01<00:00,  7.64it/s]"
     ]
    },
    {
     "name": "stdout",
     "output_type": "stream",
     "text": [
      "                   all        298        298      0.514      0.746      0.628      0.616\n"
     ]
    },
    {
     "name": "stderr",
     "output_type": "stream",
     "text": [
      "\n"
     ]
    },
    {
     "name": "stdout",
     "output_type": "stream",
     "text": [
      "\n",
      "      Epoch    GPU_mem   box_loss   cls_loss   dfl_loss  Instances       Size\n"
     ]
    },
    {
     "name": "stderr",
     "output_type": "stream",
     "text": [
      "      33/50      3.25G     0.3224      1.545     0.8452         10        640: 100%|██████████| 75/75 [00:08<00:00,  9.15it/s]\n",
      "                 Class     Images  Instances      Box(P          R      mAP50  mAP50-95): 100%|██████████| 10/10 [00:01<00:00,  7.65it/s]"
     ]
    },
    {
     "name": "stdout",
     "output_type": "stream",
     "text": [
      "                   all        298        298      0.502      0.724      0.644      0.632\n"
     ]
    },
    {
     "name": "stderr",
     "output_type": "stream",
     "text": [
      "\n"
     ]
    },
    {
     "name": "stdout",
     "output_type": "stream",
     "text": [
      "\n",
      "      Epoch    GPU_mem   box_loss   cls_loss   dfl_loss  Instances       Size\n"
     ]
    },
    {
     "name": "stderr",
     "output_type": "stream",
     "text": [
      "      34/50      3.27G     0.3102       1.47     0.8374         14        640: 100%|██████████| 75/75 [00:08<00:00,  9.22it/s]\n",
      "                 Class     Images  Instances      Box(P          R      mAP50  mAP50-95): 100%|██████████| 10/10 [00:01<00:00,  7.91it/s]"
     ]
    },
    {
     "name": "stdout",
     "output_type": "stream",
     "text": [
      "                   all        298        298      0.562      0.726      0.659      0.641\n"
     ]
    },
    {
     "name": "stderr",
     "output_type": "stream",
     "text": [
      "\n"
     ]
    },
    {
     "name": "stdout",
     "output_type": "stream",
     "text": [
      "\n",
      "      Epoch    GPU_mem   box_loss   cls_loss   dfl_loss  Instances       Size\n"
     ]
    },
    {
     "name": "stderr",
     "output_type": "stream",
     "text": [
      "      35/50      3.28G     0.3128      1.515     0.8434          9        640: 100%|██████████| 75/75 [00:08<00:00,  9.13it/s]\n",
      "                 Class     Images  Instances      Box(P          R      mAP50  mAP50-95): 100%|██████████| 10/10 [00:01<00:00,  7.97it/s]"
     ]
    },
    {
     "name": "stdout",
     "output_type": "stream",
     "text": [
      "                   all        298        298      0.499       0.79      0.642      0.629\n"
     ]
    },
    {
     "name": "stderr",
     "output_type": "stream",
     "text": [
      "\n"
     ]
    },
    {
     "name": "stdout",
     "output_type": "stream",
     "text": [
      "\n",
      "      Epoch    GPU_mem   box_loss   cls_loss   dfl_loss  Instances       Size\n"
     ]
    },
    {
     "name": "stderr",
     "output_type": "stream",
     "text": [
      "      36/50      3.29G     0.3183      1.509     0.8552         12        640: 100%|██████████| 75/75 [00:08<00:00,  9.18it/s]\n",
      "                 Class     Images  Instances      Box(P          R      mAP50  mAP50-95): 100%|██████████| 10/10 [00:01<00:00,  7.79it/s]\n"
     ]
    },
    {
     "name": "stdout",
     "output_type": "stream",
     "text": [
      "                   all        298        298      0.527       0.75      0.643      0.634\n",
      "\n",
      "      Epoch    GPU_mem   box_loss   cls_loss   dfl_loss  Instances       Size\n"
     ]
    },
    {
     "name": "stderr",
     "output_type": "stream",
     "text": [
      "      37/50      3.32G     0.3111      1.443     0.8424         14        640: 100%|██████████| 75/75 [00:08<00:00,  9.17it/s]\n",
      "                 Class     Images  Instances      Box(P          R      mAP50  mAP50-95): 100%|██████████| 10/10 [00:01<00:00,  7.62it/s]"
     ]
    },
    {
     "name": "stdout",
     "output_type": "stream",
     "text": [
      "                   all        298        298      0.567      0.703      0.638      0.626\n"
     ]
    },
    {
     "name": "stderr",
     "output_type": "stream",
     "text": [
      "\n"
     ]
    },
    {
     "name": "stdout",
     "output_type": "stream",
     "text": [
      "\n",
      "      Epoch    GPU_mem   box_loss   cls_loss   dfl_loss  Instances       Size\n"
     ]
    },
    {
     "name": "stderr",
     "output_type": "stream",
     "text": [
      "      38/50      3.34G     0.3212      1.499     0.8473         10        640: 100%|██████████| 75/75 [00:08<00:00,  9.11it/s]\n",
      "                 Class     Images  Instances      Box(P          R      mAP50  mAP50-95): 100%|██████████| 10/10 [00:01<00:00,  7.72it/s]"
     ]
    },
    {
     "name": "stdout",
     "output_type": "stream",
     "text": [
      "                   all        298        298      0.502      0.777      0.642      0.631\n"
     ]
    },
    {
     "name": "stderr",
     "output_type": "stream",
     "text": [
      "\n"
     ]
    },
    {
     "name": "stdout",
     "output_type": "stream",
     "text": [
      "\n",
      "      Epoch    GPU_mem   box_loss   cls_loss   dfl_loss  Instances       Size\n"
     ]
    },
    {
     "name": "stderr",
     "output_type": "stream",
     "text": [
      "      39/50      3.36G     0.3034      1.458     0.8442         14        640: 100%|██████████| 75/75 [00:08<00:00,  9.12it/s]\n",
      "                 Class     Images  Instances      Box(P          R      mAP50  mAP50-95): 100%|██████████| 10/10 [00:01<00:00,  7.80it/s]"
     ]
    },
    {
     "name": "stdout",
     "output_type": "stream",
     "text": [
      "                   all        298        298      0.558      0.728      0.663       0.65\n"
     ]
    },
    {
     "name": "stderr",
     "output_type": "stream",
     "text": [
      "\n"
     ]
    },
    {
     "name": "stdout",
     "output_type": "stream",
     "text": [
      "\n",
      "      Epoch    GPU_mem   box_loss   cls_loss   dfl_loss  Instances       Size\n"
     ]
    },
    {
     "name": "stderr",
     "output_type": "stream",
     "text": [
      "      40/50      3.36G     0.3019      1.483     0.8332         10        640: 100%|██████████| 75/75 [00:08<00:00,  9.15it/s]\n",
      "                 Class     Images  Instances      Box(P          R      mAP50  mAP50-95): 100%|██████████| 10/10 [00:01<00:00,  7.89it/s]"
     ]
    },
    {
     "name": "stdout",
     "output_type": "stream",
     "text": [
      "                   all        298        298      0.548      0.752      0.646      0.634\n"
     ]
    },
    {
     "name": "stderr",
     "output_type": "stream",
     "text": [
      "\n"
     ]
    },
    {
     "name": "stdout",
     "output_type": "stream",
     "text": [
      "Closing dataloader mosaic\n",
      "\u001b[34m\u001b[1malbumentations: \u001b[0mBlur(p=0.01, blur_limit=(3, 7)), MedianBlur(p=0.01, blur_limit=(3, 7)), ToGray(p=0.01, method='weighted_average', num_output_channels=3), CLAHE(p=0.01, clip_limit=(1.0, 4.0), tile_grid_size=(8, 8))\n",
      "\n",
      "      Epoch    GPU_mem   box_loss   cls_loss   dfl_loss  Instances       Size\n"
     ]
    },
    {
     "name": "stderr",
     "output_type": "stream",
     "text": [
      "      41/50      3.39G     0.2418      1.635     0.8024          7        640: 100%|██████████| 75/75 [00:08<00:00,  8.88it/s]\n",
      "                 Class     Images  Instances      Box(P          R      mAP50  mAP50-95): 100%|██████████| 10/10 [00:01<00:00,  7.78it/s]"
     ]
    },
    {
     "name": "stdout",
     "output_type": "stream",
     "text": [
      "                   all        298        298      0.588      0.715      0.632       0.62\n"
     ]
    },
    {
     "name": "stderr",
     "output_type": "stream",
     "text": [
      "\n"
     ]
    },
    {
     "name": "stdout",
     "output_type": "stream",
     "text": [
      "\n",
      "      Epoch    GPU_mem   box_loss   cls_loss   dfl_loss  Instances       Size\n"
     ]
    },
    {
     "name": "stderr",
     "output_type": "stream",
     "text": [
      "      42/50      3.41G     0.2354      1.596     0.8035          7        640: 100%|██████████| 75/75 [00:08<00:00,  9.06it/s]\n",
      "                 Class     Images  Instances      Box(P          R      mAP50  mAP50-95): 100%|██████████| 10/10 [00:01<00:00,  7.23it/s]"
     ]
    },
    {
     "name": "stdout",
     "output_type": "stream",
     "text": [
      "                   all        298        298      0.568      0.734      0.632      0.622\n"
     ]
    },
    {
     "name": "stderr",
     "output_type": "stream",
     "text": [
      "\n"
     ]
    },
    {
     "name": "stdout",
     "output_type": "stream",
     "text": [
      "\n",
      "      Epoch    GPU_mem   box_loss   cls_loss   dfl_loss  Instances       Size\n"
     ]
    },
    {
     "name": "stderr",
     "output_type": "stream",
     "text": [
      "      43/50      3.42G     0.2331      1.574     0.8071          7        640: 100%|██████████| 75/75 [00:08<00:00,  9.11it/s]\n",
      "                 Class     Images  Instances      Box(P          R      mAP50  mAP50-95): 100%|██████████| 10/10 [00:01<00:00,  6.92it/s]"
     ]
    },
    {
     "name": "stdout",
     "output_type": "stream",
     "text": [
      "                   all        298        298      0.553      0.766      0.628      0.617\n"
     ]
    },
    {
     "name": "stderr",
     "output_type": "stream",
     "text": [
      "\n"
     ]
    },
    {
     "name": "stdout",
     "output_type": "stream",
     "text": [
      "\n",
      "      Epoch    GPU_mem   box_loss   cls_loss   dfl_loss  Instances       Size\n"
     ]
    },
    {
     "name": "stderr",
     "output_type": "stream",
     "text": [
      "      44/50      3.43G     0.2304      1.551     0.8065          7        640: 100%|██████████| 75/75 [00:08<00:00,  9.24it/s]\n",
      "                 Class     Images  Instances      Box(P          R      mAP50  mAP50-95): 100%|██████████| 10/10 [00:01<00:00,  7.42it/s]"
     ]
    },
    {
     "name": "stdout",
     "output_type": "stream",
     "text": [
      "                   all        298        298      0.548       0.76      0.646      0.637\n"
     ]
    },
    {
     "name": "stderr",
     "output_type": "stream",
     "text": [
      "\n"
     ]
    },
    {
     "name": "stdout",
     "output_type": "stream",
     "text": [
      "\n",
      "      Epoch    GPU_mem   box_loss   cls_loss   dfl_loss  Instances       Size\n"
     ]
    },
    {
     "name": "stderr",
     "output_type": "stream",
     "text": [
      "      45/50      3.46G     0.2294      1.544     0.8006          7        640: 100%|██████████| 75/75 [00:08<00:00,  9.35it/s]\n",
      "                 Class     Images  Instances      Box(P          R      mAP50  mAP50-95): 100%|██████████| 10/10 [00:01<00:00,  8.17it/s]"
     ]
    },
    {
     "name": "stdout",
     "output_type": "stream",
     "text": [
      "                   all        298        298      0.562      0.746      0.645      0.632\n"
     ]
    },
    {
     "name": "stderr",
     "output_type": "stream",
     "text": [
      "\n"
     ]
    },
    {
     "name": "stdout",
     "output_type": "stream",
     "text": [
      "\n",
      "      Epoch    GPU_mem   box_loss   cls_loss   dfl_loss  Instances       Size\n"
     ]
    },
    {
     "name": "stderr",
     "output_type": "stream",
     "text": [
      "      46/50      3.48G     0.2215      1.488     0.8092          7        640: 100%|██████████| 75/75 [00:08<00:00,  9.32it/s]\n",
      "                 Class     Images  Instances      Box(P          R      mAP50  mAP50-95): 100%|██████████| 10/10 [00:01<00:00,  7.69it/s]"
     ]
    },
    {
     "name": "stdout",
     "output_type": "stream",
     "text": [
      "                   all        298        298      0.561      0.747       0.65      0.641\n"
     ]
    },
    {
     "name": "stderr",
     "output_type": "stream",
     "text": [
      "\n"
     ]
    },
    {
     "name": "stdout",
     "output_type": "stream",
     "text": [
      "\n",
      "      Epoch    GPU_mem   box_loss   cls_loss   dfl_loss  Instances       Size\n"
     ]
    },
    {
     "name": "stderr",
     "output_type": "stream",
     "text": [
      "      47/50      3.49G     0.2267       1.52     0.8075          7        640: 100%|██████████| 75/75 [00:08<00:00,  8.81it/s]\n",
      "                 Class     Images  Instances      Box(P          R      mAP50  mAP50-95): 100%|██████████| 10/10 [00:01<00:00,  7.56it/s]"
     ]
    },
    {
     "name": "stdout",
     "output_type": "stream",
     "text": [
      "                   all        298        298      0.566      0.749      0.648      0.639\n"
     ]
    },
    {
     "name": "stderr",
     "output_type": "stream",
     "text": [
      "\n"
     ]
    },
    {
     "name": "stdout",
     "output_type": "stream",
     "text": [
      "\n",
      "      Epoch    GPU_mem   box_loss   cls_loss   dfl_loss  Instances       Size\n"
     ]
    },
    {
     "name": "stderr",
     "output_type": "stream",
     "text": [
      "      48/50       3.5G     0.2216      1.512     0.8112          7        640: 100%|██████████| 75/75 [00:08<00:00,  8.54it/s]\n",
      "                 Class     Images  Instances      Box(P          R      mAP50  mAP50-95): 100%|██████████| 10/10 [00:01<00:00,  7.38it/s]"
     ]
    },
    {
     "name": "stdout",
     "output_type": "stream",
     "text": [
      "                   all        298        298      0.549      0.778      0.653      0.645\n"
     ]
    },
    {
     "name": "stderr",
     "output_type": "stream",
     "text": [
      "\n"
     ]
    },
    {
     "name": "stdout",
     "output_type": "stream",
     "text": [
      "\n",
      "      Epoch    GPU_mem   box_loss   cls_loss   dfl_loss  Instances       Size\n"
     ]
    },
    {
     "name": "stderr",
     "output_type": "stream",
     "text": [
      "      49/50      3.53G     0.2191      1.494     0.8028          6        640: 100%|██████████| 75/75 [00:08<00:00,  8.56it/s]\n",
      "                 Class     Images  Instances      Box(P          R      mAP50  mAP50-95): 100%|██████████| 10/10 [00:01<00:00,  7.74it/s]"
     ]
    },
    {
     "name": "stdout",
     "output_type": "stream",
     "text": [
      "                   all        298        298      0.557      0.743      0.659      0.651\n"
     ]
    },
    {
     "name": "stderr",
     "output_type": "stream",
     "text": [
      "\n"
     ]
    },
    {
     "name": "stdout",
     "output_type": "stream",
     "text": [
      "\n",
      "      Epoch    GPU_mem   box_loss   cls_loss   dfl_loss  Instances       Size\n"
     ]
    },
    {
     "name": "stderr",
     "output_type": "stream",
     "text": [
      "      50/50      3.54G     0.2196      1.498     0.7973          7        640: 100%|██████████| 75/75 [00:09<00:00,  8.01it/s]\n",
      "                 Class     Images  Instances      Box(P          R      mAP50  mAP50-95): 100%|██████████| 10/10 [00:01<00:00,  7.61it/s]"
     ]
    },
    {
     "name": "stdout",
     "output_type": "stream",
     "text": [
      "                   all        298        298      0.554      0.758      0.652      0.642\n"
     ]
    },
    {
     "name": "stderr",
     "output_type": "stream",
     "text": [
      "\n"
     ]
    },
    {
     "name": "stdout",
     "output_type": "stream",
     "text": [
      "\n",
      "50 epochs completed in 0.140 hours.\n",
      "Optimizer stripped from runs\\detect\\yolov8_pill_detection_run\\weights\\last.pt, 6.4MB\n",
      "Optimizer stripped from runs\\detect\\yolov8_pill_detection_run\\weights\\best.pt, 6.4MB\n",
      "\n",
      "Validating runs\\detect\\yolov8_pill_detection_run\\weights\\best.pt...\n",
      "Ultralytics 8.3.167  Python-3.12.10 torch-2.7.1+cu126 CUDA:0 (NVIDIA GeForce RTX 4060 Ti, 8188MiB)\n",
      "Model summary (fused): 72 layers, 3,091,487 parameters, 0 gradients, 8.5 GFLOPs\n"
     ]
    },
    {
     "name": "stderr",
     "output_type": "stream",
     "text": [
      "                 Class     Images  Instances      Box(P          R      mAP50  mAP50-95): 100%|██████████| 10/10 [00:01<00:00,  5.64it/s]\n"
     ]
    },
    {
     "name": "stdout",
     "output_type": "stream",
     "text": [
      "                   all        298        298      0.558      0.743      0.659      0.651\n",
      "            2mg          2          2          1          0      0.359      0.359\n",
      "     ()()          1          1          1          0          0          0\n",
      "          ()          1          1      0.578          1      0.995      0.895\n",
      "                   2          2          1          0     0.0905      0.073\n",
      "()()          1          1          1          0      0.124      0.124\n",
      "       618.6mg/          2          2      0.208        0.5      0.373      0.373\n",
      "             200mg          1          1          0          0          0          0\n",
      "        300mg/PTP          2          2      0.267        0.5      0.373      0.373\n",
      "            10mg          1          1          0          0          0          0\n",
      "          10mg/          6          6      0.454          1      0.825       0.81\n",
      "     8 650mg          4          4      0.567       0.75      0.538      0.538\n",
      "     ()()          2          2      0.382          1      0.398      0.371\n",
      "              20mg          2          2          0          0     0.0768     0.0768\n",
      "             20mg          5          5      0.457        0.4       0.41      0.409\n",
      "            100mg          3          3      0.272      0.333      0.301      0.301\n",
      "          800mg          2          2      0.137        0.5       0.21       0.21\n",
      "(-3-90)          1          1      0.459          1      0.497      0.497\n",
      "()\\xa0          1          1    0.00527     0.0316      0.166      0.166\n",
      "        400mg          1          1      0.178          1      0.995      0.995\n",
      "           60mg/          4          4      0.413          1      0.484      0.484\n",
      "              10mg          1          1          1          0      0.995      0.895\n",
      "              5mg          3          3          1          0      0.618      0.618\n",
      "                            1          1       0.54          1      0.995      0.995\n",
      "             75mg          2          2       0.36          1      0.663      0.663\n",
      "          5/160mg          2          2      0.664        0.5      0.745      0.745\n",
      "          ()          1          1      0.153          1      0.199      0.199\n",
      "             10mg          6          6      0.816          1      0.972      0.944\n",
      "             20mg          2          2      0.431          1      0.995      0.995\n",
      "             20mg          3          3      0.822          1      0.995      0.931\n",
      "             50mg          8          8      0.335      0.444      0.583      0.572\n",
      "          300mg          4          4      0.546          1      0.569      0.569\n",
      "           90mg/          8          8      0.781          1      0.912      0.869\n",
      "             25mg          4          4      0.934          1      0.995      0.995\n",
      "          100mg/          6          6      0.685          1      0.847      0.847\n",
      "         50/850mg          6          6      0.418      0.667      0.689      0.689\n",
      "        31.5mg/PTP         13         13      0.779          1      0.929      0.929\n",
      "          5/100mg          2          2      0.148          1      0.745      0.745\n",
      "           10/40mg          2          2     0.0848          1      0.095      0.095\n",
      "           40/5mg          5          5      0.271        0.4      0.599      0.599\n",
      "              60mg          3          3      0.323      0.496      0.497       0.47\n",
      "                       6          6      0.827          1      0.995      0.968\n",
      "            100mg          2          2      0.809          1      0.995      0.995\n",
      "          ()         14         14      0.421          1      0.574      0.574\n",
      "          500/20mg          4          4      0.599          1      0.995      0.995\n",
      "                            9          9      0.801          1      0.975      0.975\n",
      "               4mg         13         13      0.586      0.923      0.817      0.817\n",
      "             15mg          3          3      0.865          1      0.995      0.995\n",
      "      2.5/850mg         10         10      0.612          1      0.917      0.917\n",
      "          500/20mg          4          4      0.536          1      0.828      0.828\n",
      "       ()          3          3      0.537       0.79      0.753      0.753\n",
      "  100/1000mg         11         11      0.569      0.909      0.853      0.853\n",
      "                       2          2      0.316          1      0.448      0.447\n",
      "                            5          5      0.885          1      0.995      0.995\n",
      "            20mg          3          3      0.644          1       0.83       0.83\n",
      "            20mg          2          2      0.611          1      0.663      0.663\n",
      "        ()          4          4      0.707          1      0.995      0.995\n",
      "      50/1000mg         15         15      0.854      0.933      0.938      0.934\n",
      "           10/40mg         24         24       0.72          1      0.806      0.799\n",
      "          10/5         23         23      0.778          1      0.871      0.871\n",
      "         10/20mg          3          3      0.837          1      0.995      0.995\n",
      "             25mg          4          4      0.713          1      0.796      0.796\n",
      "              50mg          8          8      0.886      0.972      0.982      0.957\n",
      "Speed: 0.2ms preprocess, 1.6ms inference, 0.0ms loss, 1.1ms postprocess per image\n",
      "Results saved to \u001b[1mruns\\detect\\yolov8_pill_detection_run\u001b[0m\n",
      "\n",
      "YOLOv8 training completed!\n"
     ]
    }
   ],
   "source": [
    "\n",
    "# 학습 시작\n",
    "# data 인자에는 위에서 생성한 data.yaml 파일의 경로를 지정\n",
    "# epochs, imgsz, batch 등 학습 파라미터는 필요에 따라 조절\n",
    "# device='cpu' 또는 device='0' (GPU 사용 시)\n",
    "print(\"\\nStarting YOLOv8 training...\")\n",
    "results = model.train(\n",
    "    data=str(data_yaml_path), # Path 객체를 문자열로 변환\n",
    "    epochs=50, # 적절한 에폭 수로 변경\n",
    "    imgsz=640, # 이미지 크기 (YOLO는 보통 640x640을 많이 사용)\n",
    "    batch=16,  # 배치 크기\n",
    "    device=device,\n",
    "    name='yolov8_pill_detection_run', # 학습 결과가 저장될 폴더 이름\n",
    "    patience=50, # 50 에폭 동안 검증 성능 개선 없으면 학습 중단\n",
    "    val=True # 학습 중 검증 수행\n",
    ")\n",
    "\n",
    "print(\"\\nYOLOv8 training completed!\")\n"
   ]
  },
  {
   "cell_type": "code",
   "execution_count": 20,
   "id": "6e143c88",
   "metadata": {},
   "outputs": [],
   "source": [
    "\n",
    "# 학습된 모델은 'runs/detect/yolov8_pill_detection_run/weights/best.pt' 경로에 저장됩니다.\n"
   ]
  },
  {
   "cell_type": "code",
   "execution_count": 21,
   "id": "499c89e9",
   "metadata": {},
   "outputs": [],
   "source": [
    "\n",
    "# ====================================================================\n",
    "# STEP 6: YOLOv8 Model Inference on Test Images\n",
    "# ====================================================================\n"
   ]
  },
  {
   "cell_type": "code",
   "execution_count": 22,
   "id": "7cc1a69b",
   "metadata": {},
   "outputs": [
    {
     "name": "stdout",
     "output_type": "stream",
     "text": [
      "\n",
      "Loading trained model from: runs\\detect\\yolov8_pill_detection_run\\weights\\best.pt\n"
     ]
    }
   ],
   "source": [
    "\n",
    "# 학습된 모델 로드 (학습 결과 폴더에서 best.pt 파일 경로를 확인하여 지정)\n",
    "trained_model_path = Path(results.save_dir) / \"weights\" / \"best.pt\"\n",
    "if trained_model_path.exists():\n",
    "    inference_model = YOLO(str(trained_model_path))\n",
    "    print(f\"\\nLoading trained model from: {trained_model_path}\")\n",
    "else:\n",
    "    print(f\"\\nError: Trained model not found at {trained_model_path}. Please check training output.\")\n",
    "    # If model not found, try loading the default 'yolov8n.pt' for inference\n",
    "    inference_model = YOLO('yolov8n.pt')\n",
    "    print(\"Using default yolov8n.pt for inference.\")\n"
   ]
  },
  {
   "cell_type": "code",
   "execution_count": 23,
   "id": "ac906664",
   "metadata": {},
   "outputs": [
    {
     "name": "stdout",
     "output_type": "stream",
     "text": [
      "\n",
      "Starting YOLOv8 inference on test images from: \\Users\\user\\myproject\\AI03-Project-1\\data\\raw\\test_images\n",
      "\n",
      "image 1/843 c:\\Users\\user\\myproject\\AI03-Project-1\\data\\raw\\test_images\\1.png: 640x512 1  800mg, 1  10mg, 1 , 31.8ms\n",
      "image 2/843 c:\\Users\\user\\myproject\\AI03-Project-1\\data\\raw\\test_images\\10.png: 640x512 1  20mg, 1 , 8.6ms\n",
      "image 3/843 c:\\Users\\user\\myproject\\AI03-Project-1\\data\\raw\\test_images\\100.png: 640x512 1  100mg, 1 , 8.6ms\n",
      "image 4/843 c:\\Users\\user\\myproject\\AI03-Project-1\\data\\raw\\test_images\\1003.png: 640x512 1  50/1000mg, 8.7ms\n",
      "image 5/843 c:\\Users\\user\\myproject\\AI03-Project-1\\data\\raw\\test_images\\1004.png: 640x512 1  50/1000mg, 10.6ms\n",
      "image 6/843 c:\\Users\\user\\myproject\\AI03-Project-1\\data\\raw\\test_images\\1005.png: 640x512 1  40/5mg, 1  50/1000mg, 8.8ms\n",
      "image 7/843 c:\\Users\\user\\myproject\\AI03-Project-1\\data\\raw\\test_images\\1006.png: 640x512 1  50/850mg, 1  5/100mg, 10.1ms\n",
      "image 8/843 c:\\Users\\user\\myproject\\AI03-Project-1\\data\\raw\\test_images\\1007.png: 640x512 1  50/850mg, 1  5/100mg, 8.9ms\n",
      "image 9/843 c:\\Users\\user\\myproject\\AI03-Project-1\\data\\raw\\test_images\\1009.png: 640x512 1  5/100mg, 9.0ms\n",
      "image 10/843 c:\\Users\\user\\myproject\\AI03-Project-1\\data\\raw\\test_images\\1010.png: 640x512 1  5/100mg, 9.2ms\n",
      "image 11/843 c:\\Users\\user\\myproject\\AI03-Project-1\\data\\raw\\test_images\\1012.png: 640x512 1  10mg, 1 , 9.0ms\n",
      "image 12/843 c:\\Users\\user\\myproject\\AI03-Project-1\\data\\raw\\test_images\\1013.png: 640x512 1  10mg, 1 , 9.2ms\n",
      "image 13/843 c:\\Users\\user\\myproject\\AI03-Project-1\\data\\raw\\test_images\\1014.png: 640x512 1  10mg, 1 , 9.4ms\n",
      "image 14/843 c:\\Users\\user\\myproject\\AI03-Project-1\\data\\raw\\test_images\\1015.png: 640x512 1  2.5/850mg, 1  10/40mg, 10.9ms\n",
      "image 15/843 c:\\Users\\user\\myproject\\AI03-Project-1\\data\\raw\\test_images\\1016.png: 640x512 1  2.5/850mg, 1  10/40mg, 9.2ms\n",
      "image 16/843 c:\\Users\\user\\myproject\\AI03-Project-1\\data\\raw\\test_images\\1018.png: 640x512 1  40/5mg, 1  2.5/850mg, 11.0ms\n",
      "image 17/843 c:\\Users\\user\\myproject\\AI03-Project-1\\data\\raw\\test_images\\1019.png: 640x512 1  4mg, 9.6ms\n",
      "image 18/843 c:\\Users\\user\\myproject\\AI03-Project-1\\data\\raw\\test_images\\102.png: 640x512 1  100mg, 1 , 9.6ms\n",
      "image 19/843 c:\\Users\\user\\myproject\\AI03-Project-1\\data\\raw\\test_images\\1020.png: 640x512 1  4mg, 9.5ms\n",
      "image 20/843 c:\\Users\\user\\myproject\\AI03-Project-1\\data\\raw\\test_images\\1022.png: 640x512 1 , 1  20mg, 10.8ms\n",
      "image 21/843 c:\\Users\\user\\myproject\\AI03-Project-1\\data\\raw\\test_images\\1023.png: 640x512 1  20mg, 9.9ms\n",
      "image 22/843 c:\\Users\\user\\myproject\\AI03-Project-1\\data\\raw\\test_images\\1025.png: 640x512 1  5/160mg, 1 (), 9.9ms\n",
      "image 23/843 c:\\Users\\user\\myproject\\AI03-Project-1\\data\\raw\\test_images\\1026.png: 640x512 1 (), 10.1ms\n",
      "image 24/843 c:\\Users\\user\\myproject\\AI03-Project-1\\data\\raw\\test_images\\1027.png: 640x512 1 ()(), 1  20mg, 10.7ms\n",
      "image 25/843 c:\\Users\\user\\myproject\\AI03-Project-1\\data\\raw\\test_images\\1028.png: 640x512 1  20mg, 11.1ms\n",
      "image 26/843 c:\\Users\\user\\myproject\\AI03-Project-1\\data\\raw\\test_images\\1029.png: 640x512 1 ()(), 1  20mg, 12.0ms\n",
      "image 27/843 c:\\Users\\user\\myproject\\AI03-Project-1\\data\\raw\\test_images\\1030.png: 640x512 1  10/40mg, 10.3ms\n",
      "image 28/843 c:\\Users\\user\\myproject\\AI03-Project-1\\data\\raw\\test_images\\1034.png: 640x512 1 (), 1 10/5, 10.3ms\n",
      "image 29/843 c:\\Users\\user\\myproject\\AI03-Project-1\\data\\raw\\test_images\\1039.png: 640x512 1  5/100mg, 1 (), 10.3ms\n",
      "image 30/843 c:\\Users\\user\\myproject\\AI03-Project-1\\data\\raw\\test_images\\104.png: 640x512 1 ()\\xa0, 1  10mg, 10.1ms\n",
      "image 31/843 c:\\Users\\user\\myproject\\AI03-Project-1\\data\\raw\\test_images\\1041.png: 640x512 1  5/100mg, 1 (), 10.6ms\n",
      "image 32/843 c:\\Users\\user\\myproject\\AI03-Project-1\\data\\raw\\test_images\\1043.png: 640x512 1 ()\\xa0, 1  10/40mg, 10.7ms\n",
      "image 33/843 c:\\Users\\user\\myproject\\AI03-Project-1\\data\\raw\\test_images\\1044.png: 640x512 1 ()\\xa0, 1  10/40mg, 11.0ms\n",
      "image 34/843 c:\\Users\\user\\myproject\\AI03-Project-1\\data\\raw\\test_images\\1045.png: 640x512 1 (), 1  4mg, 10.8ms\n",
      "image 35/843 c:\\Users\\user\\myproject\\AI03-Project-1\\data\\raw\\test_images\\1046.png: 640x512 1 (), 1  4mg, 12.5ms\n",
      "image 36/843 c:\\Users\\user\\myproject\\AI03-Project-1\\data\\raw\\test_images\\1047.png: 640x512 1 (), 1  4mg, 11.1ms\n",
      "image 37/843 c:\\Users\\user\\myproject\\AI03-Project-1\\data\\raw\\test_images\\1050.png: 640x512 1  300mg, 1  90mg/, 12.6ms\n",
      "image 38/843 c:\\Users\\user\\myproject\\AI03-Project-1\\data\\raw\\test_images\\1051.png: 640x512 1  100mg/, 18.2ms\n",
      "image 39/843 c:\\Users\\user\\myproject\\AI03-Project-1\\data\\raw\\test_images\\1053.png: 640x512 1  100mg/, 12.4ms\n",
      "image 40/843 c:\\Users\\user\\myproject\\AI03-Project-1\\data\\raw\\test_images\\1055.png: 640x512 1  100/1000mg, 12.1ms\n",
      "image 41/843 c:\\Users\\user\\myproject\\AI03-Project-1\\data\\raw\\test_images\\1056.png: 640x512 1  100/1000mg, 11.7ms\n",
      "image 42/843 c:\\Users\\user\\myproject\\AI03-Project-1\\data\\raw\\test_images\\1057.png: 640x512 1  10mg/, 1  31.5mg/PTP, 17.4ms\n",
      "image 43/843 c:\\Users\\user\\myproject\\AI03-Project-1\\data\\raw\\test_images\\1058.png: 640x512 1  10mg/, 1  31.5mg/PTP, 13.1ms\n",
      "image 44/843 c:\\Users\\user\\myproject\\AI03-Project-1\\data\\raw\\test_images\\1060.png: 640x512 1  31.5mg/PTP, 12.5ms\n",
      "image 45/843 c:\\Users\\user\\myproject\\AI03-Project-1\\data\\raw\\test_images\\1064.png: 640x512 1  5/100mg, 1  50/1000mg, 12.2ms\n",
      "image 46/843 c:\\Users\\user\\myproject\\AI03-Project-1\\data\\raw\\test_images\\1065.png: 640x512 1  5/100mg, 1  50/1000mg, 14.1ms\n",
      "image 47/843 c:\\Users\\user\\myproject\\AI03-Project-1\\data\\raw\\test_images\\1067.png: 640x512 1  10/40mg, 1  100/1000mg, 13.4ms\n",
      "image 48/843 c:\\Users\\user\\myproject\\AI03-Project-1\\data\\raw\\test_images\\1069.png: 640x512 1 (), 1  20mg, 13.3ms\n",
      "image 49/843 c:\\Users\\user\\myproject\\AI03-Project-1\\data\\raw\\test_images\\1070.png: 640x512 1 (), 1  20mg, 13.7ms\n",
      "image 50/843 c:\\Users\\user\\myproject\\AI03-Project-1\\data\\raw\\test_images\\1073.png: 640x512 1 10/5, 14.1ms\n",
      "image 51/843 c:\\Users\\user\\myproject\\AI03-Project-1\\data\\raw\\test_images\\1075.png: 640x512 1  800mg, 1  15mg, 12.6ms\n",
      "image 52/843 c:\\Users\\user\\myproject\\AI03-Project-1\\data\\raw\\test_images\\1076.png: 640x512 1  15mg, 12.8ms\n",
      "image 53/843 c:\\Users\\user\\myproject\\AI03-Project-1\\data\\raw\\test_images\\1077.png: 640x512 1  800mg, 1  15mg, 13.0ms\n",
      "image 54/843 c:\\Users\\user\\myproject\\AI03-Project-1\\data\\raw\\test_images\\1079.png: 640x512 1  50mg, 1  4mg, 13.1ms\n",
      "image 55/843 c:\\Users\\user\\myproject\\AI03-Project-1\\data\\raw\\test_images\\108.png: 640x512 1  10mg/, 1  31.5mg/PTP, 13.2ms\n",
      "image 56/843 c:\\Users\\user\\myproject\\AI03-Project-1\\data\\raw\\test_images\\1080.png: 640x512 1  4mg, 14.0ms\n",
      "image 57/843 c:\\Users\\user\\myproject\\AI03-Project-1\\data\\raw\\test_images\\1081.png: 640x512 1  800mg, 1  50mg, 13.6ms\n",
      "image 58/843 c:\\Users\\user\\myproject\\AI03-Project-1\\data\\raw\\test_images\\1085.png: 640x512 (no detections), 13.1ms\n",
      "image 59/843 c:\\Users\\user\\myproject\\AI03-Project-1\\data\\raw\\test_images\\1087.png: 640x512 1  500/20mg, 17.2ms\n",
      "image 60/843 c:\\Users\\user\\myproject\\AI03-Project-1\\data\\raw\\test_images\\1089.png: 640x512 1  500/20mg, 14.9ms\n",
      "image 61/843 c:\\Users\\user\\myproject\\AI03-Project-1\\data\\raw\\test_images\\109.png: 640x512 1  10/40mg, 16.5ms\n",
      "image 62/843 c:\\Users\\user\\myproject\\AI03-Project-1\\data\\raw\\test_images\\1092.png: 640x512 1  50mg, 17.3ms\n",
      "image 63/843 c:\\Users\\user\\myproject\\AI03-Project-1\\data\\raw\\test_images\\1093.png: 640x512 1  50/1000mg, 20.7ms\n",
      "image 64/843 c:\\Users\\user\\myproject\\AI03-Project-1\\data\\raw\\test_images\\1095.png: 640x512 1  50/1000mg, 17.7ms\n",
      "image 65/843 c:\\Users\\user\\myproject\\AI03-Project-1\\data\\raw\\test_images\\1096.png: 640x512 1  800mg, 1  100mg, 16.4ms\n",
      "image 66/843 c:\\Users\\user\\myproject\\AI03-Project-1\\data\\raw\\test_images\\1097.png: 640x512 1  800mg, 1  100mg, 17.9ms\n",
      "image 67/843 c:\\Users\\user\\myproject\\AI03-Project-1\\data\\raw\\test_images\\1098.png: 640x512 1  800mg, 1  100mg, 15.4ms\n",
      "image 68/843 c:\\Users\\user\\myproject\\AI03-Project-1\\data\\raw\\test_images\\110.png: 640x512 1  50/850mg, 1  10/40mg, 16.3ms\n",
      "image 69/843 c:\\Users\\user\\myproject\\AI03-Project-1\\data\\raw\\test_images\\1100.png: 640x512 1 10/5, 16.4ms\n",
      "image 70/843 c:\\Users\\user\\myproject\\AI03-Project-1\\data\\raw\\test_images\\1101.png: 640x512 1 10/5, 16.1ms\n",
      "image 71/843 c:\\Users\\user\\myproject\\AI03-Project-1\\data\\raw\\test_images\\1105.png: 640x512 1  10/40mg, 16.7ms\n",
      "image 72/843 c:\\Users\\user\\myproject\\AI03-Project-1\\data\\raw\\test_images\\1109.png: 640x512 1 (), 16.4ms\n",
      "image 73/843 c:\\Users\\user\\myproject\\AI03-Project-1\\data\\raw\\test_images\\1111.png: 640x512 1  10/40mg, 1 (), 1  4mg, 17.5ms\n",
      "image 74/843 c:\\Users\\user\\myproject\\AI03-Project-1\\data\\raw\\test_images\\1114.png: 640x512 1  10/40mg, 1  2.5/850mg, 1  10/40mg, 16.2ms\n",
      "image 75/843 c:\\Users\\user\\myproject\\AI03-Project-1\\data\\raw\\test_images\\1115.png: 640x512 1  10/40mg, 1  2.5/850mg, 1  10/40mg, 15.3ms\n",
      "image 76/843 c:\\Users\\user\\myproject\\AI03-Project-1\\data\\raw\\test_images\\1116.png: 640x512 1  2.5/850mg, 1  10/40mg, 25.5ms\n",
      "image 77/843 c:\\Users\\user\\myproject\\AI03-Project-1\\data\\raw\\test_images\\1118.png: 640x512 1  100mg, 1  15mg, 20.7ms\n",
      "image 78/843 c:\\Users\\user\\myproject\\AI03-Project-1\\data\\raw\\test_images\\1119.png: 640x512 1  100mg, 1  15mg, 20.8ms\n",
      "image 79/843 c:\\Users\\user\\myproject\\AI03-Project-1\\data\\raw\\test_images\\112.png: 640x512 1  800mg, 25.8ms\n",
      "image 80/843 c:\\Users\\user\\myproject\\AI03-Project-1\\data\\raw\\test_images\\1121.png: 640x512 1 (), 1  4mg, 22.8ms\n",
      "image 81/843 c:\\Users\\user\\myproject\\AI03-Project-1\\data\\raw\\test_images\\1123.png: 640x512 1  50/850mg, 1  40/5mg, 21.7ms\n",
      "image 82/843 c:\\Users\\user\\myproject\\AI03-Project-1\\data\\raw\\test_images\\1125.png: 640x512 1  50/850mg, 1  40/5mg, 32.0ms\n",
      "image 83/843 c:\\Users\\user\\myproject\\AI03-Project-1\\data\\raw\\test_images\\1126.png: 640x512 1  100/1000mg, 22.5ms\n",
      "image 84/843 c:\\Users\\user\\myproject\\AI03-Project-1\\data\\raw\\test_images\\1129.png: 640x512 1  40/5mg, 23.0ms\n",
      "image 85/843 c:\\Users\\user\\myproject\\AI03-Project-1\\data\\raw\\test_images\\113.png: 640x512 1 , 45.1ms\n",
      "image 86/843 c:\\Users\\user\\myproject\\AI03-Project-1\\data\\raw\\test_images\\1135.png: 640x512 1  800mg, 1 , 26.0ms\n",
      "image 87/843 c:\\Users\\user\\myproject\\AI03-Project-1\\data\\raw\\test_images\\1136.png: 640x512 1  800mg, 1 , 21.2ms\n",
      "image 88/843 c:\\Users\\user\\myproject\\AI03-Project-1\\data\\raw\\test_images\\1138.png: 640x512 1  10/40mg, 1  50/1000mg, 22.5ms\n",
      "image 89/843 c:\\Users\\user\\myproject\\AI03-Project-1\\data\\raw\\test_images\\114.png: 640x512 1  800mg, 1 , 22.5ms\n",
      "image 90/843 c:\\Users\\user\\myproject\\AI03-Project-1\\data\\raw\\test_images\\1140.png: 640x512 1  50/1000mg, 21.9ms\n",
      "image 91/843 c:\\Users\\user\\myproject\\AI03-Project-1\\data\\raw\\test_images\\1141.png: 640x512 1  31.5mg/PTP, 21.0ms\n",
      "image 92/843 c:\\Users\\user\\myproject\\AI03-Project-1\\data\\raw\\test_images\\1142.png: 640x512 1  100mg/, 1  31.5mg/PTP, 23.0ms\n",
      "image 93/843 c:\\Users\\user\\myproject\\AI03-Project-1\\data\\raw\\test_images\\1143.png: 640x512 1  100mg/, 1  31.5mg/PTP, 31.9ms\n",
      "image 94/843 c:\\Users\\user\\myproject\\AI03-Project-1\\data\\raw\\test_images\\1144.png: 640x512 1  100/1000mg, 24.4ms\n",
      "image 95/843 c:\\Users\\user\\myproject\\AI03-Project-1\\data\\raw\\test_images\\1148.png: 640x512 1  20mg, 1  25mg, 20.2ms\n",
      "image 96/843 c:\\Users\\user\\myproject\\AI03-Project-1\\data\\raw\\test_images\\1149.png: 640x512 1  20mg, 1  25mg, 18.4ms\n",
      "image 97/843 c:\\Users\\user\\myproject\\AI03-Project-1\\data\\raw\\test_images\\115.png: 640x512 1  40/5mg, 1 10/5, 30.4ms\n",
      "image 98/843 c:\\Users\\user\\myproject\\AI03-Project-1\\data\\raw\\test_images\\1150.png: 640x512 1  4mg, 1  50/1000mg, 20.3ms\n",
      "image 99/843 c:\\Users\\user\\myproject\\AI03-Project-1\\data\\raw\\test_images\\1153.png: 640x512 1  50mg, 19.1ms\n",
      "image 100/843 c:\\Users\\user\\myproject\\AI03-Project-1\\data\\raw\\test_images\\1154.png: 640x512 1  50mg, 20.1ms\n",
      "image 101/843 c:\\Users\\user\\myproject\\AI03-Project-1\\data\\raw\\test_images\\1155.png: 640x512 (no detections), 19.1ms\n",
      "image 102/843 c:\\Users\\user\\myproject\\AI03-Project-1\\data\\raw\\test_images\\1156.png: 640x512 1  20mg, 17.6ms\n",
      "image 103/843 c:\\Users\\user\\myproject\\AI03-Project-1\\data\\raw\\test_images\\1157.png: 640x512 1 ()(), 1  20mg, 18.1ms\n",
      "image 104/843 c:\\Users\\user\\myproject\\AI03-Project-1\\data\\raw\\test_images\\1158.png: 640x512 1 ()(), 1  20mg, 17.2ms\n",
      "image 105/843 c:\\Users\\user\\myproject\\AI03-Project-1\\data\\raw\\test_images\\1159.png: 640x512 1  20mg, 1 ()\\xa0, 18.4ms\n",
      "image 106/843 c:\\Users\\user\\myproject\\AI03-Project-1\\data\\raw\\test_images\\1161.png: 640x512 1  20mg, 1 ()\\xa0, 28.1ms\n",
      "image 107/843 c:\\Users\\user\\myproject\\AI03-Project-1\\data\\raw\\test_images\\1163.png: 640x512 1  800mg, 1 , 28.3ms\n",
      "image 108/843 c:\\Users\\user\\myproject\\AI03-Project-1\\data\\raw\\test_images\\1164.png: 640x512 1  800mg, 1 , 16.8ms\n",
      "image 109/843 c:\\Users\\user\\myproject\\AI03-Project-1\\data\\raw\\test_images\\1166.png: 640x512 1 10/5, 18.1ms\n",
      "image 110/843 c:\\Users\\user\\myproject\\AI03-Project-1\\data\\raw\\test_images\\1167.png: 640x512 1 10/5, 20.2ms\n",
      "image 111/843 c:\\Users\\user\\myproject\\AI03-Project-1\\data\\raw\\test_images\\1168.png: 640x512 1  4mg, 1  2.5/850mg, 18.6ms\n",
      "image 112/843 c:\\Users\\user\\myproject\\AI03-Project-1\\data\\raw\\test_images\\1170.png: 640x512 1  4mg, 1  2.5/850mg, 33.4ms\n",
      "image 113/843 c:\\Users\\user\\myproject\\AI03-Project-1\\data\\raw\\test_images\\1171.png: 640x512 1  100mg, 30.5ms\n",
      "image 114/843 c:\\Users\\user\\myproject\\AI03-Project-1\\data\\raw\\test_images\\1173.png: 640x512 (no detections), 21.9ms\n",
      "image 115/843 c:\\Users\\user\\myproject\\AI03-Project-1\\data\\raw\\test_images\\1174.png: 640x512 1  10/40mg, 1  4mg, 1  2.5/850mg, 22.1ms\n",
      "image 116/843 c:\\Users\\user\\myproject\\AI03-Project-1\\data\\raw\\test_images\\1176.png: 640x512 1  10/40mg, 1  4mg, 1  2.5/850mg, 20.1ms\n",
      "image 117/843 c:\\Users\\user\\myproject\\AI03-Project-1\\data\\raw\\test_images\\1178.png: 640x512 1  100/1000mg, 28.7ms\n",
      "image 118/843 c:\\Users\\user\\myproject\\AI03-Project-1\\data\\raw\\test_images\\118.png: 640x512 1 (-3-90), 25.6ms\n",
      "image 119/843 c:\\Users\\user\\myproject\\AI03-Project-1\\data\\raw\\test_images\\1180.png: 640x512 1  400mg, 1  10mg, 33.1ms\n",
      "image 120/843 c:\\Users\\user\\myproject\\AI03-Project-1\\data\\raw\\test_images\\1184.png: 640x512 1 (), 1  10mg, 20.6ms\n",
      "image 121/843 c:\\Users\\user\\myproject\\AI03-Project-1\\data\\raw\\test_images\\1185.png: 640x512 1  100mg, 1  10mg, 18.3ms\n",
      "image 122/843 c:\\Users\\user\\myproject\\AI03-Project-1\\data\\raw\\test_images\\1186.png: 640x512 1  60mg/, 17.7ms\n",
      "image 123/843 c:\\Users\\user\\myproject\\AI03-Project-1\\data\\raw\\test_images\\1187.png: 640x512 1  60mg/, 15.8ms\n",
      "image 124/843 c:\\Users\\user\\myproject\\AI03-Project-1\\data\\raw\\test_images\\1189.png: 640x512 1  300mg/PTP, 1  90mg/, 20.2ms\n",
      "image 125/843 c:\\Users\\user\\myproject\\AI03-Project-1\\data\\raw\\test_images\\119.png: 640x512 1 ()(), 1 (-3-90), 18.5ms\n",
      "image 126/843 c:\\Users\\user\\myproject\\AI03-Project-1\\data\\raw\\test_images\\1190.png: 640x512 1  90mg/, 20.3ms\n",
      "image 127/843 c:\\Users\\user\\myproject\\AI03-Project-1\\data\\raw\\test_images\\1191.png: 640x512 1  300mg/PTP, 1  90mg/, 20.6ms\n",
      "image 128/843 c:\\Users\\user\\myproject\\AI03-Project-1\\data\\raw\\test_images\\1192.png: 640x512 1  10mg, 1 , 16.8ms\n",
      "image 129/843 c:\\Users\\user\\myproject\\AI03-Project-1\\data\\raw\\test_images\\1194.png: 640x512 1  800mg, 1  10mg, 1 , 18.8ms\n",
      "image 130/843 c:\\Users\\user\\myproject\\AI03-Project-1\\data\\raw\\test_images\\1196.png: 640x512 1 (), 1  10/40mg, 17.9ms\n",
      "image 131/843 c:\\Users\\user\\myproject\\AI03-Project-1\\data\\raw\\test_images\\1197.png: 640x512 1 (), 1  10/40mg, 18.0ms\n",
      "image 132/843 c:\\Users\\user\\myproject\\AI03-Project-1\\data\\raw\\test_images\\1198.png: 640x512 1 (), 22.4ms\n",
      "image 133/843 c:\\Users\\user\\myproject\\AI03-Project-1\\data\\raw\\test_images\\1199.png: 640x512 1  60mg, 1 (), 33.1ms\n",
      "image 134/843 c:\\Users\\user\\myproject\\AI03-Project-1\\data\\raw\\test_images\\120.png: 640x512 1 ()(), 1 (-3-90), 25.3ms\n",
      "image 135/843 c:\\Users\\user\\myproject\\AI03-Project-1\\data\\raw\\test_images\\1201.png: 640x512 1 (), 22.9ms\n",
      "image 136/843 c:\\Users\\user\\myproject\\AI03-Project-1\\data\\raw\\test_images\\1204.png: 640x512 1  20mg, 1 , 18.3ms\n",
      "image 137/843 c:\\Users\\user\\myproject\\AI03-Project-1\\data\\raw\\test_images\\1206.png: 640x512 1  20mg, 1 , 16.0ms\n",
      "image 138/843 c:\\Users\\user\\myproject\\AI03-Project-1\\data\\raw\\test_images\\1207.png: 640x512 1  60mg, 19.5ms\n",
      "image 139/843 c:\\Users\\user\\myproject\\AI03-Project-1\\data\\raw\\test_images\\1209.png: 640x512 1  50mg, 26.8ms\n",
      "image 140/843 c:\\Users\\user\\myproject\\AI03-Project-1\\data\\raw\\test_images\\1210.png: 640x512 1  10/40mg, 21.4ms\n",
      "image 141/843 c:\\Users\\user\\myproject\\AI03-Project-1\\data\\raw\\test_images\\1212.png: 640x512 1  10/40mg, 16.3ms\n",
      "image 142/843 c:\\Users\\user\\myproject\\AI03-Project-1\\data\\raw\\test_images\\1213.png: 640x512 1  90mg/, 1  31.5mg/PTP, 22.9ms\n",
      "image 143/843 c:\\Users\\user\\myproject\\AI03-Project-1\\data\\raw\\test_images\\1214.png: 640x512 1  90mg/, 1  31.5mg/PTP, 19.6ms\n",
      "image 144/843 c:\\Users\\user\\myproject\\AI03-Project-1\\data\\raw\\test_images\\1216.png: 640x512 1  800mg, 1 , 20.2ms\n",
      "image 145/843 c:\\Users\\user\\myproject\\AI03-Project-1\\data\\raw\\test_images\\1219.png: 640x512 1  500/20mg, 21.7ms\n",
      "image 146/843 c:\\Users\\user\\myproject\\AI03-Project-1\\data\\raw\\test_images\\122.png: 640x512 1  50/850mg, 1  4mg, 27.5ms\n",
      "image 147/843 c:\\Users\\user\\myproject\\AI03-Project-1\\data\\raw\\test_images\\1220.png: 640x512 1  500/20mg, 21.9ms\n",
      "image 148/843 c:\\Users\\user\\myproject\\AI03-Project-1\\data\\raw\\test_images\\1222.png: 640x512 1  10/40mg, 1 10/5, 25.0ms\n",
      "image 149/843 c:\\Users\\user\\myproject\\AI03-Project-1\\data\\raw\\test_images\\1224.png: 640x512 1 10/5, 18.1ms\n",
      "image 150/843 c:\\Users\\user\\myproject\\AI03-Project-1\\data\\raw\\test_images\\1226.png: 640x512 1  10/40mg, 34.7ms\n",
      "image 151/843 c:\\Users\\user\\myproject\\AI03-Project-1\\data\\raw\\test_images\\1227.png: 640x512 1  10/40mg, 22.2ms\n",
      "image 152/843 c:\\Users\\user\\myproject\\AI03-Project-1\\data\\raw\\test_images\\1232.png: 640x512 1  100/1000mg, 17.6ms\n",
      "image 153/843 c:\\Users\\user\\myproject\\AI03-Project-1\\data\\raw\\test_images\\1235.png: 640x512 1  100mg, 1 , 17.1ms\n",
      "image 154/843 c:\\Users\\user\\myproject\\AI03-Project-1\\data\\raw\\test_images\\1237.png: 640x512 1  50mg, 23.3ms\n",
      "image 155/843 c:\\Users\\user\\myproject\\AI03-Project-1\\data\\raw\\test_images\\1238.png: 640x512 1  500/20mg, 1  50mg, 21.5ms\n",
      "image 156/843 c:\\Users\\user\\myproject\\AI03-Project-1\\data\\raw\\test_images\\1239.png: 640x512 1  500/20mg, 1  50mg, 15.5ms\n",
      "image 157/843 c:\\Users\\user\\myproject\\AI03-Project-1\\data\\raw\\test_images\\124.png: 640x512 1 (), 1  20mg, 16.9ms\n",
      "image 158/843 c:\\Users\\user\\myproject\\AI03-Project-1\\data\\raw\\test_images\\1242.png: 640x512 1  50mg, 18.8ms\n",
      "image 159/843 c:\\Users\\user\\myproject\\AI03-Project-1\\data\\raw\\test_images\\1243.png: 640x512 1  10/40mg, 18.7ms\n",
      "image 160/843 c:\\Users\\user\\myproject\\AI03-Project-1\\data\\raw\\test_images\\1244.png: 640x512 1  10/40mg, 15.5ms\n",
      "image 161/843 c:\\Users\\user\\myproject\\AI03-Project-1\\data\\raw\\test_images\\1245.png: 640x512 1  10/40mg, 15.5ms\n",
      "image 162/843 c:\\Users\\user\\myproject\\AI03-Project-1\\data\\raw\\test_images\\1246.png: 640x512 1  50/1000mg, 29.3ms\n",
      "image 163/843 c:\\Users\\user\\myproject\\AI03-Project-1\\data\\raw\\test_images\\1248.png: 640x512 1  60mg, 1  50/1000mg, 17.6ms\n",
      "image 164/843 c:\\Users\\user\\myproject\\AI03-Project-1\\data\\raw\\test_images\\125.png: 640x512 1  800mg, 1 (), 1  20mg, 20.8ms\n",
      "image 165/843 c:\\Users\\user\\myproject\\AI03-Project-1\\data\\raw\\test_images\\1250.png: 640x512 1  10mg/, 22.7ms\n",
      "image 166/843 c:\\Users\\user\\myproject\\AI03-Project-1\\data\\raw\\test_images\\1251.png: 640x512 1  10mg/, 18.6ms\n",
      "image 167/843 c:\\Users\\user\\myproject\\AI03-Project-1\\data\\raw\\test_images\\1252.png: 640x512 1  2.5/850mg, 15.9ms\n",
      "image 168/843 c:\\Users\\user\\myproject\\AI03-Project-1\\data\\raw\\test_images\\1254.png: 640x512 1  2.5/850mg, 23.2ms\n",
      "image 169/843 c:\\Users\\user\\myproject\\AI03-Project-1\\data\\raw\\test_images\\1256.png: 640x512 1  500/20mg, 31.0ms\n",
      "image 170/843 c:\\Users\\user\\myproject\\AI03-Project-1\\data\\raw\\test_images\\126.png: 640x512 1  800mg, 1 (), 1  20mg, 36.3ms\n",
      "image 171/843 c:\\Users\\user\\myproject\\AI03-Project-1\\data\\raw\\test_images\\1261.png: 640x512 (no detections), 16.3ms\n",
      "image 172/843 c:\\Users\\user\\myproject\\AI03-Project-1\\data\\raw\\test_images\\1262.png: 640x512 1  10/40mg, 15.9ms\n",
      "image 173/843 c:\\Users\\user\\myproject\\AI03-Project-1\\data\\raw\\test_images\\1263.png: 640x512 1  10/40mg, 16.2ms\n",
      "image 174/843 c:\\Users\\user\\myproject\\AI03-Project-1\\data\\raw\\test_images\\1264.png: 640x512 1 (), 1 10/5, 19.0ms\n",
      "image 175/843 c:\\Users\\user\\myproject\\AI03-Project-1\\data\\raw\\test_images\\1265.png: 640x512 1 (), 1 10/5, 18.3ms\n",
      "image 176/843 c:\\Users\\user\\myproject\\AI03-Project-1\\data\\raw\\test_images\\1266.png: 640x512 1 (), 1 10/5, 31.1ms\n",
      "image 177/843 c:\\Users\\user\\myproject\\AI03-Project-1\\data\\raw\\test_images\\1269.png: 640x512 1 ()(), 1 10/5, 24.6ms\n",
      "image 178/843 c:\\Users\\user\\myproject\\AI03-Project-1\\data\\raw\\test_images\\127.png: 640x512 1  618.6mg/, 1  300mg, 28.9ms\n",
      "image 179/843 c:\\Users\\user\\myproject\\AI03-Project-1\\data\\raw\\test_images\\1270.png: 640x512 1 , 25.9ms\n",
      "image 180/843 c:\\Users\\user\\myproject\\AI03-Project-1\\data\\raw\\test_images\\1272.png: 640x512 1 , 31.9ms\n",
      "image 181/843 c:\\Users\\user\\myproject\\AI03-Project-1\\data\\raw\\test_images\\1273.png: 640x512 1  31.5mg/PTP, 21.3ms\n",
      "image 182/843 c:\\Users\\user\\myproject\\AI03-Project-1\\data\\raw\\test_images\\1274.png: 640x512 1  618.6mg/, 1  31.5mg/PTP, 16.1ms\n",
      "image 183/843 c:\\Users\\user\\myproject\\AI03-Project-1\\data\\raw\\test_images\\1278.png: 640x512 1  10/20mg, 23.3ms\n",
      "image 184/843 c:\\Users\\user\\myproject\\AI03-Project-1\\data\\raw\\test_images\\1279.png: 640x512 1  20mg, 1  500/20mg, 18.9ms\n",
      "image 185/843 c:\\Users\\user\\myproject\\AI03-Project-1\\data\\raw\\test_images\\128.png: 640x512 1  618.6mg/, 1  300mg, 27.1ms\n",
      "image 186/843 c:\\Users\\user\\myproject\\AI03-Project-1\\data\\raw\\test_images\\1280.png: 640x512 1  500/20mg, 22.2ms\n",
      "image 187/843 c:\\Users\\user\\myproject\\AI03-Project-1\\data\\raw\\test_images\\1282.png: 640x512 1 8 650mg, 1  60mg/, 19.3ms\n",
      "image 188/843 c:\\Users\\user\\myproject\\AI03-Project-1\\data\\raw\\test_images\\1284.png: 640x512 1 8 650mg, 1  60mg/, 17.9ms\n",
      "image 189/843 c:\\Users\\user\\myproject\\AI03-Project-1\\data\\raw\\test_images\\129.png: 640x512 1  618.6mg/, 1  300mg, 25.0ms\n",
      "image 190/843 c:\\Users\\user\\myproject\\AI03-Project-1\\data\\raw\\test_images\\1290.png: 640x512 1  500/20mg, 31.6ms\n",
      "image 191/843 c:\\Users\\user\\myproject\\AI03-Project-1\\data\\raw\\test_images\\1293.png: 640x512 1  2.5/850mg, 28.2ms\n",
      "image 192/843 c:\\Users\\user\\myproject\\AI03-Project-1\\data\\raw\\test_images\\1294.png: 640x512 1  50/1000mg, 1  10/40mg, 20.3ms\n",
      "image 193/843 c:\\Users\\user\\myproject\\AI03-Project-1\\data\\raw\\test_images\\1295.png: 640x512 1  10/40mg, 1  10/40mg, 20.6ms\n",
      "image 194/843 c:\\Users\\user\\myproject\\AI03-Project-1\\data\\raw\\test_images\\1296.png: 640x512 1  10/40mg, 1  50/1000mg, 1  10/40mg, 30.9ms\n",
      "image 195/843 c:\\Users\\user\\myproject\\AI03-Project-1\\data\\raw\\test_images\\1297.png: 640x512 1  2.5mg, 1  100mg, 23.3ms\n",
      "image 196/843 c:\\Users\\user\\myproject\\AI03-Project-1\\data\\raw\\test_images\\1298.png: 640x512 1  100mg, 19.0ms\n",
      "image 197/843 c:\\Users\\user\\myproject\\AI03-Project-1\\data\\raw\\test_images\\13.png: 640x512 1  20mg, 1 (), 20.1ms\n",
      "image 198/843 c:\\Users\\user\\myproject\\AI03-Project-1\\data\\raw\\test_images\\130.png: 640x512 1  60mg, 1  2.5/850mg, 1 10/5, 31.7ms\n",
      "image 199/843 c:\\Users\\user\\myproject\\AI03-Project-1\\data\\raw\\test_images\\1300.png: 640x512 1  10/40mg, 1  100/1000mg, 19.1ms\n",
      "image 200/843 c:\\Users\\user\\myproject\\AI03-Project-1\\data\\raw\\test_images\\1302.png: 640x512 1  10/40mg, 1  100/1000mg, 20.7ms\n",
      "image 201/843 c:\\Users\\user\\myproject\\AI03-Project-1\\data\\raw\\test_images\\1305.png: 640x512 1  800mg, 1 , 18.6ms\n",
      "image 202/843 c:\\Users\\user\\myproject\\AI03-Project-1\\data\\raw\\test_images\\1309.png: 640x512 1 (), 1  4mg, 25.9ms\n",
      "image 203/843 c:\\Users\\user\\myproject\\AI03-Project-1\\data\\raw\\test_images\\1311.png: 640x512 1  40/5mg, 1 (), 1  4mg, 31.9ms\n",
      "image 204/843 c:\\Users\\user\\myproject\\AI03-Project-1\\data\\raw\\test_images\\1312.png: 640x512 1  90mg/, 21.8ms\n",
      "image 205/843 c:\\Users\\user\\myproject\\AI03-Project-1\\data\\raw\\test_images\\1315.png: 640x512 1  400mg, 22.4ms\n",
      "image 206/843 c:\\Users\\user\\myproject\\AI03-Project-1\\data\\raw\\test_images\\1316.png: 640x512 1  400mg, 29.1ms\n",
      "image 207/843 c:\\Users\\user\\myproject\\AI03-Project-1\\data\\raw\\test_images\\132.png: 640x512 1 10/5, 31.0ms\n",
      "image 208/843 c:\\Users\\user\\myproject\\AI03-Project-1\\data\\raw\\test_images\\1322.png: 640x512 1  618.6mg/, 22.3ms\n",
      "image 209/843 c:\\Users\\user\\myproject\\AI03-Project-1\\data\\raw\\test_images\\1323.png: 640x512 1  618.6mg/, 20.6ms\n",
      "image 210/843 c:\\Users\\user\\myproject\\AI03-Project-1\\data\\raw\\test_images\\1326.png: 640x512 1 ()\\xa0, 1  75mg, 19.1ms\n",
      "image 211/843 c:\\Users\\user\\myproject\\AI03-Project-1\\data\\raw\\test_images\\1327.png: 640x512 1 , 1  50mg, 16.9ms\n",
      "image 212/843 c:\\Users\\user\\myproject\\AI03-Project-1\\data\\raw\\test_images\\1328.png: 640x512 1 , 1  50mg, 33.0ms\n",
      "image 213/843 c:\\Users\\user\\myproject\\AI03-Project-1\\data\\raw\\test_images\\1329.png: 640x512 1 , 27.3ms\n",
      "image 214/843 c:\\Users\\user\\myproject\\AI03-Project-1\\data\\raw\\test_images\\1330.png: 640x512 1  10/40mg, 23.5ms\n",
      "image 215/843 c:\\Users\\user\\myproject\\AI03-Project-1\\data\\raw\\test_images\\1331.png: 640x512 1  10/40mg, 20.1ms\n",
      "image 216/843 c:\\Users\\user\\myproject\\AI03-Project-1\\data\\raw\\test_images\\1332.png: 640x512 1  10/40mg, 24.2ms\n",
      "image 217/843 c:\\Users\\user\\myproject\\AI03-Project-1\\data\\raw\\test_images\\1333.png: 640x512 1 10/5, 19.6ms\n",
      "image 218/843 c:\\Users\\user\\myproject\\AI03-Project-1\\data\\raw\\test_images\\1337.png: 640x512 1 , 25.1ms\n",
      "image 219/843 c:\\Users\\user\\myproject\\AI03-Project-1\\data\\raw\\test_images\\134.png: 640x512 1  10/40mg, 1  10/40mg, 19.6ms\n",
      "image 220/843 c:\\Users\\user\\myproject\\AI03-Project-1\\data\\raw\\test_images\\1340.png: 640x512 1  500/20mg, 20.9ms\n",
      "image 221/843 c:\\Users\\user\\myproject\\AI03-Project-1\\data\\raw\\test_images\\1345.png: 640x512 1  100/1000mg, 27.5ms\n",
      "image 222/843 c:\\Users\\user\\myproject\\AI03-Project-1\\data\\raw\\test_images\\1347.png: 640x512 1  100/1000mg, 18.9ms\n",
      "image 223/843 c:\\Users\\user\\myproject\\AI03-Project-1\\data\\raw\\test_images\\1348.png: 640x512 1  20mg, 1 (), 18.1ms\n",
      "image 224/843 c:\\Users\\user\\myproject\\AI03-Project-1\\data\\raw\\test_images\\135.png: 640x512 1  10/40mg, 1  100/1000mg, 1  10/40mg, 17.6ms\n",
      "image 225/843 c:\\Users\\user\\myproject\\AI03-Project-1\\data\\raw\\test_images\\1350.png: 640x512 1  20mg, 1 (), 29.7ms\n",
      "image 226/843 c:\\Users\\user\\myproject\\AI03-Project-1\\data\\raw\\test_images\\1353.png: 640x512 1  50/1000mg, 25.2ms\n",
      "image 227/843 c:\\Users\\user\\myproject\\AI03-Project-1\\data\\raw\\test_images\\1354.png: 640x512 1 10/5, 24.9ms\n",
      "image 228/843 c:\\Users\\user\\myproject\\AI03-Project-1\\data\\raw\\test_images\\1355.png: 640x512 1  2.5/850mg, 1 10/5, 34.5ms\n",
      "image 229/843 c:\\Users\\user\\myproject\\AI03-Project-1\\data\\raw\\test_images\\1357.png: 640x512 1  100mg, 27.2ms\n",
      "image 230/843 c:\\Users\\user\\myproject\\AI03-Project-1\\data\\raw\\test_images\\1358.png: 640x512 1  100mg, 21.3ms\n",
      "image 231/843 c:\\Users\\user\\myproject\\AI03-Project-1\\data\\raw\\test_images\\1359.png: 640x512 (no detections), 20.3ms\n",
      "image 232/843 c:\\Users\\user\\myproject\\AI03-Project-1\\data\\raw\\test_images\\136.png: 640x512 1  50mg, 18.5ms\n",
      "image 233/843 c:\\Users\\user\\myproject\\AI03-Project-1\\data\\raw\\test_images\\1361.png: 640x512 1  4mg, 25.4ms\n",
      "image 234/843 c:\\Users\\user\\myproject\\AI03-Project-1\\data\\raw\\test_images\\1363.png: 640x512 1 (), 29.2ms\n",
      "image 235/843 c:\\Users\\user\\myproject\\AI03-Project-1\\data\\raw\\test_images\\1366.png: 640x512 1  10/40mg, 1  4mg, 26.9ms\n",
      "image 236/843 c:\\Users\\user\\myproject\\AI03-Project-1\\data\\raw\\test_images\\1367.png: 640x512 1  10/40mg, 1  4mg, 18.6ms\n",
      "image 237/843 c:\\Users\\user\\myproject\\AI03-Project-1\\data\\raw\\test_images\\1369.png: 640x512 1  50mg, 20.7ms\n",
      "image 238/843 c:\\Users\\user\\myproject\\AI03-Project-1\\data\\raw\\test_images\\1371.png: 640x512 1  50mg, 21.3ms\n",
      "image 239/843 c:\\Users\\user\\myproject\\AI03-Project-1\\data\\raw\\test_images\\1372.png: 640x512 1  90mg/, 27.6ms\n",
      "image 240/843 c:\\Users\\user\\myproject\\AI03-Project-1\\data\\raw\\test_images\\1376.png: 640x512 1  20mg, 27.6ms\n",
      "image 241/843 c:\\Users\\user\\myproject\\AI03-Project-1\\data\\raw\\test_images\\1377.png: 640x512 1  800mg, 1  20mg, 23.9ms\n",
      "image 242/843 c:\\Users\\user\\myproject\\AI03-Project-1\\data\\raw\\test_images\\1378.png: 640x512 1  10/40mg, 33.8ms\n",
      "image 243/843 c:\\Users\\user\\myproject\\AI03-Project-1\\data\\raw\\test_images\\1379.png: 640x512 1  10/40mg, 26.1ms\n",
      "image 244/843 c:\\Users\\user\\myproject\\AI03-Project-1\\data\\raw\\test_images\\1381.png: 640x512 1  10mg, 1 , 19.8ms\n",
      "image 245/843 c:\\Users\\user\\myproject\\AI03-Project-1\\data\\raw\\test_images\\1384.png: 640x512 1  50/850mg, 16.3ms\n",
      "image 246/843 c:\\Users\\user\\myproject\\AI03-Project-1\\data\\raw\\test_images\\1385.png: 640x512 1  50/850mg, 31.2ms\n",
      "image 247/843 c:\\Users\\user\\myproject\\AI03-Project-1\\data\\raw\\test_images\\1386.png: 640x512 1  50/850mg, 1  60mg, 20.7ms\n",
      "image 248/843 c:\\Users\\user\\myproject\\AI03-Project-1\\data\\raw\\test_images\\1387.png: 640x512 1  5/160mg, 23.9ms\n",
      "image 249/843 c:\\Users\\user\\myproject\\AI03-Project-1\\data\\raw\\test_images\\139.png: 640x512 1  100/1000mg, 1  10/40mg, 24.3ms\n",
      "image 250/843 c:\\Users\\user\\myproject\\AI03-Project-1\\data\\raw\\test_images\\1390.png: 640x512 1  90mg/, 1  31.5mg/PTP, 30.6ms\n",
      "image 251/843 c:\\Users\\user\\myproject\\AI03-Project-1\\data\\raw\\test_images\\1392.png: 640x512 1  90mg/, 1  31.5mg/PTP, 16.4ms\n",
      "image 252/843 c:\\Users\\user\\myproject\\AI03-Project-1\\data\\raw\\test_images\\1393.png: 640x512 1  60mg, 20.2ms\n",
      "image 253/843 c:\\Users\\user\\myproject\\AI03-Project-1\\data\\raw\\test_images\\1395.png: 640x512 1  50mg, 19.7ms\n",
      "image 254/843 c:\\Users\\user\\myproject\\AI03-Project-1\\data\\raw\\test_images\\1396.png: 640x512 1 8 650mg, 1  60mg/, 21.9ms\n",
      "image 255/843 c:\\Users\\user\\myproject\\AI03-Project-1\\data\\raw\\test_images\\140.png: 640x512 1  10/40mg, 30.1ms\n",
      "image 256/843 c:\\Users\\user\\myproject\\AI03-Project-1\\data\\raw\\test_images\\1401.png: 640x512 1  4mg, 19.7ms\n",
      "image 257/843 c:\\Users\\user\\myproject\\AI03-Project-1\\data\\raw\\test_images\\1402.png: 640x512 1  75mg, 1 (), 24.0ms\n",
      "image 258/843 c:\\Users\\user\\myproject\\AI03-Project-1\\data\\raw\\test_images\\1404.png: 640x512 1  75mg, 1 (), 21.6ms\n",
      "image 259/843 c:\\Users\\user\\myproject\\AI03-Project-1\\data\\raw\\test_images\\1407.png: 640x512 1 (), 1  10/20mg, 31.6ms\n",
      "image 260/843 c:\\Users\\user\\myproject\\AI03-Project-1\\data\\raw\\test_images\\1408.png: 640x512 1 (), 1  20mg, 24.7ms\n",
      "image 261/843 c:\\Users\\user\\myproject\\AI03-Project-1\\data\\raw\\test_images\\1411.png: 640x512 1  2.5/850mg, 1 10/5, 35.6ms\n",
      "image 262/843 c:\\Users\\user\\myproject\\AI03-Project-1\\data\\raw\\test_images\\1413.png: 640x512 1  10/40mg, 1 10/5, 19.4ms\n",
      "image 263/843 c:\\Users\\user\\myproject\\AI03-Project-1\\data\\raw\\test_images\\1414.png: 640x512 1 , 21.1ms\n",
      "image 264/843 c:\\Users\\user\\myproject\\AI03-Project-1\\data\\raw\\test_images\\1418.png: 640x512 1  500/20mg, 35.7ms\n",
      "image 265/843 c:\\Users\\user\\myproject\\AI03-Project-1\\data\\raw\\test_images\\142.png: 640x512 1 (), 1  50mg, 33.1ms\n",
      "image 266/843 c:\\Users\\user\\myproject\\AI03-Project-1\\data\\raw\\test_images\\1420.png: 640x512 1  25mg, 23.0ms\n",
      "image 267/843 c:\\Users\\user\\myproject\\AI03-Project-1\\data\\raw\\test_images\\1421.png: 640x512 1  25mg, 16.3ms\n",
      "image 268/843 c:\\Users\\user\\myproject\\AI03-Project-1\\data\\raw\\test_images\\1424.png: 640x512 1  10/40mg, 18.8ms\n",
      "image 269/843 c:\\Users\\user\\myproject\\AI03-Project-1\\data\\raw\\test_images\\1425.png: 640x512 1  10/40mg, 22.9ms\n",
      "image 270/843 c:\\Users\\user\\myproject\\AI03-Project-1\\data\\raw\\test_images\\1429.png: 640x512 1  500/20mg, 27.0ms\n",
      "image 271/843 c:\\Users\\user\\myproject\\AI03-Project-1\\data\\raw\\test_images\\143.png: 640x512 1  100mg, 1 (), 1  50mg, 18.6ms\n",
      "image 272/843 c:\\Users\\user\\myproject\\AI03-Project-1\\data\\raw\\test_images\\1431.png: 640x512 1  500/20mg, 20.2ms\n",
      "image 273/843 c:\\Users\\user\\myproject\\AI03-Project-1\\data\\raw\\test_images\\1433.png: 640x512 1 , 1  10/20mg, 28.9ms\n",
      "image 274/843 c:\\Users\\user\\myproject\\AI03-Project-1\\data\\raw\\test_images\\1435.png: 640x512 1 ()(), 1  75mg, 26.4ms\n",
      "image 275/843 c:\\Users\\user\\myproject\\AI03-Project-1\\data\\raw\\test_images\\1436.png: 640x512 1 ()(), 1  75mg, 16.9ms\n",
      "image 276/843 c:\\Users\\user\\myproject\\AI03-Project-1\\data\\raw\\test_images\\1438.png: 640x512 1  100mg, 16.8ms\n",
      "image 277/843 c:\\Users\\user\\myproject\\AI03-Project-1\\data\\raw\\test_images\\1439.png: 640x512 1  100mg, 21.9ms\n",
      "image 278/843 c:\\Users\\user\\myproject\\AI03-Project-1\\data\\raw\\test_images\\1441.png: 640x512 1  50mg, 1  40/5mg, 1 10/5, 31.1ms\n",
      "image 279/843 c:\\Users\\user\\myproject\\AI03-Project-1\\data\\raw\\test_images\\1442.png: 640x512 1 10/5, 19.5ms\n",
      "image 280/843 c:\\Users\\user\\myproject\\AI03-Project-1\\data\\raw\\test_images\\1444.png: 640x512 1  100mg/, 19.9ms\n",
      "image 281/843 c:\\Users\\user\\myproject\\AI03-Project-1\\data\\raw\\test_images\\1446.png: 640x512 1  100mg/, 25.9ms\n",
      "image 282/843 c:\\Users\\user\\myproject\\AI03-Project-1\\data\\raw\\test_images\\1447.png: 640x512 1 , 25.0ms\n",
      "image 283/843 c:\\Users\\user\\myproject\\AI03-Project-1\\data\\raw\\test_images\\1449.png: 640x512 1 , 20.5ms\n",
      "image 284/843 c:\\Users\\user\\myproject\\AI03-Project-1\\data\\raw\\test_images\\1450.png: 640x512 1  31.5mg/PTP, 23.2ms\n",
      "image 285/843 c:\\Users\\user\\myproject\\AI03-Project-1\\data\\raw\\test_images\\1452.png: 640x512 1  31.5mg/PTP, 21.5ms\n",
      "image 286/843 c:\\Users\\user\\myproject\\AI03-Project-1\\data\\raw\\test_images\\1453.png: 640x512 1 (-3-90), 1 ()\\xa0, 32.6ms\n",
      "image 287/843 c:\\Users\\user\\myproject\\AI03-Project-1\\data\\raw\\test_images\\1455.png: 640x512 1 (-3-90), 1 ()\\xa0, 32.9ms\n",
      "image 288/843 c:\\Users\\user\\myproject\\AI03-Project-1\\data\\raw\\test_images\\1458.png: 640x512 1  100mg/, 1  31.5mg/PTP, 20.6ms\n",
      "image 289/843 c:\\Users\\user\\myproject\\AI03-Project-1\\data\\raw\\test_images\\1459.png: 640x512 1  90mg/, 19.7ms\n",
      "image 290/843 c:\\Users\\user\\myproject\\AI03-Project-1\\data\\raw\\test_images\\146.png: 640x512 1  100/1000mg, 16.2ms\n",
      "image 291/843 c:\\Users\\user\\myproject\\AI03-Project-1\\data\\raw\\test_images\\1460.png: 640x512 1  300mg/PTP, 1  90mg/, 26.7ms\n",
      "image 292/843 c:\\Users\\user\\myproject\\AI03-Project-1\\data\\raw\\test_images\\1461.png: 640x512 1  90mg/, 30.7ms\n",
      "image 293/843 c:\\Users\\user\\myproject\\AI03-Project-1\\data\\raw\\test_images\\1462.png: 640x512 1  50/850mg, 1  10/40mg, 21.2ms\n",
      "image 294/843 c:\\Users\\user\\myproject\\AI03-Project-1\\data\\raw\\test_images\\1463.png: 640x512 1  50/850mg, 1  10/40mg, 21.5ms\n",
      "image 295/843 c:\\Users\\user\\myproject\\AI03-Project-1\\data\\raw\\test_images\\1464.png: 640x512 1  50/850mg, 1  10/40mg, 16.3ms\n",
      "image 296/843 c:\\Users\\user\\myproject\\AI03-Project-1\\data\\raw\\test_images\\1466.png: 640x512 1  10/40mg, 26.6ms\n",
      "image 297/843 c:\\Users\\user\\myproject\\AI03-Project-1\\data\\raw\\test_images\\1473.png: 640x512 1  800mg, 1 (), 19.8ms\n",
      "image 298/843 c:\\Users\\user\\myproject\\AI03-Project-1\\data\\raw\\test_images\\1474.png: 640x512 1  50/1000mg, 1 10/5, 24.7ms\n",
      "image 299/843 c:\\Users\\user\\myproject\\AI03-Project-1\\data\\raw\\test_images\\1476.png: 640x512 1  40/5mg, 1  50/1000mg, 1 10/5, 18.1ms\n",
      "image 300/843 c:\\Users\\user\\myproject\\AI03-Project-1\\data\\raw\\test_images\\1477.png: 640x512 1 ()\\xa0, 1 10/5, 27.9ms\n",
      "image 301/843 c:\\Users\\user\\myproject\\AI03-Project-1\\data\\raw\\test_images\\148.png: 640x512 1  400mg, 1  75mg, 29.9ms\n",
      "image 302/843 c:\\Users\\user\\myproject\\AI03-Project-1\\data\\raw\\test_images\\1480.png: 640x512 1  100mg, 20.7ms\n",
      "image 303/843 c:\\Users\\user\\myproject\\AI03-Project-1\\data\\raw\\test_images\\1483.png: 640x512 1 (), 1  10/40mg, 15.6ms\n",
      "image 304/843 c:\\Users\\user\\myproject\\AI03-Project-1\\data\\raw\\test_images\\1485.png: 640x512 1 (), 1  10/40mg, 16.6ms\n",
      "image 305/843 c:\\Users\\user\\myproject\\AI03-Project-1\\data\\raw\\test_images\\1488.png: 640x512 1 (), 25.7ms\n",
      "image 306/843 c:\\Users\\user\\myproject\\AI03-Project-1\\data\\raw\\test_images\\1489.png: 640x512 1 , 1  75mg, 32.8ms\n",
      "image 307/843 c:\\Users\\user\\myproject\\AI03-Project-1\\data\\raw\\test_images\\149.png: 640x512 1  400mg, 1  75mg, 17.8ms\n",
      "image 308/843 c:\\Users\\user\\myproject\\AI03-Project-1\\data\\raw\\test_images\\1492.png: 640x512 1  10mg, 23.5ms\n",
      "image 309/843 c:\\Users\\user\\myproject\\AI03-Project-1\\data\\raw\\test_images\\1493.png: 640x512 1  150mg, 1  10mg, 21.7ms\n",
      "image 310/843 c:\\Users\\user\\myproject\\AI03-Project-1\\data\\raw\\test_images\\1497.png: 640x512 1  100/1000mg, 1  50/1000mg, 20.3ms\n",
      "image 311/843 c:\\Users\\user\\myproject\\AI03-Project-1\\data\\raw\\test_images\\15.png: 640x512 1 (), 24.6ms\n",
      "image 312/843 c:\\Users\\user\\myproject\\AI03-Project-1\\data\\raw\\test_images\\150.png: 640x512 1  400mg, 1  75mg, 23.0ms\n",
      "image 313/843 c:\\Users\\user\\myproject\\AI03-Project-1\\data\\raw\\test_images\\1500.png: 640x512 1  10/20mg, 36.6ms\n",
      "image 314/843 c:\\Users\\user\\myproject\\AI03-Project-1\\data\\raw\\test_images\\151.png: 640x512 1  20mg, 31.1ms\n",
      "image 315/843 c:\\Users\\user\\myproject\\AI03-Project-1\\data\\raw\\test_images\\152.png: 640x512 1 , 1  20mg, 20.2ms\n",
      "image 316/843 c:\\Users\\user\\myproject\\AI03-Project-1\\data\\raw\\test_images\\153.png: 640x512 1  20mg, 20.4ms\n",
      "image 317/843 c:\\Users\\user\\myproject\\AI03-Project-1\\data\\raw\\test_images\\154.png: 640x512 1  100mg/, 17.4ms\n",
      "image 318/843 c:\\Users\\user\\myproject\\AI03-Project-1\\data\\raw\\test_images\\155.png: 640x512 1  100mg/, 27.0ms\n",
      "image 319/843 c:\\Users\\user\\myproject\\AI03-Project-1\\data\\raw\\test_images\\156.png: 640x512 1  100mg/, 23.0ms\n",
      "image 320/843 c:\\Users\\user\\myproject\\AI03-Project-1\\data\\raw\\test_images\\157.png: 640x512 1  50/850mg, 19.3ms\n",
      "image 321/843 c:\\Users\\user\\myproject\\AI03-Project-1\\data\\raw\\test_images\\159.png: 640x512 1  50/850mg, 19.8ms\n",
      "image 322/843 c:\\Users\\user\\myproject\\AI03-Project-1\\data\\raw\\test_images\\160.png: 640x512 1  25mg, 25.3ms\n",
      "image 323/843 c:\\Users\\user\\myproject\\AI03-Project-1\\data\\raw\\test_images\\162.png: 640x512 1  25mg, 22.5ms\n",
      "image 324/843 c:\\Users\\user\\myproject\\AI03-Project-1\\data\\raw\\test_images\\163.png: 640x512 1 (), 21.5ms\n",
      "image 325/843 c:\\Users\\user\\myproject\\AI03-Project-1\\data\\raw\\test_images\\164.png: 640x512 1  60mg, 1 (), 16.1ms\n",
      "image 326/843 c:\\Users\\user\\myproject\\AI03-Project-1\\data\\raw\\test_images\\165.png: 640x512 1 (), 19.1ms\n",
      "image 327/843 c:\\Users\\user\\myproject\\AI03-Project-1\\data\\raw\\test_images\\17.png: 640x512 1  10/40mg, 1  25mg, 17.5ms\n",
      "image 328/843 c:\\Users\\user\\myproject\\AI03-Project-1\\data\\raw\\test_images\\170.png: 640x512 1  618.6mg/, 27.2ms\n",
      "image 329/843 c:\\Users\\user\\myproject\\AI03-Project-1\\data\\raw\\test_images\\172.png: 640x512 1  50/850mg, 1  10/40mg, 1  4mg, 20.3ms\n",
      "image 330/843 c:\\Users\\user\\myproject\\AI03-Project-1\\data\\raw\\test_images\\173.png: 640x512 1  50/850mg, 1  10/40mg, 1  4mg, 20.4ms\n",
      "image 331/843 c:\\Users\\user\\myproject\\AI03-Project-1\\data\\raw\\test_images\\174.png: 640x512 1  50/850mg, 1  10/40mg, 1  4mg, 16.7ms\n",
      "image 332/843 c:\\Users\\user\\myproject\\AI03-Project-1\\data\\raw\\test_images\\175.png: 640x512 1  4mg, 1  2.5/850mg, 17.3ms\n",
      "image 333/843 c:\\Users\\user\\myproject\\AI03-Project-1\\data\\raw\\test_images\\176.png: 640x512 1  4mg, 1  2.5/850mg, 27.9ms\n",
      "image 334/843 c:\\Users\\user\\myproject\\AI03-Project-1\\data\\raw\\test_images\\179.png: 640x512 1  50mg, 1  60mg, 19.1ms\n",
      "image 335/843 c:\\Users\\user\\myproject\\AI03-Project-1\\data\\raw\\test_images\\180.png: 640x512 (no detections), 18.3ms\n",
      "image 336/843 c:\\Users\\user\\myproject\\AI03-Project-1\\data\\raw\\test_images\\183.png: 640x512 1  800mg, 19.3ms\n",
      "image 337/843 c:\\Users\\user\\myproject\\AI03-Project-1\\data\\raw\\test_images\\185.png: 640x512 1  100mg, 1  25mg, 21.3ms\n",
      "image 338/843 c:\\Users\\user\\myproject\\AI03-Project-1\\data\\raw\\test_images\\186.png: 640x512 1  100mg, 1  25mg, 27.2ms\n",
      "image 339/843 c:\\Users\\user\\myproject\\AI03-Project-1\\data\\raw\\test_images\\189.png: 640x512 (no detections), 27.7ms\n",
      "image 340/843 c:\\Users\\user\\myproject\\AI03-Project-1\\data\\raw\\test_images\\19.png: 640x512 1  40/5mg, 1 (), 1 10/5, 20.6ms\n",
      "image 341/843 c:\\Users\\user\\myproject\\AI03-Project-1\\data\\raw\\test_images\\191.png: 640x512 1  800mg, 20.6ms\n",
      "image 342/843 c:\\Users\\user\\myproject\\AI03-Project-1\\data\\raw\\test_images\\196.png: 640x512 1  10mg/, 1  300mg, 25.4ms\n",
      "image 343/843 c:\\Users\\user\\myproject\\AI03-Project-1\\data\\raw\\test_images\\197.png: 640x512 1  10mg/, 1  300mg, 29.8ms\n",
      "image 344/843 c:\\Users\\user\\myproject\\AI03-Project-1\\data\\raw\\test_images\\198.png: 640x512 1  300mg, 17.8ms\n",
      "image 345/843 c:\\Users\\user\\myproject\\AI03-Project-1\\data\\raw\\test_images\\199.png: 640x512 1  4mg, 1  2.5/850mg, 19.3ms\n",
      "image 346/843 c:\\Users\\user\\myproject\\AI03-Project-1\\data\\raw\\test_images\\200.png: 640x512 1  60mg, 1  4mg, 1  2.5/850mg, 18.1ms\n",
      "image 347/843 c:\\Users\\user\\myproject\\AI03-Project-1\\data\\raw\\test_images\\202.png: 640x512 (no detections), 15.9ms\n",
      "image 348/843 c:\\Users\\user\\myproject\\AI03-Project-1\\data\\raw\\test_images\\203.png: 640x512 1  50mg, 23.3ms\n",
      "image 349/843 c:\\Users\\user\\myproject\\AI03-Project-1\\data\\raw\\test_images\\204.png: 640x512 1  50mg, 23.7ms\n",
      "image 350/843 c:\\Users\\user\\myproject\\AI03-Project-1\\data\\raw\\test_images\\205.png: 640x512 1  25mg, 24.2ms\n",
      "image 351/843 c:\\Users\\user\\myproject\\AI03-Project-1\\data\\raw\\test_images\\210.png: 640x512 1  4mg, 1 (), 14.7ms\n",
      "image 352/843 c:\\Users\\user\\myproject\\AI03-Project-1\\data\\raw\\test_images\\212.png: 640x512 1  800mg, 1 (), 18.0ms\n",
      "image 353/843 c:\\Users\\user\\myproject\\AI03-Project-1\\data\\raw\\test_images\\213.png: 640x512 1  800mg, 1 (), 16.0ms\n",
      "image 354/843 c:\\Users\\user\\myproject\\AI03-Project-1\\data\\raw\\test_images\\214.png: 640x512 1  20mg, 17.3ms\n",
      "image 355/843 c:\\Users\\user\\myproject\\AI03-Project-1\\data\\raw\\test_images\\215.png: 640x512 1 , 1  20mg, 18.0ms\n",
      "image 356/843 c:\\Users\\user\\myproject\\AI03-Project-1\\data\\raw\\test_images\\217.png: 640x512 1  618.6mg/, 1  300mg/PTP, 18.7ms\n",
      "image 357/843 c:\\Users\\user\\myproject\\AI03-Project-1\\data\\raw\\test_images\\219.png: 640x512 1  618.6mg/, 1  300mg/PTP, 22.5ms\n",
      "image 358/843 c:\\Users\\user\\myproject\\AI03-Project-1\\data\\raw\\test_images\\222.png: 640x512 1  20mg, 1  25mg, 18.1ms\n",
      "image 359/843 c:\\Users\\user\\myproject\\AI03-Project-1\\data\\raw\\test_images\\224.png: 640x512 1  4mg, 1  100/1000mg, 1  50/1000mg, 16.9ms\n",
      "image 360/843 c:\\Users\\user\\myproject\\AI03-Project-1\\data\\raw\\test_images\\225.png: 640x512 1  50/1000mg, 17.7ms\n",
      "image 361/843 c:\\Users\\user\\myproject\\AI03-Project-1\\data\\raw\\test_images\\226.png: 640x512 1  50mg, 16.6ms\n",
      "image 362/843 c:\\Users\\user\\myproject\\AI03-Project-1\\data\\raw\\test_images\\229.png: 640x512 1  100mg/, 20.0ms\n",
      "image 363/843 c:\\Users\\user\\myproject\\AI03-Project-1\\data\\raw\\test_images\\23.png: 640x512 1  50/850mg, 1  10/40mg, 30.4ms\n",
      "image 364/843 c:\\Users\\user\\myproject\\AI03-Project-1\\data\\raw\\test_images\\231.png: 640x512 1  100mg/, 18.1ms\n",
      "image 365/843 c:\\Users\\user\\myproject\\AI03-Project-1\\data\\raw\\test_images\\232.png: 640x512 1  50mg, 1  40/5mg, 1  4mg, 27.5ms\n",
      "image 366/843 c:\\Users\\user\\myproject\\AI03-Project-1\\data\\raw\\test_images\\234.png: 640x512 1  40/5mg, 1  4mg, 38.8ms\n",
      "image 367/843 c:\\Users\\user\\myproject\\AI03-Project-1\\data\\raw\\test_images\\236.png: 640x512 1  10/40mg, 1 (), 1  10/40mg, 18.9ms\n",
      "image 368/843 c:\\Users\\user\\myproject\\AI03-Project-1\\data\\raw\\test_images\\237.png: 640x512 1  10/40mg, 1 (), 1  10/40mg, 24.1ms\n",
      "image 369/843 c:\\Users\\user\\myproject\\AI03-Project-1\\data\\raw\\test_images\\238.png: 640x512 1  20mg, 1 ()\\xa0, 18.0ms\n",
      "image 370/843 c:\\Users\\user\\myproject\\AI03-Project-1\\data\\raw\\test_images\\24.png: 640x512 (no detections), 24.6ms\n",
      "image 371/843 c:\\Users\\user\\myproject\\AI03-Project-1\\data\\raw\\test_images\\241.png: 640x512 1  150mg, 31.6ms\n",
      "image 372/843 c:\\Users\\user\\myproject\\AI03-Project-1\\data\\raw\\test_images\\243.png: 640x512 1  150mg, 1  75mg, 18.8ms\n",
      "image 373/843 c:\\Users\\user\\myproject\\AI03-Project-1\\data\\raw\\test_images\\244.png: 640x512 1  800mg, 1  25mg, 23.3ms\n",
      "image 374/843 c:\\Users\\user\\myproject\\AI03-Project-1\\data\\raw\\test_images\\247.png: 640x512 1  618.6mg/, 1  300mg, 17.4ms\n",
      "image 375/843 c:\\Users\\user\\myproject\\AI03-Project-1\\data\\raw\\test_images\\248.png: 640x512 1  618.6mg/, 1  300mg, 18.8ms\n",
      "image 376/843 c:\\Users\\user\\myproject\\AI03-Project-1\\data\\raw\\test_images\\249.png: 640x512 1  618.6mg/, 1  300mg, 15.6ms\n",
      "image 377/843 c:\\Users\\user\\myproject\\AI03-Project-1\\data\\raw\\test_images\\250.png: 640x512 1 ()\\xa0, 1  4mg, 25.1ms\n",
      "image 378/843 c:\\Users\\user\\myproject\\AI03-Project-1\\data\\raw\\test_images\\251.png: 640x512 1 ()\\xa0, 1  4mg, 25.4ms\n",
      "image 379/843 c:\\Users\\user\\myproject\\AI03-Project-1\\data\\raw\\test_images\\252.png: 640x512 1 ()\\xa0, 1  4mg, 19.9ms\n",
      "image 380/843 c:\\Users\\user\\myproject\\AI03-Project-1\\data\\raw\\test_images\\253.png: 640x512 1  10/40mg, 20.1ms\n",
      "image 381/843 c:\\Users\\user\\myproject\\AI03-Project-1\\data\\raw\\test_images\\256.png: 640x512 1  60mg/, 1  31.5mg/PTP, 20.2ms\n",
      "image 382/843 c:\\Users\\user\\myproject\\AI03-Project-1\\data\\raw\\test_images\\259.png: 640x512 1  25mg, 20.5ms\n",
      "image 383/843 c:\\Users\\user\\myproject\\AI03-Project-1\\data\\raw\\test_images\\262.png: 640x512 1  10/40mg, 1  100/1000mg, 1  50/1000mg, 43.1ms\n",
      "image 384/843 c:\\Users\\user\\myproject\\AI03-Project-1\\data\\raw\\test_images\\264.png: 640x512 1  10/40mg, 1  50/1000mg, 21.4ms\n",
      "image 385/843 c:\\Users\\user\\myproject\\AI03-Project-1\\data\\raw\\test_images\\265.png: 640x512 1  50/850mg, 1  10/40mg, 26.5ms\n",
      "image 386/843 c:\\Users\\user\\myproject\\AI03-Project-1\\data\\raw\\test_images\\266.png: 640x512 1  50/850mg, 1  10/40mg, 27.2ms\n",
      "image 387/843 c:\\Users\\user\\myproject\\AI03-Project-1\\data\\raw\\test_images\\27.png: 640x512 1  100mg/, 1  31.5mg/PTP, 16.4ms\n",
      "image 388/843 c:\\Users\\user\\myproject\\AI03-Project-1\\data\\raw\\test_images\\271.png: 640x512 1  10/40mg, 16.8ms\n",
      "image 389/843 c:\\Users\\user\\myproject\\AI03-Project-1\\data\\raw\\test_images\\273.png: 640x512 1  10/40mg, 24.6ms\n",
      "image 390/843 c:\\Users\\user\\myproject\\AI03-Project-1\\data\\raw\\test_images\\274.png: 640x512 1 , 1  10mg, 19.5ms\n",
      "image 391/843 c:\\Users\\user\\myproject\\AI03-Project-1\\data\\raw\\test_images\\275.png: 640x512 1 , 1  10mg, 14.7ms\n",
      "image 392/843 c:\\Users\\user\\myproject\\AI03-Project-1\\data\\raw\\test_images\\277.png: 640x512 1  2.5/850mg, 1 10/5, 19.1ms\n",
      "image 393/843 c:\\Users\\user\\myproject\\AI03-Project-1\\data\\raw\\test_images\\278.png: 640x512 1 10/5, 17.2ms\n",
      "image 394/843 c:\\Users\\user\\myproject\\AI03-Project-1\\data\\raw\\test_images\\28.png: 640x512 1  10/40mg, 17.2ms\n",
      "image 395/843 c:\\Users\\user\\myproject\\AI03-Project-1\\data\\raw\\test_images\\280.png: 640x512 1 (), 1  20mg, 15.7ms\n",
      "image 396/843 c:\\Users\\user\\myproject\\AI03-Project-1\\data\\raw\\test_images\\286.png: 640x512 1  2.5/850mg, 13.9ms\n",
      "image 397/843 c:\\Users\\user\\myproject\\AI03-Project-1\\data\\raw\\test_images\\287.png: 640x512 1  60mg, 1  2.5/850mg, 15.9ms\n",
      "image 398/843 c:\\Users\\user\\myproject\\AI03-Project-1\\data\\raw\\test_images\\288.png: 640x512 1  2.5/850mg, 22.8ms\n",
      "image 399/843 c:\\Users\\user\\myproject\\AI03-Project-1\\data\\raw\\test_images\\289.png: 640x512 1  31.5mg/PTP, 16.2ms\n",
      "image 400/843 c:\\Users\\user\\myproject\\AI03-Project-1\\data\\raw\\test_images\\29.png: 640x512 1  10/40mg, 21.6ms\n",
      "image 401/843 c:\\Users\\user\\myproject\\AI03-Project-1\\data\\raw\\test_images\\291.png: 640x512 1  31.5mg/PTP, 18.2ms\n",
      "image 402/843 c:\\Users\\user\\myproject\\AI03-Project-1\\data\\raw\\test_images\\292.png: 640x512 1  10mg/, 1  31.5mg/PTP, 15.0ms\n",
      "image 403/843 c:\\Users\\user\\myproject\\AI03-Project-1\\data\\raw\\test_images\\295.png: 640x512 1 , 17.7ms\n",
      "image 404/843 c:\\Users\\user\\myproject\\AI03-Project-1\\data\\raw\\test_images\\298.png: 640x512 1  500/20mg, 1  20mg, 29.7ms\n",
      "image 405/843 c:\\Users\\user\\myproject\\AI03-Project-1\\data\\raw\\test_images\\299.png: 640x512 1  500/20mg, 1  20mg, 20.9ms\n",
      "image 406/843 c:\\Users\\user\\myproject\\AI03-Project-1\\data\\raw\\test_images\\3.png: 640x512 1  10mg, 1 , 26.8ms\n",
      "image 407/843 c:\\Users\\user\\myproject\\AI03-Project-1\\data\\raw\\test_images\\302.png: 640x512 1  400mg, 1 10/5, 17.9ms\n",
      "image 408/843 c:\\Users\\user\\myproject\\AI03-Project-1\\data\\raw\\test_images\\304.png: 640x512 1  90mg/, 13.6ms\n",
      "image 409/843 c:\\Users\\user\\myproject\\AI03-Project-1\\data\\raw\\test_images\\308.png: 640x512 1 10/5, 1  25mg, 13.3ms\n",
      "image 410/843 c:\\Users\\user\\myproject\\AI03-Project-1\\data\\raw\\test_images\\31.png: 640x512 1  800mg, 13.5ms\n",
      "image 411/843 c:\\Users\\user\\myproject\\AI03-Project-1\\data\\raw\\test_images\\310.png: 640x512 (no detections), 15.9ms\n",
      "image 412/843 c:\\Users\\user\\myproject\\AI03-Project-1\\data\\raw\\test_images\\313.png: 640x512 1  50/1000mg, 20.5ms\n",
      "image 413/843 c:\\Users\\user\\myproject\\AI03-Project-1\\data\\raw\\test_images\\315.png: 640x512 1  50/1000mg, 13.4ms\n",
      "image 414/843 c:\\Users\\user\\myproject\\AI03-Project-1\\data\\raw\\test_images\\316.png: 640x512 1 , 18.5ms\n",
      "image 415/843 c:\\Users\\user\\myproject\\AI03-Project-1\\data\\raw\\test_images\\317.png: 640x512 1 , 28.8ms\n",
      "image 416/843 c:\\Users\\user\\myproject\\AI03-Project-1\\data\\raw\\test_images\\32.png: 640x512 1  800mg, 14.4ms\n",
      "image 417/843 c:\\Users\\user\\myproject\\AI03-Project-1\\data\\raw\\test_images\\320.png: 640x512 1 (), 1  10/40mg, 13.7ms\n",
      "image 418/843 c:\\Users\\user\\myproject\\AI03-Project-1\\data\\raw\\test_images\\323.png: 640x512 1  10/40mg, 1 10/5, 15.3ms\n",
      "image 419/843 c:\\Users\\user\\myproject\\AI03-Project-1\\data\\raw\\test_images\\324.png: 640x512 1 10/5, 13.9ms\n",
      "image 420/843 c:\\Users\\user\\myproject\\AI03-Project-1\\data\\raw\\test_images\\325.png: 640x512 1  60mg, 1  100/1000mg, 13.8ms\n",
      "image 421/843 c:\\Users\\user\\myproject\\AI03-Project-1\\data\\raw\\test_images\\327.png: 640x512 1  100/1000mg, 25.1ms\n",
      "image 422/843 c:\\Users\\user\\myproject\\AI03-Project-1\\data\\raw\\test_images\\328.png: 640x512 1 10/5, 20.0ms\n",
      "image 423/843 c:\\Users\\user\\myproject\\AI03-Project-1\\data\\raw\\test_images\\332.png: 640x512 1  800mg, 18.7ms\n",
      "image 424/843 c:\\Users\\user\\myproject\\AI03-Project-1\\data\\raw\\test_images\\334.png: 640x512 (no detections), 28.0ms\n",
      "image 425/843 c:\\Users\\user\\myproject\\AI03-Project-1\\data\\raw\\test_images\\335.png: 640x512 1  5/160mg, 1  50mg, 22.0ms\n",
      "image 426/843 c:\\Users\\user\\myproject\\AI03-Project-1\\data\\raw\\test_images\\336.png: 640x512 1  50mg, 15.9ms\n",
      "image 427/843 c:\\Users\\user\\myproject\\AI03-Project-1\\data\\raw\\test_images\\337.png: 640x512 1 10/5, 14.9ms\n",
      "image 428/843 c:\\Users\\user\\myproject\\AI03-Project-1\\data\\raw\\test_images\\338.png: 640x512 1 10/5, 22.9ms\n",
      "image 429/843 c:\\Users\\user\\myproject\\AI03-Project-1\\data\\raw\\test_images\\339.png: 640x512 1 10/5, 23.8ms\n",
      "image 430/843 c:\\Users\\user\\myproject\\AI03-Project-1\\data\\raw\\test_images\\340.png: 640x512 1  50/1000mg, 20.9ms\n",
      "image 431/843 c:\\Users\\user\\myproject\\AI03-Project-1\\data\\raw\\test_images\\341.png: 640x512 1  50/1000mg, 16.0ms\n",
      "image 432/843 c:\\Users\\user\\myproject\\AI03-Project-1\\data\\raw\\test_images\\344.png: 640x512 1 (), 15.9ms\n",
      "image 433/843 c:\\Users\\user\\myproject\\AI03-Project-1\\data\\raw\\test_images\\345.png: 640x512 1 (), 21.5ms\n",
      "image 434/843 c:\\Users\\user\\myproject\\AI03-Project-1\\data\\raw\\test_images\\346.png: 640x512 1  50/850mg, 32.0ms\n",
      "image 435/843 c:\\Users\\user\\myproject\\AI03-Project-1\\data\\raw\\test_images\\347.png: 640x512 1  50/850mg, 17.4ms\n",
      "image 436/843 c:\\Users\\user\\myproject\\AI03-Project-1\\data\\raw\\test_images\\349.png: 640x512 1  10/40mg, 14.7ms\n",
      "image 437/843 c:\\Users\\user\\myproject\\AI03-Project-1\\data\\raw\\test_images\\352.png: 640x512 1  60mg/, 1  300mg, 17.7ms\n",
      "image 438/843 c:\\Users\\user\\myproject\\AI03-Project-1\\data\\raw\\test_images\\355.png: 640x512 1  300mg/PTP, 1  100mg/, 15.4ms\n",
      "image 439/843 c:\\Users\\user\\myproject\\AI03-Project-1\\data\\raw\\test_images\\356.png: 640x512 1  100mg/, 14.8ms\n",
      "image 440/843 c:\\Users\\user\\myproject\\AI03-Project-1\\data\\raw\\test_images\\359.png: 640x512 1  4mg, 1  100/1000mg, 15.7ms\n",
      "image 441/843 c:\\Users\\user\\myproject\\AI03-Project-1\\data\\raw\\test_images\\361.png: 640x512 1  150mg, 26.5ms\n",
      "image 442/843 c:\\Users\\user\\myproject\\AI03-Project-1\\data\\raw\\test_images\\364.png: 640x512 1  10/40mg, 38.5ms\n",
      "image 443/843 c:\\Users\\user\\myproject\\AI03-Project-1\\data\\raw\\test_images\\372.png: 640x512 1  5/100mg, 1  50/1000mg, 26.2ms\n",
      "image 444/843 c:\\Users\\user\\myproject\\AI03-Project-1\\data\\raw\\test_images\\374.png: 640x512 1  4mg, 30.4ms\n",
      "image 445/843 c:\\Users\\user\\myproject\\AI03-Project-1\\data\\raw\\test_images\\379.png: 640x512 1 (), 19.2ms\n",
      "image 446/843 c:\\Users\\user\\myproject\\AI03-Project-1\\data\\raw\\test_images\\38.png: 640x512 1  10/40mg, 14.8ms\n",
      "image 447/843 c:\\Users\\user\\myproject\\AI03-Project-1\\data\\raw\\test_images\\380.png: 640x512 1 (-3-90), 1 (), 14.7ms\n",
      "image 448/843 c:\\Users\\user\\myproject\\AI03-Project-1\\data\\raw\\test_images\\382.png: 640x512 1  10mg/, 19.0ms\n",
      "image 449/843 c:\\Users\\user\\myproject\\AI03-Project-1\\data\\raw\\test_images\\384.png: 640x512 1  10mg/, 23.0ms\n",
      "image 450/843 c:\\Users\\user\\myproject\\AI03-Project-1\\data\\raw\\test_images\\387.png: 640x512 1  10/40mg, 1  100/1000mg, 31.9ms\n",
      "image 451/843 c:\\Users\\user\\myproject\\AI03-Project-1\\data\\raw\\test_images\\389.png: 640x512 1  50/1000mg, 18.8ms\n",
      "image 452/843 c:\\Users\\user\\myproject\\AI03-Project-1\\data\\raw\\test_images\\390.png: 640x512 1  50/1000mg, 28.1ms\n",
      "image 453/843 c:\\Users\\user\\myproject\\AI03-Project-1\\data\\raw\\test_images\\392.png: 640x512 1 (), 1  20mg, 31.3ms\n",
      "image 454/843 c:\\Users\\user\\myproject\\AI03-Project-1\\data\\raw\\test_images\\393.png: 640x512 1  800mg, 1 (), 1  20mg, 17.6ms\n",
      "image 455/843 c:\\Users\\user\\myproject\\AI03-Project-1\\data\\raw\\test_images\\394.png: 640x512 1  5/100mg, 1 (), 14.1ms\n",
      "image 456/843 c:\\Users\\user\\myproject\\AI03-Project-1\\data\\raw\\test_images\\395.png: 640x512 1  5/100mg, 1 (), 14.2ms\n",
      "image 457/843 c:\\Users\\user\\myproject\\AI03-Project-1\\data\\raw\\test_images\\396.png: 640x512 1  5/100mg, 1 (), 19.7ms\n",
      "image 458/843 c:\\Users\\user\\myproject\\AI03-Project-1\\data\\raw\\test_images\\4.png: 640x512 1  500/20mg, 14.9ms\n",
      "image 459/843 c:\\Users\\user\\myproject\\AI03-Project-1\\data\\raw\\test_images\\40.png: 640x512 1  4mg, 1  100/1000mg, 16.6ms\n",
      "image 460/843 c:\\Users\\user\\myproject\\AI03-Project-1\\data\\raw\\test_images\\400.png: 640x512 1  20mg, 17.5ms\n",
      "image 461/843 c:\\Users\\user\\myproject\\AI03-Project-1\\data\\raw\\test_images\\401.png: 640x512 1 , 1  20mg, 16.1ms\n",
      "image 462/843 c:\\Users\\user\\myproject\\AI03-Project-1\\data\\raw\\test_images\\404.png: 640x512 1  150mg, 1  10/40mg, 17.6ms\n",
      "image 463/843 c:\\Users\\user\\myproject\\AI03-Project-1\\data\\raw\\test_images\\409.png: 640x512 1  800mg, 1 , 28.8ms\n",
      "image 464/843 c:\\Users\\user\\myproject\\AI03-Project-1\\data\\raw\\test_images\\41.png: 640x512 1  100/1000mg, 34.6ms\n",
      "image 465/843 c:\\Users\\user\\myproject\\AI03-Project-1\\data\\raw\\test_images\\411.png: 640x512 1  800mg, 1 , 17.4ms\n",
      "image 466/843 c:\\Users\\user\\myproject\\AI03-Project-1\\data\\raw\\test_images\\412.png: 640x512 1  60mg/, 14.1ms\n",
      "image 467/843 c:\\Users\\user\\myproject\\AI03-Project-1\\data\\raw\\test_images\\413.png: 640x512 1  60mg/, 13.7ms\n",
      "image 468/843 c:\\Users\\user\\myproject\\AI03-Project-1\\data\\raw\\test_images\\414.png: 640x512 1  300mg/PTP, 1  60mg/, 14.0ms\n",
      "image 469/843 c:\\Users\\user\\myproject\\AI03-Project-1\\data\\raw\\test_images\\415.png: 640x512 1  100/1000mg, 14.9ms\n",
      "image 470/843 c:\\Users\\user\\myproject\\AI03-Project-1\\data\\raw\\test_images\\416.png: 640x512 1  100/1000mg, 14.8ms\n",
      "image 471/843 c:\\Users\\user\\myproject\\AI03-Project-1\\data\\raw\\test_images\\417.png: 640x512 1  100/1000mg, 13.7ms\n",
      "image 472/843 c:\\Users\\user\\myproject\\AI03-Project-1\\data\\raw\\test_images\\419.png: 640x512 1  50/850mg, 1  40/5mg, 27.4ms\n",
      "image 473/843 c:\\Users\\user\\myproject\\AI03-Project-1\\data\\raw\\test_images\\42.png: 640x512 1  4mg, 1  100/1000mg, 29.3ms\n",
      "image 474/843 c:\\Users\\user\\myproject\\AI03-Project-1\\data\\raw\\test_images\\420.png: 640x512 1  40/5mg, 15.9ms\n",
      "image 475/843 c:\\Users\\user\\myproject\\AI03-Project-1\\data\\raw\\test_images\\422.png: 640x512 1 10/5, 15.8ms\n",
      "image 476/843 c:\\Users\\user\\myproject\\AI03-Project-1\\data\\raw\\test_images\\423.png: 640x512 1 10/5, 17.8ms\n",
      "image 477/843 c:\\Users\\user\\myproject\\AI03-Project-1\\data\\raw\\test_images\\429.png: 640x512 1  50/1000mg, 16.2ms\n",
      "image 478/843 c:\\Users\\user\\myproject\\AI03-Project-1\\data\\raw\\test_images\\430.png: 640x512 1  800mg, 1  20mg, 16.6ms\n",
      "image 479/843 c:\\Users\\user\\myproject\\AI03-Project-1\\data\\raw\\test_images\\431.png: 640x512 1  800mg, 1  20mg, 13.2ms\n",
      "image 480/843 c:\\Users\\user\\myproject\\AI03-Project-1\\data\\raw\\test_images\\432.png: 640x512 1  800mg, 1  20mg, 17.4ms\n",
      "image 481/843 c:\\Users\\user\\myproject\\AI03-Project-1\\data\\raw\\test_images\\433.png: 640x512 1  2.5/850mg, 12.8ms\n",
      "image 482/843 c:\\Users\\user\\myproject\\AI03-Project-1\\data\\raw\\test_images\\434.png: 640x512 1  2.5/850mg, 18.9ms\n",
      "image 483/843 c:\\Users\\user\\myproject\\AI03-Project-1\\data\\raw\\test_images\\435.png: 640x512 1  2.5/850mg, 14.3ms\n",
      "image 484/843 c:\\Users\\user\\myproject\\AI03-Project-1\\data\\raw\\test_images\\436.png: 640x512 1  100/1000mg, 15.5ms\n",
      "image 485/843 c:\\Users\\user\\myproject\\AI03-Project-1\\data\\raw\\test_images\\44.png: 640x512 1 ()(), 1  4mg, 13.6ms\n",
      "image 486/843 c:\\Users\\user\\myproject\\AI03-Project-1\\data\\raw\\test_images\\443.png: 640x512 1  31.5mg/PTP, 13.3ms\n",
      "image 487/843 c:\\Users\\user\\myproject\\AI03-Project-1\\data\\raw\\test_images\\444.png: 640x512 1  90mg/, 1  31.5mg/PTP, 14.5ms\n",
      "image 488/843 c:\\Users\\user\\myproject\\AI03-Project-1\\data\\raw\\test_images\\449.png: 640x512 1  50/1000mg, 16.6ms\n",
      "image 489/843 c:\\Users\\user\\myproject\\AI03-Project-1\\data\\raw\\test_images\\452.png: 640x512 1 , 1  50mg, 13.0ms\n",
      "image 490/843 c:\\Users\\user\\myproject\\AI03-Project-1\\data\\raw\\test_images\\454.png: 640x512 1  618.6mg/, 14.7ms\n",
      "image 491/843 c:\\Users\\user\\myproject\\AI03-Project-1\\data\\raw\\test_images\\455.png: 640x512 1  618.6mg/, 13.8ms\n",
      "image 492/843 c:\\Users\\user\\myproject\\AI03-Project-1\\data\\raw\\test_images\\456.png: 640x512 1  618.6mg/, 15.8ms\n",
      "image 493/843 c:\\Users\\user\\myproject\\AI03-Project-1\\data\\raw\\test_images\\457.png: 640x512 1  618.6mg/, 1 8 650mg, 14.2ms\n",
      "image 494/843 c:\\Users\\user\\myproject\\AI03-Project-1\\data\\raw\\test_images\\458.png: 640x512 1  618.6mg/, 1 8 650mg, 23.0ms\n",
      "image 495/843 c:\\Users\\user\\myproject\\AI03-Project-1\\data\\raw\\test_images\\459.png: 640x512 1  618.6mg/, 1 8 650mg, 22.2ms\n",
      "image 496/843 c:\\Users\\user\\myproject\\AI03-Project-1\\data\\raw\\test_images\\46.png: 640x512 1  300mg/PTP, 1  100mg/, 16.5ms\n",
      "image 497/843 c:\\Users\\user\\myproject\\AI03-Project-1\\data\\raw\\test_images\\460.png: 640x512 1  300mg, 1  100mg/, 15.6ms\n",
      "image 498/843 c:\\Users\\user\\myproject\\AI03-Project-1\\data\\raw\\test_images\\462.png: 640x512 1  300mg, 1  100mg/, 14.2ms\n",
      "image 499/843 c:\\Users\\user\\myproject\\AI03-Project-1\\data\\raw\\test_images\\463.png: 640x512 1  10/40mg, 1 (), 15.0ms\n",
      "image 500/843 c:\\Users\\user\\myproject\\AI03-Project-1\\data\\raw\\test_images\\464.png: 640x512 1  10/40mg, 1 (), 17.4ms\n",
      "image 501/843 c:\\Users\\user\\myproject\\AI03-Project-1\\data\\raw\\test_images\\465.png: 640x512 1 (), 18.4ms\n",
      "image 502/843 c:\\Users\\user\\myproject\\AI03-Project-1\\data\\raw\\test_images\\468.png: 640x512 1  100mg/, 1  31.5mg/PTP, 25.1ms\n",
      "image 503/843 c:\\Users\\user\\myproject\\AI03-Project-1\\data\\raw\\test_images\\469.png: 640x512 1 (), 1  10/40mg, 26.7ms\n",
      "image 504/843 c:\\Users\\user\\myproject\\AI03-Project-1\\data\\raw\\test_images\\47.png: 640x512 1  300mg/PTP, 1  100mg/, 16.3ms\n",
      "image 505/843 c:\\Users\\user\\myproject\\AI03-Project-1\\data\\raw\\test_images\\472.png: 640x512 1  100mg, 1  20mg, 20.1ms\n",
      "image 506/843 c:\\Users\\user\\myproject\\AI03-Project-1\\data\\raw\\test_images\\474.png: 640x512 1  100mg, 1  20mg, 17.2ms\n",
      "image 507/843 c:\\Users\\user\\myproject\\AI03-Project-1\\data\\raw\\test_images\\475.png: 640x512 1  60mg/, 1  31.5mg/PTP, 17.3ms\n",
      "image 508/843 c:\\Users\\user\\myproject\\AI03-Project-1\\data\\raw\\test_images\\477.png: 640x512 1  60mg/, 1  31.5mg/PTP, 24.1ms\n",
      "image 509/843 c:\\Users\\user\\myproject\\AI03-Project-1\\data\\raw\\test_images\\479.png: 640x512 1 10/5, 22.8ms\n",
      "image 510/843 c:\\Users\\user\\myproject\\AI03-Project-1\\data\\raw\\test_images\\481.png: 640x512 1 8 650mg, 1  90mg/, 18.2ms\n",
      "image 511/843 c:\\Users\\user\\myproject\\AI03-Project-1\\data\\raw\\test_images\\482.png: 640x512 1 8 650mg, 1  90mg/, 18.0ms\n",
      "image 512/843 c:\\Users\\user\\myproject\\AI03-Project-1\\data\\raw\\test_images\\484.png: 640x512 1 (-3-90), 19.6ms\n",
      "image 513/843 c:\\Users\\user\\myproject\\AI03-Project-1\\data\\raw\\test_images\\485.png: 640x512 1 , 17.4ms\n",
      "image 514/843 c:\\Users\\user\\myproject\\AI03-Project-1\\data\\raw\\test_images\\486.png: 640x512 1 (-3-90), 1 , 20.3ms\n",
      "image 515/843 c:\\Users\\user\\myproject\\AI03-Project-1\\data\\raw\\test_images\\487.png: 640x512 1  100/1000mg, 19.5ms\n",
      "image 516/843 c:\\Users\\user\\myproject\\AI03-Project-1\\data\\raw\\test_images\\493.png: 640x512 1 (), 20.9ms\n",
      "image 517/843 c:\\Users\\user\\myproject\\AI03-Project-1\\data\\raw\\test_images\\494.png: 640x512 1 (), 21.6ms\n",
      "image 518/843 c:\\Users\\user\\myproject\\AI03-Project-1\\data\\raw\\test_images\\496.png: 640x512 1 (), 1 10/5, 25.1ms\n",
      "image 519/843 c:\\Users\\user\\myproject\\AI03-Project-1\\data\\raw\\test_images\\497.png: 640x512 1 10/5, 19.7ms\n",
      "image 520/843 c:\\Users\\user\\myproject\\AI03-Project-1\\data\\raw\\test_images\\499.png: 640x512 1  50/850mg, 1  5/100mg, 25.8ms\n",
      "image 521/843 c:\\Users\\user\\myproject\\AI03-Project-1\\data\\raw\\test_images\\5.png: 640x512 1  500/20mg, 24.8ms\n",
      "image 522/843 c:\\Users\\user\\myproject\\AI03-Project-1\\data\\raw\\test_images\\500.png: 640x512 1  50/850mg, 1  5/100mg, 24.2ms\n",
      "image 523/843 c:\\Users\\user\\myproject\\AI03-Project-1\\data\\raw\\test_images\\501.png: 640x512 1  5/100mg, 19.8ms\n",
      "image 524/843 c:\\Users\\user\\myproject\\AI03-Project-1\\data\\raw\\test_images\\502.png: 640x512 1  5/100mg, 1  2.5/850mg, 29.0ms\n",
      "image 525/843 c:\\Users\\user\\myproject\\AI03-Project-1\\data\\raw\\test_images\\503.png: 640x512 1  5/100mg, 1  2.5/850mg, 27.0ms\n",
      "image 526/843 c:\\Users\\user\\myproject\\AI03-Project-1\\data\\raw\\test_images\\506.png: 640x512 1  10/20mg, 23.4ms\n",
      "image 527/843 c:\\Users\\user\\myproject\\AI03-Project-1\\data\\raw\\test_images\\507.png: 640x512 1  10/20mg, 20.3ms\n",
      "image 528/843 c:\\Users\\user\\myproject\\AI03-Project-1\\data\\raw\\test_images\\508.png: 640x512 1  20mg, 21.9ms\n",
      "image 529/843 c:\\Users\\user\\myproject\\AI03-Project-1\\data\\raw\\test_images\\509.png: 640x512 1  20mg, 27.1ms\n",
      "image 530/843 c:\\Users\\user\\myproject\\AI03-Project-1\\data\\raw\\test_images\\511.png: 640x512 1 10/5, 27.9ms\n",
      "image 531/843 c:\\Users\\user\\myproject\\AI03-Project-1\\data\\raw\\test_images\\515.png: 640x512 1  2.5/850mg, 1  10/40mg, 20.7ms\n",
      "image 532/843 c:\\Users\\user\\myproject\\AI03-Project-1\\data\\raw\\test_images\\516.png: 640x512 1  10/40mg, 30.7ms\n",
      "image 533/843 c:\\Users\\user\\myproject\\AI03-Project-1\\data\\raw\\test_images\\517.png: 640x512 1  100/1000mg, 1 10/5, 29.6ms\n",
      "image 534/843 c:\\Users\\user\\myproject\\AI03-Project-1\\data\\raw\\test_images\\518.png: 640x512 1  10/40mg, 1 10/5, 20.6ms\n",
      "image 535/843 c:\\Users\\user\\myproject\\AI03-Project-1\\data\\raw\\test_images\\519.png: 640x512 1  10/40mg, 1 10/5, 19.0ms\n",
      "image 536/843 c:\\Users\\user\\myproject\\AI03-Project-1\\data\\raw\\test_images\\520.png: 640x512 1  60mg, 1 (), 1  4mg, 18.7ms\n",
      "image 537/843 c:\\Users\\user\\myproject\\AI03-Project-1\\data\\raw\\test_images\\521.png: 640x512 1 (), 1  4mg, 19.4ms\n",
      "image 538/843 c:\\Users\\user\\myproject\\AI03-Project-1\\data\\raw\\test_images\\522.png: 640x512 1 (), 1  4mg, 20.0ms\n",
      "image 539/843 c:\\Users\\user\\myproject\\AI03-Project-1\\data\\raw\\test_images\\525.png: 640x512 1 (), 20.2ms\n",
      "image 540/843 c:\\Users\\user\\myproject\\AI03-Project-1\\data\\raw\\test_images\\526.png: 640x512 1  2.5/850mg, 30.3ms\n",
      "image 541/843 c:\\Users\\user\\myproject\\AI03-Project-1\\data\\raw\\test_images\\527.png: 640x512 1  2.5/850mg, 30.3ms\n",
      "image 542/843 c:\\Users\\user\\myproject\\AI03-Project-1\\data\\raw\\test_images\\528.png: 640x512 1  2.5/850mg, 18.6ms\n",
      "image 543/843 c:\\Users\\user\\myproject\\AI03-Project-1\\data\\raw\\test_images\\529.png: 640x512 1  50mg, 1  5/100mg, 18.3ms\n",
      "image 544/843 c:\\Users\\user\\myproject\\AI03-Project-1\\data\\raw\\test_images\\53.png: 640x512 1  31.5mg/PTP, 17.5ms\n",
      "image 545/843 c:\\Users\\user\\myproject\\AI03-Project-1\\data\\raw\\test_images\\530.png: 640x512 1  5/100mg, 27.5ms\n",
      "image 546/843 c:\\Users\\user\\myproject\\AI03-Project-1\\data\\raw\\test_images\\531.png: 640x512 1  50mg, 1  5/100mg, 24.9ms\n",
      "image 547/843 c:\\Users\\user\\myproject\\AI03-Project-1\\data\\raw\\test_images\\532.png: 640x512 1  60mg/, 19.4ms\n",
      "image 548/843 c:\\Users\\user\\myproject\\AI03-Project-1\\data\\raw\\test_images\\533.png: 640x512 1  60mg/, 22.7ms\n",
      "image 549/843 c:\\Users\\user\\myproject\\AI03-Project-1\\data\\raw\\test_images\\534.png: 640x512 1  60mg/, 20.5ms\n",
      "image 550/843 c:\\Users\\user\\myproject\\AI03-Project-1\\data\\raw\\test_images\\535.png: 640x512 1 10/5, 30.1ms\n",
      "image 551/843 c:\\Users\\user\\myproject\\AI03-Project-1\\data\\raw\\test_images\\536.png: 640x512 1 10/5, 27.8ms\n",
      "image 552/843 c:\\Users\\user\\myproject\\AI03-Project-1\\data\\raw\\test_images\\537.png: 640x512 1 10/5, 18.5ms\n",
      "image 553/843 c:\\Users\\user\\myproject\\AI03-Project-1\\data\\raw\\test_images\\539.png: 640x512 1 , 1  10/20mg, 20.5ms\n",
      "image 554/843 c:\\Users\\user\\myproject\\AI03-Project-1\\data\\raw\\test_images\\54.png: 640x512 1  618.6mg/, 1  31.5mg/PTP, 18.8ms\n",
      "image 555/843 c:\\Users\\user\\myproject\\AI03-Project-1\\data\\raw\\test_images\\540.png: 640x512 1 , 1  10/20mg, 18.3ms\n",
      "image 556/843 c:\\Users\\user\\myproject\\AI03-Project-1\\data\\raw\\test_images\\541.png: 640x512 1  100/1000mg, 27.9ms\n",
      "image 557/843 c:\\Users\\user\\myproject\\AI03-Project-1\\data\\raw\\test_images\\542.png: 640x512 1  100/1000mg, 23.4ms\n",
      "image 558/843 c:\\Users\\user\\myproject\\AI03-Project-1\\data\\raw\\test_images\\543.png: 640x512 1  100/1000mg, 21.0ms\n",
      "image 559/843 c:\\Users\\user\\myproject\\AI03-Project-1\\data\\raw\\test_images\\545.png: 640x512 1  60mg, 1  4mg, 23.4ms\n",
      "image 560/843 c:\\Users\\user\\myproject\\AI03-Project-1\\data\\raw\\test_images\\546.png: 640x512 1  4mg, 17.8ms\n",
      "image 561/843 c:\\Users\\user\\myproject\\AI03-Project-1\\data\\raw\\test_images\\547.png: 640x512 1  50mg, 1 10/5, 27.5ms\n",
      "image 562/843 c:\\Users\\user\\myproject\\AI03-Project-1\\data\\raw\\test_images\\548.png: 640x512 1 10/5, 17.3ms\n",
      "image 563/843 c:\\Users\\user\\myproject\\AI03-Project-1\\data\\raw\\test_images\\55.png: 640x512 1 , 19.1ms\n",
      "image 564/843 c:\\Users\\user\\myproject\\AI03-Project-1\\data\\raw\\test_images\\551.png: 640x512 1  10/40mg, 1  2.5/850mg, 19.7ms\n",
      "image 565/843 c:\\Users\\user\\myproject\\AI03-Project-1\\data\\raw\\test_images\\552.png: 640x512 1  2.5/850mg, 31.5ms\n",
      "image 566/843 c:\\Users\\user\\myproject\\AI03-Project-1\\data\\raw\\test_images\\553.png: 640x512 1  5/100mg, 1  50/1000mg, 29.8ms\n",
      "image 567/843 c:\\Users\\user\\myproject\\AI03-Project-1\\data\\raw\\test_images\\555.png: 640x512 1  5/100mg, 1  50/1000mg, 21.1ms\n",
      "image 568/843 c:\\Users\\user\\myproject\\AI03-Project-1\\data\\raw\\test_images\\56.png: 640x512 1 (-3-90), 1 , 19.4ms\n",
      "image 569/843 c:\\Users\\user\\myproject\\AI03-Project-1\\data\\raw\\test_images\\560.png: 640x512 1  2.5/850mg, 1  10/40mg, 30.0ms\n",
      "image 570/843 c:\\Users\\user\\myproject\\AI03-Project-1\\data\\raw\\test_images\\564.png: 640x512 1  800mg, 1 , 19.1ms\n",
      "image 571/843 c:\\Users\\user\\myproject\\AI03-Project-1\\data\\raw\\test_images\\565.png: 640x512 (no detections), 16.3ms\n",
      "image 572/843 c:\\Users\\user\\myproject\\AI03-Project-1\\data\\raw\\test_images\\569.png: 640x512 1  300mg/PTP, 1  10mg/, 29.2ms\n",
      "image 573/843 c:\\Users\\user\\myproject\\AI03-Project-1\\data\\raw\\test_images\\571.png: 640x512 1  800mg, 1 (), 1  10mg, 27.0ms\n",
      "image 574/843 c:\\Users\\user\\myproject\\AI03-Project-1\\data\\raw\\test_images\\572.png: 640x512 1 (), 1  10mg, 19.2ms\n",
      "image 575/843 c:\\Users\\user\\myproject\\AI03-Project-1\\data\\raw\\test_images\\573.png: 640x512 1  800mg, 1 (), 1  10mg, 19.5ms\n",
      "image 576/843 c:\\Users\\user\\myproject\\AI03-Project-1\\data\\raw\\test_images\\574.png: 640x512 1 8 650mg, 1  90mg/, 17.9ms\n",
      "image 577/843 c:\\Users\\user\\myproject\\AI03-Project-1\\data\\raw\\test_images\\575.png: 640x512 1 8 650mg, 1  90mg/, 18.2ms\n",
      "image 578/843 c:\\Users\\user\\myproject\\AI03-Project-1\\data\\raw\\test_images\\576.png: 640x512 1 8 650mg, 1  90mg/, 22.4ms\n",
      "image 579/843 c:\\Users\\user\\myproject\\AI03-Project-1\\data\\raw\\test_images\\577.png: 640x512 1 , 19.6ms\n",
      "image 580/843 c:\\Users\\user\\myproject\\AI03-Project-1\\data\\raw\\test_images\\578.png: 640x512 1 , 22.5ms\n",
      "image 581/843 c:\\Users\\user\\myproject\\AI03-Project-1\\data\\raw\\test_images\\579.png: 640x512 1  800mg, 1 , 30.3ms\n",
      "image 582/843 c:\\Users\\user\\myproject\\AI03-Project-1\\data\\raw\\test_images\\58.png: 640x512 1  10/40mg, 23.3ms\n",
      "image 583/843 c:\\Users\\user\\myproject\\AI03-Project-1\\data\\raw\\test_images\\581.png: 640x512 1  10mg, 1 , 21.2ms\n",
      "image 584/843 c:\\Users\\user\\myproject\\AI03-Project-1\\data\\raw\\test_images\\583.png: 640x512 1  60mg/, 18.5ms\n",
      "image 585/843 c:\\Users\\user\\myproject\\AI03-Project-1\\data\\raw\\test_images\\584.png: 640x512 1  60mg/, 21.0ms\n",
      "image 586/843 c:\\Users\\user\\myproject\\AI03-Project-1\\data\\raw\\test_images\\586.png: 640x512 1 (), 1 10/5, 27.2ms\n",
      "image 587/843 c:\\Users\\user\\myproject\\AI03-Project-1\\data\\raw\\test_images\\587.png: 640x512 1 (), 1 10/5, 23.1ms\n",
      "image 588/843 c:\\Users\\user\\myproject\\AI03-Project-1\\data\\raw\\test_images\\588.png: 640x512 1 (), 1 10/5, 20.0ms\n",
      "image 589/843 c:\\Users\\user\\myproject\\AI03-Project-1\\data\\raw\\test_images\\589.png: 640x512 1  50/850mg, 26.5ms\n",
      "image 590/843 c:\\Users\\user\\myproject\\AI03-Project-1\\data\\raw\\test_images\\591.png: 640x512 1  50/850mg, 29.5ms\n",
      "image 591/843 c:\\Users\\user\\myproject\\AI03-Project-1\\data\\raw\\test_images\\592.png: 640x512 1 (), 1  4mg, 25.2ms\n",
      "image 592/843 c:\\Users\\user\\myproject\\AI03-Project-1\\data\\raw\\test_images\\593.png: 640x512 1  4mg, 18.4ms\n",
      "image 593/843 c:\\Users\\user\\myproject\\AI03-Project-1\\data\\raw\\test_images\\594.png: 640x512 1 (), 1  4mg, 21.1ms\n",
      "image 594/843 c:\\Users\\user\\myproject\\AI03-Project-1\\data\\raw\\test_images\\595.png: 640x512 1  20mg, 1 , 27.3ms\n",
      "image 595/843 c:\\Users\\user\\myproject\\AI03-Project-1\\data\\raw\\test_images\\596.png: 640x512 1 , 21.8ms\n",
      "image 596/843 c:\\Users\\user\\myproject\\AI03-Project-1\\data\\raw\\test_images\\598.png: 640x512 1 10/5, 22.4ms\n",
      "image 597/843 c:\\Users\\user\\myproject\\AI03-Project-1\\data\\raw\\test_images\\60.png: 640x512 1  10/40mg, 18.0ms\n",
      "image 598/843 c:\\Users\\user\\myproject\\AI03-Project-1\\data\\raw\\test_images\\600.png: 640x512 1 (), 1 10/5, 17.7ms\n",
      "image 599/843 c:\\Users\\user\\myproject\\AI03-Project-1\\data\\raw\\test_images\\601.png: 640x512 1  100/1000mg, 20.2ms\n",
      "image 600/843 c:\\Users\\user\\myproject\\AI03-Project-1\\data\\raw\\test_images\\602.png: 640x512 1  100/1000mg, 25.8ms\n",
      "image 601/843 c:\\Users\\user\\myproject\\AI03-Project-1\\data\\raw\\test_images\\603.png: 640x512 1  100/1000mg, 19.7ms\n",
      "image 602/843 c:\\Users\\user\\myproject\\AI03-Project-1\\data\\raw\\test_images\\605.png: 640x512 1 (), 1 10/5, 20.3ms\n",
      "image 603/843 c:\\Users\\user\\myproject\\AI03-Project-1\\data\\raw\\test_images\\608.png: 640x512 1  4mg, 1 (), 18.3ms\n",
      "image 604/843 c:\\Users\\user\\myproject\\AI03-Project-1\\data\\raw\\test_images\\610.png: 640x512 1  10/40mg, 1  50/1000mg, 30.3ms\n",
      "image 605/843 c:\\Users\\user\\myproject\\AI03-Project-1\\data\\raw\\test_images\\611.png: 640x512 1  10/40mg, 1  50/1000mg, 20.0ms\n",
      "image 606/843 c:\\Users\\user\\myproject\\AI03-Project-1\\data\\raw\\test_images\\612.png: 640x512 1  50/1000mg, 21.1ms\n",
      "image 607/843 c:\\Users\\user\\myproject\\AI03-Project-1\\data\\raw\\test_images\\614.png: 640x512 1  20mg, 28.1ms\n",
      "image 608/843 c:\\Users\\user\\myproject\\AI03-Project-1\\data\\raw\\test_images\\615.png: 640x512 1  20mg, 30.9ms\n",
      "image 609/843 c:\\Users\\user\\myproject\\AI03-Project-1\\data\\raw\\test_images\\616.png: 640x512 1 (), 27.5ms\n",
      "image 610/843 c:\\Users\\user\\myproject\\AI03-Project-1\\data\\raw\\test_images\\617.png: 640x512 1 (), 22.7ms\n",
      "image 611/843 c:\\Users\\user\\myproject\\AI03-Project-1\\data\\raw\\test_images\\618.png: 640x512 1 (), 19.2ms\n",
      "image 612/843 c:\\Users\\user\\myproject\\AI03-Project-1\\data\\raw\\test_images\\62.png: 640x512 1  150mg, 1 10/5, 21.1ms\n",
      "image 613/843 c:\\Users\\user\\myproject\\AI03-Project-1\\data\\raw\\test_images\\620.png: 640x512 1  300mg, 1  100mg/, 28.4ms\n",
      "image 614/843 c:\\Users\\user\\myproject\\AI03-Project-1\\data\\raw\\test_images\\621.png: 640x512 1  300mg, 1  100mg/, 24.7ms\n",
      "image 615/843 c:\\Users\\user\\myproject\\AI03-Project-1\\data\\raw\\test_images\\622.png: 640x512 1  25mg, 20.4ms\n",
      "image 616/843 c:\\Users\\user\\myproject\\AI03-Project-1\\data\\raw\\test_images\\623.png: 640x512 1  20mg, 1  25mg, 22.5ms\n",
      "image 617/843 c:\\Users\\user\\myproject\\AI03-Project-1\\data\\raw\\test_images\\624.png: 640x512 1  20mg, 1  25mg, 17.6ms\n",
      "image 618/843 c:\\Users\\user\\myproject\\AI03-Project-1\\data\\raw\\test_images\\625.png: 640x512 1  2.5/850mg, 18.5ms\n",
      "image 619/843 c:\\Users\\user\\myproject\\AI03-Project-1\\data\\raw\\test_images\\627.png: 640x512 1  40/5mg, 1  2.5/850mg, 19.4ms\n",
      "image 620/843 c:\\Users\\user\\myproject\\AI03-Project-1\\data\\raw\\test_images\\628.png: 640x512 (no detections), 21.3ms\n",
      "image 621/843 c:\\Users\\user\\myproject\\AI03-Project-1\\data\\raw\\test_images\\632.png: 640x512 1  31.5mg/PTP, 22.9ms\n",
      "image 622/843 c:\\Users\\user\\myproject\\AI03-Project-1\\data\\raw\\test_images\\633.png: 640x512 1  100mg/, 1  31.5mg/PTP, 22.1ms\n",
      "image 623/843 c:\\Users\\user\\myproject\\AI03-Project-1\\data\\raw\\test_images\\635.png: 640x512 1  20mg, 22.0ms\n",
      "image 624/843 c:\\Users\\user\\myproject\\AI03-Project-1\\data\\raw\\test_images\\636.png: 640x512 1  20mg, 24.5ms\n",
      "image 625/843 c:\\Users\\user\\myproject\\AI03-Project-1\\data\\raw\\test_images\\637.png: 640x512 (no detections), 20.3ms\n",
      "image 626/843 c:\\Users\\user\\myproject\\AI03-Project-1\\data\\raw\\test_images\\638.png: 640x512 (no detections), 17.5ms\n",
      "image 627/843 c:\\Users\\user\\myproject\\AI03-Project-1\\data\\raw\\test_images\\64.png: 640x512 1 , 1  4mg, 19.3ms\n",
      "image 628/843 c:\\Users\\user\\myproject\\AI03-Project-1\\data\\raw\\test_images\\640.png: 640x512 1 (), 1  75mg, 1  10/40mg, 21.5ms\n",
      "image 629/843 c:\\Users\\user\\myproject\\AI03-Project-1\\data\\raw\\test_images\\641.png: 640x512 1 (), 1  75mg, 21.3ms\n",
      "image 630/843 c:\\Users\\user\\myproject\\AI03-Project-1\\data\\raw\\test_images\\644.png: 640x512 1 8 650mg, 29.4ms\n",
      "image 631/843 c:\\Users\\user\\myproject\\AI03-Project-1\\data\\raw\\test_images\\646.png: 640x512 1  60mg, 1 10/5, 28.9ms\n",
      "image 632/843 c:\\Users\\user\\myproject\\AI03-Project-1\\data\\raw\\test_images\\647.png: 640x512 1 10/5, 16.7ms\n",
      "image 633/843 c:\\Users\\user\\myproject\\AI03-Project-1\\data\\raw\\test_images\\648.png: 640x512 1 10/5, 23.5ms\n",
      "image 634/843 c:\\Users\\user\\myproject\\AI03-Project-1\\data\\raw\\test_images\\65.png: 640x512 1 , 1  4mg, 19.7ms\n",
      "image 635/843 c:\\Users\\user\\myproject\\AI03-Project-1\\data\\raw\\test_images\\650.png: 640x512 1 , 1 10/5, 29.0ms\n",
      "image 636/843 c:\\Users\\user\\myproject\\AI03-Project-1\\data\\raw\\test_images\\652.png: 640x512 1  10mg, 1  500/20mg, 20.4ms\n",
      "image 637/843 c:\\Users\\user\\myproject\\AI03-Project-1\\data\\raw\\test_images\\653.png: 640x512 1  10mg, 1  500/20mg, 26.6ms\n",
      "image 638/843 c:\\Users\\user\\myproject\\AI03-Project-1\\data\\raw\\test_images\\654.png: 640x512 1  10mg, 1  500/20mg, 35.5ms\n",
      "image 639/843 c:\\Users\\user\\myproject\\AI03-Project-1\\data\\raw\\test_images\\656.png: 640x512 1  800mg, 24.4ms\n",
      "image 640/843 c:\\Users\\user\\myproject\\AI03-Project-1\\data\\raw\\test_images\\658.png: 640x512 1 , 16.7ms\n",
      "image 641/843 c:\\Users\\user\\myproject\\AI03-Project-1\\data\\raw\\test_images\\659.png: 640x512 1 , 21.7ms\n",
      "image 642/843 c:\\Users\\user\\myproject\\AI03-Project-1\\data\\raw\\test_images\\66.png: 640x512 1 , 1  4mg, 20.9ms\n",
      "image 643/843 c:\\Users\\user\\myproject\\AI03-Project-1\\data\\raw\\test_images\\660.png: 640x512 1 , 24.2ms\n",
      "image 644/843 c:\\Users\\user\\myproject\\AI03-Project-1\\data\\raw\\test_images\\661.png: 640x512 1  20mg, 1 (), 20.7ms\n",
      "image 645/843 c:\\Users\\user\\myproject\\AI03-Project-1\\data\\raw\\test_images\\662.png: 640x512 1  20mg, 1 (), 21.7ms\n",
      "image 646/843 c:\\Users\\user\\myproject\\AI03-Project-1\\data\\raw\\test_images\\664.png: 640x512 1 (), 1 10/5, 22.2ms\n",
      "image 647/843 c:\\Users\\user\\myproject\\AI03-Project-1\\data\\raw\\test_images\\665.png: 640x512 1 (), 1 10/5, 30.9ms\n",
      "image 648/843 c:\\Users\\user\\myproject\\AI03-Project-1\\data\\raw\\test_images\\667.png: 640x512 1  31.5mg/PTP, 22.6ms\n",
      "image 649/843 c:\\Users\\user\\myproject\\AI03-Project-1\\data\\raw\\test_images\\668.png: 640x512 1  31.5mg/PTP, 21.6ms\n",
      "image 650/843 c:\\Users\\user\\myproject\\AI03-Project-1\\data\\raw\\test_images\\670.png: 640x512 1  10/40mg, 26.6ms\n",
      "image 651/843 c:\\Users\\user\\myproject\\AI03-Project-1\\data\\raw\\test_images\\672.png: 640x512 1  10/40mg, 17.8ms\n",
      "image 652/843 c:\\Users\\user\\myproject\\AI03-Project-1\\data\\raw\\test_images\\674.png: 640x512 1 , 19.0ms\n",
      "image 653/843 c:\\Users\\user\\myproject\\AI03-Project-1\\data\\raw\\test_images\\675.png: 640x512 1  50mg, 23.0ms\n",
      "image 654/843 c:\\Users\\user\\myproject\\AI03-Project-1\\data\\raw\\test_images\\677.png: 640x512 1 , 18.3ms\n",
      "image 655/843 c:\\Users\\user\\myproject\\AI03-Project-1\\data\\raw\\test_images\\679.png: 640x512 1  90mg/, 20.0ms\n",
      "image 656/843 c:\\Users\\user\\myproject\\AI03-Project-1\\data\\raw\\test_images\\68.png: 640x512 1  60mg, 1  2.5/850mg, 27.8ms\n",
      "image 657/843 c:\\Users\\user\\myproject\\AI03-Project-1\\data\\raw\\test_images\\680.png: 640x512 1  90mg/, 25.7ms\n",
      "image 658/843 c:\\Users\\user\\myproject\\AI03-Project-1\\data\\raw\\test_images\\681.png: 640x512 1  90mg/, 23.7ms\n",
      "image 659/843 c:\\Users\\user\\myproject\\AI03-Project-1\\data\\raw\\test_images\\684.png: 640x512 1  500/20mg, 20.7ms\n",
      "image 660/843 c:\\Users\\user\\myproject\\AI03-Project-1\\data\\raw\\test_images\\685.png: 640x512 1  618.6mg/, 1  31.5mg/PTP, 29.6ms\n",
      "image 661/843 c:\\Users\\user\\myproject\\AI03-Project-1\\data\\raw\\test_images\\688.png: 640x512 1  50/1000mg, 23.2ms\n",
      "image 662/843 c:\\Users\\user\\myproject\\AI03-Project-1\\data\\raw\\test_images\\692.png: 640x512 1  10/40mg, 1  10/40mg, 24.0ms\n",
      "image 663/843 c:\\Users\\user\\myproject\\AI03-Project-1\\data\\raw\\test_images\\694.png: 640x512 1  10/40mg, 27.6ms\n",
      "image 664/843 c:\\Users\\user\\myproject\\AI03-Project-1\\data\\raw\\test_images\\697.png: 640x512 1  10/20mg, 17.9ms\n",
      "image 665/843 c:\\Users\\user\\myproject\\AI03-Project-1\\data\\raw\\test_images\\698.png: 640x512 1 ()\\xa0, 1  10/20mg, 20.3ms\n",
      "image 666/843 c:\\Users\\user\\myproject\\AI03-Project-1\\data\\raw\\test_images\\70.png: 640x512 1  10mg, 1 , 28.1ms\n",
      "image 667/843 c:\\Users\\user\\myproject\\AI03-Project-1\\data\\raw\\test_images\\700.png: 640x512 1  2.5/850mg, 20.9ms\n",
      "image 668/843 c:\\Users\\user\\myproject\\AI03-Project-1\\data\\raw\\test_images\\701.png: 640x512 1  2.5/850mg, 21.0ms\n",
      "image 669/843 c:\\Users\\user\\myproject\\AI03-Project-1\\data\\raw\\test_images\\702.png: 640x512 1  2.5/850mg, 34.3ms\n",
      "image 670/843 c:\\Users\\user\\myproject\\AI03-Project-1\\data\\raw\\test_images\\705.png: 640x512 1  50mg, 1  4mg, 18.3ms\n",
      "image 671/843 c:\\Users\\user\\myproject\\AI03-Project-1\\data\\raw\\test_images\\706.png: 640x512 1  10mg/, 20.0ms\n",
      "image 672/843 c:\\Users\\user\\myproject\\AI03-Project-1\\data\\raw\\test_images\\707.png: 640x512 1  10mg/, 19.4ms\n",
      "image 673/843 c:\\Users\\user\\myproject\\AI03-Project-1\\data\\raw\\test_images\\708.png: 640x512 1  10mg/, 37.7ms\n",
      "image 674/843 c:\\Users\\user\\myproject\\AI03-Project-1\\data\\raw\\test_images\\710.png: 640x512 1  40/5mg, 1 (), 20.9ms\n",
      "image 675/843 c:\\Users\\user\\myproject\\AI03-Project-1\\data\\raw\\test_images\\712.png: 640x512 1  10mg/, 1 8 650mg, 15.0ms\n",
      "image 676/843 c:\\Users\\user\\myproject\\AI03-Project-1\\data\\raw\\test_images\\713.png: 640x512 1  10mg/, 1 8 650mg, 19.7ms\n",
      "image 677/843 c:\\Users\\user\\myproject\\AI03-Project-1\\data\\raw\\test_images\\714.png: 640x512 1 8 650mg, 27.1ms\n",
      "image 678/843 c:\\Users\\user\\myproject\\AI03-Project-1\\data\\raw\\test_images\\716.png: 640x512 1 , 1  60mg/, 16.1ms\n",
      "image 679/843 c:\\Users\\user\\myproject\\AI03-Project-1\\data\\raw\\test_images\\717.png: 640x512 1  300mg/PTP, 1  60mg/, 20.2ms\n",
      "image 680/843 c:\\Users\\user\\myproject\\AI03-Project-1\\data\\raw\\test_images\\719.png: 640x512 1  500/20mg, 18.1ms\n",
      "image 681/843 c:\\Users\\user\\myproject\\AI03-Project-1\\data\\raw\\test_images\\72.png: 640x512 1 , 15.9ms\n",
      "image 682/843 c:\\Users\\user\\myproject\\AI03-Project-1\\data\\raw\\test_images\\720.png: 640x512 1  500/20mg, 16.1ms\n",
      "image 683/843 c:\\Users\\user\\myproject\\AI03-Project-1\\data\\raw\\test_images\\721.png: 640x512 1  10/40mg, 55.5ms\n",
      "image 684/843 c:\\Users\\user\\myproject\\AI03-Project-1\\data\\raw\\test_images\\724.png: 640x512 1  500/20mg, 23.3ms\n",
      "image 685/843 c:\\Users\\user\\myproject\\AI03-Project-1\\data\\raw\\test_images\\725.png: 640x512 1  500/20mg, 17.4ms\n",
      "image 686/843 c:\\Users\\user\\myproject\\AI03-Project-1\\data\\raw\\test_images\\726.png: 640x512 1  100mg, 1  500/20mg, 17.4ms\n",
      "image 687/843 c:\\Users\\user\\myproject\\AI03-Project-1\\data\\raw\\test_images\\727.png: 640x512 1  50/850mg, 1  5/100mg, 24.8ms\n",
      "image 688/843 c:\\Users\\user\\myproject\\AI03-Project-1\\data\\raw\\test_images\\728.png: 640x512 1  50/850mg, 1  5/100mg, 17.7ms\n",
      "image 689/843 c:\\Users\\user\\myproject\\AI03-Project-1\\data\\raw\\test_images\\73.png: 640x512 1  800mg, 16.2ms\n",
      "image 690/843 c:\\Users\\user\\myproject\\AI03-Project-1\\data\\raw\\test_images\\731.png: 640x512 1  15mg, 15.1ms\n",
      "image 691/843 c:\\Users\\user\\myproject\\AI03-Project-1\\data\\raw\\test_images\\732.png: 640x512 1  100mg, 1  15mg, 17.6ms\n",
      "image 692/843 c:\\Users\\user\\myproject\\AI03-Project-1\\data\\raw\\test_images\\738.png: 640x512 1  500/20mg, 1  50mg, 16.2ms\n",
      "image 693/843 c:\\Users\\user\\myproject\\AI03-Project-1\\data\\raw\\test_images\\740.png: 640x512 1  500/20mg, 32.1ms\n",
      "image 694/843 c:\\Users\\user\\myproject\\AI03-Project-1\\data\\raw\\test_images\\742.png: 640x512 1  31.5mg/PTP, 16.3ms\n",
      "image 695/843 c:\\Users\\user\\myproject\\AI03-Project-1\\data\\raw\\test_images\\743.png: 640x512 1  618.6mg/, 1  31.5mg/PTP, 16.0ms\n",
      "image 696/843 c:\\Users\\user\\myproject\\AI03-Project-1\\data\\raw\\test_images\\745.png: 640x512 1  20mg, 1 , 17.8ms\n",
      "image 697/843 c:\\Users\\user\\myproject\\AI03-Project-1\\data\\raw\\test_images\\747.png: 640x512 1 , 35.4ms\n",
      "image 698/843 c:\\Users\\user\\myproject\\AI03-Project-1\\data\\raw\\test_images\\75.png: 640x512 1  800mg, 17.7ms\n",
      "image 699/843 c:\\Users\\user\\myproject\\AI03-Project-1\\data\\raw\\test_images\\750.png: 640x512 1  500/20mg, 1  50mg, 20.2ms\n",
      "image 700/843 c:\\Users\\user\\myproject\\AI03-Project-1\\data\\raw\\test_images\\752.png: 640x512 1  100mg, 24.9ms\n",
      "image 701/843 c:\\Users\\user\\myproject\\AI03-Project-1\\data\\raw\\test_images\\754.png: 640x512 1  4mg, 19.3ms\n",
      "image 702/843 c:\\Users\\user\\myproject\\AI03-Project-1\\data\\raw\\test_images\\756.png: 640x512 1 (), 1  4mg, 21.9ms\n",
      "image 703/843 c:\\Users\\user\\myproject\\AI03-Project-1\\data\\raw\\test_images\\758.png: 640x512 1 10/5, 26.9ms\n",
      "image 704/843 c:\\Users\\user\\myproject\\AI03-Project-1\\data\\raw\\test_images\\759.png: 640x512 1 10/5, 24.8ms\n",
      "image 705/843 c:\\Users\\user\\myproject\\AI03-Project-1\\data\\raw\\test_images\\760.png: 640x512 1  500/20mg, 1  20mg, 17.4ms\n",
      "image 706/843 c:\\Users\\user\\myproject\\AI03-Project-1\\data\\raw\\test_images\\761.png: 640x512 1  20mg, 29.6ms\n",
      "image 707/843 c:\\Users\\user\\myproject\\AI03-Project-1\\data\\raw\\test_images\\763.png: 640x512 1  100/1000mg, 25.4ms\n",
      "image 708/843 c:\\Users\\user\\myproject\\AI03-Project-1\\data\\raw\\test_images\\764.png: 640x512 1  100/1000mg, 19.9ms\n",
      "image 709/843 c:\\Users\\user\\myproject\\AI03-Project-1\\data\\raw\\test_images\\766.png: 640x512 1 10/5, 26.8ms\n",
      "image 710/843 c:\\Users\\user\\myproject\\AI03-Project-1\\data\\raw\\test_images\\768.png: 640x512 1 10/5, 19.4ms\n",
      "image 711/843 c:\\Users\\user\\myproject\\AI03-Project-1\\data\\raw\\test_images\\772.png: 640x512 1  20mg, 17.0ms\n",
      "image 712/843 c:\\Users\\user\\myproject\\AI03-Project-1\\data\\raw\\test_images\\773.png: 640x512 1  500/20mg, 1  20mg, 17.9ms\n",
      "image 713/843 c:\\Users\\user\\myproject\\AI03-Project-1\\data\\raw\\test_images\\778.png: 640x512 1  5/100mg, 1  2.5/850mg, 24.2ms\n",
      "image 714/843 c:\\Users\\user\\myproject\\AI03-Project-1\\data\\raw\\test_images\\779.png: 640x512 1  5/100mg, 1  2.5/850mg, 17.8ms\n",
      "image 715/843 c:\\Users\\user\\myproject\\AI03-Project-1\\data\\raw\\test_images\\780.png: 640x512 1  5/100mg, 1  2.5/850mg, 17.0ms\n",
      "image 716/843 c:\\Users\\user\\myproject\\AI03-Project-1\\data\\raw\\test_images\\782.png: 640x512 1 , 1  20mg, 18.0ms\n",
      "image 717/843 c:\\Users\\user\\myproject\\AI03-Project-1\\data\\raw\\test_images\\785.png: 640x512 1  10/40mg, 1  10/40mg, 23.2ms\n",
      "image 718/843 c:\\Users\\user\\myproject\\AI03-Project-1\\data\\raw\\test_images\\787.png: 640x512 1  100/1000mg, 1  50/1000mg, 28.7ms\n",
      "image 719/843 c:\\Users\\user\\myproject\\AI03-Project-1\\data\\raw\\test_images\\788.png: 640x512 1  100/1000mg, 1  50/1000mg, 27.0ms\n",
      "image 720/843 c:\\Users\\user\\myproject\\AI03-Project-1\\data\\raw\\test_images\\79.png: 640x512 1  400mg, 18.3ms\n",
      "image 721/843 c:\\Users\\user\\myproject\\AI03-Project-1\\data\\raw\\test_images\\797.png: 640x512 1  100mg, 18.7ms\n",
      "image 722/843 c:\\Users\\user\\myproject\\AI03-Project-1\\data\\raw\\test_images\\798.png: 640x512 1  100mg, 27.5ms\n",
      "image 723/843 c:\\Users\\user\\myproject\\AI03-Project-1\\data\\raw\\test_images\\799.png: 640x512 1 (), 19.7ms\n",
      "image 724/843 c:\\Users\\user\\myproject\\AI03-Project-1\\data\\raw\\test_images\\8.png: 640x512 (no detections), 29.6ms\n",
      "image 725/843 c:\\Users\\user\\myproject\\AI03-Project-1\\data\\raw\\test_images\\80.png: 640x512 1  400mg, 18.3ms\n",
      "image 726/843 c:\\Users\\user\\myproject\\AI03-Project-1\\data\\raw\\test_images\\807.png: 640x512 1  50/850mg, 1  4mg, 25.1ms\n",
      "image 727/843 c:\\Users\\user\\myproject\\AI03-Project-1\\data\\raw\\test_images\\808.png: 640x512 1  800mg, 1  15mg, 21.1ms\n",
      "image 728/843 c:\\Users\\user\\myproject\\AI03-Project-1\\data\\raw\\test_images\\810.png: 640x512 1  15mg, 19.3ms\n",
      "image 729/843 c:\\Users\\user\\myproject\\AI03-Project-1\\data\\raw\\test_images\\815.png: 640x512 1  75mg, 1 , 18.9ms\n",
      "image 730/843 c:\\Users\\user\\myproject\\AI03-Project-1\\data\\raw\\test_images\\817.png: 640x512 1  2.5/850mg, 18.8ms\n",
      "image 731/843 c:\\Users\\user\\myproject\\AI03-Project-1\\data\\raw\\test_images\\818.png: 640x512 1  10/40mg, 1  2.5/850mg, 21.1ms\n",
      "image 732/843 c:\\Users\\user\\myproject\\AI03-Project-1\\data\\raw\\test_images\\819.png: 640x512 1  10/40mg, 1  2.5/850mg, 20.4ms\n",
      "image 733/843 c:\\Users\\user\\myproject\\AI03-Project-1\\data\\raw\\test_images\\82.png: 640x512 1  60mg/, 1  300mg, 27.4ms\n",
      "image 734/843 c:\\Users\\user\\myproject\\AI03-Project-1\\data\\raw\\test_images\\820.png: 640x512 1  60mg/, 21.1ms\n",
      "image 735/843 c:\\Users\\user\\myproject\\AI03-Project-1\\data\\raw\\test_images\\822.png: 640x512 1  60mg/, 20.1ms\n",
      "image 736/843 c:\\Users\\user\\myproject\\AI03-Project-1\\data\\raw\\test_images\\826.png: 640x512 1  150mg, 1  10/20mg, 19.8ms\n",
      "image 737/843 c:\\Users\\user\\myproject\\AI03-Project-1\\data\\raw\\test_images\\828.png: 640x512 1  150mg, 1  10/20mg, 28.0ms\n",
      "image 738/843 c:\\Users\\user\\myproject\\AI03-Project-1\\data\\raw\\test_images\\829.png: 640x512 1 (), 1 10/5, 17.4ms\n",
      "image 739/843 c:\\Users\\user\\myproject\\AI03-Project-1\\data\\raw\\test_images\\83.png: 640x512 1  60mg/, 1  300mg, 18.8ms\n",
      "image 740/843 c:\\Users\\user\\myproject\\AI03-Project-1\\data\\raw\\test_images\\830.png: 640x512 1  60mg, 1 (), 1 10/5, 18.3ms\n",
      "image 741/843 c:\\Users\\user\\myproject\\AI03-Project-1\\data\\raw\\test_images\\831.png: 640x512 1 (), 1 10/5, 28.4ms\n",
      "image 742/843 c:\\Users\\user\\myproject\\AI03-Project-1\\data\\raw\\test_images\\832.png: 640x512 1  100mg, 1 (), 20.0ms\n",
      "image 743/843 c:\\Users\\user\\myproject\\AI03-Project-1\\data\\raw\\test_images\\838.png: 640x512 1  20mg, 18.4ms\n",
      "image 744/843 c:\\Users\\user\\myproject\\AI03-Project-1\\data\\raw\\test_images\\842.png: 640x512 1  50/1000mg, 20.5ms\n",
      "image 745/843 c:\\Users\\user\\myproject\\AI03-Project-1\\data\\raw\\test_images\\85.png: 640x512 1  500/20mg, 29.2ms\n",
      "image 746/843 c:\\Users\\user\\myproject\\AI03-Project-1\\data\\raw\\test_images\\851.png: 640x512 1  300mg, 1  90mg/, 24.9ms\n",
      "image 747/843 c:\\Users\\user\\myproject\\AI03-Project-1\\data\\raw\\test_images\\855.png: 640x512 1  10mg/, 26.6ms\n",
      "image 748/843 c:\\Users\\user\\myproject\\AI03-Project-1\\data\\raw\\test_images\\857.png: 640x512 1  20mg, 1 (), 15.6ms\n",
      "image 749/843 c:\\Users\\user\\myproject\\AI03-Project-1\\data\\raw\\test_images\\858.png: 640x512 1 (), 18.9ms\n",
      "image 750/843 c:\\Users\\user\\myproject\\AI03-Project-1\\data\\raw\\test_images\\86.png: 640x512 1  20mg, 1  500/20mg, 15.8ms\n",
      "image 751/843 c:\\Users\\user\\myproject\\AI03-Project-1\\data\\raw\\test_images\\861.png: 640x512 1  60mg/, 1  31.5mg/PTP, 26.5ms\n",
      "image 752/843 c:\\Users\\user\\myproject\\AI03-Project-1\\data\\raw\\test_images\\862.png: 640x512 1 10/5, 29.9ms\n",
      "image 753/843 c:\\Users\\user\\myproject\\AI03-Project-1\\data\\raw\\test_images\\864.png: 640x512 1 10/5, 20.5ms\n",
      "image 754/843 c:\\Users\\user\\myproject\\AI03-Project-1\\data\\raw\\test_images\\866.png: 640x512 (no detections), 15.6ms\n",
      "image 755/843 c:\\Users\\user\\myproject\\AI03-Project-1\\data\\raw\\test_images\\867.png: 640x512 1 (-3-90), 16.9ms\n",
      "image 756/843 c:\\Users\\user\\myproject\\AI03-Project-1\\data\\raw\\test_images\\868.png: 640x512 1  100/1000mg, 16.7ms\n",
      "image 757/843 c:\\Users\\user\\myproject\\AI03-Project-1\\data\\raw\\test_images\\869.png: 640x512 1  10/40mg, 1  100/1000mg, 18.3ms\n",
      "image 758/843 c:\\Users\\user\\myproject\\AI03-Project-1\\data\\raw\\test_images\\870.png: 640x512 1  10/40mg, 1  100/1000mg, 25.8ms\n",
      "image 759/843 c:\\Users\\user\\myproject\\AI03-Project-1\\data\\raw\\test_images\\873.png: 640x512 1  150mg, 18.3ms\n",
      "image 760/843 c:\\Users\\user\\myproject\\AI03-Project-1\\data\\raw\\test_images\\874.png: 640x512 1  100/1000mg, 19.8ms\n",
      "image 761/843 c:\\Users\\user\\myproject\\AI03-Project-1\\data\\raw\\test_images\\875.png: 640x512 1  100/1000mg, 20.1ms\n",
      "image 762/843 c:\\Users\\user\\myproject\\AI03-Project-1\\data\\raw\\test_images\\878.png: 640x512 1 10/5, 29.5ms\n",
      "image 763/843 c:\\Users\\user\\myproject\\AI03-Project-1\\data\\raw\\test_images\\879.png: 640x512 1  10/40mg, 1 10/5, 23.8ms\n",
      "image 764/843 c:\\Users\\user\\myproject\\AI03-Project-1\\data\\raw\\test_images\\88.png: 640x512 1  500/20mg, 21.5ms\n",
      "image 765/843 c:\\Users\\user\\myproject\\AI03-Project-1\\data\\raw\\test_images\\880.png: 640x512 1 8 650mg, 1  100mg/, 36.2ms\n",
      "image 766/843 c:\\Users\\user\\myproject\\AI03-Project-1\\data\\raw\\test_images\\882.png: 640x512 1 8 650mg, 1  100mg/, 18.0ms\n",
      "image 767/843 c:\\Users\\user\\myproject\\AI03-Project-1\\data\\raw\\test_images\\883.png: 640x512 1  5/100mg, 1 (), 20.3ms\n",
      "image 768/843 c:\\Users\\user\\myproject\\AI03-Project-1\\data\\raw\\test_images\\886.png: 640x512 1 (), 1  10/40mg, 23.9ms\n",
      "image 769/843 c:\\Users\\user\\myproject\\AI03-Project-1\\data\\raw\\test_images\\888.png: 640x512 1  10/40mg, 17.1ms\n",
      "image 770/843 c:\\Users\\user\\myproject\\AI03-Project-1\\data\\raw\\test_images\\889.png: 640x512 1  5/160mg, 1 (), 26.8ms\n",
      "image 771/843 c:\\Users\\user\\myproject\\AI03-Project-1\\data\\raw\\test_images\\89.png: 640x512 1  500/20mg, 24.4ms\n",
      "image 772/843 c:\\Users\\user\\myproject\\AI03-Project-1\\data\\raw\\test_images\\891.png: 640x512 1 (), 28.1ms\n",
      "image 773/843 c:\\Users\\user\\myproject\\AI03-Project-1\\data\\raw\\test_images\\894.png: 640x512 1 10/5, 29.5ms\n",
      "image 774/843 c:\\Users\\user\\myproject\\AI03-Project-1\\data\\raw\\test_images\\895.png: 640x512 1  800mg, 1 (), 28.9ms\n",
      "image 775/843 c:\\Users\\user\\myproject\\AI03-Project-1\\data\\raw\\test_images\\896.png: 640x512 1  800mg, 1 (), 17.7ms\n",
      "image 776/843 c:\\Users\\user\\myproject\\AI03-Project-1\\data\\raw\\test_images\\897.png: 640x512 1 (), 24.9ms\n",
      "image 777/843 c:\\Users\\user\\myproject\\AI03-Project-1\\data\\raw\\test_images\\898.png: 640x512 1 , 24.1ms\n",
      "image 778/843 c:\\Users\\user\\myproject\\AI03-Project-1\\data\\raw\\test_images\\9.png: 640x512 1  10/40mg, 25.4ms\n",
      "image 779/843 c:\\Users\\user\\myproject\\AI03-Project-1\\data\\raw\\test_images\\90.png: 640x512 1  500/20mg, 19.2ms\n",
      "image 780/843 c:\\Users\\user\\myproject\\AI03-Project-1\\data\\raw\\test_images\\900.png: 640x512 1 , 20.8ms\n",
      "image 781/843 c:\\Users\\user\\myproject\\AI03-Project-1\\data\\raw\\test_images\\904.png: 640x512 1  2.5/850mg, 16.3ms\n",
      "image 782/843 c:\\Users\\user\\myproject\\AI03-Project-1\\data\\raw\\test_images\\906.png: 640x512 1  2.5/850mg, 28.1ms\n",
      "image 783/843 c:\\Users\\user\\myproject\\AI03-Project-1\\data\\raw\\test_images\\908.png: 640x512 1 (), 18.3ms\n",
      "image 784/843 c:\\Users\\user\\myproject\\AI03-Project-1\\data\\raw\\test_images\\91.png: 640x512 1 , 18.6ms\n",
      "image 785/843 c:\\Users\\user\\myproject\\AI03-Project-1\\data\\raw\\test_images\\910.png: 640x512 1  50/850mg, 1  60mg, 1  4mg, 26.0ms\n",
      "image 786/843 c:\\Users\\user\\myproject\\AI03-Project-1\\data\\raw\\test_images\\912.png: 640x512 1  4mg, 26.6ms\n",
      "image 787/843 c:\\Users\\user\\myproject\\AI03-Project-1\\data\\raw\\test_images\\914.png: 640x512 1  10/40mg, 19.5ms\n",
      "image 788/843 c:\\Users\\user\\myproject\\AI03-Project-1\\data\\raw\\test_images\\915.png: 640x512 1 ()(), 1  10/40mg, 19.9ms\n",
      "image 789/843 c:\\Users\\user\\myproject\\AI03-Project-1\\data\\raw\\test_images\\916.png: 640x512 (no detections), 18.2ms\n",
      "image 790/843 c:\\Users\\user\\myproject\\AI03-Project-1\\data\\raw\\test_images\\919.png: 640x512 1  2.5/850mg, 1 10/5, 23.0ms\n",
      "image 791/843 c:\\Users\\user\\myproject\\AI03-Project-1\\data\\raw\\test_images\\920.png: 640x512 1  40/5mg, 1  2.5/850mg, 1 10/5, 29.9ms\n",
      "image 792/843 c:\\Users\\user\\myproject\\AI03-Project-1\\data\\raw\\test_images\\923.png: 640x512 1  50/850mg, 20.1ms\n",
      "image 793/843 c:\\Users\\user\\myproject\\AI03-Project-1\\data\\raw\\test_images\\925.png: 640x512 1  50/1000mg, 19.7ms\n",
      "image 794/843 c:\\Users\\user\\myproject\\AI03-Project-1\\data\\raw\\test_images\\927.png: 640x512 1  50/1000mg, 22.3ms\n",
      "image 795/843 c:\\Users\\user\\myproject\\AI03-Project-1\\data\\raw\\test_images\\929.png: 640x512 1  5/100mg, 1  100/1000mg, 16.7ms\n",
      "image 796/843 c:\\Users\\user\\myproject\\AI03-Project-1\\data\\raw\\test_images\\930.png: 640x512 1  5/100mg, 1  100/1000mg, 22.8ms\n",
      "image 797/843 c:\\Users\\user\\myproject\\AI03-Project-1\\data\\raw\\test_images\\931.png: 640x512 1  500/20mg, 16.7ms\n",
      "image 798/843 c:\\Users\\user\\myproject\\AI03-Project-1\\data\\raw\\test_images\\932.png: 640x512 1  500/20mg, 20.9ms\n",
      "image 799/843 c:\\Users\\user\\myproject\\AI03-Project-1\\data\\raw\\test_images\\933.png: 640x512 1  500/20mg, 21.0ms\n",
      "image 800/843 c:\\Users\\user\\myproject\\AI03-Project-1\\data\\raw\\test_images\\936.png: 640x512 1  60mg/, 1  31.5mg/PTP, 26.6ms\n",
      "image 801/843 c:\\Users\\user\\myproject\\AI03-Project-1\\data\\raw\\test_images\\937.png: 640x512 1  618.6mg/, 24.8ms\n",
      "image 802/843 c:\\Users\\user\\myproject\\AI03-Project-1\\data\\raw\\test_images\\938.png: 640x512 1  618.6mg/, 19.2ms\n",
      "image 803/843 c:\\Users\\user\\myproject\\AI03-Project-1\\data\\raw\\test_images\\940.png: 640x512 1  20mg, 1  150mg, 20.4ms\n",
      "image 804/843 c:\\Users\\user\\myproject\\AI03-Project-1\\data\\raw\\test_images\\941.png: 640x512 1  150mg, 17.2ms\n",
      "image 805/843 c:\\Users\\user\\myproject\\AI03-Project-1\\data\\raw\\test_images\\942.png: 640x512 1  20mg, 1  150mg, 34.5ms\n",
      "image 806/843 c:\\Users\\user\\myproject\\AI03-Project-1\\data\\raw\\test_images\\945.png: 640x512 1  50/850mg, 27.4ms\n",
      "image 807/843 c:\\Users\\user\\myproject\\AI03-Project-1\\data\\raw\\test_images\\947.png: 640x512 1  10/40mg, 1 (), 21.7ms\n",
      "image 808/843 c:\\Users\\user\\myproject\\AI03-Project-1\\data\\raw\\test_images\\948.png: 640x512 1 (), 20.2ms\n",
      "image 809/843 c:\\Users\\user\\myproject\\AI03-Project-1\\data\\raw\\test_images\\949.png: 640x512 1  2.5/850mg, 20.6ms\n",
      "image 810/843 c:\\Users\\user\\myproject\\AI03-Project-1\\data\\raw\\test_images\\95.png: 640x512 1  4mg, 1 , 23.1ms\n",
      "image 811/843 c:\\Users\\user\\myproject\\AI03-Project-1\\data\\raw\\test_images\\950.png: 640x512 1  2.5/850mg, 19.3ms\n",
      "image 812/843 c:\\Users\\user\\myproject\\AI03-Project-1\\data\\raw\\test_images\\951.png: 640x512 1  2.5/850mg, 19.0ms\n",
      "image 813/843 c:\\Users\\user\\myproject\\AI03-Project-1\\data\\raw\\test_images\\952.png: 640x512 1  5/100mg, 1  2.5/850mg, 17.1ms\n",
      "image 814/843 c:\\Users\\user\\myproject\\AI03-Project-1\\data\\raw\\test_images\\953.png: 640x512 1  5/100mg, 1  2.5/850mg, 19.2ms\n",
      "image 815/843 c:\\Users\\user\\myproject\\AI03-Project-1\\data\\raw\\test_images\\954.png: 640x512 1  5/100mg, 1  2.5/850mg, 17.2ms\n",
      "image 816/843 c:\\Users\\user\\myproject\\AI03-Project-1\\data\\raw\\test_images\\956.png: 640x512 1 , 16.0ms\n",
      "image 817/843 c:\\Users\\user\\myproject\\AI03-Project-1\\data\\raw\\test_images\\957.png: 640x512 1 , 18.2ms\n",
      "image 818/843 c:\\Users\\user\\myproject\\AI03-Project-1\\data\\raw\\test_images\\962.png: 640x512 1 , 18.2ms\n",
      "image 819/843 c:\\Users\\user\\myproject\\AI03-Project-1\\data\\raw\\test_images\\966.png: 640x512 1  500/20mg, 19.5ms\n",
      "image 820/843 c:\\Users\\user\\myproject\\AI03-Project-1\\data\\raw\\test_images\\967.png: 640x512 1  4mg, 1  25mg, 22.8ms\n",
      "image 821/843 c:\\Users\\user\\myproject\\AI03-Project-1\\data\\raw\\test_images\\968.png: 640x512 1  4mg, 1  25mg, 31.7ms\n",
      "image 822/843 c:\\Users\\user\\myproject\\AI03-Project-1\\data\\raw\\test_images\\97.png: 640x512 1  500/20mg, 23.5ms\n",
      "image 823/843 c:\\Users\\user\\myproject\\AI03-Project-1\\data\\raw\\test_images\\972.png: 640x512 1  20mg, 1 , 19.5ms\n",
      "image 824/843 c:\\Users\\user\\myproject\\AI03-Project-1\\data\\raw\\test_images\\973.png: 640x512 1  500/20mg, 20.4ms\n",
      "image 825/843 c:\\Users\\user\\myproject\\AI03-Project-1\\data\\raw\\test_images\\974.png: 640x512 1  500/20mg, 21.0ms\n",
      "image 826/843 c:\\Users\\user\\myproject\\AI03-Project-1\\data\\raw\\test_images\\975.png: 640x512 1  20mg, 1  500/20mg, 23.1ms\n",
      "image 827/843 c:\\Users\\user\\myproject\\AI03-Project-1\\data\\raw\\test_images\\979.png: 640x512 1 ()\\xa0, 1  20mg, 19.9ms\n",
      "image 828/843 c:\\Users\\user\\myproject\\AI03-Project-1\\data\\raw\\test_images\\980.png: 640x512 1 ()\\xa0, 1  20mg, 21.1ms\n",
      "image 829/843 c:\\Users\\user\\myproject\\AI03-Project-1\\data\\raw\\test_images\\982.png: 640x512 1 8 650mg, 1  100mg/, 20.1ms\n",
      "image 830/843 c:\\Users\\user\\myproject\\AI03-Project-1\\data\\raw\\test_images\\983.png: 640x512 1 8 650mg, 1  100mg/, 32.0ms\n",
      "image 831/843 c:\\Users\\user\\myproject\\AI03-Project-1\\data\\raw\\test_images\\984.png: 640x512 1 8 650mg, 1  100mg/, 25.5ms\n",
      "image 832/843 c:\\Users\\user\\myproject\\AI03-Project-1\\data\\raw\\test_images\\985.png: 640x512 1  10mg, 1 , 20.7ms\n",
      "image 833/843 c:\\Users\\user\\myproject\\AI03-Project-1\\data\\raw\\test_images\\986.png: 640x512 1  10mg, 1 , 18.4ms\n",
      "image 834/843 c:\\Users\\user\\myproject\\AI03-Project-1\\data\\raw\\test_images\\988.png: 640x512 1 10/5, 15.3ms\n",
      "image 835/843 c:\\Users\\user\\myproject\\AI03-Project-1\\data\\raw\\test_images\\989.png: 640x512 1 10/5, 37.1ms\n",
      "image 836/843 c:\\Users\\user\\myproject\\AI03-Project-1\\data\\raw\\test_images\\990.png: 640x512 1 10/5, 15.5ms\n",
      "image 837/843 c:\\Users\\user\\myproject\\AI03-Project-1\\data\\raw\\test_images\\991.png: 640x512 1 (), 16.1ms\n",
      "image 838/843 c:\\Users\\user\\myproject\\AI03-Project-1\\data\\raw\\test_images\\993.png: 640x512 1  100mg, 1 (), 20.8ms\n",
      "image 839/843 c:\\Users\\user\\myproject\\AI03-Project-1\\data\\raw\\test_images\\994.png: 640x512 1  10/40mg, 1  2.5/850mg, 21.0ms\n",
      "image 840/843 c:\\Users\\user\\myproject\\AI03-Project-1\\data\\raw\\test_images\\996.png: 640x512 1  2.5/850mg, 31.4ms\n",
      "image 841/843 c:\\Users\\user\\myproject\\AI03-Project-1\\data\\raw\\test_images\\997.png: 640x512 1  20mg, 1 , 31.1ms\n",
      "image 842/843 c:\\Users\\user\\myproject\\AI03-Project-1\\data\\raw\\test_images\\998.png: 640x512 1 , 19.0ms\n",
      "image 843/843 c:\\Users\\user\\myproject\\AI03-Project-1\\data\\raw\\test_images\\999.png: 640x512 1  20mg, 1 , 22.0ms\n",
      "Speed: 2.4ms preprocess, 21.1ms inference, 2.0ms postprocess per image at shape (1, 3, 640, 512)\n",
      "Results saved to \u001b[1myolov8_inference_results\\test_predictions_run\u001b[0m\n",
      "825 labels saved to yolov8_inference_results\\test_predictions_run\\labels\n",
      "\n",
      "YOLOv8 inference completed!\n",
      "Inference results saved to: yolov8_inference_results\n"
     ]
    }
   ],
   "source": [
    "\n",
    "\n",
    "# 테스트 이미지 폴더\n",
    "test_image_dir = DATA_ROOT / \"test_images\"\n",
    "\n",
    "if not test_image_dir.exists():\n",
    "    print(f\"Error: Test image directory not found at {test_image_dir}\")\n",
    "else:\n",
    "    print(f\"\\nStarting YOLOv8 inference on test images from: {test_image_dir}\")\n",
    "    # 추론 실행\n",
    "    # 'source' 인자에 이미지 폴더 경로 지정\n",
    "    # 'save=True': 결과 이미지 저장\n",
    "    # 'save_txt=True': YOLO 형식 텍스트 파일로 결과 저장 (class conf_score x_norm y_norm w_norm h_norm)\n",
    "    # 'save_conf=True': confidence score도 함께 저장\n",
    "    # 'conf': confidence threshold\n",
    "    # 'iou': NMS IoU threshold\n",
    "    inference_results = inference_model(\n",
    "        source=str(test_image_dir),\n",
    "        save=True,\n",
    "        save_txt=True,\n",
    "        save_conf=True,\n",
    "        conf=0.25, # 최소 confidence score (조절 가능)\n",
    "        iou=0.7,   # NMS (Non-Maximum Suppression) IOU threshold (조절 가능)\n",
    "        project='yolov8_inference_results', # 결과 저장할 상위 폴더\n",
    "        name='test_predictions_run', # 결과 저장할 하위 폴더\n",
    "        device=device\n",
    "    )\n",
    "\n",
    "    print(\"\\nYOLOv8 inference completed!\")\n",
    "    print(f\"Inference results saved to: {Path(inference_results[0].save_dir).parent}\")\n"
   ]
  },
  {
   "cell_type": "code",
   "execution_count": 26,
   "id": "2a1157f2",
   "metadata": {},
   "outputs": [
    {
     "name": "stdout",
     "output_type": "stream",
     "text": [
      "\n",
      "Displaying first inference result (if available)...\n"
     ]
    },
    {
     "data": {
      "text/plain": [
       "<Figure size 1000x1000 with 1 Axes>"
      ]
     },
     "metadata": {},
     "output_type": "display_data"
    },
    {
     "name": "stdout",
     "output_type": "stream",
     "text": [
      "\n",
      "First image's detections:\n",
      "  - Class: 울트라셋이알서방정 (YOLO ID: 51), Conf: 0.71, Bbox (norm xywh): [0.7440731525421143, 0.7150046229362488, 0.25946494936943054, 0.3749122619628906]\n",
      "  - Class: 동아가바펜틴정 800mg (YOLO ID: 23), Conf: 0.51, Bbox (norm xywh): [0.7732682228088379, 0.21376781165599823, 0.4012283384799957, 0.31664448976516724]\n",
      "  - Class: 놀텍정 10mg (YOLO ID: 44), Conf: 0.41, Bbox (norm xywh): [0.2690037488937378, 0.6942710280418396, 0.18370693922042847, 0.22784052789211273]\n",
      "\n",
      "Removed temporary YOLO label directory: \\Users\\user\\myproject\\AI03-Project-1\\data\\raw\\yolo_labels_temp\n"
     ]
    }
   ],
   "source": [
    "\n",
    "# 추론 결과 시각화 예시 (옵션)\n",
    "# inference_results는 Results 객체의 리스트입니다.\n",
    "if inference_results:\n",
    "    print(\"\\nDisplaying first inference result (if available)...\")\n",
    "    first_result = inference_results[0]\n",
    "    im_bgr = first_result.plot() # BGR 이미지 (OpenCV 형식)\n",
    "    im_rgb = cv2.cvtColor(im_bgr, cv2.COLOR_BGR2RGB) # RGB로 변환 (matplotlib용)\n",
    "\n",
    "    plt.figure(figsize=(10, 10))\n",
    "    plt.imshow(im_rgb)\n",
    "    plt.title(f\"Prediction for {Path(first_result.path).name}\")\n",
    "    plt.axis('off')\n",
    "    plt.show()\n",
    "\n",
    "    # 바운딩 박스 정보 출력 예시\n",
    "    print(\"\\nFirst image's detections:\")\n",
    "    for box_data in first_result.boxes:\n",
    "        cls = int(box_data.cls)\n",
    "        conf = float(box_data.conf)\n",
    "        xywh_norm = box_data.xywhn[0].tolist() # 정규화된 xywh\n",
    "\n",
    "        # YOLO 클래스 ID를 실제 카테고리 이름으로 변환\n",
    "        class_name = yolo_idx_to_name.get(cls, f\"Unknown_{cls}\")\n",
    "        print(f\"  - Class: {class_name} (YOLO ID: {cls}), Conf: {conf:.2f}, Bbox (norm xywh): {xywh_norm}\")\n",
    "\n",
    "# ====================================================================\n",
    "# (Optional) Clean up temporary files\n",
    "# ====================================================================\n",
    "shutil.rmtree(YOLO_LABELS_TEMP)\n",
    "print(f\"\\nRemoved temporary YOLO label directory: {YOLO_LABELS_TEMP}\")"
   ]
  },
  {
   "cell_type": "code",
   "execution_count": null,
   "id": "ebbcb293",
   "metadata": {},
   "outputs": [],
   "source": []
  }
 ],
 "metadata": {
  "kernelspec": {
   "display_name": "Python 3",
   "language": "python",
   "name": "python3"
  },
  "language_info": {
   "codemirror_mode": {
    "name": "ipython",
    "version": 3
   },
   "file_extension": ".py",
   "mimetype": "text/x-python",
   "name": "python",
   "nbconvert_exporter": "python",
   "pygments_lexer": "ipython3",
   "version": "3.12.10"
  }
 },
 "nbformat": 4,
 "nbformat_minor": 5
}
