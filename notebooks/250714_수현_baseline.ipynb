{
 "cells": [
  {
   "cell_type": "markdown",
   "id": "a3652fe3",
   "metadata": {},
   "source": [
    "## 0. Import Libraries"
   ]
  },
  {
   "cell_type": "code",
   "execution_count": 1,
   "id": "6c49bb2d",
   "metadata": {},
   "outputs": [
    {
     "name": "stderr",
     "output_type": "stream",
     "text": [
      "/home/soohyun/miniconda3/envs/JSH/lib/python3.13/site-packages/requests/__init__.py:86: RequestsDependencyWarning: Unable to find acceptable character detection dependency (chardet or charset_normalizer).\n",
      "  warnings.warn(\n"
     ]
    }
   ],
   "source": [
    "# ====================================================================\n",
    "# STEP 0: Import Libraries\n",
    "# ====================================================================\n",
    "# 과제에 사용할 library들을 import\n",
    "\n",
    "# 시스템 및 입출력 관련\n",
    "import os  # 디렉토리, 파일 경로 조작 등\n",
    "from PIL import Image  # 이미지 열기 및 처리 (Pillow)\n",
    "from tqdm import tqdm  # 반복문의 진행 상태 시각화\n",
    "from pathlib import Path  # payhon path\n",
    "import json\n",
    "\n",
    "\n",
    "# 시각화 도구\n",
    "import matplotlib.pyplot as plt  # 기본 시각화 라이브러리\n",
    "import seaborn as sns  # 고급 시각화 (히트맵, 스타일 등)\n",
    "\n",
    "# 이미지 처리\n",
    "import cv2  # OpenCV - 고급 이미지/비디오 처리\n",
    "\n",
    "# 수치 연산\n",
    "import numpy as np  # 배열, 벡터 계산 등\n",
    "\n",
    "# PyTorch 기본 구성\n",
    "import torch  # 텐서, 연산 등\n",
    "import torch.nn as nn  # 모델 정의 (layer, loss 등)\n",
    "import torch.nn.functional as F\n",
    "import torch.optim as optim  # Optimizer (SGD, Adam 등)\n",
    "\n",
    "# PyTorch 데이터 처리\n",
    "from torch.utils.data import Dataset, DataLoader  # 커스텀 데이터셋, 배치 로딩\n",
    "\n",
    "# PyTorch 이미지 전처리\n",
    "import torchvision\n",
    "from torchvision import transforms  # 기본 이미지 transform\n",
    "from torchvision import datasets  # torchvision 내장 데이터셋\n",
    "import torchvision.models as models\n",
    "\n",
    "from torchvision.transforms import v2  # torchvision v2 transforms (최신 API)\n",
    "\n",
    "# 싸이킷런 평가 지표\n",
    "from sklearn.metrics import precision_score, recall_score, f1_score, confusion_matrix\n",
    "\n",
    "# 싸이킷런 데이터 나누기\n",
    "from sklearn.model_selection import train_test_split\n",
    "\n",
    "# 통계 tool\n",
    "import pandas as pd\n",
    "\n",
    "# 실험 추적 및 하이퍼파라미터 관리\n",
    "import wandb  # Weights & Biases - 실험 로깅, 시각화, 하이퍼파라미터 튜닝\n",
    "\n",
    "# Garbage Collector 모듈\n",
    "import gc\n",
    "\n",
    "# Data Augmentation 패키지: Albumentations\n",
    "import albumentations as A"
   ]
  },
  {
   "cell_type": "markdown",
   "id": "938bfea0",
   "metadata": {},
   "source": [
    "## 1. Set configuration"
   ]
  },
  {
   "cell_type": "code",
   "execution_count": 2,
   "id": "fab778e2",
   "metadata": {},
   "outputs": [
    {
     "name": "stdout",
     "output_type": "stream",
     "text": [
      "Using device: cuda\n"
     ]
    }
   ],
   "source": [
    "# ====================================================================\n",
    "# STEP 1: Configuration 설정\n",
    "# ====================================================================\n",
    "# 하이퍼파라미터 및 경로 등 실험에 필요한 설정들을 모아둠\n",
    "# 실험 추적 및 재현성을 위해 모든 값은 여기에서 수정하고자 함\n",
    "\n",
    "# 디바이스 설정\n",
    "device = \"cuda\" if torch.cuda.is_available() else \"cpu\"\n",
    "print(f\"Using device: {device}\")\n",
    "\n",
    "# 주요 하이퍼파라미터\n",
    "LEARNING_RATE = 1e-4  # 학습률 (optimizer용)\n",
    "BATCH_SIZE = 16  # 배치 크기\n",
    "NUM_EPOCHS = 100  # 학습 epoch 수\n",
    "SEED = 42  # 재현성을 위한 random seed\n",
    "\n",
    "# 데이터 경로 설정\n",
    "# DATA_ROOT = path\n",
    "# train_dir = os.path.join(DATA_ROOT, \"train\")\n",
    "# val_dir = os.path.join(DATA_ROOT, \"val\")\n",
    "# test_dir = os.path.join(DATA_ROOT, \"test\")\n",
    "\n",
    "# 모델 설정\n",
    "MODEL_NAME = \"PROJECT1_baseline\"  # 또는 \"EfficientNet\", 등등\n",
    "USE_PRETRAINED = True  # torchvision 모델 사용 여부\n",
    "\n",
    "# 학습 고도화 설정 (Optional)\n",
    "USE_SCHEDULER = True  # Learning rate scheduler 사용 여부\n",
    "EARLY_STOPPING = True  # Early stopping 적용 여부\n",
    "AUGMENTATION = True  # 데이터 증강 사용 여부\n",
    "\n",
    "# 실험 로깅용 설정\n",
    "USE_WANDB = True\n",
    "WANDB_PROJECT = \"cats-and-dogs-breeds-classification-oxford-dataset\"\n",
    "RUN_NAME = f\"{MODEL_NAME}_bs{BATCH_SIZE}_lr{LEARNING_RATE}\""
   ]
  },
  {
   "cell_type": "markdown",
   "id": "37e29721",
   "metadata": {},
   "source": [
    "## 2. Data pre-processing"
   ]
  },
  {
   "cell_type": "code",
   "execution_count": 3,
   "id": "1425639a",
   "metadata": {},
   "outputs": [
    {
     "data": {
      "text/plain": [
       "'../data/raw/ai03-level1-project/train_images'"
      ]
     },
     "execution_count": 3,
     "metadata": {},
     "output_type": "execute_result"
    }
   ],
   "source": [
    "# ====================================================================\\n\",\n",
    "# STEP 2: Data Pre-processing\\n\",\n",
    "# ====================================================================\\n\",\n",
    "\n",
    "# 데이터셋 경로 (수정 필요)\n",
    "DATA_ROOT = \"../data/raw/ai03-level1-project/\"  # 경로\n",
    "train_image_dir = os.path.join(DATA_ROOT, \"train_images\")\n",
    "train_ann_dir = os.path.join(DATA_ROOT, \"train_annotations\")\n",
    "test_image_dir = os.path.join(DATA_ROOT, \"test_images\")\n",
    "train_image_dir"
   ]
  },
  {
   "cell_type": "code",
   "execution_count": 4,
   "id": "dc80dca0",
   "metadata": {},
   "outputs": [
    {
     "name": "stdout",
     "output_type": "stream",
     "text": [
      "어노테이션 디렉토리 경로: ../data/raw/ai03-level1-project/train_annotations\n",
      "경로가 존재하나요? -> True\n",
      "디렉토리 내 파일 목록 (상위 5개): ['K-003544-010221-016551-021026_json', 'K-003483-027733-028763-029667_json', 'K-003483-020238-027733-031885_json', 'K-002483-012081-023223-025438_json', 'K-003483-016232-022347-025469_json']\n",
      "찾은 JSON 파일 개수: 0개\n"
     ]
    }
   ],
   "source": [
    "# --- 경로 및 파일 존재 여부 확인 ---\n",
    "\n",
    "# 1. 어노테이션 디렉토리 경로가 실제로 존재하는지 확인\n",
    "print(f\"어노테이션 디렉토리 경로: {train_ann_dir}\")\n",
    "print(f\"경로가 존재하나요? -> {os.path.exists(train_ann_dir)}\")\n",
    "\n",
    "# 2. 해당 디렉토리 안에 파일이 뭐가 있는지 확인 (상위 5개만)\n",
    "if os.path.exists(train_ann_dir):\n",
    "    file_list = os.listdir(train_ann_dir)\n",
    "    print(f\"디렉토리 내 파일 목록 (상위 5개): {file_list[:5]}\")\n",
    "\n",
    "    # 3. 그 중에서 .json으로 끝나는 파일이 몇 개나 있는지 확인\n",
    "    json_file_list = [f for f in file_list if f.endswith(\".json\")]\n",
    "    print(f\"찾은 JSON 파일 개수: {len(json_file_list)}개\")\n",
    "else:\n",
    "    print(\n",
    "        \"경로를 찾을 수 없어요. DATA_ROOT나 train_ann_dir 경로 설정을 다시 확인해주세요!\"\n",
    "    )"
   ]
  },
  {
   "cell_type": "code",
   "execution_count": null,
   "id": "041ab614",
   "metadata": {},
   "outputs": [
    {
     "name": "stdout",
     "output_type": "stream",
     "text": [
      "'../data/raw/ai03-level1-project/train_annotations/K-003544-010221-016551-021026_json' 폴더 내부를 확인합니다.\n",
      "폴더 내용물: ['K-010221', 'K-003544', 'K-021026', 'K-016551']\n"
     ]
    }
   ],
   "source": [
    "# --- 폴더 내부 확인 ---\n",
    "\n",
    "# 경고가 발생한 폴더 중 하나를 샘플로 지정\n",
    "sample_folder_name = \"K-003544-010221-016551-021026_json\"\n",
    "sample_folder_path = os.path.join(train_ann_dir, sample_folder_name)\n",
    "\n",
    "print(f\"'{sample_folder_path}' 폴더 내부를 확인합니다.\")\n",
    "\n",
    "# 폴더가 실제로 존재하는지 다시 한번 확인하고,\n",
    "if os.path.exists(sample_folder_path) and os.path.isdir(sample_folder_path):\n",
    "    # 폴더 안의 파일/폴더 목록을 보여줘!\n",
    "    contents = os.listdir(sample_folder_path)\n",
    "    print(f\"폴더 내용물: {contents}\")\n",
    "else:\n",
    "    print(\"샘플 폴더를 찾을 수 없어요. 이전 단계의 폴더 목록을 다시 확인해주세요.\")"
   ]
  },
  {
   "cell_type": "code",
   "execution_count": 6,
   "id": "ed807bcf",
   "metadata": {},
   "outputs": [
    {
     "name": "stdout",
     "output_type": "stream",
     "text": [
      "--- 최종 점검 ---\n",
      "점검 대상: ../data/raw/ai03-level1-project/train_annotations/K-003544-010221-016551-021026_json/K-010221\n",
      "1. 이 경로가 존재하나요? -> True\n",
      "2. '파일' 인가요? -> False\n",
      "3. '폴더' 인가요? -> True\n",
      "\n",
      "이것도 폴더였네요! 'K-010221' 폴더 안을 확인합니다...\n",
      "-> 내용물: ['K-003544-010221-016551-021026_0_2_0_2_75_000_200.json', 'K-003544-010221-016551-021026_0_2_0_2_90_000_200.json', 'K-003544-010221-016551-021026_0_2_0_2_70_000_200.json']\n"
     ]
    }
   ],
   "source": [
    "# --- 하나의 경로에 대한 정밀 분석 ---\n",
    "\n",
    "# 1. 이미지 어노테이션 폴더 경로\n",
    "image_dir_path = os.path.join(train_ann_dir, \"K-003544-010221-016551-021026_json\")\n",
    "\n",
    "# 2. 그 안에 있던 항목 중 하나\n",
    "item_name = \"K-010221\"\n",
    "\n",
    "# 3. 분석할 대상의 전체 경로\n",
    "full_item_path = os.path.join(image_dir_path, item_name)\n",
    "\n",
    "print(f\"--- 최종 점검 ---\")\n",
    "print(f\"점검 대상: {full_item_path}\")\n",
    "\n",
    "# 경로가 실제로 존재하는지 확인\n",
    "exists = os.path.exists(full_item_path)\n",
    "print(f\"1. 이 경로가 존재하나요? -> {exists}\")\n",
    "\n",
    "if exists:\n",
    "    # 파일인지 확인\n",
    "    is_file = os.path.isfile(full_item_path)\n",
    "    print(f\"2. '파일' 인가요? -> {is_file}\")\n",
    "\n",
    "    # 폴더인지 확인\n",
    "    is_dir = os.path.isdir(full_item_path)\n",
    "    print(f\"3. '폴더' 인가요? -> {is_dir}\")\n",
    "\n",
    "    # 만약 폴더라면, 그 안의 내용물까지 확인해보자\n",
    "    if is_dir:\n",
    "        print(f\"\\n이것도 폴더였네요! '{item_name}' 폴더 안을 확인합니다...\")\n",
    "        print(f\"-> 내용물: {os.listdir(full_item_path)}\")\n",
    "    # 만약 파일이라면, 내용을 한번 읽어보자\n",
    "    elif is_file:\n",
    "        print(f\"\\n파일이 맞습니다! 내용을 확인합니다...\")\n",
    "        try:\n",
    "            with open(full_item_path, \"r\") as f:\n",
    "                print(f.read())\n",
    "        except Exception as e:\n",
    "            print(f\"파일을 읽는데 실패했습니다: {e}\")"
   ]
  },
  {
   "cell_type": "code",
   "execution_count": null,
   "id": "2d7211df",
   "metadata": {},
   "outputs": [
    {
     "name": "stdout",
     "output_type": "stream",
     "text": [
      "어노테이션 디렉토리 경로: ../data/raw/ai03-level1-project/train_annotations\n",
      "총 498개의 이미지를 처리합니다.\n"
     ]
    },
    {
     "name": "stderr",
     "output_type": "stream",
     "text": [
      "[L1] Images: 100%|██████████| 498/498 [00:00<00:00, 3256.41it/s]"
     ]
    },
    {
     "name": "stdout",
     "output_type": "stream",
     "text": [
      "\n",
      "\n",
      "--- 데이터 로드 최종 완료! ---\n"
     ]
    },
    {
     "name": "stderr",
     "output_type": "stream",
     "text": [
      "\n"
     ]
    },
    {
     "data": {
      "text/html": [
       "<div>\n",
       "<style scoped>\n",
       "    .dataframe tbody tr th:only-of-type {\n",
       "        vertical-align: middle;\n",
       "    }\n",
       "\n",
       "    .dataframe tbody tr th {\n",
       "        vertical-align: top;\n",
       "    }\n",
       "\n",
       "    .dataframe thead th {\n",
       "        text-align: right;\n",
       "    }\n",
       "</style>\n",
       "<table border=\"1\" class=\"dataframe\">\n",
       "  <thead>\n",
       "    <tr style=\"text-align: right;\">\n",
       "      <th></th>\n",
       "      <th>image_id</th>\n",
       "      <th>file_name</th>\n",
       "      <th>category_id</th>\n",
       "      <th>class_name</th>\n",
       "      <th>bbox</th>\n",
       "    </tr>\n",
       "  </thead>\n",
       "  <tbody>\n",
       "    <tr>\n",
       "      <th>0</th>\n",
       "      <td>895</td>\n",
       "      <td>K-003544-010221-016551-021026_0_2_0_2_75_000_2...</td>\n",
       "      <td>10220</td>\n",
       "      <td>쎄로켈정 100mg</td>\n",
       "      <td>[584, 774, 227, 223]</td>\n",
       "    </tr>\n",
       "    <tr>\n",
       "      <th>1</th>\n",
       "      <td>896</td>\n",
       "      <td>K-003544-010221-016551-021026_0_2_0_2_90_000_2...</td>\n",
       "      <td>3543</td>\n",
       "      <td>무코스타정(레바미피드)(비매품)</td>\n",
       "      <td>[110, 234, 207, 200]</td>\n",
       "    </tr>\n",
       "    <tr>\n",
       "      <th>2</th>\n",
       "      <td>895</td>\n",
       "      <td>K-003544-010221-016551-021026_0_2_0_2_75_000_2...</td>\n",
       "      <td>21025</td>\n",
       "      <td>펠루비정(펠루비프로펜)</td>\n",
       "      <td>[101, 821, 178, 180]</td>\n",
       "    </tr>\n",
       "    <tr>\n",
       "      <th>3</th>\n",
       "      <td>895</td>\n",
       "      <td>K-003544-010221-016551-021026_0_2_0_2_75_000_2...</td>\n",
       "      <td>16550</td>\n",
       "      <td>동아가바펜틴정 800mg</td>\n",
       "      <td>[534, 42, 296, 458]</td>\n",
       "    </tr>\n",
       "    <tr>\n",
       "      <th>4</th>\n",
       "      <td>1310</td>\n",
       "      <td>K-003483-027733-028763-029667_0_2_0_2_90_000_2...</td>\n",
       "      <td>28762</td>\n",
       "      <td>트라젠타정(리나글립틴)</td>\n",
       "      <td>[194, 195, 212, 202]</td>\n",
       "    </tr>\n",
       "  </tbody>\n",
       "</table>\n",
       "</div>"
      ],
      "text/plain": [
       "   image_id                                          file_name  category_id  \\\n",
       "0       895  K-003544-010221-016551-021026_0_2_0_2_75_000_2...        10220   \n",
       "1       896  K-003544-010221-016551-021026_0_2_0_2_90_000_2...         3543   \n",
       "2       895  K-003544-010221-016551-021026_0_2_0_2_75_000_2...        21025   \n",
       "3       895  K-003544-010221-016551-021026_0_2_0_2_75_000_2...        16550   \n",
       "4      1310  K-003483-027733-028763-029667_0_2_0_2_90_000_2...        28762   \n",
       "\n",
       "          class_name                  bbox  \n",
       "0         쎄로켈정 100mg  [584, 774, 227, 223]  \n",
       "1  무코스타정(레바미피드)(비매품)  [110, 234, 207, 200]  \n",
       "2       펠루비정(펠루비프로펜)  [101, 821, 178, 180]  \n",
       "3      동아가바펜틴정 800mg   [534, 42, 296, 458]  \n",
       "4       트라젠타정(리나글립틴)  [194, 195, 212, 202]  "
      ]
     },
     "execution_count": 7,
     "metadata": {},
     "output_type": "execute_result"
    }
   ],
   "source": [
    "import pandas as pd\n",
    "import os\n",
    "import json\n",
    "from tqdm import tqdm\n",
    "\n",
    "\n",
    "print(f\"어노테이션 디렉토리 경로: {train_ann_dir}\")\n",
    "\n",
    "# Level 1: 이미지별 폴더 목록\n",
    "image_level_dirs = os.listdir(train_ann_dir)\n",
    "print(f\"총 {len(image_level_dirs)}개의 이미지를 처리합니다.\")\n",
    "\n",
    "all_annotations = []\n",
    "\n",
    "# Level 1 순회 (이미지 폴더)\n",
    "for image_dir_name in tqdm(image_level_dirs, desc=\"[L1] Images\"):\n",
    "    image_dir_path = os.path.join(train_ann_dir, image_dir_name)\n",
    "    if not os.path.isdir(image_dir_path):\n",
    "        continue\n",
    "\n",
    "    # Level 2: 이미지 폴더 안의 알약 종류 폴더 목록\n",
    "    pill_level_dirs = os.listdir(image_dir_path)\n",
    "\n",
    "    # Level 2 순회 (알약 종류 폴더)\n",
    "    for pill_dir_name in pill_level_dirs:\n",
    "        pill_dir_path = os.path.join(image_dir_path, pill_dir_name)\n",
    "        if not os.path.isdir(pill_dir_path):\n",
    "            continue\n",
    "\n",
    "        # Level 3: 실제 .json 파일 목록\n",
    "        json_files = [f for f in os.listdir(pill_dir_path) if f.endswith(\".json\")]\n",
    "\n",
    "        # .json 파일이 있다면, 그 중 첫 번째 파일만 사용\n",
    "        if json_files:\n",
    "            json_file_path = os.path.join(pill_dir_path, json_files[0])\n",
    "\n",
    "            try:\n",
    "                # 한글 깨짐 방지를 위해 encoding='utf-8' 추가\n",
    "                with open(json_file_path, \"r\", encoding=\"utf-8\") as f:\n",
    "                    ann_data = json.load(f)\n",
    "\n",
    "                    image_info = ann_data.get(\"images\", [{}])[0]\n",
    "                    annotation_info = ann_data.get(\"annotations\", [{}])[0]\n",
    "                    category_info = ann_data.get(\"categories\", [{}])[0]\n",
    "\n",
    "                    all_annotations.append(\n",
    "                        {\n",
    "                            \"image_id\": image_info.get(\"id\"),\n",
    "                            \"file_name\": image_info.get(\"file_name\"),\n",
    "                            \"category_id\": category_info.get(\"id\"),\n",
    "                            \"class_name\": category_info.get(\"name\"),\n",
    "                            \"bbox\": annotation_info.get(\"bbox\"),\n",
    "                        }\n",
    "                    )\n",
    "            except Exception as e:\n",
    "                print(f\"\\n파일 처리 에러: {json_file_path}, 에러: {e}\")\n",
    "\n",
    "# 전처리된 DataFrame을 csv 파일로 저장\n",
    "save_path = \"../data/processed/train_df.csv\"\n",
    "os.makedirs(os.path.dirname(save_path), exist_ok=True) # 폴더가 없으면 만들어줌\n",
    "df.to_csv(save_path, index=False)\n",
    "\n",
    "\n",
    "# 최종 DataFrame 생성\n",
    "train_df = pd.DataFrame(all_annotations)\n",
    "print(\"\\n\\n--- 데이터 로드 최종 완료! ---\")\n",
    "\n",
    "test_df = pd.DataFrame({\"file_name\": os.listdir(test_image_dir)})\n",
    "\n",
    "\n",
    "# 이제 df.head()를 확인해보자!\n",
    "train_df.head()"
   ]
  },
  {
   "cell_type": "code",
   "execution_count": 9,
   "id": "f8389d88",
   "metadata": {},
   "outputs": [
    {
     "name": "stdout",
     "output_type": "stream",
     "text": [
      "--- DataFrame Info ---\n",
      "<class 'pandas.core.frame.DataFrame'>\n",
      "RangeIndex: 1876 entries, 0 to 1875\n",
      "Data columns (total 5 columns):\n",
      " #   Column       Non-Null Count  Dtype \n",
      "---  ------       --------------  ----- \n",
      " 0   image_id     1876 non-null   int64 \n",
      " 1   file_name    1876 non-null   object\n",
      " 2   category_id  1876 non-null   int64 \n",
      " 3   class_name   1876 non-null   object\n",
      " 4   bbox         1876 non-null   object\n",
      "dtypes: int64(2), object(3)\n",
      "memory usage: 73.4+ KB\n"
     ]
    }
   ],
   "source": [
    "# DataFrame의 전체적인 정보 출력\n",
    "print(\"--- DataFrame Info ---\")\n",
    "train_df.info()"
   ]
  },
  {
   "cell_type": "code",
   "execution_count": 10,
   "id": "e7a685b9",
   "metadata": {},
   "outputs": [
    {
     "name": "stdout",
     "output_type": "stream",
     "text": [
      "--- 클래스별 알약 개수 (상위 10개) ---\n"
     ]
    },
    {
     "data": {
      "text/plain": [
       "class_name\n",
       "기넥신에프정(은행엽엑스)(수출용)       206\n",
       "일양하이트린정 2mg               98\n",
       "뮤테란캡슐 100mg               74\n",
       "보령부스파정 5mg                74\n",
       "동아가바펜틴정 800mg             58\n",
       "가바토파정 100mg               58\n",
       "리바로정 4mg                  46\n",
       "아토젯정 10/40mg              46\n",
       "리피토정 20mg                 45\n",
       "크레스토정 20mg                45\n",
       "로수젯정10/5밀리그램              44\n",
       "무코스타정(레바미피드)(비매품)         41\n",
       "플라빅스정 75mg                40\n",
       "트윈스타정 40/5mg              36\n",
       "카나브정 60mg                 35\n",
       "트라젠타정(리나글립틴)              35\n",
       "자누메트엑스알서방정 100/1000mg     35\n",
       "세비카정 10/40mg              35\n",
       "아모잘탄정 5/100mg             34\n",
       "자누메트정 50/850mg            34\n",
       "Name: count, dtype: int64"
      ]
     },
     "execution_count": 10,
     "metadata": {},
     "output_type": "execute_result"
    }
   ],
   "source": [
    "# 1. 클래스(알약 이름)별 개수 세기\n",
    "class_counts = train_df[\"class_name\"].value_counts()\n",
    "print(\"--- 클래스별 알약 개수 (상위 10개) ---\")\n",
    "class_counts.head(20)"
   ]
  },
  {
   "cell_type": "code",
   "execution_count": 11,
   "id": "31884683",
   "metadata": {},
   "outputs": [
    {
     "name": "stdout",
     "output_type": "stream",
     "text": [
      "--- 이미지 당 알약 개수 통계 ---\n",
      "count    804.000000\n",
      "mean       2.333333\n",
      "std        1.127416\n",
      "min        1.000000\n",
      "25%        1.000000\n",
      "50%        2.000000\n",
      "75%        3.000000\n",
      "max        4.000000\n",
      "dtype: float64\n"
     ]
    },
    {
     "data": {
      "image/png": "[encoded data removed]",
      "text/plain": [
       "<Figure size 1000x600 with 1 Axes>"
      ]
     },
     "metadata": {},
     "output_type": "display_data"
    }
   ],
   "source": [
    "# 이미지 ID(file_name)로 그룹화하여 각 이미지에 몇 개의 알약이 있는지 계산\n",
    "pills_per_image = train_df.groupby(\"file_name\").size()\n",
    "\n",
    "print(\"--- 이미지 당 알약 개수 통계 ---\")\n",
    "print(pills_per_image.describe())\n",
    "\n",
    "# 히스토그램으로 시각화\n",
    "plt.figure(figsize=(10, 6))\n",
    "sns.histplot(pills_per_image, bins=pills_per_image.max(), kde=False)\n",
    "plt.title(\"Distribution of Pills per Image\", fontsize=16)\n",
    "plt.xlabel(\"Number of Pills\", fontsize=12)\n",
    "plt.ylabel(\"Number of Images\", fontsize=12)\n",
    "plt.xticks(range(1, pills_per_image.max() + 1))\n",
    "plt.grid(axis=\"y\")\n",
    "plt.show()"
   ]
  },
  {
   "cell_type": "code",
   "execution_count": 12,
   "id": "6d5785c5",
   "metadata": {},
   "outputs": [],
   "source": [
    "# 사용자 정의 데이터셋 클래스\n",
    "class PillDataset(Dataset):\n",
    "    # --- 변경점 1: mode 파라미터 추가 및 df를 직접 받도록 수정 ---\n",
    "    def __init__(self, df, image_dir, mode=\"train\", transforms=None):\n",
    "        self.df = df\n",
    "        self.image_dir = Path(image_dir)\n",
    "        self.mode = mode\n",
    "        self.transforms = transforms\n",
    "\n",
    "        # --- 변경점 2: image_ids를 미리 뽑아 중복을 제거 ---\n",
    "        # df['file_name']을 사용하면 이미지 파일 이름으로 고유한 이미지를 식별할 수 있어.\n",
    "        self.image_ids = self.df[\"file_name\"].unique()\n",
    "\n",
    "    def __len__(self):\n",
    "        # --- 변경점 3: 고유한 이미지의 개수를 반환 ---\n",
    "        return len(self.image_ids)\n",
    "\n",
    "    def __getitem__(self, idx):\n",
    "        # 고유 이미지 ID(파일 이름)를 가져옴\n",
    "        image_id = self.image_ids[idx]\n",
    "        image_path = self.image_dir / image_id\n",
    "\n",
    "        # 이미지 로드\n",
    "        image = cv2.imread(str(image_path))\n",
    "        image = cv2.cvtColor(image, cv2.COLOR_BGR2RGB)\n",
    "\n",
    "        # --- 변경점 4: mode에 따라 다르게 동작 ---\n",
    "        # 학습 모드일 경우, 어노테이션(target)까지 준비\n",
    "        if self.mode == \"train\":\n",
    "            # 현재 이미지에 해당하는 모든 어노테이션(알약)을 df에서 필터링\n",
    "            records = self.df[self.df[\"file_name\"] == image_id]\n",
    "\n",
    "            boxes = records[[\"bbox_x\", \"bbox_y\", \"bbox_w\", \"bbox_h\"]].values\n",
    "            # bbox: [x, y, w, h] -> [xmin, ymin, xmax, ymax]\n",
    "            boxes[:, 2] = boxes[:, 0] + boxes[:, 2]\n",
    "            boxes[:, 3] = boxes[:, 1] + boxes[:, 3]\n",
    "\n",
    "            labels = records[\"category_id\"].values\n",
    "\n",
    "            target = {\n",
    "                \"boxes\": torch.as_tensor(boxes, dtype=torch.float32),\n",
    "                \"labels\": torch.as_tensor(labels, dtype=torch.int64),\n",
    "            }\n",
    "\n",
    "            # Augmentation 적용\n",
    "            if self.transforms:\n",
    "                transformed = self.transforms(\n",
    "                    image=image, bboxes=target[\"boxes\"], labels=target[\"labels\"]\n",
    "                )\n",
    "                image = transformed[\"image\"]\n",
    "                target[\"boxes\"] = torch.as_tensor(\n",
    "                    transformed[\"bboxes\"], dtype=torch.float32\n",
    "                )\n",
    "                if len(target[\"boxes\"]) == 0:\n",
    "                    target[\"boxes\"] = torch.zeros((0, 4), dtype=torch.float32)\n",
    "\n",
    "            return image, target\n",
    "\n",
    "        # 테스트 모드일 경우, 이미지와 파일 이름만 반환\n",
    "        elif self.mode == \"test\":\n",
    "            # 테스트 시에는 보통 기본적인 리사이즈, 정규화만 적용\n",
    "            if self.transforms:\n",
    "                transformed = self.transforms(image=image)\n",
    "                image = transformed[\"image\"]\n",
    "\n",
    "            # 나중에 예측 결과를 이미지와 매칭시키기 위해 파일 이름을 반환\n",
    "            return image, image_id"
   ]
  },
  {
   "cell_type": "code",
   "execution_count": 14,
   "id": "d46ca451",
   "metadata": {},
   "outputs": [
    {
     "name": "stdout",
     "output_type": "stream",
     "text": [
      "DataLoaders are ready.\n",
      "Number of training samples: 804\n",
      "Number of validation samples: 53\n"
     ]
    }
   ],
   "source": [
    "# 데이터 증강 (Augmentation) 정의\n",
    "# Albumentations를 사용하는 것이 바운딩 박스 변환에 더 유리해\n",
    "train_transforms = A.Compose(\n",
    "    [\n",
    "        A.Resize(512, 512),\n",
    "        A.HorizontalFlip(p=0.5),\n",
    "        A.RandomBrightnessContrast(p=0.2),\n",
    "        A.Normalize(mean=(0.485, 0.456, 0.406), std=(0.229, 0.224, 0.225)),\n",
    "        # PyTorch 텐서로 변환\n",
    "        A.pytorch.ToTensorV2(),\n",
    "    ],\n",
    "    bbox_params=A.BboxParams(format=\"pascal_voc\", label_fields=[\"labels\"]),\n",
    ")  # bbox 형식은 pascal_voc: [xmin, ymin, xmax, ymax]\n",
    "\n",
    "test_transforms = A.Compose(\n",
    "    [\n",
    "        A.Resize(512, 512),\n",
    "        A.Normalize(mean=(0.485, 0.456, 0.406), std=(0.229, 0.224, 0.225)),\n",
    "        A.pytorch.ToTensorV2(),\n",
    "    ],\n",
    "    bbox_params=A.BboxParams(format=\"pascal_voc\", label_fields=[\"labels\"]),\n",
    ")\n",
    "\n",
    "\n",
    "# 데이터셋 인스턴스 생성\n",
    "train_dataset = PillDataset(\n",
    "    df=train_df, image_dir=train_image_dir, mode=\"train\", transforms=train_transforms\n",
    ")\n",
    "test_dataset = PillDataset(\n",
    "    df=test_df, image_dir=test_image_dir, mode=\"test\", transforms=test_transforms\n",
    ")  # Augmentation은 보통 검증용과 동일하게 적용\n",
    "\n",
    "\n",
    "# DataLoader를 위한 collate_fn. 이미지와 타겟을 리스트로 묶어줌\n",
    "def collate_fn(batch):\n",
    "    return tuple(zip(*batch))\n",
    "\n",
    "\n",
    "# 데이터 로더 생성 (실제 데이터셋 경로 설정 후 주석 해제)\n",
    "train_loader = DataLoader(\n",
    "    train_dataset, batch_size=BATCH_SIZE, shuffle=True, collate_fn=collate_fn\n",
    ")\n",
    "test_loader = DataLoader(\n",
    "    test_dataset, batch_size=BATCH_SIZE, shuffle=False, collate_fn=collate_fn\n",
    ")\n",
    "\n",
    "print(\"DataLoaders are ready.\")\n",
    "print(f\"Number of training samples: {len(train_dataset)}\")\n",
    "print(f\"Number of validation samples: {len(test_loader)}\")"
   ]
  },
  {
   "cell_type": "markdown",
   "id": "be61a8d7",
   "metadata": {},
   "source": [
    "## 3. Model implementation"
   ]
  },
  {
   "cell_type": "code",
   "execution_count": null,
   "id": "3a26c3d1",
   "metadata": {},
   "outputs": [],
   "source": []
  },
  {
   "cell_type": "markdown",
   "id": "b21bc158",
   "metadata": {},
   "source": [
    "## 4. Train and Evaluate models"
   ]
  },
  {
   "cell_type": "markdown",
   "id": "28b287fe",
   "metadata": {},
   "source": [
    "## 5. Train and Evaluate a model"
   ]
  },
  {
   "cell_type": "markdown",
   "id": "4f55c038",
   "metadata": {},
   "source": [
    "## 6. Results & Disscussion"
   ]
  },
  {
   "cell_type": "markdown",
   "id": "62e4ed03",
   "metadata": {},
   "source": [
    "## 7. Conclusion"
   ]
  }
 ],
 "metadata": {
  "kernelspec": {
   "display_name": "JSH",
   "language": "python",
   "name": "python3"
  },
  "language_info": {
   "codemirror_mode": {
    "name": "ipython",
    "version": 3
   },
   "file_extension": ".py",
   "mimetype": "text/x-python",
   "name": "python",
   "nbconvert_exporter": "python",
   "pygments_lexer": "ipython3",
   "version": "3.12.8"
  }
 },
 "nbformat": 4,
 "nbformat_minor": 5
}
