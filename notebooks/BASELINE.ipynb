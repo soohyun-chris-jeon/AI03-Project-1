{
 "cells": [
  {
   "cell_type": "markdown",
   "id": "edbe8d54",
   "metadata": {},
   "source": [
    "이 파일에다가 작업하지 마시고 각자 복사해서 써주세요!"
   ]
  },
  {
   "cell_type": "markdown",
   "id": "0b1ee864",
   "metadata": {},
   "source": [
    "## 0. Configurations"
   ]
  },
  {
   "cell_type": "code",
   "execution_count": 1,
   "id": "de11a3b9",
   "metadata": {},
   "outputs": [],
   "source": [
    "# ====================================================================\n",
    "# Configuration 설정\n",
    "# ====================================================================\n",
    "# 하이퍼파라미터 및 경로 등 실험에 필요한 설정들을 모아둠\n",
    "# 실험 추적 및 재현성을 위해 모든 값은 여기에서 수정하고자 함\n",
    "import os  # 디렉토리, 파일 경로 조작 등\n",
    "\n",
    "import torch\n",
    "import os\n",
    "import numpy as np\n",
    "\n",
    "from pathlib import Path  # payhon path\n",
    "\n",
    "import albumentations as A\n",
    "import cv2  # OpenCV - 고급 이미지/비디오 처리\n",
    "import torch\n",
    "from torch.utils.data import Dataset  # 커스텀 데이터셋, 배치 로딩\n",
    "import pandas as pd\n",
    "import os\n",
    "import json\n",
    "from tqdm import tqdm\n",
    "from pathlib import Path\n",
    "\n",
    "# Garbage Collector 모듈\n",
    "import gc\n",
    "\n",
    "from torchmetrics.detection.mean_ap import MeanAveragePrecision\n",
    "\n",
    "\n",
    "# 메모리 정리 루틴\n",
    "gc.collect()\n",
    "torch.cuda.empty_cache()\n",
    "\n",
    "\n",
    "# --- 디바이스 설정 ---\n",
    "DEVICE = \"cuda\" if torch.cuda.is_available() else \"cpu\"\n",
    "SEED = 42\n",
    "\n",
    "# --- 학습 하이퍼파라미터 ---\n",
    "BATCH_SIZE = 16\n",
    "NUM_EPOCHS = 20\n",
    "LEARNING_RATE = 1e-4\n",
    "MOMENTUM = 0.9\n",
    "WEIGHT_DECAY = 0.0005\n",
    "\n",
    "# --- 데이터 경로 설정 ---\n",
    "# DATA_ROOT = path\n",
    "# DATA_ROOT = \"data/raw/ai03-level1-project/\"  # 경로\n",
    "# TRAIN_IMAGE_DIR = os.path.join(DATA_ROOT, \"train_images\")\n",
    "# TRAIN_ANNO_DIR = os.path.join(DATA_ROOT, \"train_annotations\")\n",
    "# TEST_IMAGE_DIR = os.path.join(DATA_ROOT, \"test_images\")\n",
    "# PROCESSED_TRAIN_CSV = \"../data/processed/train_df.csv\"  # 데이터 전처리된 csv 파일\n",
    "\n",
    "# --- 모델 설정 ---\n",
    "NUM_CLASSES = 73\n",
    "MODEL_NAME = \"fasterrcnn_resnet50_fpn\"\n",
    "USE_PRETRAINED = True\n",
    "\n",
    "# --- 학습 고도화 설정 ---\n",
    "USE_SCHEDULER = True  # Learning rate scheduler 사용 여부\n",
    "EARLY_STOPPING = True  # Early stopping 적용 여부\n",
    "AUGMENTATION = True  # 데이터 증강 사용 여부\n",
    "\n",
    "# --- 실험 로깅용 설정 ---\n",
    "USE_WANDB = True\n",
    "WANDB_PROJECT = \"AI03-Project-1\"\n",
    "RUN_NAME = f\"{MODEL_NAME}_bs{BATCH_SIZE}_lr{LEARNING_RATE}\"\n",
    "\n",
    "\n",
    "# --- 실험 결과 저장 경로 ---\n",
    "EXPERIMENT_DIR = \"../experiments\""
   ]
  },
  {
   "cell_type": "markdown",
   "id": "769ac65f",
   "metadata": {},
   "source": [
    "## 1. Data-preprocessing"
   ]
  },
  {
   "cell_type": "code",
   "execution_count": 2,
   "id": "85626da3",
   "metadata": {},
   "outputs": [],
   "source": [
    "def parse_raw_annotations(ann_dir: Path) -> pd.DataFrame:\n",
    "    \"\"\"\n",
    "    복잡한 3중 폴더 구조의 원본 어노테이션을 파싱하여\n",
    "    하나의 Pandas DataFrame으로 반환하는 함수.\n",
    "    \"\"\"\n",
    "    all_annotations = []\n",
    "\n",
    "    # Level 1: 이미지별 폴더 순회\n",
    "    image_level_dirs = os.listdir(ann_dir)\n",
    "    for image_dir_name in tqdm(image_level_dirs, desc=\"[L1] Images\"):\n",
    "        image_dir_path = ann_dir / image_dir_name\n",
    "        if not image_dir_path.is_dir():\n",
    "            continue\n",
    "\n",
    "        # Level 2: 알약 종류 폴더 순회\n",
    "        pill_level_dirs = os.listdir(image_dir_path)\n",
    "        for pill_dir_name in pill_level_dirs:\n",
    "            pill_dir_path = image_dir_path / pill_dir_name\n",
    "            if not pill_dir_path.is_dir():\n",
    "                continue\n",
    "\n",
    "            # Level 3: 실제 .json 파일 파싱\n",
    "            json_files = [f for f in os.listdir(pill_dir_path) if f.endswith(\".json\")]\n",
    "            if not json_files:\n",
    "                continue\n",
    "\n",
    "            # 첫 번째 json 파일만 사용\n",
    "            json_file_path = pill_dir_path / json_files[0]\n",
    "\n",
    "            try:\n",
    "                with open(json_file_path, \"r\", encoding=\"utf-8\") as f:\n",
    "                    ann_data = json.load(f)\n",
    "\n",
    "                    image_info = ann_data.get(\"images\", [{}])[0]\n",
    "                    annotation_info = ann_data.get(\"annotations\", [{}])[0]\n",
    "                    category_info = ann_data.get(\"categories\", [{}])[0]\n",
    "\n",
    "                    all_annotations.append(\n",
    "                        {\n",
    "                            \"image_id\": image_info.get(\"id\"),\n",
    "                            \"file_name\": image_info.get(\"file_name\"),\n",
    "                            \"width\": image_info.get(\"width\"),\n",
    "                            \"height\": image_info.get(\"height\"),\n",
    "                            \"category_id\": category_info.get(\"id\"),\n",
    "                            \"class_name\": category_info.get(\"name\"),\n",
    "                            \"bbox\": annotation_info.get(\"bbox\"),\n",
    "                        }\n",
    "                    )\n",
    "            except Exception as e:\n",
    "                print(f\"\\n파일 처리 에러: {json_file_path}, 에러: {e}\")\n",
    "\n",
    "    return pd.DataFrame(all_annotations)"
   ]
  },
  {
   "cell_type": "code",
   "execution_count": 1,
   "id": "1e807cce",
   "metadata": {},
   "outputs": [
    {
     "ename": "NameError",
     "evalue": "name 'parse_raw_annotations' is not defined",
     "output_type": "error",
     "traceback": [
      "\u001b[31m---------------------------------------------------------------------------\u001b[39m",
      "\u001b[31mNameError\u001b[39m                                 Traceback (most recent call last)",
      "\u001b[36mCell\u001b[39m\u001b[36m \u001b[39m\u001b[32mIn[1]\u001b[39m\u001b[32m, line 12\u001b[39m\n\u001b[32m     10\u001b[39m TEST_IMAGE_DIR = RAW_DATA_DIR / \u001b[33m\"\u001b[39m\u001b[33mtest_images\u001b[39m\u001b[33m\"\u001b[39m\n\u001b[32m     11\u001b[39m SAVE_PATH = PROCESSED_DATA_DIR / \u001b[33m\"\u001b[39m\u001b[33mtrain_df.csv\u001b[39m\u001b[33m\"\u001b[39m\n\u001b[32m---> \u001b[39m\u001b[32m12\u001b[39m train_df = \u001b[43mparse_raw_annotations\u001b[49m(TRAIN_ANNO_DIR)\n\u001b[32m     14\u001b[39m \u001b[38;5;66;03m# --- (1). bbox 컬럼을 4개로 분리 ---\u001b[39;00m\n\u001b[32m     15\u001b[39m \u001b[38;5;66;03m# bbox 컬럼 분리\u001b[39;00m\n\u001b[32m     16\u001b[39m bbox_df = pd.DataFrame(\n\u001b[32m     17\u001b[39m     train_df[\u001b[33m\"\u001b[39m\u001b[33mbbox\u001b[39m\u001b[33m\"\u001b[39m].tolist(), columns=[\u001b[33m\"\u001b[39m\u001b[33mbbox_x\u001b[39m\u001b[33m\"\u001b[39m, \u001b[33m\"\u001b[39m\u001b[33mbbox_y\u001b[39m\u001b[33m\"\u001b[39m, \u001b[33m\"\u001b[39m\u001b[33mbbox_w\u001b[39m\u001b[33m\"\u001b[39m, \u001b[33m\"\u001b[39m\u001b[33mbbox_h\u001b[39m\u001b[33m\"\u001b[39m]\n\u001b[32m     18\u001b[39m )\n",
      "\u001b[31mNameError\u001b[39m: name 'parse_raw_annotations' is not defined"
     ]
    }
   ],
   "source": [
    "# 1. 핵심 함수를 호출해서 DataFrame 생성\n",
    "from pathlib import Path\n",
    "\n",
    "BASE_DIR = Path(\"../\")  # 상대경로\n",
    "RAW_DATA_DIR = BASE_DIR / \"data/raw/ai03-level1-project\"\n",
    "PROCESSED_DATA_DIR = BASE_DIR / \"data/processed\"\n",
    "\n",
    "TRAIN_IMAGE_DIR = RAW_DATA_DIR / \"train_images\"\n",
    "TRAIN_ANNO_DIR = RAW_DATA_DIR / \"train_annotations\"\n",
    "TEST_IMAGE_DIR = RAW_DATA_DIR / \"test_images\"\n",
    "SAVE_PATH = PROCESSED_DATA_DIR / \"train_df.csv\"\n",
    "train_df = parse_raw_annotations(TRAIN_ANNO_DIR)\n",
    "\n",
    "# --- (1). bbox 컬럼을 4개로 분리 ---\n",
    "# bbox 컬럼 분리\n",
    "bbox_df = pd.DataFrame(\n",
    "    train_df[\"bbox\"].tolist(), columns=[\"bbox_x\", \"bbox_y\", \"bbox_w\", \"bbox_h\"]\n",
    ")\n",
    "train_df = pd.concat([train_df.drop(\"bbox\", axis=1), bbox_df], axis=1)\n",
    "\n",
    "# ✨ --- [핵심 수정] 잘못된 바운딩 박스 데이터 제거 ---\n",
    "# xmax (bbox_x + bbox_w)가 이미지 너비(width)를 초과하는 경우\n",
    "invalid_x = train_df[\"bbox_x\"] + train_df[\"bbox_w\"] > train_df[\"width\"]\n",
    "# ymax (bbox_y + bbox_h)가 이미지 높이(height)를 초과하는 경우\n",
    "invalid_y = train_df[\"bbox_y\"] + train_df[\"bbox_h\"] > train_df[\"height\"]\n",
    "\n",
    "# 잘못된 데이터를 필터링\n",
    "invalid_rows = train_df[invalid_x | invalid_y]\n",
    "if not invalid_rows.empty:\n",
    "    print(f\"--- {len(invalid_rows)}개의 잘못된 바운딩 박스 데이터를 찾았습니다. ---\")\n",
    "    print(\n",
    "        invalid_rows[\n",
    "            [\"file_name\", \"width\", \"height\", \"bbox_x\", \"bbox_y\", \"bbox_w\", \"bbox_h\"]\n",
    "        ]\n",
    "    )\n",
    "\n",
    "    # 유효한 데이터만 남김\n",
    "    train_df = train_df[~(invalid_x | invalid_y)]\n",
    "    print(f\"\\n잘못된 데이터를 제거하고, {len(train_df)}개의 데이터만 사용합니다.\")\n",
    "\n",
    "# --- (2). category_id를 새로운 label_idx로 매핑 ---\n",
    "# 고유한 category_id 목록을 뽑아 정렬\n",
    "unique_category_ids = sorted(train_df[\"category_id\"].unique())\n",
    "NUM_CLASSES = len(unique_category_ids)\n",
    "# category_id를 0, 1, 2... 인덱스로 변환하는 딕셔너리 생성\n",
    "id_to_idx = {\n",
    "    int(original_id): idx\n",
    "    for idx, original_id in enumerate(\n",
    "        unique_category_ids, start=1\n",
    "    )  # <--- start=1 추가!\n",
    "}\n",
    "# 이 매핑 정보를 사용해서 'label_idx'라는 새 컬럼을 추가\n",
    "train_df[\"label_idx\"] = train_df[\"category_id\"].map(id_to_idx)\n",
    "PROCESSED_DATA_DIR.mkdir(parents=True, exist_ok=True)\n",
    "\n",
    "\n",
    "# 나중에 추론 결과에서 원래 클래스 이름을 찾을 수 있도록 매핑 정보도 저장\n",
    "label_map = {\n",
    "    \"id_to_idx\": id_to_idx,\n",
    "    \"idx_to_id\": {idx: int(original_id) for original_id, idx in id_to_idx.items()},\n",
    "    \"id_to_name\": dict(zip(train_df[\"category_id\"], train_df[\"class_name\"])),\n",
    "}\n",
    "with open(PROCESSED_DATA_DIR / \"label_map.json\", \"w\", encoding=\"utf-8\") as f:\n",
    "    json.dump(label_map, f, ensure_ascii=False, indent=4)\n",
    "\n",
    "print(f\"\\n총 {len(unique_category_ids)}개의 고유 클래스를 발견했습니다.\")\n",
    "print(\"라벨 매핑 정보를 'data/processed/label_map.json'에 저장했습니다.\")\n",
    "\n",
    "\n",
    "# 3. 최종 DataFrame을 CSV 파일로 저장\n",
    "train_df.to_csv(SAVE_PATH, index=False)\n",
    "\n",
    "print(f\"\\n--- 데이터 전처리 및 저장 완료! ---\")\n",
    "print(train_df.head())"
   ]
  },
  {
   "cell_type": "code",
   "execution_count": 4,
   "id": "190b5136",
   "metadata": {},
   "outputs": [
    {
     "data": {
      "text/plain": [
       "<Axes: xlabel='label_idx'>"
      ]
     },
     "execution_count": 4,
     "metadata": {},
     "output_type": "execute_result"
    },
    {
     "data": {
      "image/png": "[encoded data removed]",
      "text/plain": [
       "<Figure size 640x480 with 1 Axes>"
      ]
     },
     "metadata": {},
     "output_type": "display_data"
    }
   ],
   "source": [
    "train_df[\"label_idx\"].value_counts().plot(kind=\"bar\")"
   ]
  },
  {
   "cell_type": "code",
   "execution_count": 5,
   "id": "8437147b",
   "metadata": {},
   "outputs": [
    {
     "data": {
      "text/plain": [
       "class_name\n",
       "기넥신에프정(은행엽엑스)(수출용)    206\n",
       "일양하이트린정 2mg            98\n",
       "뮤테란캡슐 100mg            74\n",
       "보령부스파정 5mg             74\n",
       "동아가바펜틴정 800mg          58\n",
       "                     ... \n",
       "쿠에타핀정 25mg              4\n",
       "렉사프로정 15mg              4\n",
       "브린텔릭스정 20mg             4\n",
       "졸로푸트정 100mg             4\n",
       "자이프렉사정 2.5mg            4\n",
       "Name: count, Length: 73, dtype: int64"
      ]
     },
     "execution_count": 5,
     "metadata": {},
     "output_type": "execute_result"
    }
   ],
   "source": [
    "train_df[\"class_name\"].value_counts()"
   ]
  },
  {
   "cell_type": "code",
   "execution_count": 6,
   "id": "ce8f2cbe",
   "metadata": {},
   "outputs": [
    {
     "data": {
      "text/plain": [
       "array(['뮤테란캡슐 100mg', '큐시드정 31.5mg/PTP', '트루비타정 60mg/병',\n",
       "       '써스펜8시간이알서방정 650mg', '글리틴정(콜린알포세레이트)', '일양하이트린정 2mg',\n",
       "       '로수바미브정 10/20mg', '제미메트서방정 50/1000mg', '노바스크정 5mg',\n",
       "       '기넥신에프정(은행엽엑스)(수출용)', '아토젯정 10/40mg', '트라젠타듀오정 2.5/850mg',\n",
       "       '리피토정 20mg', '동아가바펜틴정 800mg', '울트라셋이알서방정', '보령부스파정 5mg',\n",
       "       '케이캡정 50mg', '자누비아정 50mg', '로수젯정10/5밀리그램', '아모잘탄정 5/100mg',\n",
       "       '트라젠타정(리나글립틴)', '크레스토정 20mg', '가바토파정 100mg', '란스톤엘에프디티정 30mg',\n",
       "       '펠루비정(펠루비프로펜)', '콜리네이트연질캡슐 400mg', '자누메트정 50/850mg', '카나브정 60mg',\n",
       "       '플라빅스정 75mg', '리바로정 4mg', '글리아타민연질캡슐', '리피로우정 20mg',\n",
       "       '트윈스타정 40/5mg', '엑스포지정 5/160mg', '아토르바정 10mg', '카발린캡슐 25mg',\n",
       "       '에빅사정(메만틴염산염)(비매품)', '다보타민큐정 10mg/병', '삼남건조수산화알루미늄겔정',\n",
       "       '리렉스펜정 300mg/PTP', '타이레놀이알서방정(아세트아미노펜)(수출용)', '삐콤씨에프정 618.6mg/병',\n",
       "       '쎄로켈정 100mg', '무코스타정(레바미피드)(비매품)', '낙소졸정 500/20mg',\n",
       "       '종근당글리아티린연질캡슐(콜린알포세레이트)\\xa0', '오마코연질캡슐(오메가-3-산에틸에스테르90)',\n",
       "       '리리카캡슐 150mg', '에스원엠프정 20mg', '레일라정', '세비카정 10/40mg', '스토가정 10mg',\n",
       "       '알드린정', '메가파워정 90mg/병', '신바로정', '놀텍정 10mg', '비타비백정 100mg/병',\n",
       "       '맥시부펜이알정 300mg', '타이레놀정500mg', '자누메트엑스알서방정 100/1000mg',\n",
       "       '뉴로메드정(옥시라세탐)', '마도파정', '조인스정 200mg', '아빌리파이정 10mg',\n",
       "       '비모보정 500/20mg', '쿠에타핀정 25mg', '에어탈정(아세클로페낙)', '브린텔릭스정 20mg',\n",
       "       '렉사프로정 15mg', '아질렉트정(라사길린메실산염)', '라비에트정 20mg', '졸로푸트정 100mg',\n",
       "       '자이프렉사정 2.5mg'], dtype=object)"
      ]
     },
     "execution_count": 6,
     "metadata": {},
     "output_type": "execute_result"
    }
   ],
   "source": [
    "classes_tmp = train_df[\"class_name\"].unique()\n",
    "classes_tmp"
   ]
  },
  {
   "cell_type": "code",
   "execution_count": 7,
   "id": "02840906",
   "metadata": {},
   "outputs": [
    {
     "name": "stdout",
     "output_type": "stream",
     "text": [
      "총 클래스 개수 (배경 포함): 74\n",
      "클래스 리스트: ['background', '보령부스파정 5mg', '뮤테란캡슐 100mg', '일양하이트린정 2mg', '기넥신에프정', '무코스타정', '알드린정', '뉴로메드정', '타이레놀정500mg', '에어탈정', '삼남건조수산화알루미늄겔정', '타이레놀이알서방정', '삐콤씨에프정 618.6mg/병', '조인스정 200mg', '쎄로켈정 100mg', '리렉스펜정 300mg/PTP', '아빌리파이정 10mg', '자이프렉사정 2.5mg', '다보타민큐정 10mg/병', '써스펜8시간이알서방정 650mg', '에빅사정', '리피토정 20mg', '크레스토정 20mg', '가바토파정 100mg', '동아가바펜틴정 800mg', '오마코연질캡슐', '란스톤엘에프디티정 30mg', '리리카캡슐 150mg', '종근당글리아티린연질캡슐', '콜리네이트연질캡슐 400mg', '트루비타정 60mg/병', '스토가정 10mg', '노바스크정 5mg', '마도파정', '플라빅스정 75mg', '엑스포지정 5/160mg', '펠루비정', '아토르바정 10mg', '라비에트정 20mg', '리피로우정 20mg', '자누비아정 50mg', '맥시부펜이알정 300mg', '메가파워정 90mg/병', '쿠에타핀정 25mg', '비타비백정 100mg/병', '놀텍정 10mg', '자누메트정 50/850mg', '큐시드정 31.5mg/PTP', '아모잘탄정 5/100mg', '세비카정 10/40mg', '트윈스타정 40/5mg', '카나브정 60mg', '울트라셋이알서방정', '졸로푸트정 100mg', '트라젠타정', '비모보정 500/20mg', '레일라정', '리바로정 4mg', '렉사프로정 15mg', '트라젠타듀오정 2.5/850mg', '낙소졸정 500/20mg', '아질렉트정', '자누메트엑스알서방정 100/1000mg', '글리아타민연질캡슐', '신바로정', '에스원엠프정 20mg', '브린텔릭스정 20mg', '글리틴정', '제미메트서방정 50/1000mg', '아토젯정 10/40mg', '로수젯정10/5밀리그램', '로수바미브정 10/20mg', '카발린캡슐 25mg', '케이캡정 50mg']\n"
     ]
    }
   ],
   "source": [
    "# 1. 'category_id'와 'class_name' 컬럼으로 고유한 쌍을 찾고, ID 기준으로 정렬\n",
    "class_mapping_df = (\n",
    "    train_df[[\"category_id\", \"class_name\"]]\n",
    "    .drop_duplicates()\n",
    "    .sort_values(by=\"category_id\")\n",
    ")\n",
    "# 2. 정렬된 DataFrame에서 클래스 이름만 리스트로 추출\n",
    "sorted_class_names = [\n",
    "    name.split(\"(\")[0].strip() for name in class_mapping_df[\"class_name\"]\n",
    "]\n",
    "# 3. 맨 앞에 'background' 추가\n",
    "classes = [\"background\"] + sorted_class_names\n",
    "\n",
    "print(f\"총 클래스 개수 (배경 포함): {len(classes)}\")\n",
    "print(f\"클래스 리스트: {classes}\")"
   ]
  },
  {
   "cell_type": "markdown",
   "id": "c55a9ddb",
   "metadata": {},
   "source": [
    "## 2. Load a model"
   ]
  },
  {
   "cell_type": "code",
   "execution_count": 8,
   "id": "95e73b86",
   "metadata": {},
   "outputs": [],
   "source": [
    "# (1) 데이터 증강 (Augmentation) : Albumentations 라이브러리 사용\n",
    "train_transforms = A.Compose(\n",
    "    [\n",
    "        A.Resize(512, 512),\n",
    "        A.HorizontalFlip(p=0.5),\n",
    "        A.RandomBrightnessContrast(p=0.2),\n",
    "        A.Normalize(mean=(0.485, 0.456, 0.406), std=(0.229, 0.224, 0.225)),\n",
    "        # PyTorch 텐서로 변환\n",
    "        A.pytorch.ToTensorV2(),\n",
    "    ],\n",
    "    bbox_params=A.BboxParams(format=\"albumentations\", label_fields=[\"labels\"]),\n",
    ")  # bbox 형식은 pascal_voc: [xmin, ymin, xmax, ymax]\n",
    "\n",
    "val_transforms = A.Compose(\n",
    "    [\n",
    "        A.Resize(512, 512),\n",
    "        A.Normalize(mean=(0.485, 0.456, 0.406), std=(0.229, 0.224, 0.225)),\n",
    "        A.pytorch.ToTensorV2(),\n",
    "    ],\n",
    "    bbox_params=A.BboxParams(format=\"albumentations\", label_fields=[\"labels\"]),\n",
    ")\n",
    "\n",
    "test_transforms = A.Compose(\n",
    "    [\n",
    "        A.Resize(512, 512),\n",
    "        A.Normalize(mean=(0.485, 0.456, 0.406), std=(0.229, 0.224, 0.225)),\n",
    "        A.pytorch.ToTensorV2(),\n",
    "    ]\n",
    ")\n",
    "\n",
    "\n",
    "# DataLoader를 위한 collate_fn. 이미지와 타겟을 리스트로 묶어줌\n",
    "def collate_fn(batch):\n",
    "    return tuple(zip(*batch))"
   ]
  },
  {
   "cell_type": "code",
   "execution_count": 9,
   "id": "9addecd8",
   "metadata": {},
   "outputs": [],
   "source": [
    "class PillDataset(Dataset):\n",
    "    # --- mode 파라미터 추가 및 df를 직접 받도록 수정 ---\n",
    "    def __init__(self, df, image_dir, mode=\"train\", transforms=None):\n",
    "        self.df = df\n",
    "        self.image_dir = Path(image_dir)\n",
    "        self.mode = mode\n",
    "        self.transforms = transforms\n",
    "\n",
    "        # --- image_ids를 미리 뽑아 중복을 제거 ---\n",
    "        # df['file_name']을 사용하면 이미지 파일 이름으로 고유한 이미지를 식별 가능.\n",
    "        self.image_ids = self.df[\"file_name\"].unique()\n",
    "\n",
    "    def __len__(self):\n",
    "        # --- 고유한 이미지의 개수를 반환 ---\n",
    "        return len(self.image_ids)\n",
    "\n",
    "    def __getitem__(self, idx):\n",
    "        image_id = self.image_ids[idx]\n",
    "        image_path = self.image_dir / image_id\n",
    "\n",
    "        image = cv2.imread(str(image_path))\n",
    "        if image is None:\n",
    "            raise FileNotFoundError(\n",
    "                f\"Error: Could not load image at path: {image_path}\"\n",
    "            )\n",
    "\n",
    "        image = cv2.cvtColor(image, cv2.COLOR_BGR2RGB)\n",
    "        h, w, _ = image.shape\n",
    "\n",
    "        if self.mode in [\"train\", \"val\"]:\n",
    "            records = self.df[self.df[\"file_name\"] == image_id]\n",
    "            boxes = records[[\"bbox_x\", \"bbox_y\", \"bbox_w\", \"bbox_h\"]].values\n",
    "\n",
    "            boxes[:, 2] = boxes[:, 0] + boxes[:, 2]\n",
    "            boxes[:, 3] = boxes[:, 1] + boxes[:, 3]\n",
    "\n",
    "            labels = records[\"label_idx\"].values\n",
    "\n",
    "            # print(f\"\\n[DEBUG 1] Image: {image_id}, Original Pixel Coords:\\n{boxes}\")\n",
    "\n",
    "            # 바운딩 박스 좌표 정규화\n",
    "            boxes = boxes.astype(np.float32)\n",
    "            boxes[:, [0, 2]] /= w\n",
    "            boxes[:, [1, 3]] /= h\n",
    "\n",
    "            # print(f\"[DEBUG 2] Normalized Coords for Albumentations:\\n{boxes}\")\n",
    "\n",
    "            if self.transforms:\n",
    "                try:\n",
    "                    transformed = self.transforms(\n",
    "                        image=image, bboxes=boxes, labels=labels\n",
    "                    )\n",
    "                    image = transformed[\"image\"]\n",
    "                    boxes = transformed[\"bboxes\"]\n",
    "                    labels = transformed[\"labels\"]\n",
    "                except Exception as e:\n",
    "                    print(f\"!!!!!!!!!!!!!! Albumentations에서 에러 발생 !!!!!!!!!!!!!!\")\n",
    "                    print(f\"Image: {image_id}\")\n",
    "                    print(f\"Boxes sent to transform: {boxes}\")\n",
    "                    # raise e  # 에러를 다시 발생시켜서 멈추게 함\n",
    "\n",
    "            # ... 이하 코드는 이전과 동일 ...\n",
    "            _, new_h, new_w = image.shape\n",
    "            boxes = torch.as_tensor(boxes, dtype=torch.float32)\n",
    "\n",
    "            if len(boxes) > 0:\n",
    "                boxes[:, [0, 2]] *= new_w\n",
    "                boxes[:, [1, 3]] *= new_h\n",
    "\n",
    "            target = {\n",
    "                \"boxes\": boxes,\n",
    "                \"labels\": torch.as_tensor(labels, dtype=torch.int64),\n",
    "            }\n",
    "\n",
    "            if len(target[\"boxes\"]) == 0:\n",
    "                target[\"boxes\"] = torch.zeros((0, 4), dtype=torch.float32)\n",
    "                target[\"labels\"] = torch.zeros((0,), dtype=torch.int64)\n",
    "\n",
    "            return image, target\n",
    "\n",
    "            # 테스트 모드일 경우, 이미지와 파일 이름만 반환\n",
    "        elif self.mode == \"test\":\n",
    "            # 테스트 시에는 보통 기본적인 리사이즈, 정규화만 적용\n",
    "            if self.transforms:\n",
    "                transformed = self.transforms(image=image)\n",
    "                image = transformed[\"image\"]\n",
    "\n",
    "            # 나중에 예측 결과를 이미지와 매칭시키기 위해 파일 이름을 반환\n",
    "            return image, image_id\n",
    "\n",
    "\n",
    "# 참고: Subset을 사용할 때 transform을 다르게 적용하려면 약간의 트릭이 필요.\n",
    "# 먼저 transform이 없는 전체 데이터셋을 만듦.\n",
    "# 각 Subset에 맞는 transform을 적용하는 Wrapper 클래스 생성\n",
    "# class TransformSubset(Dataset):\n",
    "#     def __init__(self, subset, transforms):\n",
    "#         self.subset = subset\n",
    "#         self.transforms = transforms\n",
    "\n",
    "#     def __getitem__(self, idx):\n",
    "#         image, target = self.subset[idx]\n",
    "\n",
    "#         # NumPy 배열로 변환 (Albumentations 입력 형식)\n",
    "#         boxes = target[\"boxes\"].numpy()\n",
    "#         labels = target[\"labels\"].numpy()\n",
    "\n",
    "#         if self.transforms:\n",
    "#             transformed = self.transforms(image=image, bboxes=boxes, labels=labels)\n",
    "#             image = transformed[\"image\"]\n",
    "#             target[\"boxes\"] = torch.as_tensor(\n",
    "#                 transformed[\"bboxes\"], dtype=torch.float32\n",
    "#             )\n",
    "#             # 증강 후 bbox가 사라졌을 경우 처리\n",
    "#             if len(target[\"boxes\"]) == 0:\n",
    "#                 target[\"boxes\"] = torch.zeros((0, 4), dtype=torch.float32)\n",
    "\n",
    "#         return image, target\n",
    "\n",
    "#     def __len__(self):\n",
    "#         return len(self.subset)"
   ]
  },
  {
   "cell_type": "code",
   "execution_count": 10,
   "id": "405ed05d",
   "metadata": {},
   "outputs": [],
   "source": [
    "import torchvision\n",
    "from torchvision.models.detection.faster_rcnn import FastRCNNPredictor\n",
    "\n",
    "# pre-trained 모델 로드\n",
    "# Faster R-CNN\n",
    "# model = torchvision.models.detection.fasterrcnn_resnet50_fpn(weights=\"DEFAULT\")\n",
    "\n",
    "# MobileNetV3\n",
    "model = torchvision.models.detection.fasterrcnn_mobilenet_v3_large_fpn(\n",
    "    weights=\"DEFAULT\"\n",
    ")\n",
    "\n",
    "\n",
    "# 분류기의 입력 피처 수를 가져옴\n",
    "in_features = model.roi_heads.box_predictor.cls_score.in_features\n",
    "\n",
    "# pre-trained head를 새로운 head로 교체\n",
    "# num_classes에 배경(background) 클래스 1개를 더해줘야 함\n",
    "model.roi_heads.box_predictor = FastRCNNPredictor(in_features, NUM_CLASSES + 1)"
   ]
  },
  {
   "cell_type": "code",
   "execution_count": 11,
   "id": "83102d21",
   "metadata": {},
   "outputs": [],
   "source": [
    "import random\n",
    "\n",
    "\n",
    "# 재현성을 위해 모든 난수 생성기의 시드를 고정하는 함수.\n",
    "def seed_everything(seed: int):\n",
    "    random.seed(seed)\n",
    "    os.environ[\"PYTHONHASHSEED\"] = str(seed)\n",
    "    np.random.seed(seed)\n",
    "    torch.manual_seed(seed)\n",
    "    torch.cuda.manual_seed(seed)\n",
    "    torch.backends.cudnn.deterministic = True\n",
    "    torch.backends.cudnn.benchmark = False\n",
    "    print(f\"Seed set to {seed}\")"
   ]
  },
  {
   "cell_type": "code",
   "execution_count": 12,
   "id": "d647faaf",
   "metadata": {},
   "outputs": [
    {
     "name": "stdout",
     "output_type": "stream",
     "text": [
      "Seed set to 42\n"
     ]
    },
    {
     "name": "stderr",
     "output_type": "stream",
     "text": [
      "/home/soohyun/ls/envs/JSH/lib/python3.12/site-packages/sklearn/model_selection/_split.py:1023: UserWarning: The least populated class in y has only 4 members, which is less than n_splits=5.\n",
      "  warnings.warn(\n"
     ]
    }
   ],
   "source": [
    "from sklearn.model_selection import train_test_split\n",
    "from torch.utils.data import DataLoader\n",
    "from sklearn.model_selection import StratifiedGroupKFold\n",
    "from torch.utils.data import Subset\n",
    "\n",
    "seed_everything(SEED)\n",
    "\n",
    "# 1. 데이터 준비\n",
    "df = pd.read_csv(SAVE_PATH)\n",
    "\n",
    "# StratifiedGroupKFold를 위한 데이터 준비\n",
    "groups = df[\"file_name\"]  # 그룹 기준: 이미지 파일 이름\n",
    "labels = df[\"category_id\"]  # 층화 기준: 원본 클래스 ID\n",
    "\n",
    "# K-Fold 설정 (5-fold, 즉 80% train / 20% val)\n",
    "cv = StratifiedGroupKFold(n_splits=5, shuffle=True, random_state=SEED)\n",
    "\n",
    "# 첫 번째 fold의 train/val 인덱스를 가져옴\n",
    "train_idxs, val_idxs = next(cv.split(df, labels, groups))\n",
    "# 1. 인덱스를 사용해서 데이터프레임을 먼저 분할!\n",
    "train_df_split = df.iloc[train_idxs].reset_index(drop=True)\n",
    "val_df_split = df.iloc[val_idxs].reset_index(drop=True)\n",
    "\n",
    "# 2. 분할된 데이터프레임으로 각각 Dataset 생성 (Subset, TransformSubset 불필요!)\n",
    "train_dataset = PillDataset(\n",
    "    df=train_df_split,\n",
    "    image_dir=TRAIN_IMAGE_DIR,\n",
    "    mode=\"train\",\n",
    "    transforms=train_transforms,\n",
    ")\n",
    "\n",
    "val_dataset = PillDataset(\n",
    "    df=val_df_split,\n",
    "    image_dir=TRAIN_IMAGE_DIR,\n",
    "    mode=\"val\",\n",
    "    transforms=val_transforms,  # val_transforms 사용\n",
    ")\n",
    "\n",
    "\n",
    "test_df = pd.DataFrame({\"file_name\": os.listdir(TEST_IMAGE_DIR)})\n",
    "\n",
    "test_dataset = PillDataset(\n",
    "    df=test_df,\n",
    "    image_dir=TEST_IMAGE_DIR,\n",
    "    mode=\"test\",\n",
    "    transforms=test_transforms,\n",
    ")\n",
    "\n",
    "\n",
    "# --- Data Loader ---\n",
    "train_loader = DataLoader(\n",
    "    train_dataset,\n",
    "    batch_size=BATCH_SIZE,\n",
    "    shuffle=True,\n",
    "    collate_fn=collate_fn,\n",
    ")\n",
    "val_loader = DataLoader(\n",
    "    val_dataset,\n",
    "    batch_size=BATCH_SIZE,\n",
    "    shuffle=False,\n",
    "    collate_fn=collate_fn,\n",
    ")\n",
    "test_loader = DataLoader(\n",
    "    test_dataset,\n",
    "    batch_size=BATCH_SIZE,\n",
    "    shuffle=False,\n",
    "    collate_fn=collate_fn,\n",
    ")"
   ]
  },
  {
   "cell_type": "code",
   "execution_count": 13,
   "id": "f1478840",
   "metadata": {},
   "outputs": [],
   "source": [
    "# img, image_id = next(iter(train_loader))\n",
    "# image_id[7]"
   ]
  },
  {
   "cell_type": "code",
   "execution_count": 14,
   "id": "37de70ce",
   "metadata": {},
   "outputs": [
    {
     "data": {
      "text/plain": [
       "{'boxes': tensor([[ 78.1639,  73.2000, 187.8033, 154.0000],\n",
       "         [ 72.9180, 310.8000, 196.7213, 400.0000]]),\n",
       " 'labels': tensor([ 5, 23])}"
      ]
     },
     "execution_count": 14,
     "metadata": {},
     "output_type": "execute_result"
    }
   ],
   "source": [
    "img, image_id = next(iter(val_loader))\n",
    "image_id[7]"
   ]
  },
  {
   "cell_type": "code",
   "execution_count": 15,
   "id": "572d7ccd",
   "metadata": {},
   "outputs": [],
   "source": [
    "model = model.to(DEVICE)\n",
    "\n",
    "params = [p for p in model.parameters() if p.requires_grad]\n",
    "\n",
    "# optimizer = torch.optim.SGD(\n",
    "#     params,\n",
    "#     lr=LEARNING_RATE,\n",
    "#     momentum=MOMENTUM,\n",
    "#     weight_decay=WEIGHT_DECAY,\n",
    "# )\n",
    "optimizer = torch.optim.AdamW(params, lr=LEARNING_RATE, weight_decay=0.01)\n",
    "\n",
    "scheduler = torch.optim.lr_scheduler.CosineAnnealingLR(\n",
    "    optimizer, T_max=NUM_EPOCHS, eta_min=1e-6\n",
    ")"
   ]
  },
  {
   "cell_type": "code",
   "execution_count": 16,
   "id": "ca1023bd",
   "metadata": {},
   "outputs": [
    {
     "name": "stdout",
     "output_type": "stream",
     "text": [
      "backbone.body.0.0.weight: requires_grad=False\n",
      "backbone.body.1.block.0.0.weight: requires_grad=False\n",
      "backbone.body.1.block.1.0.weight: requires_grad=False\n",
      "backbone.body.2.block.0.0.weight: requires_grad=False\n",
      "backbone.body.2.block.1.0.weight: requires_grad=False\n",
      "backbone.body.2.block.2.0.weight: requires_grad=False\n",
      "backbone.body.3.block.0.0.weight: requires_grad=False\n",
      "backbone.body.3.block.1.0.weight: requires_grad=False\n",
      "backbone.body.3.block.2.0.weight: requires_grad=False\n",
      "backbone.body.4.block.0.0.weight: requires_grad=False\n",
      "backbone.body.4.block.1.0.weight: requires_grad=False\n",
      "backbone.body.4.block.2.fc1.weight: requires_grad=False\n",
      "backbone.body.4.block.2.fc1.bias: requires_grad=False\n",
      "backbone.body.4.block.2.fc2.weight: requires_grad=False\n",
      "backbone.body.4.block.2.fc2.bias: requires_grad=False\n",
      "backbone.body.4.block.3.0.weight: requires_grad=False\n",
      "backbone.body.5.block.0.0.weight: requires_grad=False\n",
      "backbone.body.5.block.1.0.weight: requires_grad=False\n",
      "backbone.body.5.block.2.fc1.weight: requires_grad=False\n",
      "backbone.body.5.block.2.fc1.bias: requires_grad=False\n",
      "backbone.body.5.block.2.fc2.weight: requires_grad=False\n",
      "backbone.body.5.block.2.fc2.bias: requires_grad=False\n",
      "backbone.body.5.block.3.0.weight: requires_grad=False\n",
      "backbone.body.6.block.0.0.weight: requires_grad=False\n",
      "backbone.body.6.block.1.0.weight: requires_grad=False\n",
      "backbone.body.6.block.2.fc1.weight: requires_grad=False\n",
      "backbone.body.6.block.2.fc1.bias: requires_grad=False\n",
      "backbone.body.6.block.2.fc2.weight: requires_grad=False\n",
      "backbone.body.6.block.2.fc2.bias: requires_grad=False\n",
      "backbone.body.6.block.3.0.weight: requires_grad=False\n",
      "backbone.body.7.block.0.0.weight: requires_grad=True\n",
      "backbone.body.7.block.1.0.weight: requires_grad=True\n",
      "backbone.body.7.block.2.0.weight: requires_grad=True\n",
      "backbone.body.8.block.0.0.weight: requires_grad=True\n",
      "backbone.body.8.block.1.0.weight: requires_grad=True\n",
      "backbone.body.8.block.2.0.weight: requires_grad=True\n",
      "backbone.body.9.block.0.0.weight: requires_grad=True\n",
      "backbone.body.9.block.1.0.weight: requires_grad=True\n",
      "backbone.body.9.block.2.0.weight: requires_grad=True\n",
      "backbone.body.10.block.0.0.weight: requires_grad=True\n",
      "backbone.body.10.block.1.0.weight: requires_grad=True\n",
      "backbone.body.10.block.2.0.weight: requires_grad=True\n",
      "backbone.body.11.block.0.0.weight: requires_grad=True\n",
      "backbone.body.11.block.1.0.weight: requires_grad=True\n",
      "backbone.body.11.block.2.fc1.weight: requires_grad=True\n",
      "backbone.body.11.block.2.fc1.bias: requires_grad=True\n",
      "backbone.body.11.block.2.fc2.weight: requires_grad=True\n",
      "backbone.body.11.block.2.fc2.bias: requires_grad=True\n",
      "backbone.body.11.block.3.0.weight: requires_grad=True\n",
      "backbone.body.12.block.0.0.weight: requires_grad=True\n",
      "backbone.body.12.block.1.0.weight: requires_grad=True\n",
      "backbone.body.12.block.2.fc1.weight: requires_grad=True\n",
      "backbone.body.12.block.2.fc1.bias: requires_grad=True\n",
      "backbone.body.12.block.2.fc2.weight: requires_grad=True\n",
      "backbone.body.12.block.2.fc2.bias: requires_grad=True\n",
      "backbone.body.12.block.3.0.weight: requires_grad=True\n",
      "backbone.body.13.block.0.0.weight: requires_grad=True\n",
      "backbone.body.13.block.1.0.weight: requires_grad=True\n",
      "backbone.body.13.block.2.fc1.weight: requires_grad=True\n",
      "backbone.body.13.block.2.fc1.bias: requires_grad=True\n",
      "backbone.body.13.block.2.fc2.weight: requires_grad=True\n",
      "backbone.body.13.block.2.fc2.bias: requires_grad=True\n",
      "backbone.body.13.block.3.0.weight: requires_grad=True\n",
      "backbone.body.14.block.0.0.weight: requires_grad=True\n",
      "backbone.body.14.block.1.0.weight: requires_grad=True\n",
      "backbone.body.14.block.2.fc1.weight: requires_grad=True\n",
      "backbone.body.14.block.2.fc1.bias: requires_grad=True\n",
      "backbone.body.14.block.2.fc2.weight: requires_grad=True\n",
      "backbone.body.14.block.2.fc2.bias: requires_grad=True\n",
      "backbone.body.14.block.3.0.weight: requires_grad=True\n",
      "backbone.body.15.block.0.0.weight: requires_grad=True\n",
      "backbone.body.15.block.1.0.weight: requires_grad=True\n",
      "backbone.body.15.block.2.fc1.weight: requires_grad=True\n",
      "backbone.body.15.block.2.fc1.bias: requires_grad=True\n",
      "backbone.body.15.block.2.fc2.weight: requires_grad=True\n",
      "backbone.body.15.block.2.fc2.bias: requires_grad=True\n",
      "backbone.body.15.block.3.0.weight: requires_grad=True\n",
      "backbone.body.16.0.weight: requires_grad=True\n",
      "backbone.fpn.inner_blocks.0.0.weight: requires_grad=True\n",
      "backbone.fpn.inner_blocks.0.0.bias: requires_grad=True\n",
      "backbone.fpn.inner_blocks.1.0.weight: requires_grad=True\n",
      "backbone.fpn.inner_blocks.1.0.bias: requires_grad=True\n",
      "backbone.fpn.layer_blocks.0.0.weight: requires_grad=True\n",
      "backbone.fpn.layer_blocks.0.0.bias: requires_grad=True\n",
      "backbone.fpn.layer_blocks.1.0.weight: requires_grad=True\n",
      "backbone.fpn.layer_blocks.1.0.bias: requires_grad=True\n",
      "rpn.head.conv.0.0.weight: requires_grad=True\n",
      "rpn.head.conv.0.0.bias: requires_grad=True\n",
      "rpn.head.cls_logits.weight: requires_grad=True\n",
      "rpn.head.cls_logits.bias: requires_grad=True\n",
      "rpn.head.bbox_pred.weight: requires_grad=True\n",
      "rpn.head.bbox_pred.bias: requires_grad=True\n",
      "roi_heads.box_head.fc6.weight: requires_grad=True\n",
      "roi_heads.box_head.fc6.bias: requires_grad=True\n",
      "roi_heads.box_head.fc7.weight: requires_grad=True\n",
      "roi_heads.box_head.fc7.bias: requires_grad=True\n",
      "roi_heads.box_predictor.cls_score.weight: requires_grad=True\n",
      "roi_heads.box_predictor.cls_score.bias: requires_grad=True\n",
      "roi_heads.box_predictor.bbox_pred.weight: requires_grad=True\n",
      "roi_heads.box_predictor.bbox_pred.bias: requires_grad=True\n"
     ]
    }
   ],
   "source": [
    "for name, param in model.named_parameters():\n",
    "    print(f\"{name}: requires_grad={param.requires_grad}\")"
   ]
  },
  {
   "cell_type": "code",
   "execution_count": 17,
   "id": "786c978e",
   "metadata": {},
   "outputs": [
    {
     "name": "stdout",
     "output_type": "stream",
     "text": [
      "--- Start Training ---\n"
     ]
    },
    {
     "name": "stderr",
     "output_type": "stream",
     "text": [
      "Epoch [1/20]:   0%|          | 0/40 [00:00<?, ?it/s]"
     ]
    },
    {
     "name": "stderr",
     "output_type": "stream",
     "text": [
      "Epoch [1/20]: 100%|██████████| 40/40 [00:24<00:00,  1.63it/s]\n"
     ]
    },
    {
     "name": "stdout",
     "output_type": "stream",
     "text": [
      "Train Loss: 3.5431, Val Loss: 3.0239, Validation mAP: 0.1598\n"
     ]
    },
    {
     "name": "stderr",
     "output_type": "stream",
     "text": [
      "Epoch [2/20]: 100%|██████████| 40/40 [00:25<00:00,  1.55it/s]\n"
     ]
    },
    {
     "name": "stdout",
     "output_type": "stream",
     "text": [
      "Train Loss: 2.4924, Val Loss: 2.1710, Validation mAP: 0.4479\n"
     ]
    },
    {
     "name": "stderr",
     "output_type": "stream",
     "text": [
      "Epoch [3/20]: 100%|██████████| 40/40 [00:25<00:00,  1.58it/s]\n"
     ]
    },
    {
     "name": "stdout",
     "output_type": "stream",
     "text": [
      "Train Loss: 1.8783, Val Loss: 1.8365, Validation mAP: 0.6130\n"
     ]
    },
    {
     "name": "stderr",
     "output_type": "stream",
     "text": [
      "Epoch [4/20]: 100%|██████████| 40/40 [00:25<00:00,  1.54it/s]\n"
     ]
    },
    {
     "name": "stdout",
     "output_type": "stream",
     "text": [
      "Train Loss: 1.6144, Val Loss: 1.5749, Validation mAP: 0.6910\n"
     ]
    },
    {
     "name": "stderr",
     "output_type": "stream",
     "text": [
      "Epoch [5/20]: 100%|██████████| 40/40 [00:26<00:00,  1.53it/s]\n"
     ]
    },
    {
     "name": "stdout",
     "output_type": "stream",
     "text": [
      "Train Loss: 1.4462, Val Loss: 1.4022, Validation mAP: 0.7390\n"
     ]
    },
    {
     "name": "stderr",
     "output_type": "stream",
     "text": [
      "Epoch [6/20]: 100%|██████████| 40/40 [00:25<00:00,  1.54it/s]\n"
     ]
    },
    {
     "name": "stdout",
     "output_type": "stream",
     "text": [
      "Train Loss: 1.3164, Val Loss: 1.3250, Validation mAP: 0.7396\n"
     ]
    },
    {
     "name": "stderr",
     "output_type": "stream",
     "text": [
      "Epoch [7/20]: 100%|██████████| 40/40 [00:23<00:00,  1.71it/s]\n"
     ]
    },
    {
     "name": "stdout",
     "output_type": "stream",
     "text": [
      "Train Loss: 1.2078, Val Loss: 1.2555, Validation mAP: 0.7654\n"
     ]
    },
    {
     "name": "stderr",
     "output_type": "stream",
     "text": [
      "Epoch [8/20]: 100%|██████████| 40/40 [00:23<00:00,  1.69it/s]\n"
     ]
    },
    {
     "name": "stdout",
     "output_type": "stream",
     "text": [
      "Train Loss: 1.1227, Val Loss: 1.1729, Validation mAP: 0.7802\n"
     ]
    },
    {
     "name": "stderr",
     "output_type": "stream",
     "text": [
      "Epoch [9/20]: 100%|██████████| 40/40 [00:24<00:00,  1.66it/s]\n"
     ]
    },
    {
     "name": "stdout",
     "output_type": "stream",
     "text": [
      "Train Loss: 1.0340, Val Loss: 1.0910, Validation mAP: 0.7782\n"
     ]
    },
    {
     "name": "stderr",
     "output_type": "stream",
     "text": [
      "Epoch [10/20]: 100%|██████████| 40/40 [00:22<00:00,  1.75it/s]\n"
     ]
    },
    {
     "name": "stdout",
     "output_type": "stream",
     "text": [
      "Train Loss: 0.9989, Val Loss: 1.0832, Validation mAP: 0.7706\n"
     ]
    },
    {
     "name": "stderr",
     "output_type": "stream",
     "text": [
      "Epoch [11/20]: 100%|██████████| 40/40 [00:22<00:00,  1.80it/s]\n"
     ]
    },
    {
     "name": "stdout",
     "output_type": "stream",
     "text": [
      "Train Loss: 0.9424, Val Loss: 1.0209, Validation mAP: 0.7753\n"
     ]
    },
    {
     "name": "stderr",
     "output_type": "stream",
     "text": [
      "Epoch [12/20]: 100%|██████████| 40/40 [00:22<00:00,  1.79it/s]\n"
     ]
    },
    {
     "name": "stdout",
     "output_type": "stream",
     "text": [
      "Train Loss: 0.8643, Val Loss: 0.9780, Validation mAP: 0.7679\n"
     ]
    },
    {
     "name": "stderr",
     "output_type": "stream",
     "text": [
      "Epoch [13/20]: 100%|██████████| 40/40 [00:23<00:00,  1.72it/s]\n"
     ]
    },
    {
     "name": "stdout",
     "output_type": "stream",
     "text": [
      "Train Loss: 0.8422, Val Loss: 0.9545, Validation mAP: 0.7806\n"
     ]
    },
    {
     "name": "stderr",
     "output_type": "stream",
     "text": [
      "Epoch [14/20]: 100%|██████████| 40/40 [00:23<00:00,  1.72it/s]\n"
     ]
    },
    {
     "name": "stdout",
     "output_type": "stream",
     "text": [
      "Train Loss: 0.7859, Val Loss: 0.9428, Validation mAP: 0.7784\n"
     ]
    },
    {
     "name": "stderr",
     "output_type": "stream",
     "text": [
      "Epoch [15/20]: 100%|██████████| 40/40 [00:25<00:00,  1.57it/s]\n"
     ]
    },
    {
     "name": "stdout",
     "output_type": "stream",
     "text": [
      "Train Loss: 0.7548, Val Loss: 0.9124, Validation mAP: 0.7771\n"
     ]
    },
    {
     "name": "stderr",
     "output_type": "stream",
     "text": [
      "Epoch [16/20]: 100%|██████████| 40/40 [00:20<00:00,  1.99it/s]\n"
     ]
    },
    {
     "name": "stdout",
     "output_type": "stream",
     "text": [
      "Train Loss: 0.6942, Val Loss: 0.9009, Validation mAP: 0.7791\n"
     ]
    },
    {
     "name": "stderr",
     "output_type": "stream",
     "text": [
      "Epoch [17/20]: 100%|██████████| 40/40 [00:23<00:00,  1.71it/s]\n"
     ]
    },
    {
     "name": "stdout",
     "output_type": "stream",
     "text": [
      "Train Loss: 0.6938, Val Loss: 0.8774, Validation mAP: 0.7825\n"
     ]
    },
    {
     "name": "stderr",
     "output_type": "stream",
     "text": [
      "Epoch [18/20]: 100%|██████████| 40/40 [00:18<00:00,  2.13it/s]\n"
     ]
    },
    {
     "name": "stdout",
     "output_type": "stream",
     "text": [
      "Train Loss: 0.6582, Val Loss: 0.8660, Validation mAP: 0.7802\n"
     ]
    },
    {
     "name": "stderr",
     "output_type": "stream",
     "text": [
      "Epoch [19/20]: 100%|██████████| 40/40 [00:23<00:00,  1.70it/s]\n"
     ]
    },
    {
     "name": "stdout",
     "output_type": "stream",
     "text": [
      "Train Loss: 0.6562, Val Loss: 0.8632, Validation mAP: 0.7808\n"
     ]
    },
    {
     "name": "stderr",
     "output_type": "stream",
     "text": [
      "Epoch [20/20]: 100%|██████████| 40/40 [00:23<00:00,  1.70it/s]\n"
     ]
    },
    {
     "name": "stdout",
     "output_type": "stream",
     "text": [
      "Train Loss: 0.6449, Val Loss: 0.8587, Validation mAP: 0.7799\n",
      "--- Finish Training ---\n"
     ]
    },
    {
     "data": {
      "text/plain": [
       "(None,)"
      ]
     },
     "execution_count": 17,
     "metadata": {},
     "output_type": "execute_result"
    }
   ],
   "source": [
    "# 3. 학습 루프\n",
    "print(\"--- Start Training ---\")\n",
    "metric = MeanAveragePrecision(box_format=\"xyxy\").to(DEVICE)\n",
    "# early_stopping = EarlyStopping(patience=7, verbose=True, path=path_model)\n",
    "train_losses = []\n",
    "val_losses = []\n",
    "for epoch in range(NUM_EPOCHS):\n",
    "    # ===================================\n",
    "    #  Training Step\n",
    "    # ===================================\n",
    "\n",
    "    model.train()\n",
    "    running_loss = 0.0\n",
    "    loop = tqdm(train_loader, desc=f\"Epoch [{epoch+1}/{NUM_EPOCHS}]\")\n",
    "\n",
    "    for images, targets in loop:\n",
    "        images = list(image.to(DEVICE) for image in images)\n",
    "        targets = [{k: v.to(DEVICE) for k, v in t.items()} for t in targets]\n",
    "\n",
    "        loss_dict = model(images, targets)\n",
    "        losses = sum(loss for loss in loss_dict.values())\n",
    "\n",
    "        optimizer.zero_grad()\n",
    "        losses.backward()\n",
    "        optimizer.step()\n",
    "        running_loss += losses.item()\n",
    "    avg_train_loss = running_loss / len(train_loader)\n",
    "\n",
    "    scheduler.step()\n",
    "\n",
    "    # =====================================\n",
    "    #  Validation Step (✨ 여기가 핵심 수정)\n",
    "    # =====================================\n",
    "    model.eval()\n",
    "    val_loss = 0.0\n",
    "    metric.reset()\n",
    "    # (2) Validation phase\n",
    "    for images, targets in val_loader:\n",
    "        images = [img.to(DEVICE) for img in images]\n",
    "        targets = [{k: v.to(DEVICE) for k, v in t.items()} for t in targets]\n",
    "        # 1. mAP 계산을 위한 예측 (그래디언트 계산 불필요)\n",
    "        with torch.no_grad():  # 👈✨ 예측 부분만 no_grad로 감싸기\n",
    "            predictions = model(images)\n",
    "\n",
    "        # 2. Metric 업데이트\n",
    "        metric.update(predictions, targets)\n",
    "\n",
    "        # 3. Validation Loss 계산 (그래디언트 계산 필요)\n",
    "        #    torch.no_grad() 블록 바깥에서 계산\n",
    "        model.train()  # Loss 계산을 위해 잠시 train 모드로\n",
    "        loss_dict = model(images, targets)\n",
    "        losses = sum(loss for loss in loss_dict.values())\n",
    "        val_loss += losses.item()\n",
    "        model.eval()  # 다음 배치를 위해 다시 eval 모드로 복귀\n",
    "\n",
    "    average_val_loss = val_loss / len(val_loader)\n",
    "    val_losses.append(average_val_loss)\n",
    "\n",
    "    # mAP 평가\n",
    "    mAP_dict = metric.compute()\n",
    "    # mAP = evaluate_model(all_predictions, all_ground_truths, classes)\n",
    "    print(\n",
    "        f\"Train Loss: {avg_train_loss:.4f}, Val Loss: {average_val_loss:.4f}, Validation mAP: {mAP_dict['map_50']:.4f}\"\n",
    "    )\n",
    "\n",
    "print(\"--- Finish Training ---\"),\n",
    "# 최종 모델 저장\n",
    "# torch.save(model.state_dict(), f\"{EXPERIMENT_DIR}/final_model.pt\")"
   ]
  }
 ],
 "metadata": {
  "kernelspec": {
   "display_name": "JSH",
   "language": "python",
   "name": "python3"
  },
  "language_info": {
   "codemirror_mode": {
    "name": "ipython",
    "version": 3
   },
   "file_extension": ".py",
   "mimetype": "text/x-python",
   "name": "python",
   "nbconvert_exporter": "python",
   "pygments_lexer": "ipython3",
   "version": "3.13.1"
  }
 },
 "nbformat": 4,
 "nbformat_minor": 5
}
