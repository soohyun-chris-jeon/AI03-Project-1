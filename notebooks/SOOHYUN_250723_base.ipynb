{
 "cells": [
  {
   "cell_type": "markdown",
   "id": "b9124e22",
   "metadata": {},
   "source": [
    "Baseline 코드 학습 및 파라미터 저장"
   ]
  },
  {
   "cell_type": "markdown",
   "id": "0b1ee864",
   "metadata": {},
   "source": [
    "## 0. Configurations"
   ]
  },
  {
   "cell_type": "code",
   "execution_count": 1,
   "id": "de11a3b9",
   "metadata": {},
   "outputs": [],
   "source": [
    "# ====================================================================\n",
    "# Configuration 설정\n",
    "# ====================================================================\n",
    "# 하이퍼파라미터 및 경로 등 실험에 필요한 설정들을 모아둠\n",
    "# 실험 추적 및 재현성을 위해 모든 값은 여기에서 수정하고자 함\n",
    "import os  # 디렉토리, 파일 경로 조작 등\n",
    "\n",
    "import torch\n",
    "import os\n",
    "import numpy as np\n",
    "\n",
    "from pathlib import Path  # payhon path\n",
    "\n",
    "import albumentations as A\n",
    "import cv2  # OpenCV - 고급 이미지/비디오 처리\n",
    "import torch\n",
    "from torch.utils.data import Dataset  # 커스텀 데이터셋, 배치 로딩\n",
    "import pandas as pd\n",
    "import os\n",
    "import json\n",
    "from tqdm import tqdm\n",
    "from pathlib import Path\n",
    "\n",
    "# Garbage Collector 모듈\n",
    "import gc\n",
    "\n",
    "from torchmetrics.detection.mean_ap import MeanAveragePrecision\n",
    "from torchvision.ops import box_iou  # 맨 위에 import 추가\n",
    "import matplotlib.pyplot as plt\n",
    "\n",
    "\n",
    "# 메모리 정리 루틴\n",
    "gc.collect()\n",
    "torch.cuda.empty_cache()\n",
    "\n",
    "\n",
    "# --- 디바이스 설정 ---\n",
    "DEVICE = \"cuda\" if torch.cuda.is_available() else \"cpu\"\n",
    "SEED = 42\n",
    "\n",
    "# --- 학습 하이퍼파라미터 ---\n",
    "BATCH_SIZE = 16\n",
    "NUM_EPOCHS = 60\n",
    "LEARNING_RATE = 1e-4\n",
    "MOMENTUM = 0.9\n",
    "WEIGHT_DECAY = 0.0005\n",
    "\n",
    "# --- 데이터 경로 설정 ---\n",
    "# DATA_ROOT = path\n",
    "# DATA_ROOT = \"data/raw/ai03-level1-project/\"  # 경로\n",
    "# TRAIN_IMAGE_DIR = os.path.join(DATA_ROOT, \"train_images\")\n",
    "# TRAIN_ANNO_DIR = os.path.join(DATA_ROOT, \"train_annotations\")\n",
    "# TEST_IMAGE_DIR = os.path.join(DATA_ROOT, \"test_images\")\n",
    "# PROCESSED_TRAIN_CSV = \"../data/processed/train_df.csv\"  # 데이터 전처리된 csv 파일\n",
    "\n",
    "# --- 모델 설정 ---\n",
    "NUM_CLASSES = 73\n",
    "MODEL_NAME = \"BASELINE_fasterrcnn\"\n",
    "USE_PRETRAINED = True\n",
    "\n",
    "# --- 학습 고도화 설정 ---\n",
    "USE_SCHEDULER = True  # Learning rate scheduler 사용 여부\n",
    "EARLY_STOPPING = True  # Early stopping 적용 여부\n",
    "AUGMENTATION = True  # 데이터 증강 사용 여부\n",
    "\n",
    "# --- 실험 로깅용 설정 ---\n",
    "USE_WANDB = True\n",
    "WANDB_PROJECT = \"AI03-Project-1\"\n",
    "RUN_NAME = f\"{MODEL_NAME}_bs{BATCH_SIZE}_lr{LEARNING_RATE}\"\n",
    "\n",
    "\n",
    "# --- 실험 결과 저장 경로 ---\n",
    "EXPERIMENT_DIR = \"../experiments\""
   ]
  },
  {
   "cell_type": "markdown",
   "id": "769ac65f",
   "metadata": {},
   "source": [
    "## 1. Data-preprocessing"
   ]
  },
  {
   "cell_type": "code",
   "execution_count": 2,
   "id": "85626da3",
   "metadata": {},
   "outputs": [],
   "source": [
    "def parse_raw_annotations(ann_dir: Path) -> pd.DataFrame:\n",
    "    \"\"\"\n",
    "    복잡한 3중 폴더 구조의 원본 어노테이션을 파싱하여\n",
    "    하나의 Pandas DataFrame으로 반환하는 함수.\n",
    "    \"\"\"\n",
    "    all_annotations = []\n",
    "\n",
    "    # Level 1: 이미지별 폴더 순회\n",
    "    image_level_dirs = os.listdir(ann_dir)\n",
    "    for image_dir_name in tqdm(image_level_dirs, desc=\"[L1] Images\"):\n",
    "        image_dir_path = ann_dir / image_dir_name\n",
    "        if not image_dir_path.is_dir():\n",
    "            continue\n",
    "\n",
    "        # Level 2: 알약 종류 폴더 순회\n",
    "        pill_level_dirs = os.listdir(image_dir_path)\n",
    "        for pill_dir_name in pill_level_dirs:\n",
    "            pill_dir_path = image_dir_path / pill_dir_name\n",
    "            if not pill_dir_path.is_dir():\n",
    "                continue\n",
    "\n",
    "            # Level 3: 실제 .json 파일 파싱\n",
    "            json_files = [f for f in os.listdir(pill_dir_path) if f.endswith(\".json\")]\n",
    "            if not json_files:\n",
    "                continue\n",
    "\n",
    "            # 첫 번째 json 파일만 사용\n",
    "            json_file_path = pill_dir_path / json_files[0]\n",
    "\n",
    "            try:\n",
    "                with open(json_file_path, \"r\", encoding=\"utf-8\") as f:\n",
    "                    ann_data = json.load(f)\n",
    "\n",
    "                    image_info = ann_data.get(\"images\", [{}])[0]\n",
    "                    annotation_info = ann_data.get(\"annotations\", [{}])[0]\n",
    "                    category_info = ann_data.get(\"categories\", [{}])[0]\n",
    "\n",
    "                    all_annotations.append(\n",
    "                        {\n",
    "                            \"image_id\": image_info.get(\"id\"),\n",
    "                            \"file_name\": image_info.get(\"file_name\"),\n",
    "                            \"width\": image_info.get(\"width\"),\n",
    "                            \"height\": image_info.get(\"height\"),\n",
    "                            \"category_id\": category_info.get(\"id\"),\n",
    "                            \"class_name\": category_info.get(\"name\"),\n",
    "                            \"bbox\": annotation_info.get(\"bbox\"),\n",
    "                        }\n",
    "                    )\n",
    "            except Exception as e:\n",
    "                print(f\"\\n파일 처리 에러: {json_file_path}, 에러: {e}\")\n",
    "\n",
    "    return pd.DataFrame(all_annotations)"
   ]
  },
  {
   "cell_type": "code",
   "execution_count": 3,
   "id": "1e807cce",
   "metadata": {},
   "outputs": [
    {
     "name": "stderr",
     "output_type": "stream",
     "text": [
      "[L1] Images:   0%|          | 0/498 [00:00<?, ?it/s]"
     ]
    },
    {
     "name": "stderr",
     "output_type": "stream",
     "text": [
      "[L1] Images: 100%|██████████| 498/498 [00:00<00:00, 802.82it/s]"
     ]
    },
    {
     "name": "stdout",
     "output_type": "stream",
     "text": [
      "\n",
      "총 73개의 고유 클래스를 발견했습니다.\n",
      "라벨 매핑 정보를 'data/processed/label_map.json'에 저장했습니다.\n",
      "\n",
      "--- 데이터 전처리 및 저장 완료! ---\n",
      "   image_id                                          file_name  width  height  \\\n",
      "0       895  K-003544-010221-016551-021026_0_2_0_2_75_000_2...    976    1280   \n",
      "1       896  K-003544-010221-016551-021026_0_2_0_2_90_000_2...    976    1280   \n",
      "2       895  K-003544-010221-016551-021026_0_2_0_2_75_000_2...    976    1280   \n",
      "3       895  K-003544-010221-016551-021026_0_2_0_2_75_000_2...    976    1280   \n",
      "4      1310  K-003483-027733-028763-029667_0_2_0_2_90_000_2...    976    1280   \n",
      "\n",
      "   category_id         class_name  bbox_x  bbox_y  bbox_w  bbox_h  label_idx  \n",
      "0        10220         쎄로켈정 100mg     584     774     227     223         14  \n",
      "1         3543  무코스타정(레바미피드)(비매품)     110     234     207     200          5  \n",
      "2        21025       펠루비정(펠루비프로펜)     101     821     178     180         36  \n",
      "3        16550      동아가바펜틴정 800mg     534      42     296     458         24  \n",
      "4        28762       트라젠타정(리나글립틴)     194     195     212     202         54  \n"
     ]
    },
    {
     "name": "stderr",
     "output_type": "stream",
     "text": [
      "\n"
     ]
    }
   ],
   "source": [
    "# 1. 핵심 함수를 호출해서 DataFrame 생성\n",
    "from pathlib import Path\n",
    "\n",
    "BASE_DIR = Path(\"../\")  # 상대경로\n",
    "RAW_DATA_DIR = BASE_DIR / \"data/raw/ai03-level1-project\"\n",
    "PROCESSED_DATA_DIR = BASE_DIR / \"data/processed\"\n",
    "\n",
    "TRAIN_IMAGE_DIR = RAW_DATA_DIR / \"train_images\"\n",
    "TRAIN_ANNO_DIR = RAW_DATA_DIR / \"train_annotations\"\n",
    "TEST_IMAGE_DIR = RAW_DATA_DIR / \"test_images\"\n",
    "SAVE_PATH = PROCESSED_DATA_DIR / \"train_df.csv\"\n",
    "train_df = parse_raw_annotations(TRAIN_ANNO_DIR)\n",
    "\n",
    "# --- (1). bbox 컬럼을 4개로 분리 ---\n",
    "# bbox 컬럼 분리\n",
    "bbox_df = pd.DataFrame(\n",
    "    train_df[\"bbox\"].tolist(), columns=[\"bbox_x\", \"bbox_y\", \"bbox_w\", \"bbox_h\"]\n",
    ")\n",
    "train_df = pd.concat([train_df.drop(\"bbox\", axis=1), bbox_df], axis=1)\n",
    "\n",
    "# ✨ --- [핵심 수정] 잘못된 바운딩 박스 데이터 제거 ---\n",
    "# xmax (bbox_x + bbox_w)가 이미지 너비(width)를 초과하는 경우\n",
    "invalid_x = train_df[\"bbox_x\"] + train_df[\"bbox_w\"] > train_df[\"width\"]\n",
    "# ymax (bbox_y + bbox_h)가 이미지 높이(height)를 초과하는 경우\n",
    "invalid_y = train_df[\"bbox_y\"] + train_df[\"bbox_h\"] > train_df[\"height\"]\n",
    "\n",
    "# 잘못된 데이터를 필터링\n",
    "invalid_rows = train_df[invalid_x | invalid_y]\n",
    "if not invalid_rows.empty:\n",
    "    print(f\"--- {len(invalid_rows)}개의 잘못된 바운딩 박스 데이터를 찾았습니다. ---\")\n",
    "    print(\n",
    "        invalid_rows[\n",
    "            [\"file_name\", \"width\", \"height\", \"bbox_x\", \"bbox_y\", \"bbox_w\", \"bbox_h\"]\n",
    "        ]\n",
    "    )\n",
    "\n",
    "    # 유효한 데이터만 남김\n",
    "    train_df = train_df[~(invalid_x | invalid_y)]\n",
    "    print(f\"\\n잘못된 데이터를 제거하고, {len(train_df)}개의 데이터만 사용합니다.\")\n",
    "\n",
    "# --- (2). category_id를 새로운 label_idx로 매핑 ---\n",
    "# 고유한 category_id 목록을 뽑아 정렬\n",
    "unique_category_ids = sorted(train_df[\"category_id\"].unique())\n",
    "NUM_CLASSES = len(unique_category_ids)\n",
    "# category_id를 0, 1, 2... 인덱스로 변환하는 딕셔너리 생성\n",
    "id_to_idx = {\n",
    "    int(original_id): idx\n",
    "    for idx, original_id in enumerate(\n",
    "        unique_category_ids, start=1\n",
    "    )  # <--- start=1 추가!\n",
    "}\n",
    "# 이 매핑 정보를 사용해서 'label_idx'라는 새 컬럼을 추가\n",
    "train_df[\"label_idx\"] = train_df[\"category_id\"].map(id_to_idx)\n",
    "\n",
    "# processed 폴더 존재 여부 체크\n",
    "PROCESSED_DATA_DIR.mkdir(parents=True, exist_ok=True)\n",
    "\n",
    "# 나중에 추론 결과에서 원래 클래스 이름을 찾을 수 있도록 매핑 정보도 저장\n",
    "label_map = {\n",
    "    \"id_to_idx\": id_to_idx,\n",
    "    \"idx_to_id\": {idx: int(original_id) for original_id, idx in id_to_idx.items()},\n",
    "    \"id_to_name\": dict(zip(train_df[\"category_id\"], train_df[\"class_name\"])),\n",
    "}\n",
    "with open(PROCESSED_DATA_DIR / \"label_map.json\", \"w\", encoding=\"utf-8\") as f:\n",
    "    json.dump(label_map, f, ensure_ascii=False, indent=4)\n",
    "\n",
    "print(f\"\\n총 {len(unique_category_ids)}개의 고유 클래스를 발견했습니다.\")\n",
    "print(\"라벨 매핑 정보를 'data/processed/label_map.json'에 저장했습니다.\")\n",
    "\n",
    "\n",
    "# 3. 최종 DataFrame을 CSV 파일로 저장\n",
    "train_df.to_csv(SAVE_PATH, index=False)\n",
    "\n",
    "print(f\"\\n--- 데이터 전처리 및 저장 완료! ---\")\n",
    "print(train_df.head())"
   ]
  },
  {
   "cell_type": "code",
   "execution_count": 4,
   "id": "190b5136",
   "metadata": {},
   "outputs": [
    {
     "data": {
      "text/plain": [
       "<Axes: xlabel='label_idx'>"
      ]
     },
     "execution_count": 4,
     "metadata": {},
     "output_type": "execute_result"
    },
    {
     "data": {
      "image/png": "[encoded data removed]",
      "text/plain": [
       "<Figure size 640x480 with 1 Axes>"
      ]
     },
     "metadata": {},
     "output_type": "display_data"
    }
   ],
   "source": [
    "train_df[\"label_idx\"].value_counts().plot(kind=\"bar\")"
   ]
  },
  {
   "cell_type": "code",
   "execution_count": 5,
   "id": "8437147b",
   "metadata": {},
   "outputs": [
    {
     "data": {
      "text/plain": [
       "class_name\n",
       "기넥신에프정(은행엽엑스)(수출용)    206\n",
       "일양하이트린정 2mg            98\n",
       "뮤테란캡슐 100mg            74\n",
       "보령부스파정 5mg             74\n",
       "동아가바펜틴정 800mg          58\n",
       "                     ... \n",
       "자이프렉사정 2.5mg            4\n",
       "졸로푸트정 100mg             4\n",
       "브린텔릭스정 20mg             4\n",
       "렉사프로정 15mg              4\n",
       "쿠에타핀정 25mg              4\n",
       "Name: count, Length: 73, dtype: int64"
      ]
     },
     "execution_count": 5,
     "metadata": {},
     "output_type": "execute_result"
    }
   ],
   "source": [
    "train_df[\"class_name\"].value_counts()"
   ]
  },
  {
   "cell_type": "code",
   "execution_count": 6,
   "id": "ce8f2cbe",
   "metadata": {},
   "outputs": [
    {
     "data": {
      "text/plain": [
       "array(['쎄로켈정 100mg', '무코스타정(레바미피드)(비매품)', '펠루비정(펠루비프로펜)', '동아가바펜틴정 800mg',\n",
       "       '트라젠타정(리나글립틴)', '기넥신에프정(은행엽엑스)(수출용)', '트윈스타정 40/5mg', '리바로정 4mg',\n",
       "       '자누메트엑스알서방정 100/1000mg', '플라빅스정 75mg', '리렉스펜정 300mg/PTP',\n",
       "       '큐시드정 31.5mg/PTP', '비타비백정 100mg/병', '아모잘탄정 5/100mg', '자누비아정 50mg',\n",
       "       '리피토정 20mg', '아토젯정 10/40mg', '가바토파정 100mg', '레일라정', '세비카정 10/40mg',\n",
       "       '로수젯정10/5밀리그램', '크레스토정 20mg', '종근당글리아티린연질캡슐(콜린알포세레이트)\\xa0',\n",
       "       '일양하이트린정 2mg', '타이레놀정500mg', '뮤테란캡슐 100mg', '트루비타정 60mg/병', '알드린정',\n",
       "       '에빅사정(메만틴염산염)(비매품)', '아토르바정 10mg', '카나브정 60mg', '자누메트정 50/850mg',\n",
       "       '노바스크정 5mg', '트라젠타듀오정 2.5/850mg', '제미메트서방정 50/1000mg',\n",
       "       '비모보정 500/20mg', '라비에트정 20mg', '보령부스파정 5mg', '다보타민큐정 10mg/병',\n",
       "       '써스펜8시간이알서방정 650mg', '리피로우정 20mg', '글리아타민연질캡슐', '카발린캡슐 25mg',\n",
       "       '엑스포지정 5/160mg', '케이캡정 50mg', '놀텍정 10mg',\n",
       "       '타이레놀이알서방정(아세트아미노펜)(수출용)', '조인스정 200mg', '자이프렉사정 2.5mg',\n",
       "       '콜리네이트연질캡슐 400mg', '울트라셋이알서방정', '에스원엠프정 20mg', '메가파워정 90mg/병',\n",
       "       '맥시부펜이알정 300mg', '삼남건조수산화알루미늄겔정', '신바로정', '란스톤엘에프디티정 30mg', '마도파정',\n",
       "       '리리카캡슐 150mg', '졸로푸트정 100mg', '에어탈정(아세클로페낙)', '아질렉트정(라사길린메실산염)',\n",
       "       '오마코연질캡슐(오메가-3-산에틸에스테르90)', '뉴로메드정(옥시라세탐)', '로수바미브정 10/20mg',\n",
       "       '아빌리파이정 10mg', '삐콤씨에프정 618.6mg/병', '글리틴정(콜린알포세레이트)',\n",
       "       '낙소졸정 500/20mg', '브린텔릭스정 20mg', '스토가정 10mg', '렉사프로정 15mg',\n",
       "       '쿠에타핀정 25mg'], dtype=object)"
      ]
     },
     "execution_count": 6,
     "metadata": {},
     "output_type": "execute_result"
    }
   ],
   "source": [
    "classes_tmp = train_df[\"class_name\"].unique()\n",
    "classes_tmp"
   ]
  },
  {
   "cell_type": "code",
   "execution_count": 7,
   "id": "02840906",
   "metadata": {},
   "outputs": [
    {
     "name": "stdout",
     "output_type": "stream",
     "text": [
      "총 클래스 개수 (배경 포함): 74\n",
      "클래스 리스트: ['background', '보령부스파정 5mg', '뮤테란캡슐 100mg', '일양하이트린정 2mg', '기넥신에프정', '무코스타정', '알드린정', '뉴로메드정', '타이레놀정500mg', '에어탈정', '삼남건조수산화알루미늄겔정', '타이레놀이알서방정', '삐콤씨에프정 618.6mg/병', '조인스정 200mg', '쎄로켈정 100mg', '리렉스펜정 300mg/PTP', '아빌리파이정 10mg', '자이프렉사정 2.5mg', '다보타민큐정 10mg/병', '써스펜8시간이알서방정 650mg', '에빅사정', '리피토정 20mg', '크레스토정 20mg', '가바토파정 100mg', '동아가바펜틴정 800mg', '오마코연질캡슐', '란스톤엘에프디티정 30mg', '리리카캡슐 150mg', '종근당글리아티린연질캡슐', '콜리네이트연질캡슐 400mg', '트루비타정 60mg/병', '스토가정 10mg', '노바스크정 5mg', '마도파정', '플라빅스정 75mg', '엑스포지정 5/160mg', '펠루비정', '아토르바정 10mg', '라비에트정 20mg', '리피로우정 20mg', '자누비아정 50mg', '맥시부펜이알정 300mg', '메가파워정 90mg/병', '쿠에타핀정 25mg', '비타비백정 100mg/병', '놀텍정 10mg', '자누메트정 50/850mg', '큐시드정 31.5mg/PTP', '아모잘탄정 5/100mg', '세비카정 10/40mg', '트윈스타정 40/5mg', '카나브정 60mg', '울트라셋이알서방정', '졸로푸트정 100mg', '트라젠타정', '비모보정 500/20mg', '레일라정', '리바로정 4mg', '렉사프로정 15mg', '트라젠타듀오정 2.5/850mg', '낙소졸정 500/20mg', '아질렉트정', '자누메트엑스알서방정 100/1000mg', '글리아타민연질캡슐', '신바로정', '에스원엠프정 20mg', '브린텔릭스정 20mg', '글리틴정', '제미메트서방정 50/1000mg', '아토젯정 10/40mg', '로수젯정10/5밀리그램', '로수바미브정 10/20mg', '카발린캡슐 25mg', '케이캡정 50mg']\n"
     ]
    }
   ],
   "source": [
    "# 1. 'category_id'와 'class_name' 컬럼으로 고유한 쌍을 찾고, ID 기준으로 정렬\n",
    "class_mapping_df = (\n",
    "    train_df[[\"category_id\", \"class_name\"]]\n",
    "    .drop_duplicates()\n",
    "    .sort_values(by=\"category_id\")\n",
    ")\n",
    "# 2. 정렬된 DataFrame에서 클래스 이름만 리스트로 추출\n",
    "sorted_class_names = [\n",
    "    name.split(\"(\")[0].strip() for name in class_mapping_df[\"class_name\"]\n",
    "]\n",
    "# 3. 맨 앞에 'background' 추가\n",
    "classes = [\"background\"] + sorted_class_names\n",
    "\n",
    "print(f\"총 클래스 개수 (배경 포함): {len(classes)}\")\n",
    "print(f\"클래스 리스트: {classes}\")"
   ]
  },
  {
   "cell_type": "markdown",
   "id": "c55a9ddb",
   "metadata": {},
   "source": [
    "## 2. Load a model"
   ]
  },
  {
   "cell_type": "code",
   "execution_count": 8,
   "id": "95e73b86",
   "metadata": {},
   "outputs": [],
   "source": [
    "# (1) 데이터 증강 (Augmentation) : Albumentations 라이브러리 사용\n",
    "train_transforms = A.Compose(\n",
    "    [\n",
    "        A.Resize(512, 512),\n",
    "        A.HorizontalFlip(p=0.5),\n",
    "        A.RandomBrightnessContrast(p=0.2),\n",
    "        A.Normalize(mean=(0.485, 0.456, 0.406), std=(0.229, 0.224, 0.225)),\n",
    "        # PyTorch 텐서로 변환\n",
    "        A.pytorch.ToTensorV2(),\n",
    "    ],\n",
    "    bbox_params=A.BboxParams(format=\"albumentations\", label_fields=[\"labels\"]),\n",
    ")  # bbox 형식은 pascal_voc: [xmin, ymin, xmax, ymax]\n",
    "\n",
    "val_transforms = A.Compose(\n",
    "    [\n",
    "        A.Resize(512, 512),\n",
    "        A.Normalize(mean=(0.485, 0.456, 0.406), std=(0.229, 0.224, 0.225)),\n",
    "        A.pytorch.ToTensorV2(),\n",
    "    ],\n",
    "    bbox_params=A.BboxParams(format=\"albumentations\", label_fields=[\"labels\"]),\n",
    ")\n",
    "\n",
    "test_transforms = A.Compose(\n",
    "    [\n",
    "        A.Resize(512, 512),\n",
    "        A.Normalize(mean=(0.485, 0.456, 0.406), std=(0.229, 0.224, 0.225)),\n",
    "        A.pytorch.ToTensorV2(),\n",
    "    ]\n",
    ")\n",
    "\n",
    "\n",
    "# DataLoader를 위한 collate_fn. 이미지와 타겟을 리스트로 묶어줌\n",
    "def collate_fn(batch):\n",
    "    return tuple(zip(*batch))"
   ]
  },
  {
   "cell_type": "code",
   "execution_count": 9,
   "id": "9addecd8",
   "metadata": {},
   "outputs": [],
   "source": [
    "class PillDataset(Dataset):\n",
    "    # --- mode 파라미터 추가 및 df를 직접 받도록 수정 ---\n",
    "    def __init__(self, df, image_dir, mode=\"train\", transforms=None):\n",
    "        self.df = df\n",
    "        self.image_dir = Path(image_dir)\n",
    "        self.mode = mode\n",
    "        self.transforms = transforms\n",
    "\n",
    "        # --- image_ids를 미리 뽑아 중복을 제거 ---\n",
    "        # df['file_name']을 사용하면 이미지 파일 이름으로 고유한 이미지를 식별 가능.\n",
    "        self.image_ids = self.df[\"file_name\"].unique()\n",
    "\n",
    "    def __len__(self):\n",
    "        # --- 고유한 이미지의 개수를 반환 ---\n",
    "        return len(self.image_ids)\n",
    "\n",
    "    def __getitem__(self, idx):\n",
    "        image_id = self.image_ids[idx]\n",
    "        image_path = self.image_dir / image_id\n",
    "\n",
    "        image = cv2.imread(str(image_path))\n",
    "        if image is None:\n",
    "            raise FileNotFoundError(\n",
    "                f\"Error: Could not load image at path: {image_path}\"\n",
    "            )\n",
    "\n",
    "        image = cv2.cvtColor(image, cv2.COLOR_BGR2RGB)\n",
    "        h, w, _ = image.shape\n",
    "\n",
    "        if self.mode in [\"train\", \"val\"]:\n",
    "            records = self.df[self.df[\"file_name\"] == image_id]\n",
    "            boxes = records[[\"bbox_x\", \"bbox_y\", \"bbox_w\", \"bbox_h\"]].values\n",
    "\n",
    "            boxes[:, 2] = boxes[:, 0] + boxes[:, 2]\n",
    "            boxes[:, 3] = boxes[:, 1] + boxes[:, 3]\n",
    "\n",
    "            labels = records[\"label_idx\"].values\n",
    "\n",
    "            # print(f\"\\n[DEBUG 1] Image: {image_id}, Original Pixel Coords:\\n{boxes}\")\n",
    "\n",
    "            # 바운딩 박스 좌표 정규화\n",
    "            boxes = boxes.astype(np.float32)\n",
    "            boxes[:, [0, 2]] /= w\n",
    "            boxes[:, [1, 3]] /= h\n",
    "\n",
    "            # print(f\"[DEBUG 2] Normalized Coords for Albumentations:\\n{boxes}\")\n",
    "\n",
    "            if self.transforms:\n",
    "                try:\n",
    "                    transformed = self.transforms(\n",
    "                        image=image, bboxes=boxes, labels=labels\n",
    "                    )\n",
    "                    image = transformed[\"image\"]\n",
    "                    boxes = transformed[\"bboxes\"]\n",
    "                    labels = transformed[\"labels\"]\n",
    "                except Exception as e:\n",
    "                    print(f\"!!!!!!!!!!!!!! Albumentations에서 에러 발생 !!!!!!!!!!!!!!\")\n",
    "                    print(f\"Image: {image_id}\")\n",
    "                    print(f\"Boxes sent to transform: {boxes}\")\n",
    "                    # raise e  # 에러를 다시 발생시켜서 멈추게 함\n",
    "\n",
    "            # ... 이하 코드는 이전과 동일 ...\n",
    "            _, new_h, new_w = image.shape\n",
    "            boxes = torch.as_tensor(boxes, dtype=torch.float32)\n",
    "\n",
    "            if len(boxes) > 0:\n",
    "                boxes[:, [0, 2]] *= new_w\n",
    "                boxes[:, [1, 3]] *= new_h\n",
    "\n",
    "            target = {\n",
    "                \"boxes\": boxes,\n",
    "                \"labels\": torch.as_tensor(labels, dtype=torch.int64),\n",
    "            }\n",
    "\n",
    "            if len(target[\"boxes\"]) == 0:\n",
    "                target[\"boxes\"] = torch.zeros((0, 4), dtype=torch.float32)\n",
    "                target[\"labels\"] = torch.zeros((0,), dtype=torch.int64)\n",
    "\n",
    "            return image, target\n",
    "\n",
    "            # 테스트 모드일 경우, 이미지와 파일 이름만 반환\n",
    "        elif self.mode == \"test\":\n",
    "            # 테스트 시에는 보통 기본적인 리사이즈, 정규화만 적용\n",
    "            if self.transforms:\n",
    "                transformed = self.transforms(image=image)\n",
    "                image = transformed[\"image\"]\n",
    "\n",
    "            # 나중에 예측 결과를 이미지와 매칭시키기 위해 파일 이름을 반환\n",
    "            return image, image_id\n",
    "\n",
    "\n",
    "# 참고: Subset을 사용할 때 transform을 다르게 적용하려면 약간의 트릭이 필요.\n",
    "# 먼저 transform이 없는 전체 데이터셋을 만듦.\n",
    "# 각 Subset에 맞는 transform을 적용하는 Wrapper 클래스 생성\n",
    "# class TransformSubset(Dataset):\n",
    "#     def __init__(self, subset, transforms):\n",
    "#         self.subset = subset\n",
    "#         self.transforms = transforms\n",
    "\n",
    "#     def __getitem__(self, idx):\n",
    "#         image, target = self.subset[idx]\n",
    "\n",
    "#         # NumPy 배열로 변환 (Albumentations 입력 형식)\n",
    "#         boxes = target[\"boxes\"].numpy()\n",
    "#         labels = target[\"labels\"].numpy()\n",
    "\n",
    "#         if self.transforms:\n",
    "#             transformed = self.transforms(image=image, bboxes=boxes, labels=labels)\n",
    "#             image = transformed[\"image\"]\n",
    "#             target[\"boxes\"] = torch.as_tensor(\n",
    "#                 transformed[\"bboxes\"], dtype=torch.float32\n",
    "#             )\n",
    "#             # 증강 후 bbox가 사라졌을 경우 처리\n",
    "#             if len(target[\"boxes\"]) == 0:\n",
    "#                 target[\"boxes\"] = torch.zeros((0, 4), dtype=torch.float32)\n",
    "\n",
    "#         return image, target\n",
    "\n",
    "#     def __len__(self):\n",
    "#         return len(self.subset)"
   ]
  },
  {
   "cell_type": "code",
   "execution_count": 10,
   "id": "405ed05d",
   "metadata": {},
   "outputs": [],
   "source": [
    "import torchvision\n",
    "from torchvision.models.detection.faster_rcnn import FastRCNNPredictor\n",
    "\n",
    "# pre-trained 모델 로드\n",
    "# Faster R-CNN\n",
    "# model = torchvision.models.detection.fasterrcnn_resnet50_fpn(weights=\"DEFAULT\")\n",
    "\n",
    "# MobileNetV3\n",
    "model = torchvision.models.detection.fasterrcnn_mobilenet_v3_large_fpn(\n",
    "    weights=\"DEFAULT\"\n",
    ")\n",
    "\n",
    "\n",
    "# 분류기의 입력 피처 수를 가져옴\n",
    "in_features = model.roi_heads.box_predictor.cls_score.in_features\n",
    "\n",
    "# pre-trained head를 새로운 head로 교체\n",
    "# num_classes에 배경(background) 클래스 1개를 더해줘야 함\n",
    "model.roi_heads.box_predictor = FastRCNNPredictor(in_features, NUM_CLASSES + 1)"
   ]
  },
  {
   "cell_type": "code",
   "execution_count": 11,
   "id": "83102d21",
   "metadata": {},
   "outputs": [],
   "source": [
    "import random\n",
    "\n",
    "\n",
    "# 재현성을 위해 모든 난수 생성기의 시드를 고정하는 함수.\n",
    "def seed_everything(seed: int):\n",
    "    random.seed(seed)\n",
    "    os.environ[\"PYTHONHASHSEED\"] = str(seed)\n",
    "    np.random.seed(seed)\n",
    "    torch.manual_seed(seed)\n",
    "    torch.cuda.manual_seed(seed)\n",
    "    torch.backends.cudnn.deterministic = True\n",
    "    torch.backends.cudnn.benchmark = False\n",
    "    print(f\"Seed set to {seed}\")"
   ]
  },
  {
   "cell_type": "code",
   "execution_count": null,
   "id": "d647faaf",
   "metadata": {},
   "outputs": [
    {
     "name": "stdout",
     "output_type": "stream",
     "text": [
      "Seed set to 42\n"
     ]
    },
    {
     "name": "stderr",
     "output_type": "stream",
     "text": [
      "/home/soohyun/miniconda3/envs/JSH/lib/python3.13/site-packages/sklearn/model_selection/_split.py:1035: UserWarning: The least populated class in y has only 4 members, which is less than n_splits=5.\n",
      "  warnings.warn(\n"
     ]
    }
   ],
   "source": [
    "from sklearn.model_selection import train_test_split\n",
    "from torch.utils.data import DataLoader\n",
    "from sklearn.model_selection import StratifiedGroupKFold\n",
    "from torch.utils.data import Subset\n",
    "\n",
    "seed_everything(SEED)\n",
    "\n",
    "# 1. 데이터 준비\n",
    "df = pd.read_csv(SAVE_PATH)\n",
    "\n",
    "# StratifiedGroupKFold를 위한 데이터 준비\n",
    "groups = df[\"file_name\"]  # 그룹 기준: 이미지 파일 이름\n",
    "labels = df[\"category_id\"]  # 층화 기준: 원본 클래스 ID\n",
    "\n",
    "# K-Fold 설정 (5-fold, 즉 80% train / 20% val)\n",
    "cv = StratifiedGroupKFold(n_splits=5, shuffle=True, random_state=SEED)\n",
    "\n",
    "# 첫 번째 fold의 train/val 인덱스를 가져옴\n",
    "train_idxs, val_idxs = next(cv.split(df, labels, groups))\n",
    "# 1. 인덱스를 사용해서 데이터프레임을 먼저 분할!\n",
    "train_df_split = df.iloc[train_idxs].reset_index(drop=True)\n",
    "val_df_split = df.iloc[val_idxs].reset_index(drop=True)\n",
    "\n",
    "# 2. 분할된 데이터프레임으로 각각 Dataset 생성\n",
    "train_dataset = PillDataset(\n",
    "    df=train_df_split,\n",
    "    image_dir=TRAIN_IMAGE_DIR,\n",
    "    mode=\"train\",\n",
    "    transforms=train_transforms,\n",
    ")\n",
    "\n",
    "val_dataset = PillDataset(\n",
    "    df=val_df_split,\n",
    "    image_dir=TRAIN_IMAGE_DIR,\n",
    "    mode=\"val\",\n",
    "    transforms=val_transforms,  # val_transforms 사용\n",
    ")\n",
    "\n",
    "test_df = pd.DataFrame({\"file_name\": os.listdir(TEST_IMAGE_DIR)})\n",
    "\n",
    "test_dataset = PillDataset(\n",
    "    df=test_df,\n",
    "    image_dir=TEST_IMAGE_DIR,\n",
    "    mode=\"test\",\n",
    "    transforms=test_transforms,\n",
    ")\n",
    "\n",
    "\n",
    "# --- Data Loader ---\n",
    "train_loader = DataLoader(\n",
    "    train_dataset,\n",
    "    batch_size=BATCH_SIZE,\n",
    "    shuffle=True,\n",
    "    collate_fn=collate_fn,\n",
    ")\n",
    "val_loader = DataLoader(\n",
    "    val_dataset,\n",
    "    batch_size=BATCH_SIZE,\n",
    "    shuffle=False,\n",
    "    collate_fn=collate_fn,\n",
    ")\n",
    "test_loader = DataLoader(\n",
    "    test_dataset,\n",
    "    batch_size=BATCH_SIZE,\n",
    "    shuffle=False,\n",
    "    collate_fn=collate_fn,\n",
    ")"
   ]
  },
  {
   "cell_type": "code",
   "execution_count": 13,
   "id": "f1478840",
   "metadata": {},
   "outputs": [],
   "source": [
    "# img, image_id = next(iter(train_loader))\n",
    "# image_id[7]"
   ]
  },
  {
   "cell_type": "code",
   "execution_count": 14,
   "id": "37de70ce",
   "metadata": {},
   "outputs": [
    {
     "data": {
      "text/plain": [
       "{'boxes': tensor([[268.0656,  97.2000, 484.7213, 185.6000],\n",
       "         [ 92.8525,  93.6000, 198.8197, 198.0000],\n",
       "         [337.3115, 338.4000, 436.9836, 414.4000]]),\n",
       " 'labels': tensor([56, 73,  1])}"
      ]
     },
     "execution_count": 14,
     "metadata": {},
     "output_type": "execute_result"
    }
   ],
   "source": [
    "img, image_id = next(iter(val_loader))\n",
    "image_id[7]"
   ]
  },
  {
   "cell_type": "code",
   "execution_count": 15,
   "id": "572d7ccd",
   "metadata": {},
   "outputs": [],
   "source": [
    "model = model.to(DEVICE)\n",
    "\n",
    "params = [p for p in model.parameters() if p.requires_grad]\n",
    "\n",
    "# optimizer = torch.optim.SGD(\n",
    "#     params,\n",
    "#     lr=LEARNING_RATE,\n",
    "#     momentum=MOMENTUM,\n",
    "#     weight_decay=WEIGHT_DECAY,\n",
    "# )\n",
    "optimizer = torch.optim.AdamW(params, lr=LEARNING_RATE, weight_decay=0.01)\n",
    "\n",
    "scheduler = torch.optim.lr_scheduler.CosineAnnealingLR(\n",
    "    optimizer, T_max=NUM_EPOCHS, eta_min=1e-6\n",
    ")"
   ]
  },
  {
   "cell_type": "code",
   "execution_count": 16,
   "id": "ac0dbb75",
   "metadata": {},
   "outputs": [],
   "source": [
    "class EarlyStopping:\n",
    "    \"\"\"주어진 patience 후 검증 점수가 향상되지 않으면 학습을 조기 중단시킵니다.\"\"\"\n",
    "\n",
    "    def __init__(\n",
    "        self,\n",
    "        patience=7,\n",
    "        verbose=False,\n",
    "        delta=0,\n",
    "        mode=\"min\",\n",
    "        path=\"../experiments/best_model.pt\",\n",
    "        evaluation_name=\"score\",\n",
    "    ):\n",
    "        \"\"\"\n",
    "        Args:\n",
    "            patience (int): 검증 점수가 향상된 후 기다릴 에폭 수.\n",
    "            verbose (bool): True일 경우, 점수가 향상될 때마다 메시지를 출력.\n",
    "            delta (float): 점수 향상으로 인정될 최소 변화량.\n",
    "            mode (str): 'min' 또는 'max'. min은 점수가 낮아지는 것을, max는 높아지는 것을 목표로 함.\n",
    "            path (str): 모델 체크포인트 저장 경로.\n",
    "            evaluation_name (str): 로그에 표시될 평가 지표의 이름.\n",
    "        \"\"\"\n",
    "        self.patience = patience\n",
    "        self.verbose = verbose\n",
    "        self.counter = 0\n",
    "        self.best_score = None\n",
    "        self.early_stop = False\n",
    "        self.delta = delta\n",
    "        self.path = path\n",
    "        self.mode = mode\n",
    "        self.evaluation_name = evaluation_name\n",
    "\n",
    "        if self.mode == \"min\":\n",
    "            self.val_score = np.inf\n",
    "        else:\n",
    "            self.val_score = -np.inf\n",
    "\n",
    "    def __call__(self, score, model):\n",
    "\n",
    "        # mode에 따른 점수 비교\n",
    "        is_best = False\n",
    "        if self.mode == \"min\":\n",
    "            if (\n",
    "                score < self.best_score - self.delta\n",
    "                if self.best_score is not None\n",
    "                else True\n",
    "            ):\n",
    "                is_best = True\n",
    "        else:  # mode == 'max'\n",
    "            if (\n",
    "                score > self.best_score + self.delta\n",
    "                if self.best_score is not None\n",
    "                else True\n",
    "            ):\n",
    "                is_best = True\n",
    "\n",
    "        if self.best_score is None:\n",
    "            self.best_score = score\n",
    "            self.save_checkpoint(score, model)\n",
    "        elif is_best:\n",
    "            self.best_score = score\n",
    "            self.save_checkpoint(score, model)\n",
    "            self.counter = 0\n",
    "        else:\n",
    "            self.counter += 1\n",
    "            print(f\"EarlyStopping counter: {self.counter} out of {self.patience}\")\n",
    "            if self.counter >= self.patience:\n",
    "                self.early_stop = True\n",
    "\n",
    "    def save_checkpoint(self, score, model):\n",
    "        \"\"\"Saves model when validation score improves.\"\"\"\n",
    "        if self.verbose:\n",
    "            # mode에 따라 'decreased' 또는 'increased'를 동적으로 표현\n",
    "            change_text = \"decreased\" if self.mode == \"min\" else \"increased\"\n",
    "            print(\n",
    "                f\"{self.evaluation_name} {change_text} ({self.val_score:.6f} --> {score:.6f}). Saving model ...\"\n",
    "            )\n",
    "\n",
    "        save_dir = os.path.dirname(self.path)\n",
    "        if not os.path.exists(save_dir):\n",
    "            os.makedirs(save_dir)\n",
    "            print(f\"Created directory: {save_dir}\")\n",
    "\n",
    "        torch.save(model.state_dict(), self.path)\n",
    "        self.val_score = score"
   ]
  },
  {
   "cell_type": "code",
   "execution_count": 17,
   "id": "ca1023bd",
   "metadata": {},
   "outputs": [
    {
     "name": "stdout",
     "output_type": "stream",
     "text": [
      "backbone.body.0.0.weight: requires_grad=False\n",
      "backbone.body.1.block.0.0.weight: requires_grad=False\n",
      "backbone.body.1.block.1.0.weight: requires_grad=False\n",
      "backbone.body.2.block.0.0.weight: requires_grad=False\n",
      "backbone.body.2.block.1.0.weight: requires_grad=False\n",
      "backbone.body.2.block.2.0.weight: requires_grad=False\n",
      "backbone.body.3.block.0.0.weight: requires_grad=False\n",
      "backbone.body.3.block.1.0.weight: requires_grad=False\n",
      "backbone.body.3.block.2.0.weight: requires_grad=False\n",
      "backbone.body.4.block.0.0.weight: requires_grad=False\n",
      "backbone.body.4.block.1.0.weight: requires_grad=False\n",
      "backbone.body.4.block.2.fc1.weight: requires_grad=False\n",
      "backbone.body.4.block.2.fc1.bias: requires_grad=False\n",
      "backbone.body.4.block.2.fc2.weight: requires_grad=False\n",
      "backbone.body.4.block.2.fc2.bias: requires_grad=False\n",
      "backbone.body.4.block.3.0.weight: requires_grad=False\n",
      "backbone.body.5.block.0.0.weight: requires_grad=False\n",
      "backbone.body.5.block.1.0.weight: requires_grad=False\n",
      "backbone.body.5.block.2.fc1.weight: requires_grad=False\n",
      "backbone.body.5.block.2.fc1.bias: requires_grad=False\n",
      "backbone.body.5.block.2.fc2.weight: requires_grad=False\n",
      "backbone.body.5.block.2.fc2.bias: requires_grad=False\n",
      "backbone.body.5.block.3.0.weight: requires_grad=False\n",
      "backbone.body.6.block.0.0.weight: requires_grad=False\n",
      "backbone.body.6.block.1.0.weight: requires_grad=False\n",
      "backbone.body.6.block.2.fc1.weight: requires_grad=False\n",
      "backbone.body.6.block.2.fc1.bias: requires_grad=False\n",
      "backbone.body.6.block.2.fc2.weight: requires_grad=False\n",
      "backbone.body.6.block.2.fc2.bias: requires_grad=False\n",
      "backbone.body.6.block.3.0.weight: requires_grad=False\n",
      "backbone.body.7.block.0.0.weight: requires_grad=True\n",
      "backbone.body.7.block.1.0.weight: requires_grad=True\n",
      "backbone.body.7.block.2.0.weight: requires_grad=True\n",
      "backbone.body.8.block.0.0.weight: requires_grad=True\n",
      "backbone.body.8.block.1.0.weight: requires_grad=True\n",
      "backbone.body.8.block.2.0.weight: requires_grad=True\n",
      "backbone.body.9.block.0.0.weight: requires_grad=True\n",
      "backbone.body.9.block.1.0.weight: requires_grad=True\n",
      "backbone.body.9.block.2.0.weight: requires_grad=True\n",
      "backbone.body.10.block.0.0.weight: requires_grad=True\n",
      "backbone.body.10.block.1.0.weight: requires_grad=True\n",
      "backbone.body.10.block.2.0.weight: requires_grad=True\n",
      "backbone.body.11.block.0.0.weight: requires_grad=True\n",
      "backbone.body.11.block.1.0.weight: requires_grad=True\n",
      "backbone.body.11.block.2.fc1.weight: requires_grad=True\n",
      "backbone.body.11.block.2.fc1.bias: requires_grad=True\n",
      "backbone.body.11.block.2.fc2.weight: requires_grad=True\n",
      "backbone.body.11.block.2.fc2.bias: requires_grad=True\n",
      "backbone.body.11.block.3.0.weight: requires_grad=True\n",
      "backbone.body.12.block.0.0.weight: requires_grad=True\n",
      "backbone.body.12.block.1.0.weight: requires_grad=True\n",
      "backbone.body.12.block.2.fc1.weight: requires_grad=True\n",
      "backbone.body.12.block.2.fc1.bias: requires_grad=True\n",
      "backbone.body.12.block.2.fc2.weight: requires_grad=True\n",
      "backbone.body.12.block.2.fc2.bias: requires_grad=True\n",
      "backbone.body.12.block.3.0.weight: requires_grad=True\n",
      "backbone.body.13.block.0.0.weight: requires_grad=True\n",
      "backbone.body.13.block.1.0.weight: requires_grad=True\n",
      "backbone.body.13.block.2.fc1.weight: requires_grad=True\n",
      "backbone.body.13.block.2.fc1.bias: requires_grad=True\n",
      "backbone.body.13.block.2.fc2.weight: requires_grad=True\n",
      "backbone.body.13.block.2.fc2.bias: requires_grad=True\n",
      "backbone.body.13.block.3.0.weight: requires_grad=True\n",
      "backbone.body.14.block.0.0.weight: requires_grad=True\n",
      "backbone.body.14.block.1.0.weight: requires_grad=True\n",
      "backbone.body.14.block.2.fc1.weight: requires_grad=True\n",
      "backbone.body.14.block.2.fc1.bias: requires_grad=True\n",
      "backbone.body.14.block.2.fc2.weight: requires_grad=True\n",
      "backbone.body.14.block.2.fc2.bias: requires_grad=True\n",
      "backbone.body.14.block.3.0.weight: requires_grad=True\n",
      "backbone.body.15.block.0.0.weight: requires_grad=True\n",
      "backbone.body.15.block.1.0.weight: requires_grad=True\n",
      "backbone.body.15.block.2.fc1.weight: requires_grad=True\n",
      "backbone.body.15.block.2.fc1.bias: requires_grad=True\n",
      "backbone.body.15.block.2.fc2.weight: requires_grad=True\n",
      "backbone.body.15.block.2.fc2.bias: requires_grad=True\n",
      "backbone.body.15.block.3.0.weight: requires_grad=True\n",
      "backbone.body.16.0.weight: requires_grad=True\n",
      "backbone.fpn.inner_blocks.0.0.weight: requires_grad=True\n",
      "backbone.fpn.inner_blocks.0.0.bias: requires_grad=True\n",
      "backbone.fpn.inner_blocks.1.0.weight: requires_grad=True\n",
      "backbone.fpn.inner_blocks.1.0.bias: requires_grad=True\n",
      "backbone.fpn.layer_blocks.0.0.weight: requires_grad=True\n",
      "backbone.fpn.layer_blocks.0.0.bias: requires_grad=True\n",
      "backbone.fpn.layer_blocks.1.0.weight: requires_grad=True\n",
      "backbone.fpn.layer_blocks.1.0.bias: requires_grad=True\n",
      "rpn.head.conv.0.0.weight: requires_grad=True\n",
      "rpn.head.conv.0.0.bias: requires_grad=True\n",
      "rpn.head.cls_logits.weight: requires_grad=True\n",
      "rpn.head.cls_logits.bias: requires_grad=True\n",
      "rpn.head.bbox_pred.weight: requires_grad=True\n",
      "rpn.head.bbox_pred.bias: requires_grad=True\n",
      "roi_heads.box_head.fc6.weight: requires_grad=True\n",
      "roi_heads.box_head.fc6.bias: requires_grad=True\n",
      "roi_heads.box_head.fc7.weight: requires_grad=True\n",
      "roi_heads.box_head.fc7.bias: requires_grad=True\n",
      "roi_heads.box_predictor.cls_score.weight: requires_grad=True\n",
      "roi_heads.box_predictor.cls_score.bias: requires_grad=True\n",
      "roi_heads.box_predictor.bbox_pred.weight: requires_grad=True\n",
      "roi_heads.box_predictor.bbox_pred.bias: requires_grad=True\n"
     ]
    }
   ],
   "source": [
    "for name, param in model.named_parameters():\n",
    "    print(f\"{name}: requires_grad={param.requires_grad}\")"
   ]
  },
  {
   "cell_type": "code",
   "execution_count": 18,
   "id": "786c978e",
   "metadata": {},
   "outputs": [
    {
     "name": "stdout",
     "output_type": "stream",
     "text": [
      "--- Start Training ---\n"
     ]
    },
    {
     "name": "stderr",
     "output_type": "stream",
     "text": [
      "Epoch [1/60]:   0%|          | 0/41 [00:00<?, ?it/s]"
     ]
    },
    {
     "name": "stderr",
     "output_type": "stream",
     "text": [
      "Epoch [1/60]: 100%|██████████| 41/41 [01:19<00:00,  1.95s/it, loss=3.36]\n"
     ]
    },
    {
     "name": "stdout",
     "output_type": "stream",
     "text": [
      "Validation mAP increased (-inf --> 0.138538). Saving model ...\n",
      "Train Loss: 3.3617, Val Loss: 2.6265, mAP@50: 0.2027, LR: 1e-04\n",
      "COCO mAP: 0.1385,  mAP@75: 0.1687, avg_iou: 0.8535414924771767\n"
     ]
    },
    {
     "name": "stderr",
     "output_type": "stream",
     "text": [
      "Epoch [2/60]: 100%|██████████| 41/41 [04:09<00:00,  6.09s/it, loss=2.36]\n"
     ]
    },
    {
     "name": "stdout",
     "output_type": "stream",
     "text": [
      "Validation mAP increased (0.138538 --> 0.365318). Saving model ...\n",
      "Train Loss: 2.3578, Val Loss: 1.9257, mAP@50: 0.5458, LR: 1e-04\n",
      "COCO mAP: 0.3653,  mAP@75: 0.4231, avg_iou: 0.8638733764237996\n"
     ]
    },
    {
     "name": "stderr",
     "output_type": "stream",
     "text": [
      "Epoch [3/60]: 100%|██████████| 41/41 [04:00<00:00,  5.86s/it, loss=1.86]\n"
     ]
    },
    {
     "name": "stdout",
     "output_type": "stream",
     "text": [
      "Validation mAP increased (0.365318 --> 0.457450). Saving model ...\n",
      "Train Loss: 1.8563, Val Loss: 1.6717, mAP@50: 0.6473, LR: 1e-04\n",
      "COCO mAP: 0.4575,  mAP@75: 0.5791, avg_iou: 0.8770999829980392\n"
     ]
    },
    {
     "name": "stderr",
     "output_type": "stream",
     "text": [
      "Epoch [4/60]: 100%|██████████| 41/41 [03:57<00:00,  5.80s/it, loss=1.56]\n"
     ]
    },
    {
     "name": "stdout",
     "output_type": "stream",
     "text": [
      "Validation mAP increased (0.457450 --> 0.511043). Saving model ...\n",
      "Train Loss: 1.5603, Val Loss: 1.5616, mAP@50: 0.6885, LR: 1e-04\n",
      "COCO mAP: 0.5110,  mAP@75: 0.6315, avg_iou: 0.8827536340001263\n"
     ]
    },
    {
     "name": "stderr",
     "output_type": "stream",
     "text": [
      "Epoch [5/60]: 100%|██████████| 41/41 [04:11<00:00,  6.14s/it, loss=1.49]\n"
     ]
    },
    {
     "name": "stdout",
     "output_type": "stream",
     "text": [
      "Validation mAP increased (0.511043 --> 0.551134). Saving model ...\n",
      "Train Loss: 1.4939, Val Loss: 1.4022, mAP@50: 0.7291, LR: 1e-04\n",
      "COCO mAP: 0.5511,  mAP@75: 0.6864, avg_iou: 0.8902976260909551\n"
     ]
    },
    {
     "name": "stderr",
     "output_type": "stream",
     "text": [
      "Epoch [6/60]: 100%|██████████| 41/41 [04:10<00:00,  6.12s/it, loss=1.35]\n"
     ]
    },
    {
     "name": "stdout",
     "output_type": "stream",
     "text": [
      "Validation mAP increased (0.551134 --> 0.568670). Saving model ...\n",
      "Train Loss: 1.3518, Val Loss: 1.3605, mAP@50: 0.7432, LR: 1e-04\n",
      "COCO mAP: 0.5687,  mAP@75: 0.6973, avg_iou: 0.8973958628087104\n"
     ]
    },
    {
     "name": "stderr",
     "output_type": "stream",
     "text": [
      "Epoch [7/60]: 100%|██████████| 41/41 [03:51<00:00,  5.66s/it, loss=1.3] \n"
     ]
    },
    {
     "name": "stdout",
     "output_type": "stream",
     "text": [
      "Validation mAP increased (0.568670 --> 0.591707). Saving model ...\n",
      "Train Loss: 1.3039, Val Loss: 1.2827, mAP@50: 0.7582, LR: 1e-04\n",
      "COCO mAP: 0.5917,  mAP@75: 0.7364, avg_iou: 0.8951307965230338\n"
     ]
    },
    {
     "name": "stderr",
     "output_type": "stream",
     "text": [
      "Epoch [8/60]: 100%|██████████| 41/41 [03:56<00:00,  5.78s/it, loss=1.22]\n"
     ]
    },
    {
     "name": "stdout",
     "output_type": "stream",
     "text": [
      "Validation mAP increased (0.591707 --> 0.603358). Saving model ...\n",
      "Train Loss: 1.2153, Val Loss: 1.2220, mAP@50: 0.7661, LR: 1e-04\n",
      "COCO mAP: 0.6034,  mAP@75: 0.7090, avg_iou: 0.9070020404043077\n"
     ]
    },
    {
     "name": "stderr",
     "output_type": "stream",
     "text": [
      "Epoch [9/60]: 100%|██████████| 41/41 [04:10<00:00,  6.11s/it, loss=1.18]\n"
     ]
    },
    {
     "name": "stdout",
     "output_type": "stream",
     "text": [
      "Validation mAP increased (0.603358 --> 0.614766). Saving model ...\n",
      "Train Loss: 1.1775, Val Loss: 1.2149, mAP@50: 0.7550, LR: 9e-05\n",
      "COCO mAP: 0.6148,  mAP@75: 0.7199, avg_iou: 0.9104837207854548\n"
     ]
    },
    {
     "name": "stderr",
     "output_type": "stream",
     "text": [
      "Epoch [10/60]: 100%|██████████| 41/41 [04:00<00:00,  5.86s/it, loss=1.05]\n"
     ]
    },
    {
     "name": "stdout",
     "output_type": "stream",
     "text": [
      "Validation mAP increased (0.614766 --> 0.627728). Saving model ...\n",
      "Train Loss: 1.0504, Val Loss: 1.2026, mAP@50: 0.7591, LR: 9e-05\n",
      "COCO mAP: 0.6277,  mAP@75: 0.7286, avg_iou: 0.9108382448365416\n"
     ]
    },
    {
     "name": "stderr",
     "output_type": "stream",
     "text": [
      "Epoch [11/60]: 100%|██████████| 41/41 [03:56<00:00,  5.77s/it, loss=1.05]\n"
     ]
    },
    {
     "name": "stdout",
     "output_type": "stream",
     "text": [
      "EarlyStopping counter: 1 out of 5\n",
      "Train Loss: 1.0506, Val Loss: 1.1837, mAP@50: 0.7392, LR: 9e-05\n",
      "COCO mAP: 0.6129,  mAP@75: 0.7282, avg_iou: 0.9185833265509786\n"
     ]
    },
    {
     "name": "stderr",
     "output_type": "stream",
     "text": [
      "Epoch [12/60]: 100%|██████████| 41/41 [03:54<00:00,  5.73s/it, loss=1.01]\n"
     ]
    },
    {
     "name": "stdout",
     "output_type": "stream",
     "text": [
      "EarlyStopping counter: 2 out of 5\n",
      "Train Loss: 1.0108, Val Loss: 1.1539, mAP@50: 0.7461, LR: 9e-05\n",
      "COCO mAP: 0.6223,  mAP@75: 0.7342, avg_iou: 0.9233712821067134\n"
     ]
    },
    {
     "name": "stderr",
     "output_type": "stream",
     "text": [
      "Epoch [13/60]: 100%|██████████| 41/41 [04:08<00:00,  6.07s/it, loss=0.961]\n"
     ]
    },
    {
     "name": "stdout",
     "output_type": "stream",
     "text": [
      "EarlyStopping counter: 3 out of 5\n",
      "Train Loss: 0.9606, Val Loss: 1.1458, mAP@50: 0.7659, LR: 9e-05\n",
      "COCO mAP: 0.6263,  mAP@75: 0.7395, avg_iou: 0.9162769459470917\n"
     ]
    },
    {
     "name": "stderr",
     "output_type": "stream",
     "text": [
      "Epoch [14/60]: 100%|██████████| 41/41 [03:45<00:00,  5.50s/it, loss=0.987]\n"
     ]
    },
    {
     "name": "stdout",
     "output_type": "stream",
     "text": [
      "Validation mAP increased (0.627728 --> 0.645761). Saving model ...\n",
      "Train Loss: 0.9869, Val Loss: 1.0947, mAP@50: 0.7581, LR: 9e-05\n",
      "COCO mAP: 0.6458,  mAP@75: 0.7581, avg_iou: 0.9255152927169317\n"
     ]
    },
    {
     "name": "stderr",
     "output_type": "stream",
     "text": [
      "Epoch [15/60]: 100%|██████████| 41/41 [03:40<00:00,  5.39s/it, loss=0.935]\n"
     ]
    },
    {
     "name": "stdout",
     "output_type": "stream",
     "text": [
      "EarlyStopping counter: 1 out of 5\n",
      "Train Loss: 0.9346, Val Loss: 1.1056, mAP@50: 0.7565, LR: 9e-05\n",
      "COCO mAP: 0.6418,  mAP@75: 0.7565, avg_iou: 0.9230432605441613\n"
     ]
    },
    {
     "name": "stderr",
     "output_type": "stream",
     "text": [
      "Epoch [16/60]: 100%|██████████| 41/41 [04:11<00:00,  6.13s/it, loss=0.953]\n"
     ]
    },
    {
     "name": "stdout",
     "output_type": "stream",
     "text": [
      "EarlyStopping counter: 2 out of 5\n",
      "Train Loss: 0.9530, Val Loss: 1.0937, mAP@50: 0.7516, LR: 8e-05\n",
      "COCO mAP: 0.6414,  mAP@75: 0.7416, avg_iou: 0.9287688377537305\n"
     ]
    },
    {
     "name": "stderr",
     "output_type": "stream",
     "text": [
      "Epoch [17/60]: 100%|██████████| 41/41 [04:01<00:00,  5.89s/it, loss=0.934]\n"
     ]
    },
    {
     "name": "stdout",
     "output_type": "stream",
     "text": [
      "EarlyStopping counter: 3 out of 5\n",
      "Train Loss: 0.9338, Val Loss: 1.1094, mAP@50: 0.7527, LR: 8e-05\n",
      "COCO mAP: 0.6401,  mAP@75: 0.7503, avg_iou: 0.9275520670263073\n"
     ]
    },
    {
     "name": "stderr",
     "output_type": "stream",
     "text": [
      "Epoch [18/60]: 100%|██████████| 41/41 [03:44<00:00,  5.48s/it, loss=0.859]\n"
     ]
    },
    {
     "name": "stdout",
     "output_type": "stream",
     "text": [
      "Validation mAP increased (0.645761 --> 0.666742). Saving model ...\n",
      "Train Loss: 0.8594, Val Loss: 1.0719, mAP@50: 0.7621, LR: 8e-05\n",
      "COCO mAP: 0.6667,  mAP@75: 0.7553, avg_iou: 0.932621361937704\n"
     ]
    },
    {
     "name": "stderr",
     "output_type": "stream",
     "text": [
      "Epoch [19/60]: 100%|██████████| 41/41 [03:44<00:00,  5.47s/it, loss=0.868]\n"
     ]
    },
    {
     "name": "stdout",
     "output_type": "stream",
     "text": [
      "EarlyStopping counter: 1 out of 5\n",
      "Train Loss: 0.8679, Val Loss: 1.0804, mAP@50: 0.7573, LR: 8e-05\n",
      "COCO mAP: 0.6537,  mAP@75: 0.7573, avg_iou: 0.931779405738734\n"
     ]
    },
    {
     "name": "stderr",
     "output_type": "stream",
     "text": [
      "Epoch [20/60]: 100%|██████████| 41/41 [03:43<00:00,  5.45s/it, loss=0.869]\n"
     ]
    },
    {
     "name": "stdout",
     "output_type": "stream",
     "text": [
      "Validation mAP increased (0.666742 --> 0.671288). Saving model ...\n",
      "Train Loss: 0.8688, Val Loss: 1.0357, mAP@50: 0.7602, LR: 8e-05\n",
      "COCO mAP: 0.6713,  mAP@75: 0.7602, avg_iou: 0.9340018050580086\n"
     ]
    },
    {
     "name": "stderr",
     "output_type": "stream",
     "text": [
      "Epoch [21/60]: 100%|██████████| 41/41 [03:45<00:00,  5.49s/it, loss=0.822]\n"
     ]
    },
    {
     "name": "stdout",
     "output_type": "stream",
     "text": [
      "EarlyStopping counter: 1 out of 5\n",
      "Train Loss: 0.8218, Val Loss: 1.0649, mAP@50: 0.7578, LR: 7e-05\n",
      "COCO mAP: 0.6572,  mAP@75: 0.7532, avg_iou: 0.9325511704517316\n"
     ]
    },
    {
     "name": "stderr",
     "output_type": "stream",
     "text": [
      "Epoch [22/60]: 100%|██████████| 41/41 [03:35<00:00,  5.25s/it, loss=0.795]\n"
     ]
    },
    {
     "name": "stdout",
     "output_type": "stream",
     "text": [
      "Validation mAP increased (0.671288 --> 0.680250). Saving model ...\n",
      "Train Loss: 0.7953, Val Loss: 1.0459, mAP@50: 0.7730, LR: 7e-05\n",
      "COCO mAP: 0.6802,  mAP@75: 0.7730, avg_iou: 0.9365236143522625\n"
     ]
    },
    {
     "name": "stderr",
     "output_type": "stream",
     "text": [
      "Epoch [23/60]: 100%|██████████| 41/41 [03:34<00:00,  5.24s/it, loss=0.777]\n"
     ]
    },
    {
     "name": "stdout",
     "output_type": "stream",
     "text": [
      "Validation mAP increased (0.680250 --> 0.682400). Saving model ...\n",
      "Train Loss: 0.7772, Val Loss: 1.0256, mAP@50: 0.7637, LR: 7e-05\n",
      "COCO mAP: 0.6824,  mAP@75: 0.7637, avg_iou: 0.9404163753925846\n"
     ]
    },
    {
     "name": "stderr",
     "output_type": "stream",
     "text": [
      "Epoch [24/60]: 100%|██████████| 41/41 [04:21<00:00,  6.38s/it, loss=0.75] \n"
     ]
    },
    {
     "name": "stdout",
     "output_type": "stream",
     "text": [
      "EarlyStopping counter: 1 out of 5\n",
      "Train Loss: 0.7497, Val Loss: 1.0504, mAP@50: 0.7624, LR: 7e-05\n",
      "COCO mAP: 0.6725,  mAP@75: 0.7624, avg_iou: 0.9393919887422006\n"
     ]
    },
    {
     "name": "stderr",
     "output_type": "stream",
     "text": [
      "Epoch [25/60]: 100%|██████████| 41/41 [03:31<00:00,  5.17s/it, loss=0.753]\n"
     ]
    },
    {
     "name": "stdout",
     "output_type": "stream",
     "text": [
      "Validation mAP increased (0.682400 --> 0.686475). Saving model ...\n",
      "Train Loss: 0.7531, Val Loss: 1.0119, mAP@50: 0.7590, LR: 6e-05\n",
      "COCO mAP: 0.6865,  mAP@75: 0.7590, avg_iou: 0.9458324260349515\n"
     ]
    },
    {
     "name": "stderr",
     "output_type": "stream",
     "text": [
      "Epoch [26/60]: 100%|██████████| 41/41 [03:49<00:00,  5.60s/it, loss=0.734]\n"
     ]
    },
    {
     "name": "stdout",
     "output_type": "stream",
     "text": [
      "Validation mAP increased (0.686475 --> 0.691956). Saving model ...\n",
      "Train Loss: 0.7343, Val Loss: 1.0334, mAP@50: 0.7695, LR: 6e-05\n",
      "COCO mAP: 0.6920,  mAP@75: 0.7695, avg_iou: 0.9447214188914613\n"
     ]
    },
    {
     "name": "stderr",
     "output_type": "stream",
     "text": [
      "Epoch [27/60]: 100%|██████████| 41/41 [03:16<00:00,  4.80s/it, loss=0.731]\n"
     ]
    },
    {
     "name": "stdout",
     "output_type": "stream",
     "text": [
      "Validation mAP increased (0.691956 --> 0.695810). Saving model ...\n",
      "Train Loss: 0.7308, Val Loss: 1.0609, mAP@50: 0.7747, LR: 6e-05\n",
      "COCO mAP: 0.6958,  mAP@75: 0.7747, avg_iou: 0.9419095426949148\n"
     ]
    },
    {
     "name": "stderr",
     "output_type": "stream",
     "text": [
      "Epoch [28/60]: 100%|██████████| 41/41 [03:14<00:00,  4.73s/it, loss=0.715]\n"
     ]
    },
    {
     "name": "stdout",
     "output_type": "stream",
     "text": [
      "EarlyStopping counter: 1 out of 5\n",
      "Train Loss: 0.7149, Val Loss: 1.0292, mAP@50: 0.7742, LR: 6e-05\n",
      "COCO mAP: 0.6954,  mAP@75: 0.7742, avg_iou: 0.944384704689084\n"
     ]
    },
    {
     "name": "stderr",
     "output_type": "stream",
     "text": [
      "Epoch [29/60]: 100%|██████████| 41/41 [03:18<00:00,  4.83s/it, loss=0.69] \n"
     ]
    },
    {
     "name": "stdout",
     "output_type": "stream",
     "text": [
      "EarlyStopping counter: 2 out of 5\n",
      "Train Loss: 0.6897, Val Loss: 1.0791, mAP@50: 0.7276, LR: 5e-05\n",
      "COCO mAP: 0.6531,  mAP@75: 0.7276, avg_iou: 0.9426535827290151\n"
     ]
    },
    {
     "name": "stderr",
     "output_type": "stream",
     "text": [
      "Epoch [30/60]: 100%|██████████| 41/41 [03:15<00:00,  4.77s/it, loss=0.681]\n"
     ]
    },
    {
     "name": "stdout",
     "output_type": "stream",
     "text": [
      "EarlyStopping counter: 3 out of 5\n",
      "Train Loss: 0.6810, Val Loss: 1.0734, mAP@50: 0.7489, LR: 5e-05\n",
      "COCO mAP: 0.6751,  mAP@75: 0.7489, avg_iou: 0.9452664925501897\n"
     ]
    },
    {
     "name": "stderr",
     "output_type": "stream",
     "text": [
      "Epoch [31/60]: 100%|██████████| 41/41 [03:24<00:00,  4.99s/it, loss=0.653]\n"
     ]
    },
    {
     "name": "stdout",
     "output_type": "stream",
     "text": [
      "EarlyStopping counter: 4 out of 5\n",
      "Train Loss: 0.6525, Val Loss: 1.0621, mAP@50: 0.7433, LR: 5e-05\n",
      "COCO mAP: 0.6791,  mAP@75: 0.7433, avg_iou: 0.9474817210314225\n"
     ]
    },
    {
     "name": "stderr",
     "output_type": "stream",
     "text": [
      "Epoch [32/60]: 100%|██████████| 41/41 [03:34<00:00,  5.24s/it, loss=0.617]\n"
     ]
    },
    {
     "name": "stdout",
     "output_type": "stream",
     "text": [
      "EarlyStopping counter: 5 out of 5\n",
      "Early stopping\n",
      "--- Finish Training ---\n"
     ]
    },
    {
     "data": {
      "image/png": "[encoded data removed]",
      "text/plain": [
       "<Figure size 800x600 with 1 Axes>"
      ]
     },
     "metadata": {},
     "output_type": "display_data"
    }
   ],
   "source": [
    "# 3. 학습 루프\n",
    "print(\"--- Start Training ---\")\n",
    "metric = MeanAveragePrecision(box_format=\"xyxy\", class_metrics=True).to(DEVICE)\n",
    "early_stopping = EarlyStopping(\n",
    "    patience=5,\n",
    "    verbose=True,\n",
    "    mode=\"max\",\n",
    "    evaluation_name=\"Validation mAP\",\n",
    "    path=\"../experiments/\" + MODEL_NAME + \".pt\",\n",
    ")\n",
    "\n",
    "train_losses = []\n",
    "val_losses = []\n",
    "for epoch in range(NUM_EPOCHS):\n",
    "    # ===================================\n",
    "    #  Training Step\n",
    "    # ===================================\n",
    "\n",
    "    model.train()\n",
    "    running_loss = 0.0\n",
    "    loop = tqdm(train_loader, desc=f\"Epoch [{epoch+1}/{NUM_EPOCHS}]\")\n",
    "\n",
    "    for images, targets in loop:\n",
    "        images = list(image.to(DEVICE) for image in images)\n",
    "        targets = [{k: v.to(DEVICE) for k, v in t.items()} for t in targets]\n",
    "\n",
    "        loss_dict = model(images, targets)\n",
    "        losses = sum(loss for loss in loss_dict.values())\n",
    "\n",
    "        optimizer.zero_grad()\n",
    "        losses.backward()\n",
    "        optimizer.step()\n",
    "        running_loss += losses.item()\n",
    "        current_avg_loss = running_loss / (loop.n + 1)\n",
    "        loop.set_postfix(loss=current_avg_loss)\n",
    "\n",
    "    avg_train_loss = running_loss / len(train_loader)\n",
    "    train_losses.append(avg_train_loss)\n",
    "    # =====================================\n",
    "    #  Validation Step\n",
    "    # =====================================\n",
    "    model.eval()\n",
    "    val_loss = 0.0\n",
    "    total_iou = 0\n",
    "    tp_count = 0\n",
    "\n",
    "    metric.reset()\n",
    "    # (2) Validation phase\n",
    "    for images, targets in val_loader:\n",
    "        images = [img.to(DEVICE) for img in images]\n",
    "        targets = [{k: v.to(DEVICE) for k, v in t.items()} for t in targets]\n",
    "        # 1. mAP 계산을 위한 예측 (그래디언트 계산 불필요)\n",
    "        with torch.no_grad():  # 예측 부분만 no_grad로 감싸기\n",
    "            predictions = model(images)\n",
    "\n",
    "        # 2. Metric 업데이트\n",
    "        metric.update(predictions, targets)\n",
    "\n",
    "        # IoU 평가 메트릭\n",
    "        for i in range(len(predictions)):\n",
    "            pred_boxes = predictions[i][\"boxes\"]\n",
    "            gt_boxes = targets[i][\"boxes\"]\n",
    "\n",
    "            if len(pred_boxes) == 0 or len(gt_boxes) == 0:\n",
    "                continue\n",
    "\n",
    "            # 각 GT 박스에 대해 가장 IoU가 높은 예측 박스를 찾음\n",
    "            iou_matrix = box_iou(pred_boxes, gt_boxes)\n",
    "            max_iou_per_gt, _ = iou_matrix.max(dim=0)\n",
    "\n",
    "            # IoU가 0.5 이상인 경우 (TP)만 계산에 포함\n",
    "            true_positives = max_iou_per_gt[max_iou_per_gt > 0.5]\n",
    "\n",
    "            if len(true_positives) > 0:\n",
    "                total_iou += true_positives.sum().item()\n",
    "                tp_count += len(true_positives)\n",
    "\n",
    "        # 3. Validation Loss 계산 (그래디언트 계산 필요)\n",
    "        #    torch.no_grad() 블록 바깥에서 계산\n",
    "        model.train()  # Loss 계산을 위해 잠시 train 모드로\n",
    "        loss_dict = model(images, targets)\n",
    "        losses = sum(loss for loss in loss_dict.values())\n",
    "        val_loss += losses.item()\n",
    "        model.eval()  # 다음 배치를 위해 다시 eval 모드로 복귀\n",
    "\n",
    "    average_val_loss = val_loss / len(val_loader)\n",
    "    val_losses.append(average_val_loss)\n",
    "\n",
    "    avg_iou = total_iou / tp_count if tp_count > 0 else 0.0\n",
    "\n",
    "    # mAP 평가\n",
    "    mAP_dict = metric.compute()\n",
    "    # Learning Rate Scheduler 적용. val_loss를 고려하여 learning rate를 조정\n",
    "\n",
    "    # mAP 기반EarlyStopping 로직 호출\n",
    "    early_stopping(mAP_dict[\"map\"], model)\n",
    "    if early_stopping.early_stop:\n",
    "        print(\"Early stopping\")\n",
    "        break\n",
    "\n",
    "    # scheduler 설정\n",
    "    scheduler.step()\n",
    "    current_lr = optimizer.param_groups[0][\"lr\"]\n",
    "\n",
    "    loop.write(\n",
    "        f\"Train Loss: {avg_train_loss:.4f}, Val Loss: {average_val_loss:.4f}, mAP@50: {mAP_dict['map_50']:.4f}, LR: {current_lr:.0e}\"\n",
    "    )\n",
    "    loop.write(\n",
    "        f\"COCO mAP: {mAP_dict['map']:.4f},  mAP@75: {mAP_dict['map_75']:.4f}, avg_iou: {avg_iou}\"\n",
    "    )\n",
    "    # loop.write(\n",
    "    #     f\"Val_Cls: {val_losses['loss_classifier']:.4f}, Val_Box: {val_losses['loss_box_reg']:.4f} | \"\n",
    "    # )\n",
    "    # 메모리 정리\n",
    "    gc.collect()  # 남아 있는 텐서 객체를 명시적으로 정리\n",
    "    # torch.cuda.empty_cache()\n",
    "\n",
    "print(\"--- Finish Training ---\")\n",
    "# 학습 시각화\n",
    "plt.figure(figsize=(8, 6))\n",
    "plt.plot(train_losses, label=\"train loss\", color=\"blue\")\n",
    "plt.plot(val_losses, label=\"val loss\", color=\"orange\")\n",
    "plt.xlabel(\"Epoch\")\n",
    "plt.ylabel(\"Loss\")\n",
    "plt.title(\"Loss curve: \" + MODEL_NAME)\n",
    "plt.grid(True)\n",
    "plt.legend()\n",
    "plt.tight_layout()\n",
    "loss_plot_path = os.path.join(EXPERIMENT_DIR, f\"{MODEL_NAME}_loss_curve.png\")\n",
    "plt.savefig(loss_plot_path)\n",
    "plt.show()\n",
    "# 최종 모델 저장\n",
    "# torch.save(model.state_dict(), f\"{EXPERIMENT_DIR}/final_model.pt\")"
   ]
  }
 ],
 "metadata": {
  "kernelspec": {
   "display_name": "JSH",
   "language": "python",
   "name": "python3"
  },
  "language_info": {
   "codemirror_mode": {
    "name": "ipython",
    "version": 3
   },
   "file_extension": ".py",
   "mimetype": "text/x-python",
   "name": "python",
   "nbconvert_exporter": "python",
   "pygments_lexer": "ipython3",
   "version": "3.13.1"
  }
 },
 "nbformat": 4,
 "nbformat_minor": 5
}
