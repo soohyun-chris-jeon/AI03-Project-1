{
 "cells": [
  {
   "cell_type": "markdown",
   "id": "4ab59fb0",
   "metadata": {},
   "source": [
    "Pytoch의 dataLoader에 Sampling 기능을 추가한 버전(25.07.28)"
   ]
  },
  {
   "cell_type": "markdown",
   "id": "0b1ee864",
   "metadata": {},
   "source": [
    "## 0. Configurations"
   ]
  },
  {
   "cell_type": "code",
   "execution_count": 1,
   "id": "de11a3b9",
   "metadata": {},
   "outputs": [],
   "source": [
    "# ====================================================================\n",
    "# Configuration 설정\n",
    "# ====================================================================\n",
    "# 하이퍼파라미터 및 경로 등 실험에 필요한 설정들을 모아둠\n",
    "# 실험 추적 및 재현성을 위해 모든 값은 여기에서 수정하고자 함\n",
    "import os  # 디렉토리, 파일 경로 조작 등\n",
    "\n",
    "import torch\n",
    "import os\n",
    "import numpy as np\n",
    "\n",
    "from pathlib import Path  # payhon path\n",
    "import matplotlib.pyplot as plt\n",
    "\n",
    "import albumentations as A\n",
    "import cv2  # OpenCV - 고급 이미지/비디오 처리\n",
    "import torch\n",
    "from torch.utils.data import Dataset  # 커스텀 데이터셋, 배치 로딩\n",
    "import pandas as pd\n",
    "import os\n",
    "import json\n",
    "from tqdm import tqdm\n",
    "from pathlib import Path\n",
    "\n",
    "# Garbage Collector 모듈\n",
    "import gc\n",
    "\n",
    "from torchmetrics.detection.mean_ap import MeanAveragePrecision\n",
    "from torchvision.ops import box_iou  # 맨 위에 import 추가\n",
    "\n",
    "\n",
    "# 메모리 정리 루틴\n",
    "gc.collect()\n",
    "torch.cuda.empty_cache()\n",
    "\n",
    "\n",
    "# --- 디바이스 설정 ---\n",
    "DEVICE = \"cuda\" if torch.cuda.is_available() else \"cpu\"\n",
    "SEED = 42\n",
    "\n",
    "# --- 학습 하이퍼파라미터 ---\n",
    "BATCH_SIZE = 16\n",
    "NUM_EPOCHS = 60\n",
    "LEARNING_RATE = 1e-5\n",
    "MOMENTUM = 0.9\n",
    "WEIGHT_DECAY = 0.0005\n",
    "\n",
    "# --- 데이터 경로 설정 ---\n",
    "# DATA_ROOT = path\n",
    "# DATA_ROOT = \"data/raw/ai03-level1-project/\"  # 경로\n",
    "# TRAIN_IMAGE_DIR = os.path.join(DATA_ROOT, \"train_images\")\n",
    "# TRAIN_ANNO_DIR = os.path.join(DATA_ROOT, \"train_annotations\")\n",
    "# TEST_IMAGE_DIR = os.path.join(DATA_ROOT, \"test_images\")\n",
    "# PROCESSED_TRAIN_CSV = \"../data/processed/train_df.csv\"  # 데이터 전처리된 csv 파일\n",
    "\n",
    "# --- 모델 설정 ---\n",
    "NUM_CLASSES = 73\n",
    "MODEL_NAME = \"BASELINE_fasterrcnn_Mobilev3_WeightedSampler\"\n",
    "USE_PRETRAINED = True\n",
    "\n",
    "# --- 학습 고도화 설정 ---\n",
    "USE_SCHEDULER = True  # Learning rate scheduler 사용 여부\n",
    "EARLY_STOPPING = True  # Early stopping 적용 여부\n",
    "AUGMENTATION = True  # 데이터 증강 사용 여부\n",
    "\n",
    "# --- 실험 로깅용 설정 ---\n",
    "USE_WANDB = True\n",
    "WANDB_PROJECT = \"AI03-Project-1\"\n",
    "RUN_NAME = f\"{MODEL_NAME}_bs{BATCH_SIZE}_lr{LEARNING_RATE}\"\n",
    "\n",
    "\n",
    "# --- 실험 결과 저장 경로 ---\n",
    "EXPERIMENT_DIR = \"../experiments\""
   ]
  },
  {
   "cell_type": "markdown",
   "id": "769ac65f",
   "metadata": {},
   "source": [
    "## 1. Data-preprocessing"
   ]
  },
  {
   "cell_type": "code",
   "execution_count": 2,
   "id": "85626da3",
   "metadata": {},
   "outputs": [],
   "source": [
    "def parse_raw_annotations(ann_dir: Path) -> pd.DataFrame:\n",
    "    \"\"\"\n",
    "    복잡한 3중 폴더 구조의 원본 어노테이션을 파싱하여\n",
    "    하나의 Pandas DataFrame으로 반환하는 함수.\n",
    "    \"\"\"\n",
    "    all_annotations = []\n",
    "\n",
    "    # Level 1: 이미지별 폴더 순회\n",
    "    image_level_dirs = os.listdir(ann_dir)\n",
    "    for image_dir_name in tqdm(image_level_dirs, desc=\"[L1] Images\"):\n",
    "        image_dir_path = ann_dir / image_dir_name\n",
    "        if not image_dir_path.is_dir():\n",
    "            continue\n",
    "\n",
    "        # Level 2: 알약 종류 폴더 순회\n",
    "        pill_level_dirs = os.listdir(image_dir_path)\n",
    "        for pill_dir_name in pill_level_dirs:\n",
    "            pill_dir_path = image_dir_path / pill_dir_name\n",
    "            if not pill_dir_path.is_dir():\n",
    "                continue\n",
    "\n",
    "            # Level 3: 실제 .json 파일 파싱\n",
    "            json_files = [f for f in os.listdir(pill_dir_path) if f.endswith(\".json\")]\n",
    "            if not json_files:\n",
    "                continue\n",
    "\n",
    "            # 첫 번째 json 파일만 사용\n",
    "            json_file_path = pill_dir_path / json_files[0]\n",
    "\n",
    "            try:\n",
    "                with open(json_file_path, \"r\", encoding=\"utf-8\") as f:\n",
    "                    ann_data = json.load(f)\n",
    "\n",
    "                    image_info = ann_data.get(\"images\", [{}])[0]\n",
    "                    annotation_info = ann_data.get(\"annotations\", [{}])[0]\n",
    "                    category_info = ann_data.get(\"categories\", [{}])[0]\n",
    "\n",
    "                    all_annotations.append(\n",
    "                        {\n",
    "                            \"image_id\": image_info.get(\"id\"),\n",
    "                            \"file_name\": image_info.get(\"file_name\"),\n",
    "                            \"width\": image_info.get(\"width\"),\n",
    "                            \"height\": image_info.get(\"height\"),\n",
    "                            \"category_id\": category_info.get(\"id\"),\n",
    "                            \"class_name\": category_info.get(\"name\"),\n",
    "                            \"bbox\": annotation_info.get(\"bbox\"),\n",
    "                        }\n",
    "                    )\n",
    "            except Exception as e:\n",
    "                print(f\"\\n파일 처리 에러: {json_file_path}, 에러: {e}\")\n",
    "\n",
    "    return pd.DataFrame(all_annotations)"
   ]
  },
  {
   "cell_type": "code",
   "execution_count": 3,
   "id": "1e807cce",
   "metadata": {},
   "outputs": [
    {
     "name": "stderr",
     "output_type": "stream",
     "text": [
<<<<<<< HEAD
      "[L1] Images:   0%|          | 0/498 [00:00<?, ?it/s]"
     ]
    },
    {
     "name": "stderr",
     "output_type": "stream",
     "text": [
      "[L1] Images: 100%|██████████| 498/498 [00:01<00:00, 496.54it/s]"
=======
      "[L1] Images: 100%|██████████| 498/498 [00:01<00:00, 358.23it/s]"
>>>>>>> 0e115ab (update 25-07-29)
     ]
    },
    {
     "name": "stdout",
     "output_type": "stream",
     "text": [
      "\n",
      "총 73개의 고유 클래스를 발견했습니다.\n",
      "라벨 매핑 정보를 'data/processed/label_map.json'에 저장했습니다.\n",
      "\n",
      "--- 데이터 전처리 및 저장 완료! ---\n",
      "   image_id                                          file_name  width  height  \\\n",
      "0       895  K-003544-010221-016551-021026_0_2_0_2_75_000_2...    976    1280   \n",
      "1       896  K-003544-010221-016551-021026_0_2_0_2_90_000_2...    976    1280   \n",
      "2       895  K-003544-010221-016551-021026_0_2_0_2_75_000_2...    976    1280   \n",
      "3       895  K-003544-010221-016551-021026_0_2_0_2_75_000_2...    976    1280   \n",
      "4      1310  K-003483-027733-028763-029667_0_2_0_2_90_000_2...    976    1280   \n",
      "\n",
      "   category_id         class_name  bbox_x  bbox_y  bbox_w  bbox_h  label_idx  \n",
      "0        10220         쎄로켈정 100mg     584     774     227     223         14  \n",
      "1         3543  무코스타정(레바미피드)(비매품)     110     234     207     200          5  \n",
      "2        21025       펠루비정(펠루비프로펜)     101     821     178     180         36  \n",
      "3        16550      동아가바펜틴정 800mg     534      42     296     458         24  \n",
      "4        28762       트라젠타정(리나글립틴)     194     195     212     202         54  \n"
     ]
    },
    {
     "name": "stderr",
     "output_type": "stream",
     "text": [
      "\n"
     ]
    }
   ],
   "source": [
    "# 1. 핵심 함수를 호출해서 DataFrame 생성\n",
    "from pathlib import Path\n",
    "\n",
    "BASE_DIR = Path(\"../\")  # 상대경로\n",
    "RAW_DATA_DIR = BASE_DIR / \"data/raw/ai03-level1-project\"\n",
    "PROCESSED_DATA_DIR = BASE_DIR / \"data/processed\"\n",
    "\n",
    "TRAIN_IMAGE_DIR = RAW_DATA_DIR / \"train_images\"\n",
    "TRAIN_ANNO_DIR = RAW_DATA_DIR / \"train_annotations\"\n",
    "TEST_IMAGE_DIR = RAW_DATA_DIR / \"test_images\"\n",
    "SAVE_PATH = PROCESSED_DATA_DIR / \"train_df.csv\"\n",
    "train_df = parse_raw_annotations(TRAIN_ANNO_DIR)\n",
    "\n",
    "# --- (1). bbox 컬럼을 4개로 분리 ---\n",
    "# bbox 컬럼 분리\n",
    "bbox_df = pd.DataFrame(\n",
    "    train_df[\"bbox\"].tolist(), columns=[\"bbox_x\", \"bbox_y\", \"bbox_w\", \"bbox_h\"]\n",
    ")\n",
    "train_df = pd.concat([train_df.drop(\"bbox\", axis=1), bbox_df], axis=1)\n",
    "\n",
    "# ✨ --- [핵심 수정] 잘못된 바운딩 박스 데이터 제거 ---\n",
    "# xmax (bbox_x + bbox_w)가 이미지 너비(width)를 초과하는 경우\n",
    "invalid_x = train_df[\"bbox_x\"] + train_df[\"bbox_w\"] > train_df[\"width\"]\n",
    "# ymax (bbox_y + bbox_h)가 이미지 높이(height)를 초과하는 경우\n",
    "invalid_y = train_df[\"bbox_y\"] + train_df[\"bbox_h\"] > train_df[\"height\"]\n",
    "\n",
    "# 잘못된 데이터를 필터링\n",
    "invalid_rows = train_df[invalid_x | invalid_y]\n",
    "if not invalid_rows.empty:\n",
    "    print(f\"--- {len(invalid_rows)}개의 잘못된 바운딩 박스 데이터를 찾았습니다. ---\")\n",
    "    print(\n",
    "        invalid_rows[\n",
    "            [\"file_name\", \"width\", \"height\", \"bbox_x\", \"bbox_y\", \"bbox_w\", \"bbox_h\"]\n",
    "        ]\n",
    "    )\n",
    "\n",
    "    # 유효한 데이터만 남김\n",
    "    train_df = train_df[~(invalid_x | invalid_y)]\n",
    "    print(f\"\\n잘못된 데이터를 제거하고, {len(train_df)}개의 데이터만 사용합니다.\")\n",
    "\n",
    "# --- (2). category_id를 새로운 label_idx로 매핑 ---\n",
    "# 고유한 category_id 목록을 뽑아 정렬\n",
    "unique_category_ids = sorted(train_df[\"category_id\"].unique())\n",
    "NUM_CLASSES = len(unique_category_ids)\n",
    "# category_id를 0, 1, 2... 인덱스로 변환하는 딕셔너리 생성\n",
    "id_to_idx = {\n",
    "    int(original_id): idx\n",
    "    for idx, original_id in enumerate(\n",
    "        unique_category_ids, start=1\n",
    "    )  # <--- start=1 추가!\n",
    "}\n",
    "# 이 매핑 정보를 사용해서 'label_idx'라는 새 컬럼을 추가\n",
    "train_df[\"label_idx\"] = train_df[\"category_id\"].map(id_to_idx)\n",
    "\n",
    "# processed 폴더 존재 여부 체크\n",
    "PROCESSED_DATA_DIR.mkdir(parents=True, exist_ok=True)\n",
    "\n",
    "# 나중에 추론 결과에서 원래 클래스 이름을 찾을 수 있도록 매핑 정보도 저장\n",
    "label_map = {\n",
    "    \"id_to_idx\": id_to_idx,\n",
    "    \"idx_to_id\": {idx: int(original_id) for original_id, idx in id_to_idx.items()},\n",
    "    \"id_to_name\": dict(zip(train_df[\"category_id\"], train_df[\"class_name\"])),\n",
    "}\n",
    "with open(PROCESSED_DATA_DIR / \"label_map.json\", \"w\", encoding=\"utf-8\") as f:\n",
    "    json.dump(label_map, f, ensure_ascii=False, indent=4)\n",
    "\n",
    "print(f\"\\n총 {len(unique_category_ids)}개의 고유 클래스를 발견했습니다.\")\n",
    "print(\"라벨 매핑 정보를 'data/processed/label_map.json'에 저장했습니다.\")\n",
    "\n",
    "\n",
    "# 3. 최종 DataFrame을 CSV 파일로 저장\n",
    "train_df.to_csv(SAVE_PATH, index=False)\n",
    "\n",
    "print(f\"\\n--- 데이터 전처리 및 저장 완료! ---\")\n",
    "print(train_df.head())"
   ]
  },
  {
   "cell_type": "code",
   "execution_count": 4,
   "id": "190b5136",
   "metadata": {},
   "outputs": [
    {
     "data": {
      "text/plain": [
       "<Axes: xlabel='label_idx'>"
      ]
     },
     "execution_count": 4,
     "metadata": {},
     "output_type": "execute_result"
    },
    {
     "data": {
      "image/png": "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",
      "text/plain": [
       "<Figure size 640x480 with 1 Axes>"
      ]
     },
     "metadata": {},
     "output_type": "display_data"
    }
   ],
   "source": [
    "train_df[\"label_idx\"].value_counts().plot(kind=\"bar\")"
   ]
  },
  {
   "cell_type": "code",
   "execution_count": 5,
   "id": "8437147b",
   "metadata": {},
   "outputs": [
    {
     "data": {
      "text/plain": [
       "class_name\n",
       "기넥신에프정(은행엽엑스)(수출용)    206\n",
       "일양하이트린정 2mg            98\n",
       "뮤테란캡슐 100mg            74\n",
       "보령부스파정 5mg             74\n",
       "동아가바펜틴정 800mg          58\n",
       "                     ... \n",
       "자이프렉사정 2.5mg            4\n",
       "졸로푸트정 100mg             4\n",
       "브린텔릭스정 20mg             4\n",
       "렉사프로정 15mg              4\n",
       "쿠에타핀정 25mg              4\n",
       "Name: count, Length: 73, dtype: int64"
      ]
     },
     "execution_count": 5,
     "metadata": {},
     "output_type": "execute_result"
    }
   ],
   "source": [
    "train_df[\"class_name\"].value_counts()"
   ]
  },
  {
   "cell_type": "code",
   "execution_count": 6,
   "id": "ce8f2cbe",
   "metadata": {},
   "outputs": [
    {
     "data": {
      "text/plain": [
       "array(['쎄로켈정 100mg', '무코스타정(레바미피드)(비매품)', '펠루비정(펠루비프로펜)', '동아가바펜틴정 800mg',\n",
       "       '트라젠타정(리나글립틴)', '기넥신에프정(은행엽엑스)(수출용)', '트윈스타정 40/5mg', '리바로정 4mg',\n",
       "       '자누메트엑스알서방정 100/1000mg', '플라빅스정 75mg', '리렉스펜정 300mg/PTP',\n",
       "       '큐시드정 31.5mg/PTP', '비타비백정 100mg/병', '아모잘탄정 5/100mg', '자누비아정 50mg',\n",
       "       '리피토정 20mg', '아토젯정 10/40mg', '가바토파정 100mg', '레일라정', '세비카정 10/40mg',\n",
       "       '로수젯정10/5밀리그램', '크레스토정 20mg', '종근당글리아티린연질캡슐(콜린알포세레이트)\\xa0',\n",
       "       '일양하이트린정 2mg', '타이레놀정500mg', '뮤테란캡슐 100mg', '트루비타정 60mg/병', '알드린정',\n",
       "       '에빅사정(메만틴염산염)(비매품)', '아토르바정 10mg', '카나브정 60mg', '자누메트정 50/850mg',\n",
       "       '노바스크정 5mg', '트라젠타듀오정 2.5/850mg', '제미메트서방정 50/1000mg',\n",
       "       '비모보정 500/20mg', '라비에트정 20mg', '보령부스파정 5mg', '다보타민큐정 10mg/병',\n",
       "       '써스펜8시간이알서방정 650mg', '리피로우정 20mg', '글리아타민연질캡슐', '카발린캡슐 25mg',\n",
       "       '엑스포지정 5/160mg', '케이캡정 50mg', '놀텍정 10mg',\n",
       "       '타이레놀이알서방정(아세트아미노펜)(수출용)', '조인스정 200mg', '자이프렉사정 2.5mg',\n",
       "       '콜리네이트연질캡슐 400mg', '울트라셋이알서방정', '에스원엠프정 20mg', '메가파워정 90mg/병',\n",
       "       '맥시부펜이알정 300mg', '삼남건조수산화알루미늄겔정', '신바로정', '란스톤엘에프디티정 30mg', '마도파정',\n",
       "       '리리카캡슐 150mg', '졸로푸트정 100mg', '에어탈정(아세클로페낙)', '아질렉트정(라사길린메실산염)',\n",
       "       '오마코연질캡슐(오메가-3-산에틸에스테르90)', '뉴로메드정(옥시라세탐)', '로수바미브정 10/20mg',\n",
       "       '아빌리파이정 10mg', '삐콤씨에프정 618.6mg/병', '글리틴정(콜린알포세레이트)',\n",
       "       '낙소졸정 500/20mg', '브린텔릭스정 20mg', '스토가정 10mg', '렉사프로정 15mg',\n",
       "       '쿠에타핀정 25mg'], dtype=object)"
      ]
     },
     "execution_count": 6,
     "metadata": {},
     "output_type": "execute_result"
    }
   ],
   "source": [
    "classes_tmp = train_df[\"class_name\"].unique()\n",
    "classes_tmp"
   ]
  },
  {
   "cell_type": "code",
   "execution_count": 7,
   "id": "02840906",
   "metadata": {},
   "outputs": [
    {
     "name": "stdout",
     "output_type": "stream",
     "text": [
      "총 클래스 개수 (배경 포함): 74\n",
      "클래스 리스트: ['background', '보령부스파정 5mg', '뮤테란캡슐 100mg', '일양하이트린정 2mg', '기넥신에프정', '무코스타정', '알드린정', '뉴로메드정', '타이레놀정500mg', '에어탈정', '삼남건조수산화알루미늄겔정', '타이레놀이알서방정', '삐콤씨에프정 618.6mg/병', '조인스정 200mg', '쎄로켈정 100mg', '리렉스펜정 300mg/PTP', '아빌리파이정 10mg', '자이프렉사정 2.5mg', '다보타민큐정 10mg/병', '써스펜8시간이알서방정 650mg', '에빅사정', '리피토정 20mg', '크레스토정 20mg', '가바토파정 100mg', '동아가바펜틴정 800mg', '오마코연질캡슐', '란스톤엘에프디티정 30mg', '리리카캡슐 150mg', '종근당글리아티린연질캡슐', '콜리네이트연질캡슐 400mg', '트루비타정 60mg/병', '스토가정 10mg', '노바스크정 5mg', '마도파정', '플라빅스정 75mg', '엑스포지정 5/160mg', '펠루비정', '아토르바정 10mg', '라비에트정 20mg', '리피로우정 20mg', '자누비아정 50mg', '맥시부펜이알정 300mg', '메가파워정 90mg/병', '쿠에타핀정 25mg', '비타비백정 100mg/병', '놀텍정 10mg', '자누메트정 50/850mg', '큐시드정 31.5mg/PTP', '아모잘탄정 5/100mg', '세비카정 10/40mg', '트윈스타정 40/5mg', '카나브정 60mg', '울트라셋이알서방정', '졸로푸트정 100mg', '트라젠타정', '비모보정 500/20mg', '레일라정', '리바로정 4mg', '렉사프로정 15mg', '트라젠타듀오정 2.5/850mg', '낙소졸정 500/20mg', '아질렉트정', '자누메트엑스알서방정 100/1000mg', '글리아타민연질캡슐', '신바로정', '에스원엠프정 20mg', '브린텔릭스정 20mg', '글리틴정', '제미메트서방정 50/1000mg', '아토젯정 10/40mg', '로수젯정10/5밀리그램', '로수바미브정 10/20mg', '카발린캡슐 25mg', '케이캡정 50mg']\n"
     ]
    }
   ],
   "source": [
    "# 1. 'category_id'와 'class_name' 컬럼으로 고유한 쌍을 찾고, ID 기준으로 정렬\n",
    "class_mapping_df = (\n",
    "    train_df[[\"category_id\", \"class_name\"]]\n",
    "    .drop_duplicates()\n",
    "    .sort_values(by=\"category_id\")\n",
    ")\n",
    "# 2. 정렬된 DataFrame에서 클래스 이름만 리스트로 추출\n",
    "sorted_class_names = [\n",
    "    name.split(\"(\")[0].strip() for name in class_mapping_df[\"class_name\"]\n",
    "]\n",
    "# 3. 맨 앞에 'background' 추가\n",
    "classes = [\"background\"] + sorted_class_names\n",
    "\n",
    "print(f\"총 클래스 개수 (배경 포함): {len(classes)}\")\n",
    "print(f\"클래스 리스트: {classes}\")"
   ]
  },
  {
   "cell_type": "markdown",
   "id": "c55a9ddb",
   "metadata": {},
   "source": [
    "## 2. Load a model"
   ]
  },
  {
   "cell_type": "code",
   "execution_count": 8,
   "id": "95e73b86",
   "metadata": {},
   "outputs": [],
   "source": [
    "# (1) 데이터 증강 (Augmentation) : Albumentations 라이브러리 사용\n",
    "train_transforms = A.Compose(\n",
    "    [\n",
    "        A.Resize(512, 512),\n",
    "        A.HorizontalFlip(p=0.5),\n",
    "        A.RandomBrightnessContrast(p=0.2),\n",
    "        A.Normalize(mean=(0.485, 0.456, 0.406), std=(0.229, 0.224, 0.225)),\n",
    "        # PyTorch 텐서로 변환\n",
    "        A.pytorch.ToTensorV2(),\n",
    "    ],\n",
    "    bbox_params=A.BboxParams(format=\"albumentations\", label_fields=[\"labels\"]),\n",
    ")  # bbox 형식은 pascal_voc: [xmin, ymin, xmax, ymax]\n",
    "\n",
    "val_transforms = A.Compose(\n",
    "    [\n",
    "        A.Resize(512, 512),\n",
    "        A.Normalize(mean=(0.485, 0.456, 0.406), std=(0.229, 0.224, 0.225)),\n",
    "        A.pytorch.ToTensorV2(),\n",
    "    ],\n",
    "    bbox_params=A.BboxParams(format=\"albumentations\", label_fields=[\"labels\"]),\n",
    ")\n",
    "\n",
    "test_transforms = A.Compose(\n",
    "    [\n",
    "        A.Resize(512, 512),\n",
    "        A.Normalize(mean=(0.485, 0.456, 0.406), std=(0.229, 0.224, 0.225)),\n",
    "        A.pytorch.ToTensorV2(),\n",
    "    ]\n",
    ")\n",
    "\n",
    "\n",
    "# DataLoader를 위한 collate_fn. 이미지와 타겟을 리스트로 묶어줌\n",
    "def collate_fn(batch):\n",
    "    return tuple(zip(*batch))"
   ]
  },
  {
   "cell_type": "code",
   "execution_count": 9,
   "id": "9addecd8",
   "metadata": {},
   "outputs": [],
   "source": [
    "class PillDataset(Dataset):\n",
    "    # --- mode 파라미터 추가 및 df를 직접 받도록 수정 ---\n",
    "    def __init__(self, df, image_dir, mode=\"train\", transforms=None):\n",
    "        self.df = df\n",
    "        self.image_dir = Path(image_dir)\n",
    "        self.mode = mode\n",
    "        self.transforms = transforms\n",
    "\n",
    "        # --- image_ids를 미리 뽑아 중복을 제거 ---\n",
    "        # df['file_name']을 사용하면 이미지 파일 이름으로 고유한 이미지를 식별 가능.\n",
    "        self.image_ids = self.df[\"file_name\"].unique()\n",
    "\n",
    "    def __len__(self):\n",
    "        # --- 고유한 이미지의 개수를 반환 ---\n",
    "        return len(self.image_ids)\n",
    "\n",
    "    def __getitem__(self, idx):\n",
    "        image_id = self.image_ids[idx]\n",
    "        image_path = self.image_dir / image_id\n",
    "\n",
    "        image = cv2.imread(str(image_path))\n",
    "        if image is None:\n",
    "            raise FileNotFoundError(\n",
    "                f\"Error: Could not load image at path: {image_path}\"\n",
    "            )\n",
    "\n",
    "        image = cv2.cvtColor(image, cv2.COLOR_BGR2RGB)\n",
    "        h, w, _ = image.shape\n",
    "\n",
    "        if self.mode in [\"train\", \"val\"]:\n",
    "            records = self.df[self.df[\"file_name\"] == image_id]\n",
    "            boxes = records[[\"bbox_x\", \"bbox_y\", \"bbox_w\", \"bbox_h\"]].values\n",
    "\n",
    "            boxes[:, 2] = boxes[:, 0] + boxes[:, 2]\n",
    "            boxes[:, 3] = boxes[:, 1] + boxes[:, 3]\n",
    "\n",
    "            labels = records[\"label_idx\"].values\n",
    "\n",
    "            # print(f\"\\n[DEBUG 1] Image: {image_id}, Original Pixel Coords:\\n{boxes}\")\n",
    "\n",
    "            # 바운딩 박스 좌표 정규화\n",
    "            boxes = boxes.astype(np.float32)\n",
    "            boxes[:, [0, 2]] /= w\n",
    "            boxes[:, [1, 3]] /= h\n",
    "\n",
    "            # print(f\"[DEBUG 2] Normalized Coords for Albumentations:\\n{boxes}\")\n",
    "\n",
    "            if self.transforms:\n",
    "                try:\n",
    "                    transformed = self.transforms(\n",
    "                        image=image, bboxes=boxes, labels=labels\n",
    "                    )\n",
    "                    image = transformed[\"image\"]\n",
    "                    boxes = transformed[\"bboxes\"]\n",
    "                    labels = transformed[\"labels\"]\n",
    "                except Exception as e:\n",
    "                    print(f\"!!!!!!!!!!!!!! Albumentations에서 에러 발생 !!!!!!!!!!!!!!\")\n",
    "                    print(f\"Image: {image_id}\")\n",
    "                    print(f\"Boxes sent to transform: {boxes}\")\n",
    "                    # raise e  # 에러를 다시 발생시켜서 멈추게 함\n",
    "\n",
    "            # ... 이하 코드는 이전과 동일 ...\n",
    "            _, new_h, new_w = image.shape\n",
    "            boxes = torch.as_tensor(boxes, dtype=torch.float32)\n",
    "\n",
    "            if len(boxes) > 0:\n",
    "                boxes[:, [0, 2]] *= new_w\n",
    "                boxes[:, [1, 3]] *= new_h\n",
    "\n",
    "            target = {\n",
    "                \"boxes\": boxes,\n",
    "                \"labels\": torch.as_tensor(labels, dtype=torch.int64),\n",
    "            }\n",
    "\n",
    "            if len(target[\"boxes\"]) == 0:\n",
    "                target[\"boxes\"] = torch.zeros((0, 4), dtype=torch.float32)\n",
    "                target[\"labels\"] = torch.zeros((0,), dtype=torch.int64)\n",
    "\n",
    "            return image, target\n",
    "\n",
    "            # 테스트 모드일 경우, 이미지와 파일 이름만 반환\n",
    "        elif self.mode == \"test\":\n",
    "            # 테스트 시에는 보통 기본적인 리사이즈, 정규화만 적용\n",
    "            if self.transforms:\n",
    "                transformed = self.transforms(image=image)\n",
    "                image = transformed[\"image\"]\n",
    "\n",
    "            # 나중에 예측 결과를 이미지와 매칭시키기 위해 파일 이름을 반환\n",
    "            return image, image_id\n",
    "\n",
    "\n",
    "# 참고: Subset을 사용할 때 transform을 다르게 적용하려면 약간의 트릭이 필요.\n",
    "# 먼저 transform이 없는 전체 데이터셋을 만듦.\n",
    "# 각 Subset에 맞는 transform을 적용하는 Wrapper 클래스 생성\n",
    "# class TransformSubset(Dataset):\n",
    "#     def __init__(self, subset, transforms):\n",
    "#         self.subset = subset\n",
    "#         self.transforms = transforms\n",
    "\n",
    "#     def __getitem__(self, idx):\n",
    "#         image, target = self.subset[idx]\n",
    "\n",
    "#         # NumPy 배열로 변환 (Albumentations 입력 형식)\n",
    "#         boxes = target[\"boxes\"].numpy()\n",
    "#         labels = target[\"labels\"].numpy()\n",
    "\n",
    "#         if self.transforms:\n",
    "#             transformed = self.transforms(image=image, bboxes=boxes, labels=labels)\n",
    "#             image = transformed[\"image\"]\n",
    "#             target[\"boxes\"] = torch.as_tensor(\n",
    "#                 transformed[\"bboxes\"], dtype=torch.float32\n",
    "#             )\n",
    "#             # 증강 후 bbox가 사라졌을 경우 처리\n",
    "#             if len(target[\"boxes\"]) == 0:\n",
    "#                 target[\"boxes\"] = torch.zeros((0, 4), dtype=torch.float32)\n",
    "\n",
    "#         return image, target\n",
    "\n",
    "#     def __len__(self):\n",
    "#         return len(self.subset)"
   ]
  },
  {
   "cell_type": "code",
   "execution_count": 10,
   "id": "405ed05d",
   "metadata": {},
   "outputs": [],
   "source": [
    "import torchvision\n",
    "from torchvision.models.detection.faster_rcnn import FastRCNNPredictor\n",
    "\n",
    "# pre-trained 모델 로드\n",
    "# Faster R-CNN\n",
    "# model = torchvision.models.detection.fasterrcnn_resnet50_fpn(weights=\"DEFAULT\")\n",
    "\n",
    "# MobileNetV3\n",
    "model = torchvision.models.detection.fasterrcnn_mobilenet_v3_large_fpn(\n",
    "    weights=\"DEFAULT\"\n",
    ")\n",
    "\n",
    "# model = torchvision.models.detection.fasterrcnn_resnet50_fpn_v2(weights=\"DEFAULT\")\n",
    "\n",
    "\n",
    "# 분류기의 입력 피처 수를 가져옴\n",
    "in_features = model.roi_heads.box_predictor.cls_score.in_features\n",
    "\n",
    "# pre-trained head를 새로운 head로 교체\n",
    "# num_classes에 배경(background) 클래스 1개를 더해줘야 함\n",
    "model.roi_heads.box_predictor = FastRCNNPredictor(in_features, NUM_CLASSES + 1)"
   ]
  },
  {
   "cell_type": "code",
   "execution_count": 11,
   "id": "83102d21",
   "metadata": {},
   "outputs": [],
   "source": [
    "import random\n",
    "\n",
    "\n",
    "# 재현성을 위해 모든 난수 생성기의 시드를 고정하는 함수.\n",
    "def seed_everything(seed: int):\n",
    "    random.seed(seed)\n",
    "    os.environ[\"PYTHONHASHSEED\"] = str(seed)\n",
    "    np.random.seed(seed)\n",
    "    torch.manual_seed(seed)\n",
    "    torch.cuda.manual_seed(seed)\n",
    "    torch.backends.cudnn.deterministic = True\n",
    "    torch.backends.cudnn.benchmark = False\n",
    "    print(f\"Seed set to {seed}\")"
   ]
  },
  {
   "cell_type": "code",
   "execution_count": 12,
   "id": "d647faaf",
   "metadata": {},
   "outputs": [
    {
     "name": "stdout",
     "output_type": "stream",
     "text": [
      "Seed set to 42\n"
     ]
    },
    {
     "name": "stderr",
     "output_type": "stream",
     "text": [
      "/home/soohyun/miniconda3/envs/JSH/lib/python3.13/site-packages/sklearn/model_selection/_split.py:1035: UserWarning: The least populated class in y has only 4 members, which is less than n_splits=5.\n",
      "  warnings.warn(\n"
     ]
    },
    {
     "name": "stdout",
     "output_type": "stream",
     "text": [
      "\n",
      "Calculating weights for WeightedRandomSampler...\n"
     ]
    }
   ],
   "source": [
    "from sklearn.model_selection import train_test_split\n",
    "from torch.utils.data import DataLoader\n",
    "from sklearn.model_selection import StratifiedGroupKFold\n",
    "from torch.utils.data import Subset\n",
    "from torch.utils.data import WeightedRandomSampler\n",
    "\n",
    "seed_everything(SEED)\n",
    "\n",
    "# 1. 데이터 준비\n",
    "df = pd.read_csv(SAVE_PATH)\n",
    "\n",
    "# StratifiedGroupKFold를 위한 데이터 준비\n",
    "groups = df[\"file_name\"]  # 그룹 기준: 이미지 파일 이름\n",
    "labels = df[\"category_id\"]  # 층화 기준: 원본 클래스 ID\n",
    "\n",
    "# K-Fold 설정 (5-fold, 즉 80% train / 20% val)\n",
    "cv = StratifiedGroupKFold(n_splits=5, shuffle=True, random_state=SEED)\n",
    "\n",
    "# 첫 번째 fold의 train/val 인덱스를 가져옴\n",
    "train_idxs, val_idxs = next(cv.split(df, labels, groups))\n",
    "# 인덱스를 사용해서 데이터프레임을 먼저 분할!\n",
    "train_df_split = df.iloc[train_idxs].reset_index(drop=True)\n",
    "val_df_split = df.iloc[val_idxs].reset_index(drop=True)\n",
    "\n",
    "# --- 각 샘플(이미지)에 대한 가중치 계산 ---\n",
    "print(\"\\nCalculating weights for WeightedRandomSampler...\")\n",
    "\n",
    "# train_df에 있는 각 클래스(label_idx)의 개수를 계산\n",
    "class_counts = train_df[\"label_idx\"].value_counts()\n",
    "\n",
    "# 각 클래스에 대한 가중치를 계산 (클래스 빈도의 역수)\n",
    "class_weights = 1.0 / class_counts\n",
    "\n",
    "# train_df의 각 행(어노테이션)에 해당하는 가중치를 계산\n",
    "sample_weights = train_df[\"label_idx\"].map(class_weights)\n",
    "\n",
    "# --- 이제 각 '이미지'의 가중치를 계산 (이미지 내 가장 희귀한 클래스 기준) ---\n",
    "# 각 이미지(file_name)에 포함된 어노테이션들의 가중치 중 가장 큰 값을 해당 이미지의 가중치로 설정\n",
    "image_weights_map = (\n",
    "    train_df.groupby(\"file_name\")[\"label_idx\"]\n",
    "    .apply(lambda x: sample_weights.loc[x.index].max())\n",
    "    .to_dict()\n",
    ")\n",
    "\n",
    "# train_dataset에서 사용할 최종 가중치 리스트 생성\n",
    "# train_dataset.image_ids 순서와 정확히 일치해야 함\n",
    "train_dataset = PillDataset(\n",
    "    df=train_df_split,\n",
    "    image_dir=TRAIN_IMAGE_DIR,\n",
    "    mode=\"train\",\n",
    "    transforms=train_transforms,\n",
    ")\n",
    "\n",
    "sampler_weights = [image_weights_map[img_id] for img_id in train_dataset.image_ids]\n",
    "\n",
    "# --- 2. WeightedRandomSampler 생성 ---\n",
    "# replacement=True는 오버샘플링(데이터를 중복해서 뽑는 것)을 허용\n",
    "sampler = WeightedRandomSampler(\n",
    "    weights=sampler_weights, num_samples=len(sampler_weights), replacement=True\n",
    ")\n",
    "\n",
    "\n",
    "val_dataset = PillDataset(\n",
    "    df=val_df_split,\n",
    "    image_dir=TRAIN_IMAGE_DIR,\n",
    "    mode=\"val\",\n",
    "    transforms=val_transforms,  # val_transforms 사용\n",
    ")\n",
    "\n",
    "\n",
    "test_df = pd.DataFrame({\"file_name\": os.listdir(TEST_IMAGE_DIR)})\n",
    "\n",
    "test_dataset = PillDataset(\n",
    "    df=test_df,\n",
    "    image_dir=TEST_IMAGE_DIR,\n",
    "    mode=\"test\",\n",
    "    transforms=test_transforms,\n",
    ")\n",
    "\n",
    "\n",
    "# --- Data Loader ---\n",
    "\n",
    "# --- 3. DataLoader에 Sampler 적용 ---\n",
    "# sampler를 사용할 때는 shuffle=False로 설정해야 함!\n",
    "train_loader = DataLoader(\n",
    "    train_dataset,\n",
    "    batch_size=BATCH_SIZE,\n",
    "    shuffle=False,  # Sampler가 샘플링을 담당하므로 shuffle은 꺼야 함\n",
    "    collate_fn=collate_fn,\n",
    "    sampler=sampler,  # 여기에 생성한 샘플러를 전달\n",
    ")\n",
    "val_loader = DataLoader(\n",
    "    val_dataset,\n",
    "    batch_size=BATCH_SIZE,\n",
    "    shuffle=False,\n",
    "    collate_fn=collate_fn,\n",
    ")\n",
    "test_loader = DataLoader(\n",
    "    test_dataset,\n",
    "    batch_size=BATCH_SIZE,\n",
    "    shuffle=False,\n",
    "    collate_fn=collate_fn,\n",
    ")"
   ]
  },
  {
   "cell_type": "code",
   "execution_count": 13,
   "id": "f1478840",
   "metadata": {},
   "outputs": [],
   "source": [
    "# img, image_id = next(iter(train_loader))\n",
    "# image_id[7]"
   ]
  },
  {
   "cell_type": "code",
   "execution_count": 14,
   "id": "37de70ce",
   "metadata": {},
   "outputs": [
    {
     "data": {
      "text/plain": [
       "{'boxes': tensor([[268.0656,  97.2000, 484.7213, 185.6000],\n",
       "         [ 92.8525,  93.6000, 198.8197, 198.0000],\n",
       "         [337.3115, 338.4000, 436.9836, 414.4000]]),\n",
       " 'labels': tensor([56, 73,  1])}"
      ]
     },
     "execution_count": 14,
     "metadata": {},
     "output_type": "execute_result"
    }
   ],
   "source": [
    "img, image_id = next(iter(val_loader))\n",
    "image_id[7]"
   ]
  },
  {
   "cell_type": "code",
   "execution_count": 15,
   "id": "572d7ccd",
   "metadata": {},
   "outputs": [],
   "source": [
    "model = model.to(DEVICE)\n",
    "\n",
    "params = [p for p in model.parameters() if p.requires_grad]\n",
    "\n",
    "# optimizer = torch.optim.SGD(\n",
    "#     params,\n",
    "#     lr=LEARNING_RATE,\n",
    "#     momentum=MOMENTUM,\n",
    "#     weight_decay=WEIGHT_DECAY,\n",
    "# )\n",
    "optimizer = torch.optim.AdamW(params, lr=LEARNING_RATE, weight_decay=0.01)\n",
    "\n",
    "scheduler = torch.optim.lr_scheduler.CosineAnnealingLR(\n",
    "    optimizer, T_max=NUM_EPOCHS, eta_min=1e-6\n",
    ")"
   ]
  },
  {
   "cell_type": "code",
   "execution_count": 16,
   "id": "ac0dbb75",
   "metadata": {},
   "outputs": [],
   "source": [
    "class EarlyStopping:\n",
    "    \"\"\"주어진 patience 후 검증 점수가 향상되지 않으면 학습을 조기 중단시킵니다.\"\"\"\n",
    "\n",
    "    def __init__(\n",
    "        self,\n",
    "        patience=7,\n",
    "        verbose=False,\n",
    "        delta=0,\n",
    "        mode=\"min\",\n",
    "        path=\"../experiments/best_model.pt\",\n",
    "        evaluation_name=\"score\",\n",
    "    ):\n",
    "        \"\"\"\n",
    "        Args:\n",
    "            patience (int): 검증 점수가 향상된 후 기다릴 에폭 수.\n",
    "            verbose (bool): True일 경우, 점수가 향상될 때마다 메시지를 출력.\n",
    "            delta (float): 점수 향상으로 인정될 최소 변화량.\n",
    "            mode (str): 'min' 또는 'max'. min은 점수가 낮아지는 것을, max는 높아지는 것을 목표로 함.\n",
    "            path (str): 모델 체크포인트 저장 경로.\n",
    "            evaluation_name (str): 로그에 표시될 평가 지표의 이름.\n",
    "        \"\"\"\n",
    "        self.patience = patience\n",
    "        self.verbose = verbose\n",
    "        self.counter = 0\n",
    "        self.best_score = None\n",
    "        self.early_stop = False\n",
    "        self.delta = delta\n",
    "        self.path = path\n",
    "        self.mode = mode\n",
    "        self.evaluation_name = evaluation_name\n",
    "\n",
    "        if self.mode == \"min\":\n",
    "            self.val_score = np.inf\n",
    "        else:\n",
    "            self.val_score = -np.inf\n",
    "\n",
    "    def __call__(self, score, model):\n",
    "\n",
    "        # mode에 따른 점수 비교\n",
    "        is_best = False\n",
    "        if self.mode == \"min\":\n",
    "            if (\n",
    "                score < self.best_score - self.delta\n",
    "                if self.best_score is not None\n",
    "                else True\n",
    "            ):\n",
    "                is_best = True\n",
    "        else:  # mode == 'max'\n",
    "            if (\n",
    "                score > self.best_score + self.delta\n",
    "                if self.best_score is not None\n",
    "                else True\n",
    "            ):\n",
    "                is_best = True\n",
    "\n",
    "        if self.best_score is None:\n",
    "            self.best_score = score\n",
    "            self.save_checkpoint(score, model)\n",
    "        elif is_best:\n",
    "            self.best_score = score\n",
    "            self.save_checkpoint(score, model)\n",
    "            self.counter = 0\n",
    "        else:\n",
    "            self.counter += 1\n",
    "            print(f\"EarlyStopping counter: {self.counter} out of {self.patience}\")\n",
    "            if self.counter >= self.patience:\n",
    "                self.early_stop = True\n",
    "\n",
    "    def save_checkpoint(self, score, model):\n",
    "        \"\"\"Saves model when validation score improves.\"\"\"\n",
    "        if self.verbose:\n",
    "            # mode에 따라 'decreased' 또는 'increased'를 동적으로 표현\n",
    "            change_text = \"decreased\" if self.mode == \"min\" else \"increased\"\n",
    "            print(\n",
    "                f\"{self.evaluation_name} {change_text} ({self.val_score:.6f} --> {score:.6f}). Saving model ...\"\n",
    "            )\n",
    "\n",
    "        save_dir = os.path.dirname(self.path)\n",
    "        if not os.path.exists(save_dir):\n",
    "            os.makedirs(save_dir)\n",
    "            print(f\"Created directory: {save_dir}\")\n",
    "\n",
    "        torch.save(model.state_dict(), self.path)\n",
    "        self.val_score = score"
   ]
  },
  {
   "cell_type": "code",
   "execution_count": 17,
   "id": "ca1023bd",
   "metadata": {},
   "outputs": [
    {
     "name": "stdout",
     "output_type": "stream",
     "text": [
      "backbone.body.0.0.weight: requires_grad=False\n",
      "backbone.body.1.block.0.0.weight: requires_grad=False\n",
      "backbone.body.1.block.1.0.weight: requires_grad=False\n",
      "backbone.body.2.block.0.0.weight: requires_grad=False\n",
      "backbone.body.2.block.1.0.weight: requires_grad=False\n",
      "backbone.body.2.block.2.0.weight: requires_grad=False\n",
      "backbone.body.3.block.0.0.weight: requires_grad=False\n",
      "backbone.body.3.block.1.0.weight: requires_grad=False\n",
      "backbone.body.3.block.2.0.weight: requires_grad=False\n",
      "backbone.body.4.block.0.0.weight: requires_grad=False\n",
      "backbone.body.4.block.1.0.weight: requires_grad=False\n",
      "backbone.body.4.block.2.fc1.weight: requires_grad=False\n",
      "backbone.body.4.block.2.fc1.bias: requires_grad=False\n",
      "backbone.body.4.block.2.fc2.weight: requires_grad=False\n",
      "backbone.body.4.block.2.fc2.bias: requires_grad=False\n",
      "backbone.body.4.block.3.0.weight: requires_grad=False\n",
      "backbone.body.5.block.0.0.weight: requires_grad=False\n",
      "backbone.body.5.block.1.0.weight: requires_grad=False\n",
      "backbone.body.5.block.2.fc1.weight: requires_grad=False\n",
      "backbone.body.5.block.2.fc1.bias: requires_grad=False\n",
      "backbone.body.5.block.2.fc2.weight: requires_grad=False\n",
      "backbone.body.5.block.2.fc2.bias: requires_grad=False\n",
      "backbone.body.5.block.3.0.weight: requires_grad=False\n",
      "backbone.body.6.block.0.0.weight: requires_grad=False\n",
      "backbone.body.6.block.1.0.weight: requires_grad=False\n",
      "backbone.body.6.block.2.fc1.weight: requires_grad=False\n",
      "backbone.body.6.block.2.fc1.bias: requires_grad=False\n",
      "backbone.body.6.block.2.fc2.weight: requires_grad=False\n",
      "backbone.body.6.block.2.fc2.bias: requires_grad=False\n",
      "backbone.body.6.block.3.0.weight: requires_grad=False\n",
      "backbone.body.7.block.0.0.weight: requires_grad=True\n",
      "backbone.body.7.block.1.0.weight: requires_grad=True\n",
      "backbone.body.7.block.2.0.weight: requires_grad=True\n",
      "backbone.body.8.block.0.0.weight: requires_grad=True\n",
      "backbone.body.8.block.1.0.weight: requires_grad=True\n",
      "backbone.body.8.block.2.0.weight: requires_grad=True\n",
      "backbone.body.9.block.0.0.weight: requires_grad=True\n",
      "backbone.body.9.block.1.0.weight: requires_grad=True\n",
      "backbone.body.9.block.2.0.weight: requires_grad=True\n",
      "backbone.body.10.block.0.0.weight: requires_grad=True\n",
      "backbone.body.10.block.1.0.weight: requires_grad=True\n",
      "backbone.body.10.block.2.0.weight: requires_grad=True\n",
      "backbone.body.11.block.0.0.weight: requires_grad=True\n",
      "backbone.body.11.block.1.0.weight: requires_grad=True\n",
      "backbone.body.11.block.2.fc1.weight: requires_grad=True\n",
      "backbone.body.11.block.2.fc1.bias: requires_grad=True\n",
      "backbone.body.11.block.2.fc2.weight: requires_grad=True\n",
      "backbone.body.11.block.2.fc2.bias: requires_grad=True\n",
      "backbone.body.11.block.3.0.weight: requires_grad=True\n",
      "backbone.body.12.block.0.0.weight: requires_grad=True\n",
      "backbone.body.12.block.1.0.weight: requires_grad=True\n",
      "backbone.body.12.block.2.fc1.weight: requires_grad=True\n",
      "backbone.body.12.block.2.fc1.bias: requires_grad=True\n",
      "backbone.body.12.block.2.fc2.weight: requires_grad=True\n",
      "backbone.body.12.block.2.fc2.bias: requires_grad=True\n",
      "backbone.body.12.block.3.0.weight: requires_grad=True\n",
      "backbone.body.13.block.0.0.weight: requires_grad=True\n",
      "backbone.body.13.block.1.0.weight: requires_grad=True\n",
      "backbone.body.13.block.2.fc1.weight: requires_grad=True\n",
      "backbone.body.13.block.2.fc1.bias: requires_grad=True\n",
      "backbone.body.13.block.2.fc2.weight: requires_grad=True\n",
      "backbone.body.13.block.2.fc2.bias: requires_grad=True\n",
      "backbone.body.13.block.3.0.weight: requires_grad=True\n",
      "backbone.body.14.block.0.0.weight: requires_grad=True\n",
      "backbone.body.14.block.1.0.weight: requires_grad=True\n",
      "backbone.body.14.block.2.fc1.weight: requires_grad=True\n",
      "backbone.body.14.block.2.fc1.bias: requires_grad=True\n",
      "backbone.body.14.block.2.fc2.weight: requires_grad=True\n",
      "backbone.body.14.block.2.fc2.bias: requires_grad=True\n",
      "backbone.body.14.block.3.0.weight: requires_grad=True\n",
      "backbone.body.15.block.0.0.weight: requires_grad=True\n",
      "backbone.body.15.block.1.0.weight: requires_grad=True\n",
      "backbone.body.15.block.2.fc1.weight: requires_grad=True\n",
      "backbone.body.15.block.2.fc1.bias: requires_grad=True\n",
      "backbone.body.15.block.2.fc2.weight: requires_grad=True\n",
      "backbone.body.15.block.2.fc2.bias: requires_grad=True\n",
      "backbone.body.15.block.3.0.weight: requires_grad=True\n",
      "backbone.body.16.0.weight: requires_grad=True\n",
      "backbone.fpn.inner_blocks.0.0.weight: requires_grad=True\n",
      "backbone.fpn.inner_blocks.0.0.bias: requires_grad=True\n",
      "backbone.fpn.inner_blocks.1.0.weight: requires_grad=True\n",
      "backbone.fpn.inner_blocks.1.0.bias: requires_grad=True\n",
      "backbone.fpn.layer_blocks.0.0.weight: requires_grad=True\n",
      "backbone.fpn.layer_blocks.0.0.bias: requires_grad=True\n",
      "backbone.fpn.layer_blocks.1.0.weight: requires_grad=True\n",
      "backbone.fpn.layer_blocks.1.0.bias: requires_grad=True\n",
      "rpn.head.conv.0.0.weight: requires_grad=True\n",
      "rpn.head.conv.0.0.bias: requires_grad=True\n",
      "rpn.head.cls_logits.weight: requires_grad=True\n",
      "rpn.head.cls_logits.bias: requires_grad=True\n",
      "rpn.head.bbox_pred.weight: requires_grad=True\n",
      "rpn.head.bbox_pred.bias: requires_grad=True\n",
      "roi_heads.box_head.fc6.weight: requires_grad=True\n",
      "roi_heads.box_head.fc6.bias: requires_grad=True\n",
      "roi_heads.box_head.fc7.weight: requires_grad=True\n",
      "roi_heads.box_head.fc7.bias: requires_grad=True\n",
      "roi_heads.box_predictor.cls_score.weight: requires_grad=True\n",
      "roi_heads.box_predictor.cls_score.bias: requires_grad=True\n",
      "roi_heads.box_predictor.bbox_pred.weight: requires_grad=True\n",
      "roi_heads.box_predictor.bbox_pred.bias: requires_grad=True\n"
     ]
    }
   ],
   "source": [
    "for name, param in model.named_parameters():\n",
    "    print(f\"{name}: requires_grad={param.requires_grad}\")"
   ]
  },
  {
   "cell_type": "code",
<<<<<<< HEAD
   "execution_count": 18,
=======
   "execution_count": null,
>>>>>>> 0e115ab (update 25-07-29)
   "id": "786c978e",
   "metadata": {},
   "outputs": [
    {
     "name": "stdout",
     "output_type": "stream",
     "text": [
      "--- Start Training ---\n"
     ]
    },
    {
     "name": "stderr",
     "output_type": "stream",
     "text": [
      "Epoch [1/60]:   0%|          | 0/41 [00:00<?, ?it/s]"
     ]
    },
    {
     "name": "stderr",
     "output_type": "stream",
     "text": [
<<<<<<< HEAD
      "Epoch [1/60]: 100%|██████████| 41/41 [01:12<00:00,  1.76s/it, loss=4.68]\n"
=======
      "Epoch [1/60]: 100%|██████████| 41/41 [01:12<00:00,  1.76s/it, loss=4.65]\n"
>>>>>>> 0e115ab (update 25-07-29)
     ]
    },
    {
     "name": "stdout",
     "output_type": "stream",
     "text": [
<<<<<<< HEAD
      "Validation mAP increased (-inf --> 0.000000). Saving model ...\n",
      "Train Loss: 4.6780, Val Loss: 4.1641, mAP@50: 0.0000, LR: 1e-05\n",
      "COCO mAP: 0.0000,  mAP@75: 0.0000, avg_iou: 0.0\n"
=======
      "Validation mAP increased (-inf --> 0.005103). Saving model ...\n",
      "Train Loss: 4.6515, Val Loss: 3.9861, mAP@50: 0.0051, LR: 1e-05\n",
      "COCO mAP: 0.0021,  mAP@75: 0.0016, avg_iou: 0.7235959280620922\n"
>>>>>>> 0e115ab (update 25-07-29)
     ]
    },
    {
     "name": "stderr",
     "output_type": "stream",
     "text": [
<<<<<<< HEAD
      "Epoch [2/60]: 100%|██████████| 41/41 [02:20<00:00,  3.43s/it, loss=4.23]\n"
=======
      "Epoch [2/60]: 100%|██████████| 41/41 [02:51<00:00,  4.19s/it, loss=3.91]\n"
>>>>>>> 0e115ab (update 25-07-29)
     ]
    },
    {
     "name": "stdout",
     "output_type": "stream",
     "text": [
<<<<<<< HEAD
      "Validation mAP increased (0.000000 --> 0.038136). Saving model ...\n",
      "Train Loss: 4.2259, Val Loss: 3.9271, mAP@50: 0.0381, LR: 1e-05\n",
      "COCO mAP: 0.0261,  mAP@75: 0.0297, avg_iou: 0.8069617017260138\n"
=======
      "Validation mAP increased (0.005103 --> 0.044606). Saving model ...\n",
      "Train Loss: 3.9107, Val Loss: 3.8266, mAP@50: 0.0446, LR: 1e-05\n",
      "COCO mAP: 0.0299,  mAP@75: 0.0383, avg_iou: 0.8091897729064236\n"
>>>>>>> 0e115ab (update 25-07-29)
     ]
    },
    {
     "name": "stderr",
     "output_type": "stream",
     "text": [
<<<<<<< HEAD
      "Epoch [3/60]: 100%|██████████| 41/41 [02:14<00:00,  3.28s/it, loss=3.99]\n"
=======
      "Epoch [3/60]: 100%|██████████| 41/41 [02:24<00:00,  3.51s/it, loss=3.76]\n"
>>>>>>> 0e115ab (update 25-07-29)
     ]
    },
    {
     "name": "stdout",
     "output_type": "stream",
     "text": [
<<<<<<< HEAD
      "Validation mAP increased (0.038136 --> 0.077907). Saving model ...\n",
      "Train Loss: 3.9888, Val Loss: 3.6092, mAP@50: 0.0779, LR: 1e-05\n",
      "COCO mAP: 0.0574,  mAP@75: 0.0689, avg_iou: 0.8356520474636963\n"
=======
      "Validation mAP increased (0.044606 --> 0.070091). Saving model ...\n",
      "Train Loss: 3.7583, Val Loss: 3.5041, mAP@50: 0.0701, LR: 1e-05\n",
      "COCO mAP: 0.0544,  mAP@75: 0.0653, avg_iou: 0.84461515307774\n"
>>>>>>> 0e115ab (update 25-07-29)
     ]
    },
    {
     "name": "stderr",
     "output_type": "stream",
     "text": [
<<<<<<< HEAD
      "Epoch [4/60]: 100%|██████████| 41/41 [02:19<00:00,  3.40s/it, loss=3.53]\n"
=======
      "Epoch [4/60]: 100%|██████████| 41/41 [02:43<00:00,  4.00s/it, loss=3.38]\n"
>>>>>>> 0e115ab (update 25-07-29)
     ]
    },
    {
     "name": "stdout",
     "output_type": "stream",
     "text": [
<<<<<<< HEAD
      "Validation mAP increased (0.077907 --> 0.120897). Saving model ...\n",
      "Train Loss: 3.5270, Val Loss: 3.3115, mAP@50: 0.1209, LR: 1e-05\n",
      "COCO mAP: 0.0850,  mAP@75: 0.0975, avg_iou: 0.8478743155022518\n"
=======
      "Validation mAP increased (0.070091 --> 0.119179). Saving model ...\n",
      "Train Loss: 3.3813, Val Loss: 3.1710, mAP@50: 0.1192, LR: 1e-05\n",
      "COCO mAP: 0.0866,  mAP@75: 0.0971, avg_iou: 0.8579528422916637\n"
>>>>>>> 0e115ab (update 25-07-29)
     ]
    },
    {
     "name": "stderr",
     "output_type": "stream",
     "text": [
<<<<<<< HEAD
      "Epoch [5/60]: 100%|██████████| 41/41 [02:30<00:00,  3.68s/it, loss=3.15]\n"
=======
      "Epoch [5/60]: 100%|██████████| 41/41 [02:36<00:00,  3.81s/it, loss=3.01]\n"
>>>>>>> 0e115ab (update 25-07-29)
     ]
    },
    {
     "name": "stdout",
     "output_type": "stream",
     "text": [
<<<<<<< HEAD
      "Validation mAP increased (0.120897 --> 0.235593). Saving model ...\n",
      "Train Loss: 3.1515, Val Loss: 2.9447, mAP@50: 0.2356, LR: 1e-05\n",
      "COCO mAP: 0.1767,  mAP@75: 0.2076, avg_iou: 0.8577042129373303\n"
=======
      "Validation mAP increased (0.119179 --> 0.326085). Saving model ...\n",
      "Train Loss: 3.0140, Val Loss: 2.7770, mAP@50: 0.3261, LR: 1e-05\n",
      "COCO mAP: 0.2332,  mAP@75: 0.2506, avg_iou: 0.8639384595786824\n"
>>>>>>> 0e115ab (update 25-07-29)
     ]
    },
    {
     "name": "stderr",
     "output_type": "stream",
     "text": [
<<<<<<< HEAD
      "Epoch [6/60]: 100%|██████████| 41/41 [02:10<00:00,  3.19s/it, loss=2.85]\n"
=======
      "Epoch [6/60]: 100%|██████████| 41/41 [11:07<00:00, 16.28s/it, loss=2.71]\n"
>>>>>>> 0e115ab (update 25-07-29)
     ]
    },
    {
     "name": "stdout",
     "output_type": "stream",
     "text": [
<<<<<<< HEAD
      "Validation mAP increased (0.235593 --> 0.419064). Saving model ...\n",
      "Train Loss: 2.8526, Val Loss: 2.5818, mAP@50: 0.4191, LR: 1e-05\n",
      "COCO mAP: 0.3225,  mAP@75: 0.3914, avg_iou: 0.8668123072699496\n"
=======
      "Validation mAP increased (0.326085 --> 0.436416). Saving model ...\n",
      "Train Loss: 2.7121, Val Loss: 2.4129, mAP@50: 0.4364, LR: 1e-05\n",
      "COCO mAP: 0.3261,  mAP@75: 0.3872, avg_iou: 0.8663336007981687\n"
>>>>>>> 0e115ab (update 25-07-29)
     ]
    },
    {
     "name": "stderr",
     "output_type": "stream",
     "text": [
<<<<<<< HEAD
      "Epoch [7/60]: 100%|██████████| 41/41 [02:39<00:00,  3.88s/it, loss=2.41]\n"
=======
      "Epoch [7/60]: 100%|██████████| 41/41 [03:15<00:00,  4.77s/it, loss=2.29]\n"
>>>>>>> 0e115ab (update 25-07-29)
     ]
    },
    {
     "name": "stdout",
     "output_type": "stream",
     "text": [
<<<<<<< HEAD
      "Validation mAP increased (0.419064 --> 0.566589). Saving model ...\n",
      "Train Loss: 2.4054, Val Loss: 2.2902, mAP@50: 0.5666, LR: 1e-05\n",
      "COCO mAP: 0.4098,  mAP@75: 0.5025, avg_iou: 0.8739198161342039\n"
=======
      "Validation mAP increased (0.436416 --> 0.577752). Saving model ...\n",
      "Train Loss: 2.2927, Val Loss: 2.1477, mAP@50: 0.5778, LR: 1e-05\n",
      "COCO mAP: 0.4283,  mAP@75: 0.5345, avg_iou: 0.8788290394402538\n"
>>>>>>> 0e115ab (update 25-07-29)
     ]
    },
    {
     "name": "stderr",
     "output_type": "stream",
     "text": [
<<<<<<< HEAD
      "Epoch [8/60]: 100%|██████████| 41/41 [02:26<00:00,  3.57s/it, loss=2.14]\n"
=======
      "Epoch [8/60]: 100%|██████████| 41/41 [02:45<00:00,  4.03s/it, loss=2.1] \n"
>>>>>>> 0e115ab (update 25-07-29)
     ]
    },
    {
     "name": "stdout",
     "output_type": "stream",
     "text": [
<<<<<<< HEAD
      "Validation mAP increased (0.566589 --> 0.614394). Saving model ...\n",
      "Train Loss: 2.1433, Val Loss: 2.0761, mAP@50: 0.6144, LR: 1e-05\n",
      "COCO mAP: 0.4566,  mAP@75: 0.5682, avg_iou: 0.8794642018966186\n"
=======
      "Validation mAP increased (0.577752 --> 0.632413). Saving model ...\n",
      "Train Loss: 2.1018, Val Loss: 1.9184, mAP@50: 0.6324, LR: 1e-05\n",
      "COCO mAP: 0.4623,  mAP@75: 0.5794, avg_iou: 0.8740159400546824\n"
>>>>>>> 0e115ab (update 25-07-29)
     ]
    },
    {
     "name": "stderr",
     "output_type": "stream",
     "text": [
<<<<<<< HEAD
      "Epoch [9/60]: 100%|██████████| 41/41 [02:18<00:00,  3.37s/it, loss=1.89]\n"
=======
      "Epoch [9/60]: 100%|██████████| 41/41 [02:54<00:00,  4.25s/it, loss=1.77]\n"
>>>>>>> 0e115ab (update 25-07-29)
     ]
    },
    {
     "name": "stdout",
     "output_type": "stream",
     "text": [
<<<<<<< HEAD
      "Validation mAP increased (0.614394 --> 0.671748). Saving model ...\n",
      "Train Loss: 1.8907, Val Loss: 1.9009, mAP@50: 0.6717, LR: 1e-05\n",
      "COCO mAP: 0.4859,  mAP@75: 0.5926, avg_iou: 0.8756457365499501\n"
=======
      "Validation mAP increased (0.632413 --> 0.672503). Saving model ...\n",
      "Train Loss: 1.7746, Val Loss: 1.7652, mAP@50: 0.6725, LR: 1e-05\n",
      "COCO mAP: 0.4894,  mAP@75: 0.5914, avg_iou: 0.8771157912191401\n"
>>>>>>> 0e115ab (update 25-07-29)
     ]
    },
    {
     "name": "stderr",
     "output_type": "stream",
     "text": [
<<<<<<< HEAD
      "Epoch [10/60]: 100%|██████████| 41/41 [02:45<00:00,  4.03s/it, loss=1.76]\n"
=======
      "Epoch [10/60]: 100%|██████████| 41/41 [03:43<00:00,  5.45s/it, loss=1.66]\n"
>>>>>>> 0e115ab (update 25-07-29)
     ]
    },
    {
     "name": "stdout",
     "output_type": "stream",
     "text": [
<<<<<<< HEAD
      "Validation mAP increased (0.671748 --> 0.704825). Saving model ...\n",
      "Train Loss: 1.7582, Val Loss: 1.8355, mAP@50: 0.7048, LR: 9e-06\n",
      "COCO mAP: 0.5160,  mAP@75: 0.6286, avg_iou: 0.876631192123617\n"
=======
      "Validation mAP increased (0.672503 --> 0.673619). Saving model ...\n",
      "Train Loss: 1.6569, Val Loss: 1.7102, mAP@50: 0.6736, LR: 9e-06\n",
      "COCO mAP: 0.4915,  mAP@75: 0.6242, avg_iou: 0.8734363680563603\n"
>>>>>>> 0e115ab (update 25-07-29)
     ]
    },
    {
     "name": "stderr",
     "output_type": "stream",
     "text": [
<<<<<<< HEAD
      "Epoch [11/60]: 100%|██████████| 41/41 [02:45<00:00,  4.05s/it, loss=1.6] \n"
=======
      "Epoch [11/60]: 100%|██████████| 41/41 [03:10<00:00,  4.66s/it, loss=1.58]\n"
>>>>>>> 0e115ab (update 25-07-29)
     ]
    },
    {
     "name": "stdout",
     "output_type": "stream",
     "text": [
<<<<<<< HEAD
      "Validation mAP increased (0.704825 --> 0.717762). Saving model ...\n",
      "Train Loss: 1.6035, Val Loss: 1.6888, mAP@50: 0.7178, LR: 9e-06\n",
      "COCO mAP: 0.5370,  mAP@75: 0.6527, avg_iou: 0.8823741964104824\n"
=======
      "Validation mAP increased (0.673619 --> 0.708803). Saving model ...\n",
      "Train Loss: 1.5826, Val Loss: 1.6157, mAP@50: 0.7088, LR: 9e-06\n",
      "COCO mAP: 0.5413,  mAP@75: 0.6643, avg_iou: 0.8804124859988992\n"
>>>>>>> 0e115ab (update 25-07-29)
     ]
    },
    {
     "name": "stderr",
     "output_type": "stream",
     "text": [
<<<<<<< HEAD
      "Epoch [12/60]: 100%|██████████| 41/41 [02:28<00:00,  3.62s/it, loss=1.56]\n"
=======
      "Epoch [12/60]: 100%|██████████| 41/41 [03:27<00:00,  5.07s/it, loss=1.51]\n"
>>>>>>> 0e115ab (update 25-07-29)
     ]
    },
    {
     "name": "stdout",
     "output_type": "stream",
     "text": [
<<<<<<< HEAD
      "Validation mAP increased (0.717762 --> 0.718644). Saving model ...\n",
      "Train Loss: 1.5614, Val Loss: 1.6419, mAP@50: 0.7186, LR: 9e-06\n",
      "COCO mAP: 0.5448,  mAP@75: 0.6739, avg_iou: 0.8833463398251521\n"
=======
      "Validation mAP increased (0.708803 --> 0.709988). Saving model ...\n",
      "Train Loss: 1.5120, Val Loss: 1.5367, mAP@50: 0.7100, LR: 9e-06\n",
      "COCO mAP: 0.5373,  mAP@75: 0.6630, avg_iou: 0.8840958352016314\n"
>>>>>>> 0e115ab (update 25-07-29)
     ]
    },
    {
     "name": "stderr",
     "output_type": "stream",
     "text": [
<<<<<<< HEAD
      "Epoch [13/60]: 100%|██████████| 41/41 [03:20<00:00,  4.88s/it, loss=1.4] \n"
=======
      "Epoch [13/60]: 100%|██████████| 41/41 [02:34<00:00,  3.77s/it, loss=1.36]\n"
>>>>>>> 0e115ab (update 25-07-29)
     ]
    },
    {
     "name": "stdout",
     "output_type": "stream",
     "text": [
<<<<<<< HEAD
      "Validation mAP increased (0.718644 --> 0.721912). Saving model ...\n",
      "Train Loss: 1.4034, Val Loss: 1.6104, mAP@50: 0.7219, LR: 9e-06\n",
      "COCO mAP: 0.5462,  mAP@75: 0.6985, avg_iou: 0.8838802633845076\n"
=======
      "Validation mAP increased (0.709988 --> 0.716793). Saving model ...\n",
      "Train Loss: 1.3619, Val Loss: 1.5270, mAP@50: 0.7168, LR: 9e-06\n",
      "COCO mAP: 0.5487,  mAP@75: 0.6838, avg_iou: 0.8840533982073595\n"
>>>>>>> 0e115ab (update 25-07-29)
     ]
    },
    {
     "name": "stderr",
     "output_type": "stream",
     "text": [
<<<<<<< HEAD
      "Epoch [14/60]: 100%|██████████| 41/41 [02:19<00:00,  3.39s/it, loss=1.4] \n"
=======
      "Epoch [14/60]: 100%|██████████| 41/41 [03:10<00:00,  4.64s/it, loss=1.36]\n"
>>>>>>> 0e115ab (update 25-07-29)
     ]
    },
    {
     "name": "stdout",
     "output_type": "stream",
     "text": [
<<<<<<< HEAD
      "Validation mAP increased (0.721912 --> 0.739672). Saving model ...\n",
      "Train Loss: 1.3964, Val Loss: 1.5314, mAP@50: 0.7397, LR: 9e-06\n",
      "COCO mAP: 0.5746,  mAP@75: 0.7045, avg_iou: 0.8937209661073661\n"
=======
      "Validation mAP increased (0.716793 --> 0.734746). Saving model ...\n",
      "Train Loss: 1.3615, Val Loss: 1.5229, mAP@50: 0.7347, LR: 9e-06\n",
      "COCO mAP: 0.5616,  mAP@75: 0.6864, avg_iou: 0.8826320936837172\n"
>>>>>>> 0e115ab (update 25-07-29)
     ]
    },
    {
     "name": "stderr",
     "output_type": "stream",
     "text": [
<<<<<<< HEAD
      "Epoch [15/60]: 100%|██████████| 41/41 [02:23<00:00,  3.50s/it, loss=1.35]\n"
=======
      "Epoch [15/60]: 100%|██████████| 41/41 [03:04<00:00,  4.50s/it, loss=1.29]\n"
>>>>>>> 0e115ab (update 25-07-29)
     ]
    },
    {
     "name": "stdout",
     "output_type": "stream",
     "text": [
      "EarlyStopping counter: 1 out of 5\n",
<<<<<<< HEAD
      "Train Loss: 1.3458, Val Loss: 1.5431, mAP@50: 0.7388, LR: 9e-06\n",
      "COCO mAP: 0.5758,  mAP@75: 0.6997, avg_iou: 0.8947518116038568\n"
=======
      "Train Loss: 1.2934, Val Loss: 1.4624, mAP@50: 0.7315, LR: 9e-06\n",
      "COCO mAP: 0.5665,  mAP@75: 0.6923, avg_iou: 0.8897172037114952\n"
>>>>>>> 0e115ab (update 25-07-29)
     ]
    },
    {
     "name": "stderr",
     "output_type": "stream",
     "text": [
<<<<<<< HEAD
      "Epoch [16/60]: 100%|██████████| 41/41 [02:22<00:00,  3.48s/it, loss=1.3] \n"
     ]
    },
    {
     "name": "stdout",
     "output_type": "stream",
     "text": [
      "Validation mAP increased (0.739672 --> 0.744351). Saving model ...\n",
      "Train Loss: 1.2960, Val Loss: 1.5006, mAP@50: 0.7444, LR: 9e-06\n",
      "COCO mAP: 0.5891,  mAP@75: 0.7203, avg_iou: 0.8942827213811511\n"
     ]
    },
    {
     "name": "stderr",
     "output_type": "stream",
     "text": [
      "Epoch [17/60]: 100%|██████████| 41/41 [02:24<00:00,  3.53s/it, loss=1.24]\n"
     ]
    },
    {
     "name": "stdout",
     "output_type": "stream",
     "text": [
      "Validation mAP increased (0.744351 --> 0.746182). Saving model ...\n",
      "Train Loss: 1.2373, Val Loss: 1.4749, mAP@50: 0.7462, LR: 8e-06\n",
      "COCO mAP: 0.5849,  mAP@75: 0.7136, avg_iou: 0.8922595755786312\n"
     ]
    },
    {
     "name": "stderr",
     "output_type": "stream",
     "text": [
      "Epoch [18/60]: 100%|██████████| 41/41 [02:38<00:00,  3.88s/it, loss=1.21]\n"
     ]
    },
    {
     "name": "stdout",
     "output_type": "stream",
     "text": [
      "Validation mAP increased (0.746182 --> 0.753074). Saving model ...\n",
      "Train Loss: 1.2061, Val Loss: 1.4209, mAP@50: 0.7531, LR: 8e-06\n",
      "COCO mAP: 0.6024,  mAP@75: 0.7264, avg_iou: 0.8990307577693736\n"
     ]
    },
    {
     "name": "stderr",
     "output_type": "stream",
     "text": [
      "Epoch [19/60]: 100%|██████████| 41/41 [02:35<00:00,  3.79s/it, loss=1.17]\n"
     ]
    },
    {
     "name": "stdout",
     "output_type": "stream",
     "text": [
      "EarlyStopping counter: 1 out of 5\n",
      "Train Loss: 1.1705, Val Loss: 1.3877, mAP@50: 0.7381, LR: 8e-06\n",
      "COCO mAP: 0.5882,  mAP@75: 0.7134, avg_iou: 0.9025552613178486\n"
     ]
    },
    {
     "name": "stderr",
     "output_type": "stream",
     "text": [
      "Epoch [20/60]: 100%|██████████| 41/41 [02:18<00:00,  3.37s/it, loss=1.16]\n"
=======
      "Epoch [16/60]: 100%|██████████| 41/41 [02:33<00:00,  3.74s/it, loss=1.19]\n"
>>>>>>> 0e115ab (update 25-07-29)
     ]
    },
    {
     "name": "stdout",
     "output_type": "stream",
     "text": [
      "EarlyStopping counter: 2 out of 5\n",
<<<<<<< HEAD
      "Train Loss: 1.1634, Val Loss: 1.4064, mAP@50: 0.7440, LR: 8e-06\n",
      "COCO mAP: 0.6021,  mAP@75: 0.7281, avg_iou: 0.9027554985827769\n"
=======
      "Train Loss: 1.1948, Val Loss: 1.4110, mAP@50: 0.7191, LR: 9e-06\n",
      "COCO mAP: 0.5600,  mAP@75: 0.6902, avg_iou: 0.8879795918609891\n"
>>>>>>> 0e115ab (update 25-07-29)
     ]
    },
    {
     "name": "stderr",
     "output_type": "stream",
     "text": [
<<<<<<< HEAD
      "Epoch [21/60]: 100%|██████████| 41/41 [02:25<00:00,  3.56s/it, loss=1.08]\n"
     ]
    },
    {
     "name": "stdout",
     "output_type": "stream",
     "text": [
      "Validation mAP increased (0.753074 --> 0.754669). Saving model ...\n",
      "Train Loss: 1.0767, Val Loss: 1.3766, mAP@50: 0.7547, LR: 8e-06\n",
      "COCO mAP: 0.6110,  mAP@75: 0.7362, avg_iou: 0.9000570943512892\n"
     ]
    },
    {
     "name": "stderr",
     "output_type": "stream",
     "text": [
      "Epoch [22/60]: 100%|██████████| 41/41 [02:24<00:00,  3.53s/it, loss=1.04]\n"
     ]
    },
    {
     "name": "stdout",
     "output_type": "stream",
     "text": [
      "EarlyStopping counter: 1 out of 5\n",
      "Train Loss: 1.0365, Val Loss: 1.3415, mAP@50: 0.7390, LR: 7e-06\n",
      "COCO mAP: 0.6015,  mAP@75: 0.7048, avg_iou: 0.9069618817210803\n"
     ]
    },
    {
     "name": "stderr",
     "output_type": "stream",
     "text": [
      "Epoch [23/60]: 100%|██████████| 41/41 [02:23<00:00,  3.50s/it, loss=1.01]\n"
     ]
    },
    {
     "name": "stdout",
     "output_type": "stream",
     "text": [
      "EarlyStopping counter: 2 out of 5\n",
      "Train Loss: 1.0113, Val Loss: 1.3432, mAP@50: 0.7424, LR: 7e-06\n",
      "COCO mAP: 0.6071,  mAP@75: 0.7354, avg_iou: 0.9065918557251555\n"
     ]
    },
    {
     "name": "stderr",
     "output_type": "stream",
     "text": [
      "Epoch [24/60]: 100%|██████████| 41/41 [02:26<00:00,  3.57s/it, loss=1.01]\n"
=======
      "Epoch [17/60]: 100%|██████████| 41/41 [03:02<00:00,  4.45s/it, loss=1.26]\n"
>>>>>>> 0e115ab (update 25-07-29)
     ]
    },
    {
     "name": "stdout",
     "output_type": "stream",
     "text": [
      "EarlyStopping counter: 3 out of 5\n",
<<<<<<< HEAD
      "Train Loss: 1.0129, Val Loss: 1.3541, mAP@50: 0.7461, LR: 7e-06\n",
      "COCO mAP: 0.6035,  mAP@75: 0.7082, avg_iou: 0.9078357417372208\n"
=======
      "Train Loss: 1.2560, Val Loss: 1.4056, mAP@50: 0.7315, LR: 8e-06\n",
      "COCO mAP: 0.5780,  mAP@75: 0.7082, avg_iou: 0.8903635463436242\n"
>>>>>>> 0e115ab (update 25-07-29)
     ]
    },
    {
     "name": "stderr",
     "output_type": "stream",
     "text": [
<<<<<<< HEAD
      "Epoch [25/60]: 100%|██████████| 41/41 [02:36<00:00,  3.82s/it, loss=0.974]\n"
=======
      "Epoch [18/60]: 100%|██████████| 41/41 [03:00<00:00,  4.41s/it, loss=1.19]\n"
>>>>>>> 0e115ab (update 25-07-29)
     ]
    },
    {
     "name": "stdout",
     "output_type": "stream",
     "text": [
<<<<<<< HEAD
      "Validation mAP increased (0.754669 --> 0.763954). Saving model ...\n",
      "Train Loss: 0.9745, Val Loss: 1.3163, mAP@50: 0.7640, LR: 7e-06\n",
      "COCO mAP: 0.6270,  mAP@75: 0.7412, avg_iou: 0.9082768886904173\n"
=======
      "Validation mAP increased (0.734746 --> 0.738248). Saving model ...\n",
      "Train Loss: 1.1867, Val Loss: 1.4004, mAP@50: 0.7382, LR: 8e-06\n",
      "COCO mAP: 0.5805,  mAP@75: 0.7071, avg_iou: 0.8937782726917171\n"
>>>>>>> 0e115ab (update 25-07-29)
     ]
    },
    {
     "name": "stderr",
     "output_type": "stream",
     "text": [
<<<<<<< HEAD
      "Epoch [26/60]: 100%|██████████| 41/41 [05:10<00:00,  7.56s/it, loss=1.02]\n"
=======
      "Epoch [19/60]: 100%|██████████| 41/41 [02:38<00:00,  3.88s/it, loss=1.11]\n"
>>>>>>> 0e115ab (update 25-07-29)
     ]
    },
    {
     "name": "stdout",
     "output_type": "stream",
     "text": [
      "EarlyStopping counter: 1 out of 5\n",
<<<<<<< HEAD
      "Train Loss: 1.0217, Val Loss: 1.3254, mAP@50: 0.7520, LR: 6e-06\n",
      "COCO mAP: 0.6176,  mAP@75: 0.7325, avg_iou: 0.9100451837612104\n"
=======
      "Train Loss: 1.1141, Val Loss: 1.3426, mAP@50: 0.7279, LR: 8e-06\n",
      "COCO mAP: 0.5783,  mAP@75: 0.7017, avg_iou: 0.8993220657564057\n"
>>>>>>> 0e115ab (update 25-07-29)
     ]
    },
    {
     "name": "stderr",
     "output_type": "stream",
     "text": [
<<<<<<< HEAD
      "Epoch [27/60]: 100%|██████████| 41/41 [02:39<00:00,  3.88s/it, loss=0.979]\n"
=======
      "Epoch [20/60]: 100%|██████████| 41/41 [02:37<00:00,  3.84s/it, loss=1.11]\n"
>>>>>>> 0e115ab (update 25-07-29)
     ]
    },
    {
     "name": "stdout",
     "output_type": "stream",
     "text": [
      "EarlyStopping counter: 2 out of 5\n",
<<<<<<< HEAD
      "Train Loss: 0.9788, Val Loss: 1.3393, mAP@50: 0.7523, LR: 6e-06\n",
      "COCO mAP: 0.6218,  mAP@75: 0.7380, avg_iou: 0.9101151015185103\n"
=======
      "Train Loss: 1.1093, Val Loss: 1.3457, mAP@50: 0.7341, LR: 8e-06\n",
      "COCO mAP: 0.5902,  mAP@75: 0.7081, avg_iou: 0.8961264120443219\n"
>>>>>>> 0e115ab (update 25-07-29)
     ]
    },
    {
     "name": "stderr",
     "output_type": "stream",
     "text": [
<<<<<<< HEAD
      "Epoch [28/60]: 100%|██████████| 41/41 [02:30<00:00,  3.68s/it, loss=1]    \n"
=======
      "Epoch [21/60]: 100%|██████████| 41/41 [03:32<00:00,  5.17s/it, loss=1.07]\n"
>>>>>>> 0e115ab (update 25-07-29)
     ]
    },
    {
     "name": "stdout",
     "output_type": "stream",
     "text": [
<<<<<<< HEAD
      "EarlyStopping counter: 3 out of 5\n",
      "Train Loss: 1.0024, Val Loss: 1.2869, mAP@50: 0.7463, LR: 6e-06\n",
      "COCO mAP: 0.6170,  mAP@75: 0.7209, avg_iou: 0.9119143081616752\n"
=======
      "Validation mAP increased (0.738248 --> 0.740488). Saving model ...\n",
      "Train Loss: 1.0720, Val Loss: 1.3535, mAP@50: 0.7405, LR: 8e-06\n",
      "COCO mAP: 0.5916,  mAP@75: 0.7223, avg_iou: 0.8947871675346103\n"
>>>>>>> 0e115ab (update 25-07-29)
     ]
    },
    {
     "name": "stderr",
     "output_type": "stream",
     "text": [
<<<<<<< HEAD
      "Epoch [29/60]: 100%|██████████| 41/41 [02:24<00:00,  3.51s/it, loss=0.906]\n"
     ]
    },
    {
     "name": "stdout",
     "output_type": "stream",
     "text": [
      "EarlyStopping counter: 4 out of 5\n",
      "Train Loss: 0.9064, Val Loss: 1.3027, mAP@50: 0.7497, LR: 6e-06\n",
      "COCO mAP: 0.6279,  mAP@75: 0.7385, avg_iou: 0.9119842161106158\n"
     ]
    },
    {
     "name": "stderr",
     "output_type": "stream",
     "text": [
      "Epoch [30/60]: 100%|██████████| 41/41 [02:26<00:00,  3.58s/it, loss=0.947]\n"
     ]
    },
    {
     "name": "stdout",
     "output_type": "stream",
     "text": [
      "EarlyStopping counter: 5 out of 5\n",
      "Early stopping\n",
      "--- Finish Training ---\n"
     ]
    },
    {
     "data": {
      "image/png": "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",
      "text/plain": [
       "<Figure size 800x600 with 1 Axes>"
      ]
     },
     "metadata": {},
     "output_type": "display_data"
=======
      "Epoch [22/60]:  63%|██████▎   | 26/41 [02:07<01:09,  4.66s/it, loss=1.05]"
     ]
>>>>>>> 0e115ab (update 25-07-29)
    }
   ],
   "source": [
    "# 3. 학습 루프\n",
    "MODEL_NAME = \"fasterrcnn_map50\"\n",
    "\n",
    "\n",
    "print(\"--- Start Training ---\")\n",
    "metric = MeanAveragePrecision(box_format=\"xyxy\", class_metrics=True).to(DEVICE)\n",
    "early_stopping = EarlyStopping(\n",
    "    patience=5,\n",
    "    verbose=True,\n",
    "    mode=\"max\",\n",
    "    evaluation_name=\"Validation mAP\",\n",
    "    path=\"../experiments/\" + MODEL_NAME + \".pt\",\n",
    ")\n",
    "\n",
    "train_losses = []\n",
    "val_losses = []\n",
    "for epoch in range(NUM_EPOCHS):\n",
    "    # ===================================\n",
    "    #  Training Step\n",
    "    # ===================================\n",
    "\n",
    "    model.train()\n",
    "    running_loss = 0.0\n",
    "    loop = tqdm(train_loader, desc=f\"Epoch [{epoch+1}/{NUM_EPOCHS}]\")\n",
    "\n",
    "    for images, targets in loop:\n",
    "        images = list(image.to(DEVICE) for image in images)\n",
    "        targets = [{k: v.to(DEVICE) for k, v in t.items()} for t in targets]\n",
    "\n",
    "        loss_dict = model(images, targets)\n",
    "        losses = sum(loss for loss in loss_dict.values())\n",
    "\n",
    "        optimizer.zero_grad()\n",
    "        losses.backward()\n",
    "        optimizer.step()\n",
    "        running_loss += losses.item()\n",
    "        current_avg_loss = running_loss / (loop.n + 1)\n",
    "        loop.set_postfix(loss=current_avg_loss)\n",
    "\n",
    "    avg_train_loss = running_loss / len(train_loader)\n",
    "    train_losses.append(avg_train_loss)\n",
    "    # =====================================\n",
    "    #  Validation Step (✨ 여기가 핵심 수정)\n",
    "    # =====================================\n",
    "    model.eval()\n",
    "    val_loss = 0.0\n",
    "    total_iou = 0\n",
    "    tp_count = 0\n",
    "\n",
    "    metric.reset()\n",
    "    # (2) Validation phase\n",
    "    for images, targets in val_loader:\n",
    "        images = [img.to(DEVICE) for img in images]\n",
    "        targets = [{k: v.to(DEVICE) for k, v in t.items()} for t in targets]\n",
    "        # 1. mAP 계산을 위한 예측 (그래디언트 계산 불필요)\n",
    "        with torch.no_grad():  # 예측 부분만 no_grad로 감싸기\n",
    "            predictions = model(images)\n",
    "\n",
    "        # 2. Metric 업데이트\n",
    "        metric.update(predictions, targets)\n",
    "\n",
    "        # IoU 평가 메트릭\n",
    "        for i in range(len(predictions)):\n",
    "            pred_boxes = predictions[i][\"boxes\"]\n",
    "            gt_boxes = targets[i][\"boxes\"]\n",
    "\n",
    "            if len(pred_boxes) == 0 or len(gt_boxes) == 0:\n",
    "                continue\n",
    "\n",
    "            # 각 GT 박스에 대해 가장 IoU가 높은 예측 박스를 찾음\n",
    "            iou_matrix = box_iou(pred_boxes, gt_boxes)\n",
    "            max_iou_per_gt, _ = iou_matrix.max(dim=0)\n",
    "\n",
    "            # IoU가 0.5 이상인 경우 (TP)만 계산에 포함\n",
    "            true_positives = max_iou_per_gt[max_iou_per_gt > 0.5]\n",
    "\n",
    "            if len(true_positives) > 0:\n",
    "                total_iou += true_positives.sum().item()\n",
    "                tp_count += len(true_positives)\n",
    "\n",
    "        # 3. Validation Loss 계산 (그래디언트 계산 필요)\n",
    "        #    torch.no_grad() 블록 바깥에서 계산\n",
    "        model.train()  # Loss 계산을 위해 잠시 train 모드로\n",
    "        loss_dict = model(images, targets)\n",
    "        losses = sum(loss for loss in loss_dict.values())\n",
    "        val_loss += losses.item()\n",
    "        model.eval()  # 다음 배치를 위해 다시 eval 모드로 복귀\n",
    "\n",
    "    average_val_loss = val_loss / len(val_loader)\n",
    "    val_losses.append(average_val_loss)\n",
    "\n",
    "    avg_iou = total_iou / tp_count if tp_count > 0 else 0.0\n",
    "\n",
    "    # mAP 평가\n",
    "    mAP_dict = metric.compute()\n",
    "    # Learning Rate Scheduler 적용. val_loss를 고려하여 learning rate를 조정\n",
    "\n",
    "    # mAP 기반EarlyStopping 로직 호출\n",
    "    early_stopping(mAP_dict[\"map_50\"], model)\n",
    "    if early_stopping.early_stop:\n",
    "        print(\"Early stopping\")\n",
    "        break\n",
    "\n",
    "    # scheduler 설정\n",
    "    scheduler.step()\n",
    "    current_lr = optimizer.param_groups[0][\"lr\"]\n",
    "\n",
    "    loop.write(\n",
    "        f\"Train Loss: {avg_train_loss:.4f}, Val Loss: {average_val_loss:.4f}, mAP@50: {mAP_dict['map_50']:.4f}, LR: {current_lr:.0e}\"\n",
    "    )\n",
    "    loop.write(\n",
    "        f\"COCO mAP: {mAP_dict['map']:.4f},  mAP@75: {mAP_dict['map_75']:.4f}, avg_iou: {avg_iou}\"\n",
    "    )\n",
    "    # loop.write(\n",
    "    #     f\"Val_Cls: {val_losses['loss_classifier']:.4f}, Val_Box: {val_losses['loss_box_reg']:.4f} | \"\n",
    "    # )\n",
    "    # 메모리 정리\n",
    "    gc.collect()  # 남아 있는 텐서 객체를 명시적으로 정리\n",
    "    # torch.cuda.empty_cache()\n",
    "\n",
    "print(\"--- Finish Training ---\")\n",
    "# 학습 시각화\n",
    "plt.figure(figsize=(8, 6))\n",
    "plt.plot(train_losses, label=\"train loss\", color=\"blue\")\n",
    "plt.plot(val_losses, label=\"val loss\", color=\"orange\")\n",
    "plt.xlabel(\"Epoch\")\n",
    "plt.ylabel(\"Loss\")\n",
    "plt.title(\"Loss curve: \" + MODEL_NAME)\n",
    "plt.grid(True)\n",
    "plt.legend()\n",
    "plt.tight_layout()\n",
    "loss_plot_path = os.path.join(EXPERIMENT_DIR, f\"{MODEL_NAME}_loss_curve.png\")\n",
    "plt.savefig(loss_plot_path)\n",
    "plt.show()\n",
    "# 최종 모델 저장\n",
    "# torch.save(model.state_dict(), f\"{EXPERIMENT_DIR}/final_model.pt\")"
   ]
  }
 ],
 "metadata": {
  "kernelspec": {
   "display_name": "JSH",
   "language": "python",
   "name": "python3"
  },
  "language_info": {
   "codemirror_mode": {
    "name": "ipython",
    "version": 3
   },
   "file_extension": ".py",
   "mimetype": "text/x-python",
   "name": "python",
   "nbconvert_exporter": "python",
   "pygments_lexer": "ipython3",
   "version": "3.13.1"
  }
 },
 "nbformat": 4,
 "nbformat_minor": 5
}
