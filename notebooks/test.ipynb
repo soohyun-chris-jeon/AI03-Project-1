{
 "cells": [
  {
   "cell_type": "markdown",
   "id": "ac2e54c4",
   "metadata": {},
   "source": [
    "안녕하세요. 테스트용입니다"
   ]
  }
 ],
 "metadata": {
  "language_info": {
   "name": "python"
  }
 },
 "nbformat": 4,
 "nbformat_minor": 5
}
